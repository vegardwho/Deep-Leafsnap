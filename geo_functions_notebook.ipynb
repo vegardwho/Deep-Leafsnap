{
 "cells": [
  {
   "cell_type": "code",
   "execution_count": 1,
   "id": "aedb2693-c5d0-421a-b822-84f321028304",
   "metadata": {
    "tags": []
   },
   "outputs": [],
   "source": [
    "import scipy\n",
    "import numpy as np\n",
    "import scipy.spatial as spatial\n",
    "import matplotlib.pyplot as plt\n",
    "import random \n",
    "import pandas as pd\n",
    "import os\n",
    "from mpl_toolkits.basemap import Basemap\n",
    "from sklearn.datasets import fetch_species_distributions\n",
    "from sklearn.neighbors import KernelDensity\n",
    "import copy\n",
    "\n",
    "from tqdm import tqdm\n",
    "\n",
    "import torch\n",
    "import torch.backends.cudnn as cudnn\n",
    "import torch.nn as nn\n",
    "import torch.nn.functional as F\n",
    "import torch.nn.parallel\n",
    "import torch.optim as optim\n",
    "import torchvision\n",
    "import torchvision.models as models\n",
    "\n",
    "from pyproj import Proj, transform\n",
    "\n",
    "from scipy.stats import norm\n",
    "import warnings\n",
    "from sklearn.neighbors import KNeighborsClassifier\n",
    "import imblearn\n",
    "import re\n",
    "\n",
    "import utils\n",
    "\n",
    "\n",
    "#copied from Kevin Barnes/kbarnes3: https://gist.github.com/kbarnes3/3fb7d353e9bdd3efccd5\n",
    "\n",
    "import ctypes\n",
    "import platform\n",
    "\n",
    "ES_CONTINUOUS = 0x80000000\n",
    "ES_SYSTEM_REQUIRED = 0x00000001\n",
    "\n",
    "\n",
    "def _set_thread_execution(state):\n",
    "    ctypes.windll.kernel32.SetThreadExecutionState(state)\n",
    "\n",
    "\n",
    "def prevent_standby():\n",
    "    if platform.system() == 'Windows':\n",
    "        _set_thread_execution(ES_CONTINUOUS | ES_SYSTEM_REQUIRED)\n",
    "\n",
    "\n",
    "def allow_standby():\n",
    "    if platform.system() == 'Windows':\n",
    "        _set_thread_execution(ES_CONTINUOUS)\n",
    "\n",
    "\n",
    "def long_running(func):\n",
    "    def inner(*args, **kwargs):\n",
    "        prevent_standby()\n",
    "        result = func(*args, **kwargs)\n",
    "        allow_standby()\n",
    "        return result\n",
    "    return inner\n",
    "\n",
    "\n"
   ]
  },
  {
   "cell_type": "code",
   "execution_count": 10,
   "id": "acdc756b-1c5c-42e2-b0c6-9178deaa306a",
   "metadata": {
    "tags": []
   },
   "outputs": [],
   "source": [
    "\n",
    "model_name = \"vgg19_pretrained\""
   ]
  },
  {
   "cell_type": "code",
   "execution_count": 11,
   "id": "343f1a41-0d34-46d4-b1b2-8d004a83491f",
   "metadata": {
    "tags": []
   },
   "outputs": [
    {
     "name": "stderr",
     "output_type": "stream",
     "text": [
      "C:\\Users\\vjosv\\AppData\\Local\\Temp\\ipykernel_3820\\5884841.py:9: DtypeWarning: Columns (14,15,24,25,26,37,38,39,40,46) have mixed types. Specify dtype option on import or set low_memory=False.\n",
      "  dat = pd.read_csv('C:/Users/vjosv/master/dataset/top185_in_oslo_area.csv')\n",
      "C:\\Users\\vjosv\\AppData\\Local\\Temp\\ipykernel_3820\\5884841.py:4: FutureWarning: This function is deprecated. See: https://pyproj4.github.io/pyproj/stable/gotchas.html#upgrading-to-pyproj-2-from-pyproj-1\n",
      "  lon, lat = transform(utm_proj, lonlat_proj, df['Østkoordinat'].values, df['Nordkoordinat'].values)\n"
     ]
    }
   ],
   "source": [
    "def convert_utm_to_latlon(df, zone_number, zone_letter):\n",
    "    utm_proj = Proj(proj='utm', zone=zone_number, ellps='WGS84', south=(zone_letter < 'N'))\n",
    "    lonlat_proj = Proj(proj='latlong', datum='WGS84')\n",
    "    lon, lat = transform(utm_proj, lonlat_proj, df['Østkoordinat'].values, df['Nordkoordinat'].values)\n",
    "    \n",
    "    return pd.DataFrame({'Longitude': lon, 'Latitude': lat})\n",
    "\n",
    "\n",
    "dat = pd.read_csv('C:/Users/vjosv/master/dataset/top185_in_oslo_area.csv')\n",
    "dat = dat[['Id','Østkoordinat','Nordkoordinat','Vitenskapelig navn']]\n",
    "\n",
    "\n",
    "\n",
    "\n",
    "dat['points']= [[i,j] for i, j in zip(dat.Østkoordinat, dat.Nordkoordinat)]\n",
    "\n",
    "df_latlon = convert_utm_to_latlon(dat, 33, 'N') \n",
    "\n",
    "\n",
    "dat['lat']=df_latlon['Latitude']\n",
    "dat['long']=df_latlon['Longitude']\n",
    "\n",
    "\n",
    "\n",
    "#oslo area:\n",
    "#lowerleft, upperleft, upper right, lower right,\n",
    "\n",
    "\n",
    "lat_long_oslo = [(58.998141, 9.574585), (60.351413, 9.574585), (60.351413, 12.540894),(58.998141,12.540894)]\n",
    "\n",
    "# dat['Østkoordinat']>lat_long_oslo[0][0]\n",
    "\n",
    "\n",
    "dat = dat.loc[(dat['lat']>lat_long_oslo[0][0])  & (dat['lat']<lat_long_oslo[1][0]) & (dat['long']>lat_long_oslo[0][1 ]) & (dat['long']<lat_long_oslo[2][1])]\n",
    "\n",
    "\n",
    "\n",
    "\n",
    "\n",
    "points = dat[['Østkoordinat','Nordkoordinat']].to_numpy()\n",
    "\n",
    "\n",
    "\n",
    "\n",
    "point_tree = spatial.cKDTree(points)\n",
    "\n",
    "\n",
    "science_names = dat['Vitenskapelig navn'].unique()\n",
    "indexes = [i for i in range(len(dat['Vitenskapelig navn'].unique()))]\n",
    "\n",
    "\n",
    "random.seed(10)\n",
    "\n",
    "random.shuffle(indexes)\n",
    "\n",
    "\n",
    "names_mapping = {science_name : index for (science_name,index) in zip(science_names,indexes)}\n",
    "index_mapping = {index : science_name for (science_name,index) in zip(science_names,indexes)}\n",
    "\n",
    "def distance_between_points(point, list_of_points):\n",
    "    return [np.sqrt(np.power(point[0]-lop[0],2)+np.power(point[1]-lop[1],2)) for lop in list_of_points]\n",
    "\n",
    "\n",
    "\n",
    "def get_points_within(df_row, distance=1000):\n",
    "    id = int(df_row['Id'].iloc[0])\n",
    "    return_list = point_tree.query_ball_point([[int(df_row['Østkoordinat'].iloc[0]),int(df_row['Nordkoordinat'].iloc[0])]], distance)[0]\n",
    "    return_dat = dat.iloc[return_list]\n",
    "    return_list = list(return_dat['Id'])\n",
    "    return_list.remove(id)\n",
    "    return return_list\n",
    "    \n",
    "def sample_plant_position(plant,df):\n",
    "    if type(plant) == str:\n",
    "        return dat[dat['Vitenskapelig navn'] == plant].sample(1)\n",
    "    elif type(plant) == int:\n",
    "        return dat[dat['Vitenskapelig navn'] == index_mapping[plant]].sample(1)\n",
    "\n",
    "def kernel_density_estimate_value(point_row,dat,bandwidth = 500):\n",
    "    # print(point_row)\n",
    "    # print(dat)\n",
    "    if point_row.index[0] in list(dat.index):\n",
    "        np_dat_lat_long = dat.drop(point_row.index[0])[['Østkoordinat','Nordkoordinat']].to_numpy()\n",
    "    else:\n",
    "        np_dat_lat_long = dat[['Østkoordinat','Nordkoordinat']].to_numpy()\n",
    "    kde = KernelDensity(bandwidth=bandwidth)\n",
    "    # print(np_dat_lat_long)\n",
    "    if len(np_dat_lat_long)==0:\n",
    "        return 0\n",
    "    kde.fit(np_dat_lat_long)\n",
    "    np_point = np.array([[point_row['Østkoordinat'].iloc[0],point_row['Nordkoordinat'].iloc[0]]])\n",
    "    return np.exp(kde.score_samples(np_point))[0]\n",
    "\n",
    "def get_points_within_square(point, dat,side_length = 3000):\n",
    "    return_dat = dat[dat['Østkoordinat']>point['Østkoordinat'].iloc[0]-side_length]\n",
    "    return_dat = return_dat[return_dat['Østkoordinat']<point['Østkoordinat'].iloc[0]+ side_length]\n",
    "    return_dat = return_dat[return_dat['Nordkoordinat']>point['Nordkoordinat'].iloc[0]- side_length]\n",
    "    return_dat = return_dat[return_dat['Nordkoordinat']<point['Nordkoordinat'].iloc[0]+ side_length]\n",
    "    return return_dat\n",
    "\n",
    "# within_square =get_points_within_square(v,dat)\n",
    "\n",
    "# within_square\n",
    "\n",
    "\n",
    "\n",
    "\n",
    "\n",
    "\n",
    "\n",
    "def get_points_within(df_row, distance=1000):\n",
    "    id = int(df_row['Id'].iloc[0])\n",
    "    return_list = point_tree.query_ball_point([[int(df_row['Østkoordinat'].iloc[0]),int(df_row['Nordkoordinat'].iloc[0])]], distance)[0]\n",
    "    return_dat = dat.iloc[return_list]\n",
    "    return_list = list(return_dat['Id'])\n",
    "    return_list.remove(id)\n",
    "    return return_list\n",
    "    \n",
    "def sample_plant_position(plant,df):\n",
    "    if type(plant) == str:\n",
    "        return dat[dat['Vitenskapelig navn'] == plant].sample(1)\n",
    "    elif type(plant) == int:\n",
    "        return dat[dat['Vitenskapelig navn'] == index_mapping[plant]].sample(1)\n",
    "\n",
    "\n",
    "\n",
    "\n",
    "def get_knn_classifier(samples_pos_list,dat,n=1000):\n",
    "    sample_pos_indexes = [sp.index[0] for sp in samples_pos_list if sp.index[0] in list(dat.index)]\n",
    "    \n",
    "    dat_removed_samples = dat.drop(index=sample_pos_indexes)\n",
    "    category = []\n",
    "    for k in dat_removed_samples['Vitenskapelig navn']:\n",
    "        category.append(names_mapping[k])\n",
    "        \n",
    "    category = np.array(category)\n",
    "    points_np= np.array(list(dat_removed_samples['points']))\n",
    "    oversample = imblearn.over_sampling.KMeansSMOTE()\n",
    "    warnings.filterwarnings(\"ignore\")\n",
    "    X, y = oversample.fit_resample(points_np, category) \n",
    "    warnings.filterwarnings(\"default\")\n",
    "    \n",
    "    neigh = KNeighborsClassifier(n_neighbors=n)\n",
    "    neigh.fit(X, y)\n",
    "    return neigh"
   ]
  },
  {
   "cell_type": "code",
   "execution_count": 12,
   "id": "a29cea36-259d-4dd3-a4cd-0682c18660a8",
   "metadata": {
    "tags": []
   },
   "outputs": [],
   "source": [
    "\n",
    "def augment_output(output, augment):\n",
    "    output_aug = torch.nn.functional.softmax(output, dim=1)\n",
    "    output_aug = output_aug * augment\n",
    "    output_aug = output_aug * 1/torch.sum(output_aug) \n",
    "    return torch.log(output_aug)\n",
    "\n",
    "def augment_output2(output, augment, zero_tensor_kde001):\n",
    "    output_aug = torch.nn.functional.softmax(output, dim=1)\n",
    "    augment = augment + zero_tensor_kde001*augment.min()\n",
    "    output_aug = output_aug + augment\n",
    "    output_aug = output_aug * 1/torch.sum(output_aug) \n",
    "    \n",
    "    return torch.log(output_aug)\n",
    "\n",
    "def kde_augmentet_output(sample_pos_list,output, dat, bandwidth):\n",
    "    \n",
    "    weight_tensor_kde = np.zeros((output.size(0),185))\n",
    "    zero_tensor_kde = np.ones((output.size(0),185))\n",
    "    for j, sample_pos in enumerate(sample_pos_list):\n",
    "        within_square =get_points_within_square(sample_pos,dat)\n",
    "        for plant_name in within_square.value_counts('Vitenskapelig navn').index:\n",
    "            within_square_ = within_square[within_square['Vitenskapelig navn']==plant_name]\n",
    "        \n",
    "            pj = names_mapping[plant_name]\n",
    "            pj_value = kernel_density_estimate_value(sample_pos,within_square_,bandwidth = bandwidth)\n",
    "            weight_tensor_kde[j][pj] = pj_value\n",
    "            zero_tensor_kde[j][pj] = 0\n",
    "    weight_tensor_kde = torch.tensor(weight_tensor_kde)\n",
    "    zero_tensor_kde = torch.tensor(zero_tensor_kde)\n",
    "    \n",
    "    output_aug_kde = augment_output2(output,weight_tensor_kde,zero_tensor_kde)\n",
    "\n",
    "    return output_aug_kde\n",
    "    \n",
    "stats_distance1 = norm(\n",
    "    loc=0, \n",
    "    scale=250\n",
    ")\n",
    "\n",
    "stats_distance2 = norm(\n",
    "    loc=0, \n",
    "    scale=500\n",
    ")"
   ]
  },
  {
   "cell_type": "code",
   "execution_count": 13,
   "id": "86ecb96c-470e-430a-91e2-07c6db59a3a3",
   "metadata": {
    "tags": []
   },
   "outputs": [],
   "source": [
    "random.seed(10)\n",
    "names_mapping = []\n",
    "index_mapping = []\n",
    "for i in range(20):\n",
    "    random.shuffle(indexes)\n",
    "\n",
    "    names_mapping.append({science_name : index for (science_name,index) in zip(science_names,indexes)})\n",
    "    index_mapping.append({index : science_name for (science_name,index) in zip(science_names,indexes)})\n"
   ]
  },
  {
   "cell_type": "code",
   "execution_count": 14,
   "id": "689289d9-fa3c-42a2-a60b-7e285f46114f",
   "metadata": {
    "tags": []
   },
   "outputs": [],
   "source": [
    "output_files = [ i for i in os.listdir(f'saved_output/{model_name}_validating_output/') if 'output' in i]\n",
    "output_files\n",
    "max_b=0\n",
    "max_e = 0\n",
    "for output_file in output_files:\n",
    "    of = re.findall('\\d+$',output_file)\n",
    "    if int(of[0]) > max_b:\n",
    "        max_b = int(of[0])\n",
    "    a= output_file.split('_')\n",
    "    if int(a[1][1:]) >= max_e:\n",
    "        max_e = int(a[1][1:])\n",
    "    \n"
   ]
  },
  {
   "cell_type": "code",
   "execution_count": 23,
   "id": "61135ab9-ce64-4451-8d22-7f15a084f4c3",
   "metadata": {
    "tags": []
   },
   "outputs": [
    {
     "name": "stderr",
     "output_type": "stream",
     "text": [
      "  0%|                                                                                           | 0/93 [00:00<?, ?it/s]\n",
      "  0%|                                                                                           | 0/20 [00:00<?, ?it/s]\u001b[A\n",
      "  5%|████▏                                                                              | 1/20 [00:03<01:01,  3.24s/it]\u001b[A\n",
      " 10%|████████▎                                                                          | 2/20 [00:05<00:52,  2.89s/it]\u001b[A\n",
      " 15%|████████████▍                                                                      | 3/20 [00:08<00:47,  2.79s/it]\u001b[A\n",
      " 20%|████████████████▌                                                                  | 4/20 [00:11<00:43,  2.73s/it]\u001b[A\n",
      " 25%|████████████████████▊                                                              | 5/20 [00:14<00:41,  2.77s/it]\u001b[A\n",
      " 30%|████████████████████████▉                                                          | 6/20 [00:16<00:38,  2.73s/it]\u001b[A\n",
      " 35%|█████████████████████████████                                                      | 7/20 [00:19<00:35,  2.73s/it]\u001b[A\n",
      " 40%|█████████████████████████████████▏                                                 | 8/20 [00:22<00:32,  2.71s/it]\u001b[A\n",
      " 45%|█████████████████████████████████████▎                                             | 9/20 [00:24<00:29,  2.70s/it]\u001b[A\n",
      " 50%|█████████████████████████████████████████                                         | 10/20 [00:27<00:27,  2.73s/it]\u001b[A\n",
      " 55%|█████████████████████████████████████████████                                     | 11/20 [00:30<00:24,  2.74s/it]\u001b[A\n",
      " 60%|█████████████████████████████████████████████████▏                                | 12/20 [00:32<00:21,  2.70s/it]\u001b[A\n",
      " 65%|█████████████████████████████████████████████████████▎                            | 13/20 [00:35<00:18,  2.68s/it]\u001b[A\n",
      " 70%|█████████████████████████████████████████████████████████▍                        | 14/20 [00:38<00:15,  2.65s/it]\u001b[A\n",
      " 75%|█████████████████████████████████████████████████████████████▌                    | 15/20 [00:40<00:12,  2.58s/it]\u001b[A\n",
      " 80%|█████████████████████████████████████████████████████████████████▌                | 16/20 [00:43<00:10,  2.60s/it]\u001b[A\n",
      " 85%|█████████████████████████████████████████████████████████████████████▋            | 17/20 [00:45<00:07,  2.64s/it]\u001b[A\n",
      " 90%|█████████████████████████████████████████████████████████████████████████▊        | 18/20 [00:48<00:05,  2.67s/it]\u001b[A\n",
      " 95%|█████████████████████████████████████████████████████████████████████████████▉    | 19/20 [00:51<00:02,  2.70s/it]\u001b[A\n",
      "100%|██████████████████████████████████████████████████████████████████████████████████| 20/20 [00:54<00:00,  2.70s/it]\u001b[A\n",
      "  1%|▊                                                                                | 1/93 [00:56<1:27:02, 56.77s/it]\n",
      "  0%|                                                                                           | 0/20 [00:00<?, ?it/s]\u001b[A\n",
      "  5%|████▏                                                                              | 1/20 [00:02<00:50,  2.68s/it]\u001b[A\n",
      " 10%|████████▎                                                                          | 2/20 [00:05<00:47,  2.63s/it]\u001b[A\n",
      " 15%|████████████▍                                                                      | 3/20 [00:07<00:45,  2.65s/it]\u001b[A\n",
      " 20%|████████████████▌                                                                  | 4/20 [00:10<00:42,  2.64s/it]\u001b[A\n",
      " 25%|████████████████████▊                                                              | 5/20 [00:13<00:39,  2.64s/it]\u001b[A\n",
      " 30%|████████████████████████▉                                                          | 6/20 [00:15<00:37,  2.65s/it]\u001b[A\n",
      " 35%|█████████████████████████████                                                      | 7/20 [00:18<00:34,  2.62s/it]\u001b[A\n",
      " 40%|█████████████████████████████████▏                                                 | 8/20 [00:21<00:31,  2.60s/it]\u001b[A\n",
      " 45%|█████████████████████████████████████▎                                             | 9/20 [00:23<00:28,  2.58s/it]\u001b[A\n",
      " 50%|█████████████████████████████████████████                                         | 10/20 [00:26<00:25,  2.60s/it]\u001b[A\n",
      " 55%|█████████████████████████████████████████████                                     | 11/20 [00:28<00:23,  2.60s/it]\u001b[A\n",
      " 60%|█████████████████████████████████████████████████▏                                | 12/20 [00:31<00:20,  2.62s/it]\u001b[A\n",
      " 65%|█████████████████████████████████████████████████████▎                            | 13/20 [00:33<00:18,  2.60s/it]\u001b[A\n",
      " 70%|█████████████████████████████████████████████████████████▍                        | 14/20 [00:36<00:15,  2.59s/it]\u001b[A\n",
      " 75%|█████████████████████████████████████████████████████████████▌                    | 15/20 [00:39<00:13,  2.63s/it]\u001b[A\n",
      " 80%|█████████████████████████████████████████████████████████████████▌                | 16/20 [00:42<00:10,  2.67s/it]\u001b[A\n",
      " 85%|█████████████████████████████████████████████████████████████████████▋            | 17/20 [00:44<00:08,  2.67s/it]\u001b[A\n",
      " 90%|█████████████████████████████████████████████████████████████████████████▊        | 18/20 [00:47<00:05,  2.71s/it]\u001b[A\n",
      " 95%|█████████████████████████████████████████████████████████████████████████████▉    | 19/20 [00:50<00:02,  2.65s/it]\u001b[A\n",
      "100%|██████████████████████████████████████████████████████████████████████████████████| 20/20 [00:52<00:00,  2.64s/it]\u001b[A\n",
      "  2%|█▋                                                                               | 2/93 [01:49<1:22:36, 54.47s/it]\n",
      "  0%|                                                                                           | 0/20 [00:00<?, ?it/s]\u001b[A\n",
      "  5%|████▏                                                                              | 1/20 [00:02<00:53,  2.83s/it]\u001b[A\n",
      " 10%|████████▎                                                                          | 2/20 [00:05<00:49,  2.73s/it]\u001b[A\n",
      " 15%|████████████▍                                                                      | 3/20 [00:08<00:45,  2.67s/it]\u001b[A\n",
      " 20%|████████████████▌                                                                  | 4/20 [00:10<00:42,  2.66s/it]\u001b[A\n",
      " 25%|████████████████████▊                                                              | 5/20 [00:13<00:38,  2.54s/it]\u001b[A\n",
      " 30%|████████████████████████▉                                                          | 6/20 [00:15<00:35,  2.51s/it]\u001b[A\n",
      " 35%|█████████████████████████████                                                      | 7/20 [00:17<00:32,  2.49s/it]\u001b[A\n",
      " 40%|█████████████████████████████████▏                                                 | 8/20 [00:20<00:31,  2.58s/it]\u001b[A\n",
      " 45%|█████████████████████████████████████▎                                             | 9/20 [00:23<00:28,  2.59s/it]\u001b[A\n",
      " 50%|█████████████████████████████████████████                                         | 10/20 [00:25<00:25,  2.59s/it]\u001b[A\n",
      " 55%|█████████████████████████████████████████████                                     | 11/20 [00:28<00:23,  2.56s/it]\u001b[A\n",
      " 60%|█████████████████████████████████████████████████▏                                | 12/20 [00:31<00:20,  2.60s/it]\u001b[A\n",
      " 65%|█████████████████████████████████████████████████████▎                            | 13/20 [00:33<00:17,  2.57s/it]\u001b[A\n",
      " 70%|█████████████████████████████████████████████████████████▍                        | 14/20 [00:36<00:15,  2.57s/it]\u001b[A\n",
      " 75%|█████████████████████████████████████████████████████████████▌                    | 15/20 [00:38<00:13,  2.63s/it]\u001b[A\n",
      " 80%|█████████████████████████████████████████████████████████████████▌                | 16/20 [00:41<00:10,  2.58s/it]\u001b[A\n",
      " 85%|█████████████████████████████████████████████████████████████████████▋            | 17/20 [00:44<00:07,  2.65s/it]\u001b[A\n",
      " 90%|█████████████████████████████████████████████████████████████████████████▊        | 18/20 [00:46<00:05,  2.57s/it]\u001b[A\n",
      " 95%|█████████████████████████████████████████████████████████████████████████████▉    | 19/20 [00:49<00:02,  2.55s/it]\u001b[A\n",
      "100%|██████████████████████████████████████████████████████████████████████████████████| 20/20 [00:51<00:00,  2.59s/it]\u001b[A\n",
      "  3%|██▌                                                                              | 3/93 [02:41<1:19:52, 53.25s/it]\n",
      "  0%|                                                                                           | 0/20 [00:00<?, ?it/s]\u001b[A\n",
      "  5%|████▏                                                                              | 1/20 [00:02<00:46,  2.45s/it]\u001b[A\n",
      " 10%|████████▎                                                                          | 2/20 [00:05<00:45,  2.55s/it]\u001b[A\n",
      " 15%|████████████▍                                                                      | 3/20 [00:07<00:43,  2.55s/it]\u001b[A\n",
      " 20%|████████████████▌                                                                  | 4/20 [00:10<00:39,  2.48s/it]\u001b[A\n",
      " 25%|████████████████████▊                                                              | 5/20 [00:12<00:37,  2.50s/it]\u001b[A\n",
      " 30%|████████████████████████▉                                                          | 6/20 [00:15<00:36,  2.59s/it]\u001b[A\n",
      " 35%|█████████████████████████████                                                      | 7/20 [00:17<00:33,  2.56s/it]\u001b[A\n",
      " 40%|█████████████████████████████████▏                                                 | 8/20 [00:20<00:29,  2.45s/it]\u001b[A\n",
      " 45%|█████████████████████████████████████▎                                             | 9/20 [00:22<00:27,  2.48s/it]\u001b[A\n",
      " 50%|█████████████████████████████████████████                                         | 10/20 [00:25<00:24,  2.47s/it]\u001b[A\n",
      " 55%|█████████████████████████████████████████████                                     | 11/20 [00:27<00:21,  2.43s/it]\u001b[A\n",
      " 60%|█████████████████████████████████████████████████▏                                | 12/20 [00:29<00:19,  2.45s/it]\u001b[A\n",
      " 65%|█████████████████████████████████████████████████████▎                            | 13/20 [00:32<00:17,  2.53s/it]\u001b[A\n",
      " 70%|█████████████████████████████████████████████████████████▍                        | 14/20 [00:35<00:15,  2.56s/it]\u001b[A\n",
      " 75%|█████████████████████████████████████████████████████████████▌                    | 15/20 [00:37<00:12,  2.54s/it]\u001b[A\n",
      " 80%|█████████████████████████████████████████████████████████████████▌                | 16/20 [00:40<00:10,  2.55s/it]\u001b[A\n",
      " 85%|█████████████████████████████████████████████████████████████████████▋            | 17/20 [00:42<00:07,  2.59s/it]\u001b[A\n",
      " 90%|█████████████████████████████████████████████████████████████████████████▊        | 18/20 [00:45<00:05,  2.58s/it]\u001b[A\n",
      " 95%|█████████████████████████████████████████████████████████████████████████████▉    | 19/20 [00:47<00:02,  2.55s/it]\u001b[A\n",
      "100%|██████████████████████████████████████████████████████████████████████████████████| 20/20 [00:50<00:00,  2.52s/it]\u001b[A\n",
      "  4%|███▍                                                                             | 4/93 [03:31<1:17:20, 52.14s/it]\n",
      "  0%|                                                                                           | 0/20 [00:00<?, ?it/s]\u001b[A\n",
      "  5%|████▏                                                                              | 1/20 [00:02<00:49,  2.61s/it]\u001b[A\n",
      " 10%|████████▎                                                                          | 2/20 [00:05<00:47,  2.62s/it]\u001b[A\n",
      " 15%|████████████▍                                                                      | 3/20 [00:07<00:45,  2.69s/it]\u001b[A\n",
      " 20%|████████████████▌                                                                  | 4/20 [00:10<00:42,  2.68s/it]\u001b[A\n",
      " 25%|████████████████████▊                                                              | 5/20 [00:13<00:40,  2.68s/it]\u001b[A\n",
      " 30%|████████████████████████▉                                                          | 6/20 [00:15<00:37,  2.65s/it]\u001b[A\n",
      " 35%|█████████████████████████████                                                      | 7/20 [00:18<00:33,  2.57s/it]\u001b[A\n",
      " 40%|█████████████████████████████████▏                                                 | 8/20 [00:20<00:31,  2.59s/it]\u001b[A\n",
      " 45%|█████████████████████████████████████▎                                             | 9/20 [00:23<00:28,  2.62s/it]\u001b[A\n",
      " 50%|█████████████████████████████████████████                                         | 10/20 [00:26<00:26,  2.64s/it]\u001b[A\n",
      " 55%|█████████████████████████████████████████████                                     | 11/20 [00:29<00:24,  2.68s/it]\u001b[A\n",
      " 60%|█████████████████████████████████████████████████▏                                | 12/20 [00:31<00:21,  2.63s/it]\u001b[A\n",
      " 65%|█████████████████████████████████████████████████████▎                            | 13/20 [00:34<00:18,  2.64s/it]\u001b[A\n",
      " 70%|█████████████████████████████████████████████████████████▍                        | 14/20 [00:36<00:15,  2.64s/it]\u001b[A\n",
      " 75%|█████████████████████████████████████████████████████████████▌                    | 15/20 [00:39<00:13,  2.63s/it]\u001b[A\n",
      " 80%|█████████████████████████████████████████████████████████████████▌                | 16/20 [00:42<00:10,  2.64s/it]\u001b[A\n",
      " 85%|█████████████████████████████████████████████████████████████████████▋            | 17/20 [00:44<00:07,  2.65s/it]\u001b[A\n",
      " 90%|█████████████████████████████████████████████████████████████████████████▊        | 18/20 [00:47<00:05,  2.64s/it]\u001b[A\n",
      " 95%|█████████████████████████████████████████████████████████████████████████████▉    | 19/20 [00:50<00:02,  2.64s/it]\u001b[A\n",
      "100%|██████████████████████████████████████████████████████████████████████████████████| 20/20 [00:52<00:00,  2.64s/it]\u001b[A\n",
      "  5%|████▎                                                                            | 5/93 [04:24<1:16:48, 52.36s/it]\n",
      "  0%|                                                                                           | 0/20 [00:00<?, ?it/s]\u001b[A\n",
      "  5%|████▏                                                                              | 1/20 [00:02<00:48,  2.54s/it]\u001b[A\n",
      " 10%|████████▎                                                                          | 2/20 [00:04<00:44,  2.47s/it]\u001b[A\n",
      " 15%|████████████▍                                                                      | 3/20 [00:07<00:42,  2.51s/it]\u001b[A\n",
      " 20%|████████████████▌                                                                  | 4/20 [00:10<00:40,  2.52s/it]\u001b[A\n",
      " 25%|████████████████████▊                                                              | 5/20 [00:12<00:38,  2.60s/it]\u001b[A\n",
      " 30%|████████████████████████▉                                                          | 6/20 [00:15<00:36,  2.61s/it]\u001b[A\n",
      " 35%|█████████████████████████████                                                      | 7/20 [00:17<00:33,  2.58s/it]\u001b[A\n",
      " 40%|█████████████████████████████████▏                                                 | 8/20 [00:20<00:30,  2.54s/it]\u001b[A\n",
      " 45%|█████████████████████████████████████▎                                             | 9/20 [00:22<00:27,  2.53s/it]\u001b[A\n",
      " 50%|█████████████████████████████████████████                                         | 10/20 [00:25<00:25,  2.54s/it]\u001b[A\n",
      " 55%|█████████████████████████████████████████████                                     | 11/20 [00:27<00:22,  2.51s/it]\u001b[A\n",
      " 60%|█████████████████████████████████████████████████▏                                | 12/20 [00:30<00:19,  2.49s/it]\u001b[A\n",
      " 65%|█████████████████████████████████████████████████████▎                            | 13/20 [00:32<00:17,  2.52s/it]\u001b[A\n",
      " 70%|█████████████████████████████████████████████████████████▍                        | 14/20 [00:35<00:15,  2.59s/it]\u001b[A\n",
      " 75%|█████████████████████████████████████████████████████████████▌                    | 15/20 [00:38<00:13,  2.60s/it]\u001b[A\n",
      " 80%|█████████████████████████████████████████████████████████████████▌                | 16/20 [00:41<00:10,  2.65s/it]\u001b[A\n",
      " 85%|█████████████████████████████████████████████████████████████████████▋            | 17/20 [00:43<00:07,  2.65s/it]\u001b[A\n",
      " 90%|█████████████████████████████████████████████████████████████████████████▊        | 18/20 [00:46<00:05,  2.60s/it]\u001b[A\n",
      " 95%|█████████████████████████████████████████████████████████████████████████████▉    | 19/20 [00:48<00:02,  2.57s/it]\u001b[A\n",
      "100%|██████████████████████████████████████████████████████████████████████████████████| 20/20 [00:51<00:00,  2.57s/it]\u001b[A\n",
      "  6%|█████▏                                                                           | 6/93 [05:15<1:15:24, 52.01s/it]\n",
      "  0%|                                                                                           | 0/20 [00:00<?, ?it/s]\u001b[A\n",
      "  5%|████▏                                                                              | 1/20 [00:02<00:50,  2.68s/it]\u001b[A\n",
      " 10%|████████▎                                                                          | 2/20 [00:05<00:46,  2.57s/it]\u001b[A\n",
      " 15%|████████████▍                                                                      | 3/20 [00:07<00:44,  2.59s/it]\u001b[A\n",
      " 20%|████████████████▌                                                                  | 4/20 [00:10<00:41,  2.58s/it]\u001b[A\n",
      " 25%|████████████████████▊                                                              | 5/20 [00:12<00:38,  2.57s/it]\u001b[A\n",
      " 30%|████████████████████████▉                                                          | 6/20 [00:15<00:36,  2.63s/it]\u001b[A\n",
      " 35%|█████████████████████████████                                                      | 7/20 [00:18<00:34,  2.62s/it]\u001b[A\n",
      " 40%|█████████████████████████████████▏                                                 | 8/20 [00:20<00:31,  2.66s/it]\u001b[A\n",
      " 45%|█████████████████████████████████████▎                                             | 9/20 [00:23<00:29,  2.64s/it]\u001b[A\n",
      " 50%|█████████████████████████████████████████                                         | 10/20 [00:26<00:25,  2.60s/it]\u001b[A\n",
      " 55%|█████████████████████████████████████████████                                     | 11/20 [00:27<00:21,  2.34s/it]\u001b[A\n",
      " 60%|█████████████████████████████████████████████████▏                                | 12/20 [00:29<00:17,  2.20s/it]\u001b[A\n",
      " 65%|█████████████████████████████████████████████████████▎                            | 13/20 [00:31<00:14,  2.07s/it]\u001b[A\n",
      " 70%|█████████████████████████████████████████████████████████▍                        | 14/20 [00:33<00:12,  2.03s/it]\u001b[A\n",
      " 75%|█████████████████████████████████████████████████████████████▌                    | 15/20 [00:35<00:09,  2.00s/it]\u001b[A\n",
      " 80%|█████████████████████████████████████████████████████████████████▌                | 16/20 [00:37<00:08,  2.10s/it]\u001b[A\n",
      " 85%|█████████████████████████████████████████████████████████████████████▋            | 17/20 [00:39<00:06,  2.05s/it]\u001b[A\n",
      " 90%|█████████████████████████████████████████████████████████████████████████▊        | 18/20 [00:41<00:03,  1.99s/it]\u001b[A\n",
      " 95%|█████████████████████████████████████████████████████████████████████████████▉    | 19/20 [00:43<00:01,  1.92s/it]\u001b[A\n",
      "100%|██████████████████████████████████████████████████████████████████████████████████| 20/20 [00:44<00:00,  2.25s/it]\u001b[A\n",
      "  8%|██████                                                                           | 7/93 [06:00<1:11:15, 49.71s/it]\n",
      "  0%|                                                                                           | 0/20 [00:00<?, ?it/s]\u001b[A\n",
      "  5%|████▏                                                                              | 1/20 [00:01<00:33,  1.78s/it]\u001b[A\n",
      " 10%|████████▎                                                                          | 2/20 [00:03<00:32,  1.81s/it]\u001b[A\n",
      " 15%|████████████▍                                                                      | 3/20 [00:05<00:32,  1.89s/it]\u001b[A\n",
      " 20%|████████████████▌                                                                  | 4/20 [00:07<00:30,  1.90s/it]\u001b[A\n",
      " 25%|████████████████████▊                                                              | 5/20 [00:09<00:28,  1.90s/it]\u001b[A\n",
      " 30%|████████████████████████▉                                                          | 6/20 [00:11<00:26,  1.91s/it]\u001b[A\n",
      " 35%|█████████████████████████████                                                      | 7/20 [00:13<00:24,  1.86s/it]\u001b[A\n",
      " 40%|█████████████████████████████████▏                                                 | 8/20 [00:14<00:22,  1.85s/it]\u001b[A\n",
      " 45%|█████████████████████████████████████▎                                             | 9/20 [00:16<00:20,  1.82s/it]\u001b[A\n",
      " 50%|█████████████████████████████████████████                                         | 10/20 [00:18<00:18,  1.80s/it]\u001b[A\n",
      " 55%|█████████████████████████████████████████████                                     | 11/20 [00:20<00:16,  1.80s/it]\u001b[A\n",
      " 60%|█████████████████████████████████████████████████▏                                | 12/20 [00:22<00:14,  1.81s/it]\u001b[A\n",
      " 65%|█████████████████████████████████████████████████████▎                            | 13/20 [00:23<00:12,  1.80s/it]\u001b[A\n",
      " 70%|█████████████████████████████████████████████████████████▍                        | 14/20 [00:25<00:10,  1.83s/it]\u001b[A\n",
      " 75%|█████████████████████████████████████████████████████████████▌                    | 15/20 [00:27<00:09,  1.84s/it]\u001b[A\n",
      " 80%|█████████████████████████████████████████████████████████████████▌                | 16/20 [00:29<00:07,  1.82s/it]\u001b[A\n",
      " 85%|█████████████████████████████████████████████████████████████████████▋            | 17/20 [00:31<00:05,  1.94s/it]\u001b[A\n",
      " 90%|█████████████████████████████████████████████████████████████████████████▊        | 18/20 [00:34<00:04,  2.19s/it]\u001b[A\n",
      " 95%|█████████████████████████████████████████████████████████████████████████████▉    | 19/20 [00:36<00:02,  2.17s/it]\u001b[A\n",
      "100%|██████████████████████████████████████████████████████████████████████████████████| 20/20 [00:38<00:00,  1.95s/it]\u001b[A\n",
      "  9%|██████▉                                                                          | 8/93 [06:39<1:05:33, 46.28s/it]\n",
      "  0%|                                                                                           | 0/20 [00:00<?, ?it/s]\u001b[A\n",
      "  5%|████▏                                                                              | 1/20 [00:02<00:52,  2.77s/it]\u001b[A\n",
      " 10%|████████▎                                                                          | 2/20 [00:05<00:50,  2.83s/it]\u001b[A\n",
      " 15%|████████████▍                                                                      | 3/20 [00:07<00:42,  2.47s/it]\u001b[A\n",
      " 20%|████████████████▌                                                                  | 4/20 [00:10<00:40,  2.51s/it]\u001b[A\n",
      " 25%|████████████████████▊                                                              | 5/20 [00:13<00:39,  2.61s/it]\u001b[A\n",
      " 30%|████████████████████████▉                                                          | 6/20 [00:14<00:32,  2.36s/it]\u001b[A\n",
      " 35%|█████████████████████████████                                                      | 7/20 [00:17<00:32,  2.49s/it]\u001b[A\n",
      " 40%|█████████████████████████████████▏                                                 | 8/20 [00:20<00:30,  2.54s/it]\u001b[A\n",
      " 45%|█████████████████████████████████████▎                                             | 9/20 [00:22<00:28,  2.55s/it]\u001b[A\n",
      " 50%|█████████████████████████████████████████                                         | 10/20 [00:25<00:26,  2.64s/it]\u001b[A\n",
      " 55%|█████████████████████████████████████████████                                     | 11/20 [00:28<00:24,  2.72s/it]\u001b[A\n",
      " 60%|█████████████████████████████████████████████████▏                                | 12/20 [00:31<00:20,  2.62s/it]\u001b[A\n",
      " 65%|█████████████████████████████████████████████████████▎                            | 13/20 [00:33<00:17,  2.49s/it]\u001b[A\n",
      " 70%|█████████████████████████████████████████████████████████▍                        | 14/20 [00:35<00:14,  2.38s/it]\u001b[A\n",
      " 75%|█████████████████████████████████████████████████████████████▌                    | 15/20 [00:37<00:10,  2.19s/it]\u001b[A\n",
      " 80%|█████████████████████████████████████████████████████████████████▌                | 16/20 [00:38<00:08,  2.07s/it]\u001b[A\n",
      " 85%|█████████████████████████████████████████████████████████████████████▋            | 17/20 [00:40<00:05,  1.98s/it]\u001b[A\n",
      " 90%|█████████████████████████████████████████████████████████████████████████▊        | 18/20 [00:42<00:03,  1.96s/it]\u001b[A\n",
      " 95%|█████████████████████████████████████████████████████████████████████████████▉    | 19/20 [00:44<00:01,  1.95s/it]\u001b[A\n",
      "100%|██████████████████████████████████████████████████████████████████████████████████| 20/20 [00:46<00:00,  2.32s/it]\u001b[A\n",
      " 10%|███████▊                                                                         | 9/93 [07:26<1:04:49, 46.30s/it]\n",
      "  0%|                                                                                           | 0/20 [00:00<?, ?it/s]\u001b[A\n",
      "  5%|████▏                                                                              | 1/20 [00:02<00:41,  2.19s/it]\u001b[A\n",
      " 10%|████████▎                                                                          | 2/20 [00:04<00:39,  2.22s/it]\u001b[A\n",
      " 15%|████████████▍                                                                      | 3/20 [00:07<00:43,  2.53s/it]\u001b[A\n",
      " 20%|████████████████▌                                                                  | 4/20 [00:10<00:42,  2.63s/it]\u001b[A\n",
      " 25%|████████████████████▊                                                              | 5/20 [00:12<00:38,  2.58s/it]\u001b[A\n",
      " 30%|████████████████████████▉                                                          | 6/20 [00:15<00:36,  2.62s/it]\u001b[A\n",
      " 35%|█████████████████████████████                                                      | 7/20 [00:17<00:33,  2.59s/it]\u001b[A\n",
      " 40%|█████████████████████████████████▏                                                 | 8/20 [00:20<00:31,  2.66s/it]\u001b[A\n",
      " 45%|█████████████████████████████████████▎                                             | 9/20 [00:23<00:28,  2.62s/it]\u001b[A\n",
      " 50%|█████████████████████████████████████████                                         | 10/20 [00:25<00:24,  2.42s/it]\u001b[A\n",
      " 55%|█████████████████████████████████████████████                                     | 11/20 [00:26<00:20,  2.24s/it]\u001b[A\n",
      " 60%|█████████████████████████████████████████████████▏                                | 12/20 [00:29<00:18,  2.37s/it]\u001b[A\n",
      " 65%|█████████████████████████████████████████████████████▎                            | 13/20 [00:32<00:17,  2.51s/it]\u001b[A\n",
      " 70%|█████████████████████████████████████████████████████████▍                        | 14/20 [00:35<00:15,  2.61s/it]\u001b[A\n",
      " 75%|█████████████████████████████████████████████████████████████▌                    | 15/20 [00:37<00:13,  2.60s/it]\u001b[A\n",
      " 80%|█████████████████████████████████████████████████████████████████▌                | 16/20 [00:40<00:10,  2.58s/it]\u001b[A\n",
      " 85%|█████████████████████████████████████████████████████████████████████▋            | 17/20 [00:42<00:07,  2.57s/it]\u001b[A\n",
      " 90%|█████████████████████████████████████████████████████████████████████████▊        | 18/20 [00:44<00:04,  2.34s/it]\u001b[A\n",
      " 95%|█████████████████████████████████████████████████████████████████████████████▉    | 19/20 [00:46<00:02,  2.18s/it]\u001b[A\n",
      "100%|██████████████████████████████████████████████████████████████████████████████████| 20/20 [00:49<00:00,  2.46s/it]\u001b[A\n",
      " 11%|████████▌                                                                       | 10/93 [08:15<1:05:17, 47.19s/it]\n",
      "  0%|                                                                                           | 0/20 [00:00<?, ?it/s]\u001b[A\n",
      "  5%|████▏                                                                              | 1/20 [00:01<00:33,  1.76s/it]\u001b[A\n",
      " 10%|████████▎                                                                          | 2/20 [00:03<00:31,  1.74s/it]\u001b[A\n",
      " 15%|████████████▍                                                                      | 3/20 [00:05<00:31,  1.83s/it]\u001b[A\n",
      " 20%|████████████████▌                                                                  | 4/20 [00:08<00:34,  2.17s/it]\u001b[A\n",
      " 25%|████████████████████▊                                                              | 5/20 [00:10<00:32,  2.15s/it]\u001b[A\n",
      " 30%|████████████████████████▉                                                          | 6/20 [00:12<00:32,  2.35s/it]\u001b[A\n",
      " 35%|█████████████████████████████                                                      | 7/20 [00:15<00:32,  2.49s/it]\u001b[A\n",
      " 40%|█████████████████████████████████▏                                                 | 8/20 [00:18<00:29,  2.49s/it]\u001b[A\n",
      " 45%|█████████████████████████████████████▎                                             | 9/20 [00:20<00:27,  2.49s/it]\u001b[A\n",
      " 50%|█████████████████████████████████████████                                         | 10/20 [00:23<00:24,  2.46s/it]\u001b[A\n",
      " 55%|█████████████████████████████████████████████                                     | 11/20 [00:25<00:22,  2.55s/it]\u001b[A\n",
      " 60%|█████████████████████████████████████████████████▏                                | 12/20 [00:28<00:20,  2.51s/it]\u001b[A\n",
      " 65%|█████████████████████████████████████████████████████▎                            | 13/20 [00:31<00:18,  2.62s/it]\u001b[A\n",
      " 70%|█████████████████████████████████████████████████████████▍                        | 14/20 [00:33<00:15,  2.65s/it]\u001b[A\n",
      " 75%|█████████████████████████████████████████████████████████████▌                    | 15/20 [00:36<00:13,  2.67s/it]\u001b[A\n",
      " 80%|█████████████████████████████████████████████████████████████████▌                | 16/20 [00:39<00:10,  2.70s/it]\u001b[A\n",
      " 85%|█████████████████████████████████████████████████████████████████████▋            | 17/20 [00:41<00:07,  2.63s/it]\u001b[A\n",
      " 90%|█████████████████████████████████████████████████████████████████████████▊        | 18/20 [00:44<00:05,  2.58s/it]\u001b[A\n",
      " 95%|█████████████████████████████████████████████████████████████████████████████▉    | 19/20 [00:46<00:02,  2.49s/it]\u001b[A\n",
      "100%|██████████████████████████████████████████████████████████████████████████████████| 20/20 [00:48<00:00,  2.42s/it]\u001b[A\n",
      " 12%|█████████▍                                                                      | 11/93 [09:03<1:05:02, 47.59s/it]\n",
      "  0%|                                                                                           | 0/20 [00:00<?, ?it/s]\u001b[A\n",
      "  5%|████▏                                                                              | 1/20 [00:01<00:34,  1.79s/it]\u001b[A\n",
      " 10%|████████▎                                                                          | 2/20 [00:03<00:32,  1.82s/it]\u001b[A\n",
      " 15%|████████████▍                                                                      | 3/20 [00:05<00:31,  1.87s/it]\u001b[A\n",
      " 20%|████████████████▌                                                                  | 4/20 [00:07<00:29,  1.85s/it]\u001b[A\n",
      " 25%|████████████████████▊                                                              | 5/20 [00:09<00:27,  1.80s/it]\u001b[A\n",
      " 30%|████████████████████████▉                                                          | 6/20 [00:11<00:26,  1.90s/it]\u001b[A\n",
      " 35%|█████████████████████████████                                                      | 7/20 [00:13<00:28,  2.17s/it]\u001b[A\n",
      " 40%|█████████████████████████████████▏                                                 | 8/20 [00:16<00:27,  2.31s/it]\u001b[A\n",
      " 45%|█████████████████████████████████████▎                                             | 9/20 [00:19<00:27,  2.48s/it]\u001b[A\n",
      " 50%|█████████████████████████████████████████                                         | 10/20 [00:22<00:25,  2.58s/it]\u001b[A\n",
      " 55%|█████████████████████████████████████████████                                     | 11/20 [00:25<00:23,  2.65s/it]\u001b[A\n",
      " 60%|█████████████████████████████████████████████████▏                                | 12/20 [00:27<00:21,  2.70s/it]\u001b[A\n",
      " 65%|█████████████████████████████████████████████████████▎                            | 13/20 [00:30<00:19,  2.73s/it]\u001b[A\n",
      " 70%|█████████████████████████████████████████████████████████▍                        | 14/20 [00:33<00:16,  2.71s/it]\u001b[A\n",
      " 75%|█████████████████████████████████████████████████████████████▌                    | 15/20 [00:35<00:13,  2.67s/it]\u001b[A\n",
      " 80%|█████████████████████████████████████████████████████████████████▌                | 16/20 [00:38<00:10,  2.73s/it]\u001b[A\n",
      " 85%|█████████████████████████████████████████████████████████████████████▋            | 17/20 [00:41<00:08,  2.75s/it]\u001b[A\n",
      " 90%|█████████████████████████████████████████████████████████████████████████▊        | 18/20 [00:44<00:05,  2.77s/it]\u001b[A\n",
      " 95%|█████████████████████████████████████████████████████████████████████████████▉    | 19/20 [00:47<00:02,  2.78s/it]\u001b[A\n",
      "100%|██████████████████████████████████████████████████████████████████████████████████| 20/20 [00:49<00:00,  2.49s/it]\u001b[A\n",
      " 13%|██████████▎                                                                     | 12/93 [09:53<1:05:08, 48.26s/it]\n",
      "  0%|                                                                                           | 0/20 [00:00<?, ?it/s]\u001b[A\n",
      "  5%|████▏                                                                              | 1/20 [00:02<00:51,  2.69s/it]\u001b[A\n",
      " 10%|████████▎                                                                          | 2/20 [00:05<00:48,  2.68s/it]\u001b[A\n",
      " 15%|████████████▍                                                                      | 3/20 [00:07<00:39,  2.32s/it]\u001b[A\n",
      " 20%|████████████████▌                                                                  | 4/20 [00:09<00:33,  2.11s/it]\u001b[A\n",
      " 25%|████████████████████▊                                                              | 5/20 [00:10<00:29,  1.95s/it]\u001b[A\n",
      " 30%|████████████████████████▉                                                          | 6/20 [00:12<00:26,  1.86s/it]\u001b[A\n",
      " 35%|█████████████████████████████                                                      | 7/20 [00:14<00:24,  1.86s/it]\u001b[A\n",
      " 40%|█████████████████████████████████▏                                                 | 8/20 [00:16<00:22,  1.90s/it]\u001b[A\n",
      " 45%|█████████████████████████████████████▎                                             | 9/20 [00:18<00:21,  1.94s/it]\u001b[A\n",
      " 50%|█████████████████████████████████████████                                         | 10/20 [00:19<00:18,  1.87s/it]\u001b[A\n",
      " 55%|█████████████████████████████████████████████                                     | 11/20 [00:21<00:16,  1.83s/it]\u001b[A\n",
      " 60%|█████████████████████████████████████████████████▏                                | 12/20 [00:23<00:14,  1.81s/it]\u001b[A\n",
      " 65%|█████████████████████████████████████████████████████▎                            | 13/20 [00:25<00:12,  1.79s/it]\u001b[A\n",
      " 70%|█████████████████████████████████████████████████████████▍                        | 14/20 [00:26<00:10,  1.78s/it]\u001b[A\n",
      " 75%|█████████████████████████████████████████████████████████████▌                    | 15/20 [00:28<00:08,  1.78s/it]\u001b[A\n",
      " 80%|█████████████████████████████████████████████████████████████████▌                | 16/20 [00:30<00:07,  1.77s/it]\u001b[A\n",
      " 85%|█████████████████████████████████████████████████████████████████████▋            | 17/20 [00:32<00:05,  1.79s/it]\u001b[A\n",
      " 90%|█████████████████████████████████████████████████████████████████████████▊        | 18/20 [00:34<00:03,  1.76s/it]\u001b[A\n",
      " 95%|█████████████████████████████████████████████████████████████████████████████▉    | 19/20 [00:35<00:01,  1.76s/it]\u001b[A\n",
      "100%|██████████████████████████████████████████████████████████████████████████████████| 20/20 [00:37<00:00,  1.88s/it]\u001b[A\n",
      " 14%|███████████▏                                                                    | 13/93 [10:31<1:00:01, 45.02s/it]\n",
      "  0%|                                                                                           | 0/20 [00:00<?, ?it/s]\u001b[A\n",
      "  5%|████▏                                                                              | 1/20 [00:01<00:36,  1.90s/it]\u001b[A\n",
      " 10%|████████▎                                                                          | 2/20 [00:03<00:32,  1.82s/it]\u001b[A\n",
      " 15%|████████████▍                                                                      | 3/20 [00:05<00:30,  1.78s/it]\u001b[A\n",
      " 20%|████████████████▌                                                                  | 4/20 [00:07<00:28,  1.76s/it]\u001b[A\n",
      " 25%|████████████████████▊                                                              | 5/20 [00:08<00:26,  1.79s/it]\u001b[A\n",
      " 30%|████████████████████████▉                                                          | 6/20 [00:10<00:25,  1.81s/it]\u001b[A\n",
      " 35%|█████████████████████████████                                                      | 7/20 [00:12<00:23,  1.80s/it]\u001b[A\n",
      " 40%|█████████████████████████████████▏                                                 | 8/20 [00:14<00:21,  1.78s/it]\u001b[A\n",
      " 45%|█████████████████████████████████████▎                                             | 9/20 [00:16<00:19,  1.78s/it]\u001b[A\n",
      " 50%|█████████████████████████████████████████                                         | 10/20 [00:17<00:17,  1.75s/it]\u001b[A\n",
      " 55%|█████████████████████████████████████████████                                     | 11/20 [00:19<00:15,  1.75s/it]\u001b[A\n",
      " 60%|█████████████████████████████████████████████████▏                                | 12/20 [00:21<00:14,  1.76s/it]\u001b[A\n",
      " 65%|█████████████████████████████████████████████████████▎                            | 13/20 [00:23<00:12,  1.75s/it]\u001b[A\n",
      " 70%|█████████████████████████████████████████████████████████▍                        | 14/20 [00:24<00:10,  1.76s/it]\u001b[A\n",
      " 75%|█████████████████████████████████████████████████████████████▌                    | 15/20 [00:26<00:08,  1.78s/it]\u001b[A\n",
      " 80%|█████████████████████████████████████████████████████████████████▌                | 16/20 [00:28<00:07,  1.78s/it]\u001b[A\n",
      " 85%|█████████████████████████████████████████████████████████████████████▋            | 17/20 [00:30<00:05,  1.77s/it]\u001b[A\n",
      " 90%|█████████████████████████████████████████████████████████████████████████▊        | 18/20 [00:31<00:03,  1.76s/it]\u001b[A\n",
      " 95%|█████████████████████████████████████████████████████████████████████████████▉    | 19/20 [00:33<00:01,  1.76s/it]\u001b[A\n",
      "100%|██████████████████████████████████████████████████████████████████████████████████| 20/20 [00:35<00:00,  1.78s/it]\u001b[A\n",
      " 15%|████████████▎                                                                     | 14/93 [11:06<55:30, 42.16s/it]\n",
      "  0%|                                                                                           | 0/20 [00:00<?, ?it/s]\u001b[A\n",
      "  5%|████▏                                                                              | 1/20 [00:01<00:36,  1.91s/it]\u001b[A\n",
      " 10%|████████▎                                                                          | 2/20 [00:03<00:33,  1.88s/it]\u001b[A\n",
      " 15%|████████████▍                                                                      | 3/20 [00:05<00:32,  1.89s/it]\u001b[A\n",
      " 20%|████████████████▌                                                                  | 4/20 [00:07<00:30,  1.88s/it]\u001b[A\n",
      " 25%|████████████████████▊                                                              | 5/20 [00:09<00:27,  1.85s/it]\u001b[A\n",
      " 30%|████████████████████████▉                                                          | 6/20 [00:11<00:25,  1.83s/it]\u001b[A\n",
      " 35%|█████████████████████████████                                                      | 7/20 [00:13<00:24,  1.92s/it]\u001b[A\n",
      " 40%|█████████████████████████████████▏                                                 | 8/20 [00:15<00:26,  2.17s/it]\u001b[A\n",
      " 45%|█████████████████████████████████████▎                                             | 9/20 [00:18<00:23,  2.15s/it]\u001b[A\n",
      " 50%|█████████████████████████████████████████                                         | 10/20 [00:20<00:23,  2.30s/it]\u001b[A\n",
      " 55%|█████████████████████████████████████████████                                     | 11/20 [00:23<00:21,  2.38s/it]\u001b[A\n",
      " 60%|█████████████████████████████████████████████████▏                                | 12/20 [00:26<00:19,  2.50s/it]\u001b[A\n",
      " 65%|█████████████████████████████████████████████████████▎                            | 13/20 [00:28<00:16,  2.37s/it]\u001b[A\n",
      " 70%|█████████████████████████████████████████████████████████▍                        | 14/20 [00:30<00:14,  2.42s/it]\u001b[A\n",
      " 75%|█████████████████████████████████████████████████████████████▌                    | 15/20 [00:33<00:12,  2.48s/it]\u001b[A\n",
      " 80%|█████████████████████████████████████████████████████████████████▌                | 16/20 [00:35<00:09,  2.37s/it]\u001b[A\n",
      " 85%|█████████████████████████████████████████████████████████████████████▋            | 17/20 [00:38<00:07,  2.47s/it]\u001b[A\n",
      " 90%|█████████████████████████████████████████████████████████████████████████▊        | 18/20 [00:40<00:05,  2.60s/it]\u001b[A\n",
      " 95%|█████████████████████████████████████████████████████████████████████████████▉    | 19/20 [00:43<00:02,  2.56s/it]\u001b[A\n",
      "100%|██████████████████████████████████████████████████████████████████████████████████| 20/20 [00:45<00:00,  2.29s/it]\u001b[A\n",
      " 16%|█████████████▏                                                                    | 15/93 [11:52<56:12, 43.24s/it]\n",
      "  0%|                                                                                           | 0/20 [00:00<?, ?it/s]\u001b[A\n",
      "  5%|████▏                                                                              | 1/20 [00:02<00:51,  2.71s/it]\u001b[A\n",
      " 10%|████████▎                                                                          | 2/20 [00:05<00:45,  2.55s/it]\u001b[A\n",
      " 15%|████████████▍                                                                      | 3/20 [00:06<00:37,  2.19s/it]\u001b[A\n",
      " 20%|████████████████▌                                                                  | 4/20 [00:08<00:33,  2.11s/it]\u001b[A\n",
      " 25%|████████████████████▊                                                              | 5/20 [00:10<00:30,  2.00s/it]\u001b[A\n",
      " 30%|████████████████████████▉                                                          | 6/20 [00:12<00:26,  1.93s/it]\u001b[A\n",
      " 35%|█████████████████████████████                                                      | 7/20 [00:14<00:24,  1.86s/it]\u001b[A\n",
      " 40%|█████████████████████████████████▏                                                 | 8/20 [00:15<00:21,  1.83s/it]\u001b[A\n",
      " 45%|█████████████████████████████████████▎                                             | 9/20 [00:17<00:19,  1.79s/it]\u001b[A\n",
      " 50%|█████████████████████████████████████████                                         | 10/20 [00:19<00:17,  1.77s/it]\u001b[A\n",
      " 55%|█████████████████████████████████████████████                                     | 11/20 [00:22<00:18,  2.07s/it]\u001b[A\n",
      " 60%|█████████████████████████████████████████████████▏                                | 12/20 [00:24<00:16,  2.10s/it]\u001b[A\n",
      " 65%|█████████████████████████████████████████████████████▎                            | 13/20 [00:26<00:15,  2.19s/it]\u001b[A\n",
      " 70%|█████████████████████████████████████████████████████████▍                        | 14/20 [00:29<00:14,  2.36s/it]\u001b[A\n",
      " 75%|█████████████████████████████████████████████████████████████▌                    | 15/20 [00:31<00:11,  2.29s/it]\u001b[A\n",
      " 80%|█████████████████████████████████████████████████████████████████▌                | 16/20 [00:34<00:09,  2.43s/it]\u001b[A\n",
      " 85%|█████████████████████████████████████████████████████████████████████▋            | 17/20 [00:37<00:07,  2.55s/it]\u001b[A\n",
      " 90%|█████████████████████████████████████████████████████████████████████████▊        | 18/20 [00:39<00:05,  2.55s/it]\u001b[A\n",
      " 95%|█████████████████████████████████████████████████████████████████████████████▉    | 19/20 [00:42<00:02,  2.61s/it]\u001b[A\n",
      "100%|██████████████████████████████████████████████████████████████████████████████████| 20/20 [00:44<00:00,  2.24s/it]\u001b[A\n",
      " 17%|██████████████                                                                    | 16/93 [12:37<56:07, 43.73s/it]\n",
      "  0%|                                                                                           | 0/20 [00:00<?, ?it/s]\u001b[A\n",
      "  5%|████▏                                                                              | 1/20 [00:02<00:53,  2.83s/it]\u001b[A\n",
      " 10%|████████▎                                                                          | 2/20 [00:05<00:51,  2.84s/it]\u001b[A\n",
      " 15%|████████████▍                                                                      | 3/20 [00:08<00:48,  2.87s/it]\u001b[A\n",
      " 20%|████████████████▌                                                                  | 4/20 [00:11<00:43,  2.75s/it]\u001b[A\n",
      " 25%|████████████████████▊                                                              | 5/20 [00:13<00:41,  2.78s/it]\u001b[A\n",
      " 30%|████████████████████████▉                                                          | 6/20 [00:16<00:37,  2.69s/it]\u001b[A\n",
      " 35%|█████████████████████████████                                                      | 7/20 [00:18<00:31,  2.44s/it]\u001b[A\n",
      " 40%|█████████████████████████████████▏                                                 | 8/20 [00:20<00:26,  2.24s/it]\u001b[A\n",
      " 45%|█████████████████████████████████████▎                                             | 9/20 [00:22<00:23,  2.10s/it]\u001b[A\n",
      " 50%|█████████████████████████████████████████                                         | 10/20 [00:23<00:19,  1.98s/it]\u001b[A\n",
      " 55%|█████████████████████████████████████████████                                     | 11/20 [00:25<00:17,  1.92s/it]\u001b[A\n",
      " 60%|█████████████████████████████████████████████████▏                                | 12/20 [00:27<00:14,  1.87s/it]\u001b[A\n",
      " 65%|█████████████████████████████████████████████████████▎                            | 13/20 [00:29<00:13,  1.86s/it]\u001b[A\n",
      " 70%|█████████████████████████████████████████████████████████▍                        | 14/20 [00:31<00:11,  1.95s/it]\u001b[A\n",
      " 75%|█████████████████████████████████████████████████████████████▌                    | 15/20 [00:33<00:10,  2.06s/it]\u001b[A\n",
      " 80%|█████████████████████████████████████████████████████████████████▌                | 16/20 [00:36<00:09,  2.29s/it]\u001b[A\n",
      " 85%|█████████████████████████████████████████████████████████████████████▋            | 17/20 [00:38<00:06,  2.11s/it]\u001b[A\n",
      " 90%|█████████████████████████████████████████████████████████████████████████▊        | 18/20 [00:40<00:04,  2.25s/it]\u001b[A\n",
      " 95%|█████████████████████████████████████████████████████████████████████████████▉    | 19/20 [00:42<00:02,  2.13s/it]\u001b[A\n",
      "100%|██████████████████████████████████████████████████████████████████████████████████| 20/20 [00:45<00:00,  2.25s/it]\u001b[A\n",
      " 18%|██████████████▉                                                                   | 17/93 [13:22<55:54, 44.13s/it]\n",
      "  0%|                                                                                           | 0/20 [00:00<?, ?it/s]\u001b[A\n",
      "  5%|████▏                                                                              | 1/20 [00:02<00:45,  2.38s/it]\u001b[A\n",
      " 10%|████████▎                                                                          | 2/20 [00:05<00:46,  2.57s/it]\u001b[A\n",
      " 15%|████████████▍                                                                      | 3/20 [00:07<00:41,  2.45s/it]\u001b[A\n",
      " 20%|████████████████▌                                                                  | 4/20 [00:09<00:39,  2.45s/it]\u001b[A\n",
      " 25%|████████████████████▊                                                              | 5/20 [00:12<00:39,  2.60s/it]\u001b[A\n",
      " 30%|████████████████████████▉                                                          | 6/20 [00:14<00:34,  2.48s/it]\u001b[A\n",
      " 35%|█████████████████████████████                                                      | 7/20 [00:17<00:33,  2.59s/it]\u001b[A\n",
      " 40%|█████████████████████████████████▏                                                 | 8/20 [00:20<00:29,  2.49s/it]\u001b[A\n",
      " 45%|█████████████████████████████████████▎                                             | 9/20 [00:22<00:28,  2.58s/it]\u001b[A\n",
      " 50%|█████████████████████████████████████████                                         | 10/20 [00:25<00:24,  2.49s/it]\u001b[A\n",
      " 55%|█████████████████████████████████████████████                                     | 11/20 [00:26<00:20,  2.28s/it]\u001b[A\n",
      " 60%|█████████████████████████████████████████████████▏                                | 12/20 [00:28<00:17,  2.14s/it]\u001b[A\n",
      " 65%|█████████████████████████████████████████████████████▎                            | 13/20 [00:30<00:14,  2.03s/it]\u001b[A\n",
      " 70%|█████████████████████████████████████████████████████████▍                        | 14/20 [00:32<00:11,  1.93s/it]\u001b[A\n",
      " 75%|█████████████████████████████████████████████████████████████▌                    | 15/20 [00:33<00:09,  1.86s/it]\u001b[A\n",
      " 80%|█████████████████████████████████████████████████████████████████▌                | 16/20 [00:35<00:07,  1.81s/it]\u001b[A\n",
      " 85%|█████████████████████████████████████████████████████████████████████▋            | 17/20 [00:38<00:06,  2.04s/it]\u001b[A\n",
      " 90%|█████████████████████████████████████████████████████████████████████████▊        | 18/20 [00:40<00:04,  2.25s/it]\u001b[A\n",
      " 95%|█████████████████████████████████████████████████████████████████████████████▉    | 19/20 [00:43<00:02,  2.43s/it]\u001b[A\n",
      "100%|██████████████████████████████████████████████████████████████████████████████████| 20/20 [00:45<00:00,  2.29s/it]\u001b[A\n",
      " 19%|███████████████▊                                                                  | 18/93 [14:08<55:47, 44.64s/it]\n",
      "  0%|                                                                                           | 0/20 [00:00<?, ?it/s]\u001b[A\n",
      "  5%|████▏                                                                              | 1/20 [00:02<00:49,  2.61s/it]\u001b[A\n",
      " 10%|████████▎                                                                          | 2/20 [00:05<00:44,  2.49s/it]\u001b[A\n",
      " 15%|████████████▍                                                                      | 3/20 [00:07<00:40,  2.40s/it]\u001b[A\n",
      " 20%|████████████████▌                                                                  | 4/20 [00:09<00:40,  2.51s/it]\u001b[A\n",
      " 25%|████████████████████▊                                                              | 5/20 [00:12<00:38,  2.54s/it]\u001b[A\n",
      " 30%|████████████████████████▉                                                          | 6/20 [00:14<00:34,  2.48s/it]\u001b[A\n",
      " 35%|█████████████████████████████                                                      | 7/20 [00:17<00:30,  2.37s/it]\u001b[A\n",
      " 40%|█████████████████████████████████▏                                                 | 8/20 [00:19<00:28,  2.38s/it]\u001b[A\n",
      " 45%|█████████████████████████████████████▎                                             | 9/20 [00:21<00:23,  2.17s/it]\u001b[A\n",
      " 50%|█████████████████████████████████████████                                         | 10/20 [00:23<00:21,  2.13s/it]\u001b[A\n",
      " 55%|█████████████████████████████████████████████                                     | 11/20 [00:25<00:20,  2.22s/it]\u001b[A\n",
      " 60%|█████████████████████████████████████████████████▏                                | 12/20 [00:27<00:17,  2.17s/it]\u001b[A\n",
      " 65%|█████████████████████████████████████████████████████▎                            | 13/20 [00:29<00:15,  2.15s/it]\u001b[A\n",
      " 70%|█████████████████████████████████████████████████████████▍                        | 14/20 [00:31<00:12,  2.06s/it]\u001b[A\n",
      " 75%|█████████████████████████████████████████████████████████████▌                    | 15/20 [00:33<00:09,  1.99s/it]\u001b[A\n",
      " 80%|█████████████████████████████████████████████████████████████████▌                | 16/20 [00:35<00:07,  1.92s/it]\u001b[A\n",
      " 85%|█████████████████████████████████████████████████████████████████████▋            | 17/20 [00:37<00:05,  1.87s/it]\u001b[A\n",
      " 90%|█████████████████████████████████████████████████████████████████████████▊        | 18/20 [00:38<00:03,  1.83s/it]\u001b[A\n",
      " 95%|█████████████████████████████████████████████████████████████████████████████▉    | 19/20 [00:40<00:01,  1.79s/it]\u001b[A\n",
      "100%|██████████████████████████████████████████████████████████████████████████████████| 20/20 [00:42<00:00,  2.12s/it]\u001b[A\n",
      " 20%|████████████████▊                                                                 | 19/93 [14:50<54:13, 43.97s/it]\n",
      "  0%|                                                                                           | 0/20 [00:00<?, ?it/s]\u001b[A\n",
      "  5%|████▏                                                                              | 1/20 [00:02<00:51,  2.69s/it]\u001b[A\n",
      " 10%|████████▎                                                                          | 2/20 [00:05<00:49,  2.75s/it]\u001b[A\n",
      " 15%|████████████▍                                                                      | 3/20 [00:07<00:43,  2.58s/it]\u001b[A\n",
      " 20%|████████████████▌                                                                  | 4/20 [00:09<00:38,  2.38s/it]\u001b[A\n",
      " 25%|████████████████████▊                                                              | 5/20 [00:12<00:37,  2.47s/it]\u001b[A\n",
      " 30%|████████████████████████▉                                                          | 6/20 [00:15<00:34,  2.48s/it]\u001b[A\n",
      " 35%|█████████████████████████████                                                      | 7/20 [00:16<00:29,  2.29s/it]\u001b[A\n",
      " 40%|█████████████████████████████████▏                                                 | 8/20 [00:19<00:29,  2.43s/it]\u001b[A\n",
      " 45%|█████████████████████████████████████▎                                             | 9/20 [00:22<00:27,  2.49s/it]\u001b[A\n",
      " 50%|█████████████████████████████████████████                                         | 10/20 [00:24<00:25,  2.53s/it]\u001b[A\n",
      " 55%|█████████████████████████████████████████████                                     | 11/20 [00:27<00:22,  2.48s/it]\u001b[A\n",
      " 60%|█████████████████████████████████████████████████▏                                | 12/20 [00:29<00:19,  2.45s/it]\u001b[A\n",
      " 65%|█████████████████████████████████████████████████████▎                            | 13/20 [00:32<00:17,  2.55s/it]\u001b[A\n",
      " 70%|█████████████████████████████████████████████████████████▍                        | 14/20 [00:34<00:13,  2.29s/it]\u001b[A\n",
      " 75%|█████████████████████████████████████████████████████████████▌                    | 15/20 [00:36<00:10,  2.16s/it]\u001b[A\n",
      " 80%|█████████████████████████████████████████████████████████████████▌                | 16/20 [00:38<00:09,  2.26s/it]\u001b[A\n",
      " 85%|█████████████████████████████████████████████████████████████████████▋            | 17/20 [00:40<00:06,  2.21s/it]\u001b[A\n",
      " 90%|█████████████████████████████████████████████████████████████████████████▊        | 18/20 [00:42<00:04,  2.14s/it]\u001b[A\n",
      " 95%|█████████████████████████████████████████████████████████████████████████████▉    | 19/20 [00:44<00:02,  2.06s/it]\u001b[A\n",
      "100%|██████████████████████████████████████████████████████████████████████████████████| 20/20 [00:47<00:00,  2.36s/it]\u001b[A\n",
      " 22%|█████████████████▋                                                                | 20/93 [15:37<54:39, 44.93s/it]\n",
      "  0%|                                                                                           | 0/20 [00:00<?, ?it/s]\u001b[A\n",
      "  5%|████▏                                                                              | 1/20 [00:02<00:49,  2.61s/it]\u001b[A\n",
      " 10%|████████▎                                                                          | 2/20 [00:05<00:46,  2.61s/it]\u001b[A\n",
      " 15%|████████████▍                                                                      | 3/20 [00:07<00:42,  2.51s/it]\u001b[A\n",
      " 20%|████████████████▌                                                                  | 4/20 [00:10<00:41,  2.62s/it]\u001b[A\n",
      " 25%|████████████████████▊                                                              | 5/20 [00:12<00:36,  2.40s/it]\u001b[A\n",
      " 30%|████████████████████████▉                                                          | 6/20 [00:15<00:34,  2.50s/it]\u001b[A\n",
      " 35%|█████████████████████████████                                                      | 7/20 [00:17<00:33,  2.56s/it]\u001b[A\n",
      " 40%|█████████████████████████████████▏                                                 | 8/20 [00:20<00:29,  2.48s/it]\u001b[A\n",
      " 45%|█████████████████████████████████████▎                                             | 9/20 [00:22<00:28,  2.56s/it]\u001b[A\n",
      " 50%|█████████████████████████████████████████                                         | 10/20 [00:25<00:26,  2.63s/it]\u001b[A\n",
      " 55%|█████████████████████████████████████████████                                     | 11/20 [00:27<00:22,  2.46s/it]\u001b[A\n",
      " 60%|█████████████████████████████████████████████████▏                                | 12/20 [00:30<00:20,  2.55s/it]\u001b[A\n",
      " 65%|█████████████████████████████████████████████████████▎                            | 13/20 [00:32<00:17,  2.53s/it]\u001b[A\n",
      " 70%|█████████████████████████████████████████████████████████▍                        | 14/20 [00:35<00:14,  2.43s/it]\u001b[A\n",
      " 75%|█████████████████████████████████████████████████████████████▌                    | 15/20 [00:37<00:11,  2.36s/it]\u001b[A\n",
      " 80%|█████████████████████████████████████████████████████████████████▌                | 16/20 [00:39<00:09,  2.33s/it]\u001b[A\n",
      " 85%|█████████████████████████████████████████████████████████████████████▋            | 17/20 [00:41<00:07,  2.35s/it]\u001b[A\n",
      " 90%|█████████████████████████████████████████████████████████████████████████▊        | 18/20 [00:44<00:04,  2.36s/it]\u001b[A\n",
      " 95%|█████████████████████████████████████████████████████████████████████████████▉    | 19/20 [00:46<00:02,  2.21s/it]\u001b[A\n",
      "100%|██████████████████████████████████████████████████████████████████████████████████| 20/20 [00:47<00:00,  2.40s/it]\u001b[A\n",
      " 23%|██████████████████▌                                                               | 21/93 [16:25<55:00, 45.84s/it]\n",
      "  0%|                                                                                           | 0/20 [00:00<?, ?it/s]\u001b[A\n",
      "  5%|████▏                                                                              | 1/20 [00:01<00:33,  1.78s/it]\u001b[A\n",
      " 10%|████████▎                                                                          | 2/20 [00:03<00:31,  1.74s/it]\u001b[A\n",
      " 15%|████████████▍                                                                      | 3/20 [00:05<00:29,  1.72s/it]\u001b[A\n",
      " 20%|████████████████▌                                                                  | 4/20 [00:06<00:27,  1.71s/it]\u001b[A\n",
      " 25%|████████████████████▊                                                              | 5/20 [00:08<00:25,  1.72s/it]\u001b[A\n",
      " 30%|████████████████████████▉                                                          | 6/20 [00:10<00:24,  1.72s/it]\u001b[A\n",
      " 35%|█████████████████████████████                                                      | 7/20 [00:12<00:22,  1.73s/it]\u001b[A\n",
      " 40%|█████████████████████████████████▏                                                 | 8/20 [00:13<00:20,  1.74s/it]\u001b[A\n",
      " 45%|█████████████████████████████████████▎                                             | 9/20 [00:16<00:20,  1.89s/it]\u001b[A\n",
      " 50%|█████████████████████████████████████████                                         | 10/20 [00:17<00:18,  1.89s/it]\u001b[A\n",
      " 55%|█████████████████████████████████████████████                                     | 11/20 [00:19<00:16,  1.84s/it]\u001b[A\n",
      " 60%|█████████████████████████████████████████████████▏                                | 12/20 [00:21<00:14,  1.79s/it]\u001b[A\n",
      " 65%|█████████████████████████████████████████████████████▎                            | 13/20 [00:23<00:12,  1.78s/it]\u001b[A\n",
      " 70%|█████████████████████████████████████████████████████████▍                        | 14/20 [00:24<00:10,  1.76s/it]\u001b[A\n",
      " 75%|█████████████████████████████████████████████████████████████▌                    | 15/20 [00:26<00:08,  1.75s/it]\u001b[A\n",
      " 80%|█████████████████████████████████████████████████████████████████▌                | 16/20 [00:28<00:06,  1.73s/it]\u001b[A\n",
      " 85%|█████████████████████████████████████████████████████████████████████▋            | 17/20 [00:30<00:05,  1.74s/it]\u001b[A\n",
      " 90%|█████████████████████████████████████████████████████████████████████████▊        | 18/20 [00:31<00:03,  1.74s/it]\u001b[A\n",
      " 95%|█████████████████████████████████████████████████████████████████████████████▉    | 19/20 [00:33<00:01,  1.74s/it]\u001b[A\n",
      "100%|██████████████████████████████████████████████████████████████████████████████████| 20/20 [00:35<00:00,  1.76s/it]\u001b[A\n",
      " 24%|███████████████████▍                                                              | 22/93 [17:01<50:28, 42.66s/it]\n",
      "  0%|                                                                                           | 0/20 [00:00<?, ?it/s]\u001b[A\n",
      "  5%|████▏                                                                              | 1/20 [00:01<00:34,  1.82s/it]\u001b[A\n",
      " 10%|████████▎                                                                          | 2/20 [00:03<00:31,  1.75s/it]\u001b[A\n",
      " 15%|████████████▍                                                                      | 3/20 [00:05<00:29,  1.74s/it]\u001b[A\n",
      " 20%|████████████████▌                                                                  | 4/20 [00:07<00:28,  1.78s/it]\u001b[A\n",
      " 25%|████████████████████▊                                                              | 5/20 [00:08<00:26,  1.75s/it]\u001b[A\n",
      " 30%|████████████████████████▉                                                          | 6/20 [00:10<00:24,  1.75s/it]\u001b[A\n",
      " 35%|█████████████████████████████                                                      | 7/20 [00:12<00:22,  1.74s/it]\u001b[A\n",
      " 40%|█████████████████████████████████▏                                                 | 8/20 [00:13<00:20,  1.72s/it]\u001b[A\n",
      " 45%|█████████████████████████████████████▎                                             | 9/20 [00:15<00:18,  1.72s/it]\u001b[A\n",
      " 50%|█████████████████████████████████████████                                         | 10/20 [00:17<00:17,  1.73s/it]\u001b[A\n",
      " 55%|█████████████████████████████████████████████                                     | 11/20 [00:19<00:15,  1.72s/it]\u001b[A\n",
      " 60%|█████████████████████████████████████████████████▏                                | 12/20 [00:20<00:13,  1.72s/it]\u001b[A\n",
      " 65%|█████████████████████████████████████████████████████▎                            | 13/20 [00:22<00:12,  1.72s/it]\u001b[A\n",
      " 70%|█████████████████████████████████████████████████████████▍                        | 14/20 [00:24<00:10,  1.74s/it]\u001b[A\n",
      " 75%|█████████████████████████████████████████████████████████████▌                    | 15/20 [00:26<00:08,  1.73s/it]\u001b[A\n",
      " 80%|█████████████████████████████████████████████████████████████████▌                | 16/20 [00:27<00:06,  1.74s/it]\u001b[A\n",
      " 85%|█████████████████████████████████████████████████████████████████████▋            | 17/20 [00:29<00:05,  1.77s/it]\u001b[A\n",
      " 90%|█████████████████████████████████████████████████████████████████████████▊        | 18/20 [00:31<00:03,  1.77s/it]\u001b[A\n",
      " 95%|█████████████████████████████████████████████████████████████████████████████▉    | 19/20 [00:33<00:01,  1.89s/it]\u001b[A\n",
      "100%|██████████████████████████████████████████████████████████████████████████████████| 20/20 [00:35<00:00,  1.77s/it]\u001b[A\n",
      " 25%|████████████████████▎                                                             | 23/93 [17:36<47:15, 40.51s/it]\n",
      "  0%|                                                                                           | 0/20 [00:00<?, ?it/s]\u001b[A\n",
      "  5%|████▏                                                                              | 1/20 [00:01<00:34,  1.84s/it]\u001b[A\n",
      " 10%|████████▎                                                                          | 2/20 [00:04<00:38,  2.14s/it]\u001b[A\n",
      " 15%|████████████▍                                                                      | 3/20 [00:07<00:42,  2.48s/it]\u001b[A\n",
      " 20%|████████████████▌                                                                  | 4/20 [00:09<00:40,  2.51s/it]\u001b[A\n",
      " 25%|████████████████████▊                                                              | 5/20 [00:11<00:35,  2.35s/it]\u001b[A\n",
      " 30%|████████████████████████▉                                                          | 6/20 [00:13<00:30,  2.15s/it]\u001b[A\n",
      " 35%|█████████████████████████████                                                      | 7/20 [00:15<00:26,  2.06s/it]\u001b[A\n",
      " 40%|█████████████████████████████████▏                                                 | 8/20 [00:17<00:26,  2.24s/it]\u001b[A\n",
      " 45%|█████████████████████████████████████▎                                             | 9/20 [00:20<00:23,  2.18s/it]\u001b[A\n",
      " 50%|█████████████████████████████████████████                                         | 10/20 [00:22<00:23,  2.39s/it]\u001b[A\n",
      " 55%|█████████████████████████████████████████████                                     | 11/20 [00:25<00:22,  2.52s/it]\u001b[A\n",
      " 60%|█████████████████████████████████████████████████▏                                | 12/20 [00:28<00:20,  2.54s/it]\u001b[A\n",
      " 65%|█████████████████████████████████████████████████████▎                            | 13/20 [00:30<00:17,  2.54s/it]\u001b[A\n",
      " 70%|█████████████████████████████████████████████████████████▍                        | 14/20 [00:33<00:15,  2.56s/it]\u001b[A\n",
      " 75%|█████████████████████████████████████████████████████████████▌                    | 15/20 [00:36<00:13,  2.63s/it]\u001b[A\n",
      " 80%|█████████████████████████████████████████████████████████████████▌                | 16/20 [00:39<00:10,  2.69s/it]\u001b[A\n",
      " 85%|█████████████████████████████████████████████████████████████████████▋            | 17/20 [00:41<00:07,  2.66s/it]\u001b[A\n",
      " 90%|█████████████████████████████████████████████████████████████████████████▊        | 18/20 [00:43<00:04,  2.41s/it]\u001b[A\n",
      " 95%|█████████████████████████████████████████████████████████████████████████████▉    | 19/20 [00:45<00:02,  2.23s/it]\u001b[A\n",
      "100%|██████████████████████████████████████████████████████████████████████████████████| 20/20 [00:47<00:00,  2.35s/it]\u001b[A\n",
      " 26%|█████████████████████▏                                                            | 24/93 [18:23<48:49, 42.46s/it]\n",
      "  0%|                                                                                           | 0/20 [00:00<?, ?it/s]\u001b[A\n",
      "  5%|████▏                                                                              | 1/20 [00:01<00:34,  1.80s/it]\u001b[A\n",
      " 10%|████████▎                                                                          | 2/20 [00:03<00:31,  1.73s/it]\u001b[A\n",
      " 15%|████████████▍                                                                      | 3/20 [00:05<00:28,  1.69s/it]\u001b[A\n",
      " 20%|████████████████▌                                                                  | 4/20 [00:06<00:27,  1.70s/it]\u001b[A\n",
      " 25%|████████████████████▊                                                              | 5/20 [00:09<00:30,  2.06s/it]\u001b[A\n",
      " 30%|████████████████████████▉                                                          | 6/20 [00:12<00:32,  2.33s/it]\u001b[A\n",
      " 35%|█████████████████████████████                                                      | 7/20 [00:14<00:27,  2.12s/it]\u001b[A\n",
      " 40%|█████████████████████████████████▏                                                 | 8/20 [00:16<00:24,  2.06s/it]\u001b[A\n",
      " 45%|█████████████████████████████████████▎                                             | 9/20 [00:18<00:23,  2.11s/it]\u001b[A\n",
      " 50%|█████████████████████████████████████████                                         | 10/20 [00:20<00:21,  2.15s/it]\u001b[A\n",
      " 55%|█████████████████████████████████████████████                                     | 11/20 [00:22<00:19,  2.17s/it]\u001b[A\n",
      " 60%|█████████████████████████████████████████████████▏                                | 12/20 [00:24<00:16,  2.12s/it]\u001b[A\n",
      " 65%|█████████████████████████████████████████████████████▎                            | 13/20 [00:26<00:14,  2.09s/it]\u001b[A\n",
      " 70%|█████████████████████████████████████████████████████████▍                        | 14/20 [00:28<00:12,  2.14s/it]\u001b[A\n",
      " 75%|█████████████████████████████████████████████████████████████▌                    | 15/20 [00:31<00:11,  2.30s/it]\u001b[A\n",
      " 80%|█████████████████████████████████████████████████████████████████▌                | 16/20 [00:34<00:09,  2.32s/it]\u001b[A\n",
      " 85%|█████████████████████████████████████████████████████████████████████▋            | 17/20 [00:36<00:06,  2.28s/it]\u001b[A\n",
      " 90%|█████████████████████████████████████████████████████████████████████████▊        | 18/20 [00:39<00:04,  2.47s/it]\u001b[A\n",
      " 95%|█████████████████████████████████████████████████████████████████████████████▉    | 19/20 [00:41<00:02,  2.52s/it]\u001b[A\n",
      "100%|██████████████████████████████████████████████████████████████████████████████████| 20/20 [00:44<00:00,  2.22s/it]\u001b[A\n",
      " 27%|██████████████████████                                                            | 25/93 [19:07<48:46, 43.03s/it]\n",
      "  0%|                                                                                           | 0/20 [00:00<?, ?it/s]\u001b[A\n",
      "  5%|████▏                                                                              | 1/20 [00:02<00:48,  2.54s/it]\u001b[A\n",
      " 10%|████████▎                                                                          | 2/20 [00:04<00:38,  2.16s/it]\u001b[A\n",
      " 15%|████████████▍                                                                      | 3/20 [00:06<00:34,  2.00s/it]\u001b[A\n",
      " 20%|████████████████▌                                                                  | 4/20 [00:08<00:30,  1.93s/it]\u001b[A\n",
      " 25%|████████████████████▊                                                              | 5/20 [00:09<00:27,  1.86s/it]\u001b[A\n",
      " 30%|████████████████████████▉                                                          | 6/20 [00:11<00:25,  1.81s/it]\u001b[A\n",
      " 35%|█████████████████████████████                                                      | 7/20 [00:13<00:23,  1.78s/it]\u001b[A\n",
      " 40%|█████████████████████████████████▏                                                 | 8/20 [00:15<00:21,  1.78s/it]\u001b[A\n",
      " 45%|█████████████████████████████████████▎                                             | 9/20 [00:17<00:21,  1.95s/it]\u001b[A\n",
      " 50%|█████████████████████████████████████████                                         | 10/20 [00:19<00:19,  1.90s/it]\u001b[A\n",
      " 55%|█████████████████████████████████████████████                                     | 11/20 [00:21<00:19,  2.14s/it]\u001b[A\n",
      " 60%|█████████████████████████████████████████████████▏                                | 12/20 [00:24<00:18,  2.31s/it]\u001b[A\n",
      " 65%|█████████████████████████████████████████████████████▎                            | 13/20 [00:26<00:15,  2.16s/it]\u001b[A\n",
      " 70%|█████████████████████████████████████████████████████████▍                        | 14/20 [00:29<00:14,  2.37s/it]\u001b[A\n",
      " 75%|█████████████████████████████████████████████████████████████▌                    | 15/20 [00:31<00:12,  2.45s/it]\u001b[A\n",
      " 80%|█████████████████████████████████████████████████████████████████▌                | 16/20 [00:33<00:09,  2.28s/it]\u001b[A\n",
      " 85%|█████████████████████████████████████████████████████████████████████▋            | 17/20 [00:35<00:06,  2.18s/it]\u001b[A\n",
      " 90%|█████████████████████████████████████████████████████████████████████████▊        | 18/20 [00:38<00:04,  2.26s/it]\u001b[A\n",
      " 95%|█████████████████████████████████████████████████████████████████████████████▉    | 19/20 [00:40<00:02,  2.31s/it]\u001b[A\n",
      "100%|██████████████████████████████████████████████████████████████████████████████████| 20/20 [00:43<00:00,  2.15s/it]\u001b[A\n",
      " 28%|██████████████████████▉                                                           | 26/93 [19:51<48:04, 43.05s/it]\n",
      "  0%|                                                                                           | 0/20 [00:00<?, ?it/s]\u001b[A\n",
      "  5%|████▏                                                                              | 1/20 [00:02<00:49,  2.61s/it]\u001b[A\n",
      " 10%|████████▎                                                                          | 2/20 [00:05<00:49,  2.74s/it]\u001b[A\n",
      " 15%|████████████▍                                                                      | 3/20 [00:08<00:48,  2.83s/it]\u001b[A\n",
      " 20%|████████████████▌                                                                  | 4/20 [00:10<00:43,  2.70s/it]\u001b[A\n",
      " 25%|████████████████████▊                                                              | 5/20 [00:12<00:36,  2.41s/it]\u001b[A\n",
      " 30%|████████████████████████▉                                                          | 6/20 [00:14<00:30,  2.19s/it]\u001b[A\n",
      " 35%|█████████████████████████████                                                      | 7/20 [00:16<00:26,  2.07s/it]\u001b[A\n",
      " 40%|█████████████████████████████████▏                                                 | 8/20 [00:18<00:23,  1.95s/it]\u001b[A\n",
      " 45%|█████████████████████████████████████▎                                             | 9/20 [00:19<00:20,  1.88s/it]\u001b[A\n",
      " 50%|█████████████████████████████████████████                                         | 10/20 [00:21<00:18,  1.82s/it]\u001b[A\n",
      " 55%|█████████████████████████████████████████████                                     | 11/20 [00:23<00:16,  1.81s/it]\u001b[A\n",
      " 60%|█████████████████████████████████████████████████▏                                | 12/20 [00:25<00:16,  2.05s/it]\u001b[A\n",
      " 65%|█████████████████████████████████████████████████████▎                            | 13/20 [00:27<00:13,  1.96s/it]\u001b[A\n",
      " 70%|█████████████████████████████████████████████████████████▍                        | 14/20 [00:29<00:12,  2.07s/it]\u001b[A\n",
      " 75%|█████████████████████████████████████████████████████████████▌                    | 15/20 [00:32<00:11,  2.29s/it]\u001b[A\n",
      " 80%|█████████████████████████████████████████████████████████████████▌                | 16/20 [00:34<00:08,  2.23s/it]\u001b[A\n",
      " 85%|█████████████████████████████████████████████████████████████████████▋            | 17/20 [00:37<00:07,  2.39s/it]\u001b[A\n",
      " 90%|█████████████████████████████████████████████████████████████████████████▊        | 18/20 [00:40<00:04,  2.41s/it]\u001b[A\n",
      " 95%|█████████████████████████████████████████████████████████████████████████████▉    | 19/20 [00:42<00:02,  2.40s/it]\u001b[A\n",
      "100%|██████████████████████████████████████████████████████████████████████████████████| 20/20 [00:45<00:00,  2.25s/it]\u001b[A\n",
      " 29%|███████████████████████▊                                                          | 27/93 [20:36<48:00, 43.64s/it]\n",
      "  0%|                                                                                           | 0/20 [00:00<?, ?it/s]\u001b[A\n",
      "  5%|████▏                                                                              | 1/20 [00:02<00:43,  2.30s/it]\u001b[A\n",
      " 10%|████████▎                                                                          | 2/20 [00:04<00:43,  2.39s/it]\u001b[A\n",
      " 15%|████████████▍                                                                      | 3/20 [00:07<00:42,  2.53s/it]\u001b[A\n",
      " 20%|████████████████▌                                                                  | 4/20 [00:09<00:39,  2.48s/it]\u001b[A\n",
      " 25%|████████████████████▊                                                              | 5/20 [00:12<00:37,  2.48s/it]\u001b[A\n",
      " 30%|████████████████████████▉                                                          | 6/20 [00:14<00:31,  2.27s/it]\u001b[A\n",
      " 35%|█████████████████████████████                                                      | 7/20 [00:17<00:32,  2.47s/it]\u001b[A\n",
      " 40%|█████████████████████████████████▏                                                 | 8/20 [00:19<00:27,  2.33s/it]\u001b[A\n",
      " 45%|█████████████████████████████████████▎                                             | 9/20 [00:20<00:23,  2.18s/it]\u001b[A\n",
      " 50%|█████████████████████████████████████████                                         | 10/20 [00:22<00:20,  2.07s/it]\u001b[A\n",
      " 55%|█████████████████████████████████████████████                                     | 11/20 [00:24<00:17,  1.98s/it]\u001b[A\n",
      " 60%|█████████████████████████████████████████████████▏                                | 12/20 [00:26<00:15,  1.91s/it]\u001b[A\n",
      " 65%|█████████████████████████████████████████████████████▎                            | 13/20 [00:28<00:12,  1.85s/it]\u001b[A\n",
      " 70%|█████████████████████████████████████████████████████████▍                        | 14/20 [00:29<00:10,  1.83s/it]\u001b[A\n",
      " 75%|█████████████████████████████████████████████████████████████▌                    | 15/20 [00:32<00:10,  2.01s/it]\u001b[A\n",
      " 80%|█████████████████████████████████████████████████████████████████▌                | 16/20 [00:34<00:08,  2.12s/it]\u001b[A\n",
      " 85%|█████████████████████████████████████████████████████████████████████▋            | 17/20 [00:37<00:06,  2.30s/it]\u001b[A\n",
      " 90%|█████████████████████████████████████████████████████████████████████████▊        | 18/20 [00:39<00:04,  2.28s/it]\u001b[A\n",
      " 95%|█████████████████████████████████████████████████████████████████████████████▉    | 19/20 [00:41<00:02,  2.20s/it]\u001b[A\n",
      "100%|██████████████████████████████████████████████████████████████████████████████████| 20/20 [00:44<00:00,  2.20s/it]\u001b[A\n",
      " 30%|████████████████████████▋                                                         | 28/93 [21:20<47:24, 43.76s/it]\n",
      "  0%|                                                                                           | 0/20 [00:00<?, ?it/s]\u001b[A\n",
      "  5%|████▏                                                                              | 1/20 [00:02<00:38,  2.03s/it]\u001b[A\n",
      " 10%|████████▎                                                                          | 2/20 [00:04<00:40,  2.23s/it]\u001b[A\n",
      " 15%|████████████▍                                                                      | 3/20 [00:07<00:42,  2.49s/it]\u001b[A\n",
      " 20%|████████████████▌                                                                  | 4/20 [00:09<00:38,  2.43s/it]\u001b[A\n",
      " 25%|████████████████████▊                                                              | 5/20 [00:12<00:37,  2.52s/it]\u001b[A\n",
      " 30%|████████████████████████▉                                                          | 6/20 [00:14<00:33,  2.41s/it]\u001b[A\n",
      " 35%|█████████████████████████████                                                      | 7/20 [00:16<00:29,  2.31s/it]\u001b[A\n",
      " 40%|█████████████████████████████████▏                                                 | 8/20 [00:19<00:29,  2.42s/it]\u001b[A\n",
      " 45%|█████████████████████████████████████▎                                             | 9/20 [00:21<00:26,  2.38s/it]\u001b[A\n",
      " 50%|█████████████████████████████████████████                                         | 10/20 [00:24<00:25,  2.51s/it]\u001b[A\n",
      " 55%|█████████████████████████████████████████████                                     | 11/20 [00:26<00:22,  2.51s/it]\u001b[A\n",
      " 60%|█████████████████████████████████████████████████▏                                | 12/20 [00:28<00:18,  2.33s/it]\u001b[A\n",
      " 65%|█████████████████████████████████████████████████████▎                            | 13/20 [00:30<00:15,  2.15s/it]\u001b[A\n",
      " 70%|█████████████████████████████████████████████████████████▍                        | 14/20 [00:32<00:12,  2.03s/it]\u001b[A\n",
      " 75%|█████████████████████████████████████████████████████████████▌                    | 15/20 [00:33<00:09,  1.94s/it]\u001b[A\n",
      " 80%|█████████████████████████████████████████████████████████████████▌                | 16/20 [00:35<00:07,  1.89s/it]\u001b[A\n",
      " 85%|█████████████████████████████████████████████████████████████████████▋            | 17/20 [00:37<00:05,  1.85s/it]\u001b[A\n",
      " 90%|█████████████████████████████████████████████████████████████████████████▊        | 18/20 [00:39<00:03,  1.92s/it]\u001b[A\n",
      " 95%|█████████████████████████████████████████████████████████████████████████████▉    | 19/20 [00:42<00:02,  2.20s/it]\u001b[A\n",
      "100%|██████████████████████████████████████████████████████████████████████████████████| 20/20 [00:44<00:00,  2.25s/it]\u001b[A\n",
      " 31%|█████████████████████████▌                                                        | 29/93 [22:05<47:04, 44.13s/it]\n",
      "  0%|                                                                                           | 0/20 [00:00<?, ?it/s]\u001b[A\n",
      "  5%|████▏                                                                              | 1/20 [00:02<00:47,  2.51s/it]\u001b[A\n",
      " 10%|████████▎                                                                          | 2/20 [00:04<00:42,  2.36s/it]\u001b[A\n",
      " 15%|████████████▍                                                                      | 3/20 [00:06<00:37,  2.22s/it]\u001b[A\n",
      " 20%|████████████████▌                                                                  | 4/20 [00:08<00:33,  2.07s/it]\u001b[A\n",
      " 25%|████████████████████▊                                                              | 5/20 [00:11<00:34,  2.33s/it]\u001b[A\n",
      " 30%|████████████████████████▉                                                          | 6/20 [00:14<00:34,  2.44s/it]\u001b[A\n",
      " 35%|█████████████████████████████                                                      | 7/20 [00:16<00:33,  2.58s/it]\u001b[A\n",
      " 40%|█████████████████████████████████▏                                                 | 8/20 [00:19<00:30,  2.58s/it]\u001b[A\n",
      " 45%|█████████████████████████████████████▎                                             | 9/20 [00:22<00:28,  2.62s/it]\u001b[A\n",
      " 50%|█████████████████████████████████████████                                         | 10/20 [00:25<00:26,  2.69s/it]\u001b[A\n",
      " 55%|█████████████████████████████████████████████                                     | 11/20 [00:27<00:22,  2.55s/it]\u001b[A\n",
      " 60%|█████████████████████████████████████████████████▏                                | 12/20 [00:29<00:19,  2.45s/it]\u001b[A\n",
      " 65%|█████████████████████████████████████████████████████▎                            | 13/20 [00:31<00:16,  2.33s/it]\u001b[A\n",
      " 70%|█████████████████████████████████████████████████████████▍                        | 14/20 [00:34<00:14,  2.43s/it]\u001b[A\n",
      " 75%|█████████████████████████████████████████████████████████████▌                    | 15/20 [00:36<00:11,  2.30s/it]\u001b[A\n",
      " 80%|█████████████████████████████████████████████████████████████████▌                | 16/20 [00:38<00:08,  2.13s/it]\u001b[A\n",
      " 85%|█████████████████████████████████████████████████████████████████████▋            | 17/20 [00:39<00:06,  2.04s/it]\u001b[A\n",
      " 90%|█████████████████████████████████████████████████████████████████████████▊        | 18/20 [00:41<00:03,  1.93s/it]\u001b[A\n",
      " 95%|█████████████████████████████████████████████████████████████████████████████▉    | 19/20 [00:43<00:01,  1.86s/it]\u001b[A\n",
      "100%|██████████████████████████████████████████████████████████████████████████████████| 20/20 [00:44<00:00,  2.25s/it]\u001b[A\n",
      " 32%|██████████████████████████▍                                                       | 30/93 [22:50<46:35, 44.37s/it]\n",
      "  0%|                                                                                           | 0/20 [00:00<?, ?it/s]\u001b[A\n",
      "  5%|████▏                                                                              | 1/20 [00:02<00:38,  2.05s/it]\u001b[A\n",
      " 10%|████████▎                                                                          | 2/20 [00:04<00:41,  2.31s/it]\u001b[A\n",
      " 15%|████████████▍                                                                      | 3/20 [00:06<00:35,  2.10s/it]\u001b[A\n",
      " 20%|████████████████▌                                                                  | 4/20 [00:08<00:36,  2.29s/it]\u001b[A\n",
      " 25%|████████████████████▊                                                              | 5/20 [00:11<00:32,  2.20s/it]\u001b[A\n",
      " 30%|████████████████████████▉                                                          | 6/20 [00:12<00:28,  2.05s/it]\u001b[A\n",
      " 35%|█████████████████████████████                                                      | 7/20 [00:15<00:27,  2.15s/it]\u001b[A\n",
      " 40%|█████████████████████████████████▏                                                 | 8/20 [00:17<00:27,  2.25s/it]\u001b[A\n",
      " 45%|█████████████████████████████████████▎                                             | 9/20 [00:19<00:23,  2.18s/it]\u001b[A\n",
      " 50%|█████████████████████████████████████████                                         | 10/20 [00:21<00:21,  2.12s/it]\u001b[A\n",
      " 55%|█████████████████████████████████████████████                                     | 11/20 [00:24<00:20,  2.25s/it]\u001b[A\n",
      " 60%|█████████████████████████████████████████████████▏                                | 12/20 [00:26<00:18,  2.27s/it]\u001b[A\n",
      " 65%|█████████████████████████████████████████████████████▎                            | 13/20 [00:29<00:17,  2.44s/it]\u001b[A\n",
      " 70%|█████████████████████████████████████████████████████████▍                        | 14/20 [00:31<00:13,  2.23s/it]\u001b[A\n",
      " 75%|█████████████████████████████████████████████████████████████▌                    | 15/20 [00:33<00:12,  2.41s/it]\u001b[A\n",
      " 80%|█████████████████████████████████████████████████████████████████▌                | 16/20 [00:36<00:09,  2.40s/it]\u001b[A\n",
      " 85%|█████████████████████████████████████████████████████████████████████▋            | 17/20 [00:38<00:07,  2.46s/it]\u001b[A\n",
      " 90%|█████████████████████████████████████████████████████████████████████████▊        | 18/20 [00:41<00:04,  2.48s/it]\u001b[A\n",
      " 95%|█████████████████████████████████████████████████████████████████████████████▉    | 19/20 [00:43<00:02,  2.40s/it]\u001b[A\n",
      "100%|██████████████████████████████████████████████████████████████████████████████████| 20/20 [00:45<00:00,  2.26s/it]\u001b[A\n",
      " 33%|███████████████████████████▎                                                      | 31/93 [23:35<46:08, 44.65s/it]\n",
      "  0%|                                                                                           | 0/20 [00:00<?, ?it/s]\u001b[A\n",
      "  5%|████▏                                                                              | 1/20 [00:01<00:34,  1.82s/it]\u001b[A\n",
      " 10%|████████▎                                                                          | 2/20 [00:03<00:31,  1.76s/it]\u001b[A\n",
      " 15%|████████████▍                                                                      | 3/20 [00:05<00:29,  1.73s/it]\u001b[A\n",
      " 20%|████████████████▌                                                                  | 4/20 [00:07<00:28,  1.75s/it]\u001b[A\n",
      " 25%|████████████████████▊                                                              | 5/20 [00:08<00:26,  1.77s/it]\u001b[A\n",
      " 30%|████████████████████████▉                                                          | 6/20 [00:10<00:25,  1.84s/it]\u001b[A\n",
      " 35%|█████████████████████████████                                                      | 7/20 [00:12<00:23,  1.81s/it]\u001b[A\n",
      " 40%|█████████████████████████████████▏                                                 | 8/20 [00:14<00:21,  1.78s/it]\u001b[A\n",
      " 45%|█████████████████████████████████████▎                                             | 9/20 [00:15<00:19,  1.74s/it]\u001b[A\n",
      " 50%|█████████████████████████████████████████                                         | 10/20 [00:17<00:17,  1.74s/it]\u001b[A\n",
      " 55%|█████████████████████████████████████████████                                     | 11/20 [00:19<00:15,  1.73s/it]\u001b[A\n",
      " 60%|█████████████████████████████████████████████████▏                                | 12/20 [00:21<00:13,  1.74s/it]\u001b[A\n",
      " 65%|█████████████████████████████████████████████████████▎                            | 13/20 [00:22<00:12,  1.74s/it]\u001b[A\n",
      " 70%|█████████████████████████████████████████████████████████▍                        | 14/20 [00:24<00:10,  1.73s/it]\u001b[A\n",
      " 75%|█████████████████████████████████████████████████████████████▌                    | 15/20 [00:26<00:08,  1.72s/it]\u001b[A\n",
      " 80%|█████████████████████████████████████████████████████████████████▌                | 16/20 [00:27<00:06,  1.71s/it]\u001b[A\n",
      " 85%|█████████████████████████████████████████████████████████████████████▋            | 17/20 [00:29<00:05,  1.75s/it]\u001b[A\n",
      " 90%|█████████████████████████████████████████████████████████████████████████▊        | 18/20 [00:31<00:03,  1.75s/it]\u001b[A\n",
      " 95%|█████████████████████████████████████████████████████████████████████████████▉    | 19/20 [00:33<00:01,  1.75s/it]\u001b[A\n",
      "100%|██████████████████████████████████████████████████████████████████████████████████| 20/20 [00:35<00:00,  1.75s/it]\u001b[A\n",
      " 34%|████████████████████████████▏                                                     | 32/93 [24:10<42:27, 41.76s/it]\n",
      "  0%|                                                                                           | 0/20 [00:00<?, ?it/s]\u001b[A\n",
      "  5%|████▏                                                                              | 1/20 [00:01<00:35,  1.87s/it]\u001b[A\n",
      " 10%|████████▎                                                                          | 2/20 [00:03<00:31,  1.76s/it]\u001b[A\n",
      " 15%|████████████▍                                                                      | 3/20 [00:05<00:29,  1.73s/it]\u001b[A\n",
      " 20%|████████████████▌                                                                  | 4/20 [00:06<00:27,  1.74s/it]\u001b[A\n",
      " 25%|████████████████████▊                                                              | 5/20 [00:08<00:25,  1.72s/it]\u001b[A\n",
      " 30%|████████████████████████▉                                                          | 6/20 [00:10<00:24,  1.73s/it]\u001b[A\n",
      " 35%|█████████████████████████████                                                      | 7/20 [00:12<00:22,  1.71s/it]\u001b[A\n",
      " 40%|█████████████████████████████████▏                                                 | 8/20 [00:14<00:21,  1.77s/it]\u001b[A\n",
      " 45%|█████████████████████████████████████▎                                             | 9/20 [00:15<00:19,  1.77s/it]\u001b[A\n",
      " 50%|█████████████████████████████████████████                                         | 10/20 [00:17<00:17,  1.76s/it]\u001b[A\n",
      " 55%|█████████████████████████████████████████████                                     | 11/20 [00:19<00:15,  1.75s/it]\u001b[A\n",
      " 60%|█████████████████████████████████████████████████▏                                | 12/20 [00:20<00:13,  1.74s/it]\u001b[A\n",
      " 65%|█████████████████████████████████████████████████████▎                            | 13/20 [00:22<00:12,  1.73s/it]\u001b[A\n",
      " 70%|█████████████████████████████████████████████████████████▍                        | 14/20 [00:24<00:10,  1.73s/it]\u001b[A\n",
      " 75%|█████████████████████████████████████████████████████████████▌                    | 15/20 [00:26<00:08,  1.71s/it]\u001b[A\n",
      " 80%|█████████████████████████████████████████████████████████████████▌                | 16/20 [00:27<00:06,  1.71s/it]\u001b[A\n",
      " 85%|█████████████████████████████████████████████████████████████████████▋            | 17/20 [00:29<00:05,  1.72s/it]\u001b[A\n",
      " 90%|█████████████████████████████████████████████████████████████████████████▊        | 18/20 [00:31<00:03,  1.73s/it]\u001b[A\n",
      " 95%|█████████████████████████████████████████████████████████████████████████████▉    | 19/20 [00:33<00:01,  1.74s/it]\u001b[A\n",
      "100%|██████████████████████████████████████████████████████████████████████████████████| 20/20 [00:34<00:00,  1.74s/it]\u001b[A\n",
      " 35%|█████████████████████████████                                                     | 33/93 [24:45<39:41, 39.68s/it]\n",
      "  0%|                                                                                           | 0/20 [00:00<?, ?it/s]\u001b[A\n",
      "  5%|████▏                                                                              | 1/20 [00:01<00:32,  1.73s/it]\u001b[A\n",
      " 10%|████████▎                                                                          | 2/20 [00:03<00:30,  1.71s/it]\u001b[A\n",
      " 15%|████████████▍                                                                      | 3/20 [00:05<00:29,  1.75s/it]\u001b[A\n",
      " 20%|████████████████▌                                                                  | 4/20 [00:06<00:27,  1.72s/it]\u001b[A\n",
      " 25%|████████████████████▊                                                              | 5/20 [00:08<00:25,  1.71s/it]\u001b[A\n",
      " 30%|████████████████████████▉                                                          | 6/20 [00:10<00:23,  1.68s/it]\u001b[A\n",
      " 35%|█████████████████████████████                                                      | 7/20 [00:11<00:21,  1.68s/it]\u001b[A\n",
      " 40%|█████████████████████████████████▏                                                 | 8/20 [00:13<00:20,  1.69s/it]\u001b[A\n",
      " 45%|█████████████████████████████████████▎                                             | 9/20 [00:15<00:18,  1.70s/it]\u001b[A\n",
      " 50%|█████████████████████████████████████████                                         | 10/20 [00:17<00:17,  1.76s/it]\u001b[A\n",
      " 55%|█████████████████████████████████████████████                                     | 11/20 [00:18<00:15,  1.76s/it]\u001b[A\n",
      " 60%|█████████████████████████████████████████████████▏                                | 12/20 [00:20<00:14,  1.77s/it]\u001b[A\n",
      " 65%|█████████████████████████████████████████████████████▎                            | 13/20 [00:22<00:12,  1.75s/it]\u001b[A\n",
      " 70%|█████████████████████████████████████████████████████████▍                        | 14/20 [00:24<00:10,  1.74s/it]\u001b[A\n",
      " 75%|█████████████████████████████████████████████████████████████▌                    | 15/20 [00:25<00:08,  1.73s/it]\u001b[A\n",
      " 80%|█████████████████████████████████████████████████████████████████▌                | 16/20 [00:27<00:06,  1.73s/it]\u001b[A\n",
      " 85%|█████████████████████████████████████████████████████████████████████▋            | 17/20 [00:29<00:05,  1.71s/it]\u001b[A\n",
      " 90%|█████████████████████████████████████████████████████████████████████████▊        | 18/20 [00:30<00:03,  1.69s/it]\u001b[A\n",
      " 95%|█████████████████████████████████████████████████████████████████████████████▉    | 19/20 [00:32<00:01,  1.70s/it]\u001b[A\n",
      "100%|██████████████████████████████████████████████████████████████████████████████████| 20/20 [00:34<00:00,  1.72s/it]\u001b[A\n",
      " 37%|█████████████████████████████▉                                                    | 34/93 [25:19<37:27, 38.10s/it]\n",
      "  0%|                                                                                           | 0/20 [00:00<?, ?it/s]\u001b[A\n",
      "  5%|████▏                                                                              | 1/20 [00:01<00:35,  1.89s/it]\u001b[A\n",
      " 10%|████████▎                                                                          | 2/20 [00:03<00:32,  1.83s/it]\u001b[A\n",
      " 15%|████████████▍                                                                      | 3/20 [00:05<00:30,  1.78s/it]\u001b[A\n",
      " 20%|████████████████▌                                                                  | 4/20 [00:07<00:27,  1.73s/it]\u001b[A\n",
      " 25%|████████████████████▊                                                              | 5/20 [00:08<00:25,  1.72s/it]\u001b[A\n",
      " 30%|████████████████████████▉                                                          | 6/20 [00:10<00:24,  1.72s/it]\u001b[A\n",
      " 35%|█████████████████████████████                                                      | 7/20 [00:12<00:22,  1.71s/it]\u001b[A\n",
      " 40%|█████████████████████████████████▏                                                 | 8/20 [00:13<00:20,  1.70s/it]\u001b[A\n",
      " 45%|█████████████████████████████████████▎                                             | 9/20 [00:15<00:18,  1.70s/it]\u001b[A\n",
      " 50%|█████████████████████████████████████████                                         | 10/20 [00:17<00:17,  1.70s/it]\u001b[A\n",
      " 55%|█████████████████████████████████████████████                                     | 11/20 [00:18<00:15,  1.71s/it]\u001b[A\n",
      " 60%|█████████████████████████████████████████████████▏                                | 12/20 [00:20<00:13,  1.72s/it]\u001b[A\n",
      " 65%|█████████████████████████████████████████████████████▎                            | 13/20 [00:22<00:12,  1.72s/it]\u001b[A\n",
      " 70%|█████████████████████████████████████████████████████████▍                        | 14/20 [00:24<00:10,  1.74s/it]\u001b[A\n",
      " 75%|█████████████████████████████████████████████████████████████▌                    | 15/20 [00:25<00:08,  1.73s/it]\u001b[A\n",
      " 80%|█████████████████████████████████████████████████████████████████▌                | 16/20 [00:27<00:06,  1.73s/it]\u001b[A\n",
      " 85%|█████████████████████████████████████████████████████████████████████▋            | 17/20 [00:29<00:05,  1.74s/it]\u001b[A\n",
      " 90%|█████████████████████████████████████████████████████████████████████████▊        | 18/20 [00:31<00:03,  1.72s/it]\u001b[A\n",
      " 95%|█████████████████████████████████████████████████████████████████████████████▉    | 19/20 [00:32<00:01,  1.71s/it]\u001b[A\n",
      "100%|██████████████████████████████████████████████████████████████████████████████████| 20/20 [00:34<00:00,  1.73s/it]\u001b[A\n",
      " 38%|██████████████████████████████▊                                                   | 35/93 [25:54<35:48, 37.04s/it]\n",
      "  0%|                                                                                           | 0/20 [00:00<?, ?it/s]\u001b[A\n",
      "  5%|████▏                                                                              | 1/20 [00:01<00:34,  1.82s/it]\u001b[A\n",
      " 10%|████████▎                                                                          | 2/20 [00:03<00:31,  1.73s/it]\u001b[A\n",
      " 15%|████████████▍                                                                      | 3/20 [00:05<00:28,  1.70s/it]\u001b[A\n",
      " 20%|████████████████▌                                                                  | 4/20 [00:06<00:27,  1.70s/it]\u001b[A\n",
      " 25%|████████████████████▊                                                              | 5/20 [00:08<00:26,  1.74s/it]\u001b[A\n",
      " 30%|████████████████████████▉                                                          | 6/20 [00:10<00:24,  1.73s/it]\u001b[A\n",
      " 35%|█████████████████████████████                                                      | 7/20 [00:12<00:22,  1.75s/it]\u001b[A\n",
      " 40%|█████████████████████████████████▏                                                 | 8/20 [00:13<00:20,  1.74s/it]\u001b[A\n",
      " 45%|█████████████████████████████████████▎                                             | 9/20 [00:15<00:19,  1.74s/it]\u001b[A\n",
      " 50%|█████████████████████████████████████████                                         | 10/20 [00:17<00:17,  1.74s/it]\u001b[A\n",
      " 55%|█████████████████████████████████████████████                                     | 11/20 [00:19<00:15,  1.72s/it]\u001b[A\n",
      " 60%|█████████████████████████████████████████████████▏                                | 12/20 [00:20<00:13,  1.71s/it]\u001b[A\n",
      " 65%|█████████████████████████████████████████████████████▎                            | 13/20 [00:22<00:11,  1.71s/it]\u001b[A\n",
      " 70%|█████████████████████████████████████████████████████████▍                        | 14/20 [00:24<00:10,  1.71s/it]\u001b[A\n",
      " 75%|█████████████████████████████████████████████████████████████▌                    | 15/20 [00:25<00:08,  1.72s/it]\u001b[A\n",
      " 80%|█████████████████████████████████████████████████████████████████▌                | 16/20 [00:27<00:06,  1.70s/it]\u001b[A\n",
      " 85%|█████████████████████████████████████████████████████████████████████▋            | 17/20 [00:29<00:05,  1.76s/it]\u001b[A\n",
      " 90%|█████████████████████████████████████████████████████████████████████████▊        | 18/20 [00:31<00:03,  1.75s/it]\u001b[A\n",
      " 95%|█████████████████████████████████████████████████████████████████████████████▉    | 19/20 [00:32<00:01,  1.76s/it]\u001b[A\n",
      "100%|██████████████████████████████████████████████████████████████████████████████████| 20/20 [00:34<00:00,  1.74s/it]\u001b[A\n",
      " 39%|███████████████████████████████▋                                                  | 36/93 [26:28<34:32, 36.36s/it]\n",
      "  0%|                                                                                           | 0/20 [00:00<?, ?it/s]\u001b[A\n",
      "  5%|████▏                                                                              | 1/20 [00:01<00:33,  1.77s/it]\u001b[A\n",
      " 10%|████████▎                                                                          | 2/20 [00:03<00:31,  1.74s/it]\u001b[A\n",
      " 15%|████████████▍                                                                      | 3/20 [00:05<00:29,  1.73s/it]\u001b[A\n",
      " 20%|████████████████▌                                                                  | 4/20 [00:06<00:27,  1.73s/it]\u001b[A\n",
      " 25%|████████████████████▊                                                              | 5/20 [00:08<00:25,  1.71s/it]\u001b[A\n",
      " 30%|████████████████████████▉                                                          | 6/20 [00:10<00:23,  1.70s/it]\u001b[A\n",
      " 35%|█████████████████████████████                                                      | 7/20 [00:12<00:22,  1.70s/it]\u001b[A\n",
      " 40%|█████████████████████████████████▏                                                 | 8/20 [00:13<00:20,  1.75s/it]\u001b[A\n",
      " 45%|█████████████████████████████████████▎                                             | 9/20 [00:15<00:18,  1.72s/it]\u001b[A\n",
      " 50%|█████████████████████████████████████████                                         | 10/20 [00:17<00:17,  1.72s/it]\u001b[A\n",
      " 55%|█████████████████████████████████████████████                                     | 11/20 [00:18<00:15,  1.72s/it]\u001b[A\n",
      " 60%|█████████████████████████████████████████████████▏                                | 12/20 [00:20<00:13,  1.73s/it]\u001b[A\n",
      " 65%|█████████████████████████████████████████████████████▎                            | 13/20 [00:22<00:12,  1.72s/it]\u001b[A\n",
      " 70%|█████████████████████████████████████████████████████████▍                        | 14/20 [00:24<00:10,  1.72s/it]\u001b[A\n",
      " 75%|█████████████████████████████████████████████████████████████▌                    | 15/20 [00:25<00:08,  1.72s/it]\u001b[A\n",
      " 80%|█████████████████████████████████████████████████████████████████▌                | 16/20 [00:27<00:06,  1.72s/it]\u001b[A\n",
      " 85%|█████████████████████████████████████████████████████████████████████▋            | 17/20 [00:29<00:05,  1.71s/it]\u001b[A\n",
      " 90%|█████████████████████████████████████████████████████████████████████████▊        | 18/20 [00:30<00:03,  1.70s/it]\u001b[A\n",
      " 95%|█████████████████████████████████████████████████████████████████████████████▉    | 19/20 [00:32<00:01,  1.73s/it]\u001b[A\n",
      "100%|██████████████████████████████████████████████████████████████████████████████████| 20/20 [00:34<00:00,  1.72s/it]\u001b[A\n",
      " 40%|████████████████████████████████▌                                                 | 37/93 [27:03<33:23, 35.78s/it]\n",
      "  0%|                                                                                           | 0/20 [00:00<?, ?it/s]\u001b[A\n",
      "  5%|████▏                                                                              | 1/20 [00:01<00:37,  1.97s/it]\u001b[A\n",
      " 10%|████████▎                                                                          | 2/20 [00:03<00:32,  1.81s/it]\u001b[A\n",
      " 15%|████████████▍                                                                      | 3/20 [00:05<00:30,  1.77s/it]\u001b[A\n",
      " 20%|████████████████▌                                                                  | 4/20 [00:07<00:27,  1.75s/it]\u001b[A\n",
      " 25%|████████████████████▊                                                              | 5/20 [00:08<00:26,  1.73s/it]\u001b[A\n",
      " 30%|████████████████████████▉                                                          | 6/20 [00:10<00:24,  1.73s/it]\u001b[A\n",
      " 35%|█████████████████████████████                                                      | 7/20 [00:12<00:22,  1.72s/it]\u001b[A\n",
      " 40%|█████████████████████████████████▏                                                 | 8/20 [00:14<00:20,  1.74s/it]\u001b[A\n",
      " 45%|█████████████████████████████████████▎                                             | 9/20 [00:15<00:18,  1.72s/it]\u001b[A\n",
      " 50%|█████████████████████████████████████████                                         | 10/20 [00:17<00:16,  1.69s/it]\u001b[A\n",
      " 55%|█████████████████████████████████████████████                                     | 11/20 [00:19<00:15,  1.69s/it]\u001b[A\n",
      " 60%|█████████████████████████████████████████████████▏                                | 12/20 [00:20<00:13,  1.70s/it]\u001b[A\n",
      " 65%|█████████████████████████████████████████████████████▎                            | 13/20 [00:22<00:11,  1.70s/it]\u001b[A\n",
      " 70%|█████████████████████████████████████████████████████████▍                        | 14/20 [00:24<00:10,  1.70s/it]\u001b[A\n",
      " 75%|█████████████████████████████████████████████████████████████▌                    | 15/20 [00:25<00:08,  1.70s/it]\u001b[A\n",
      " 80%|█████████████████████████████████████████████████████████████████▌                | 16/20 [00:27<00:06,  1.71s/it]\u001b[A\n",
      " 85%|█████████████████████████████████████████████████████████████████████▋            | 17/20 [00:29<00:05,  1.73s/it]\u001b[A\n",
      " 90%|█████████████████████████████████████████████████████████████████████████▊        | 18/20 [00:31<00:03,  1.72s/it]\u001b[A\n",
      " 95%|█████████████████████████████████████████████████████████████████████████████▉    | 19/20 [00:32<00:01,  1.71s/it]\u001b[A\n",
      "100%|██████████████████████████████████████████████████████████████████████████████████| 20/20 [00:34<00:00,  1.72s/it]\u001b[A\n",
      " 41%|█████████████████████████████████▌                                                | 38/93 [27:37<32:25, 35.38s/it]\n",
      "  0%|                                                                                           | 0/20 [00:00<?, ?it/s]\u001b[A\n",
      "  5%|████▏                                                                              | 1/20 [00:01<00:34,  1.80s/it]\u001b[A\n",
      " 10%|████████▎                                                                          | 2/20 [00:03<00:31,  1.73s/it]\u001b[A\n",
      " 15%|████████████▍                                                                      | 3/20 [00:05<00:29,  1.73s/it]\u001b[A\n",
      " 20%|████████████████▌                                                                  | 4/20 [00:06<00:27,  1.72s/it]\u001b[A\n",
      " 25%|████████████████████▊                                                              | 5/20 [00:08<00:26,  1.74s/it]\u001b[A\n",
      " 30%|████████████████████████▉                                                          | 6/20 [00:10<00:24,  1.73s/it]\u001b[A\n",
      " 35%|█████████████████████████████                                                      | 7/20 [00:12<00:22,  1.72s/it]\u001b[A\n",
      " 40%|█████████████████████████████████▏                                                 | 8/20 [00:13<00:20,  1.72s/it]\u001b[A\n",
      " 45%|█████████████████████████████████████▎                                             | 9/20 [00:15<00:19,  1.73s/it]\u001b[A\n",
      " 50%|█████████████████████████████████████████                                         | 10/20 [00:17<00:17,  1.74s/it]\u001b[A\n",
      " 55%|█████████████████████████████████████████████                                     | 11/20 [00:19<00:15,  1.74s/it]\u001b[A\n",
      " 60%|█████████████████████████████████████████████████▏                                | 12/20 [00:20<00:13,  1.74s/it]\u001b[A\n",
      " 65%|█████████████████████████████████████████████████████▎                            | 13/20 [00:22<00:12,  1.74s/it]\u001b[A\n",
      " 70%|█████████████████████████████████████████████████████████▍                        | 14/20 [00:24<00:10,  1.73s/it]\u001b[A\n",
      " 75%|█████████████████████████████████████████████████████████████▌                    | 15/20 [00:25<00:08,  1.72s/it]\u001b[A\n",
      " 80%|█████████████████████████████████████████████████████████████████▌                | 16/20 [00:27<00:06,  1.72s/it]\u001b[A\n",
      " 85%|█████████████████████████████████████████████████████████████████████▋            | 17/20 [00:29<00:05,  1.71s/it]\u001b[A\n",
      " 90%|█████████████████████████████████████████████████████████████████████████▊        | 18/20 [00:31<00:03,  1.72s/it]\u001b[A\n",
      " 95%|█████████████████████████████████████████████████████████████████████████████▉    | 19/20 [00:32<00:01,  1.72s/it]\u001b[A\n",
      "100%|██████████████████████████████████████████████████████████████████████████████████| 20/20 [00:34<00:00,  1.73s/it]\u001b[A\n",
      " 42%|██████████████████████████████████▍                                               | 39/93 [28:12<31:38, 35.16s/it]\n",
      "  0%|                                                                                           | 0/20 [00:00<?, ?it/s]\u001b[A\n",
      "  5%|████▏                                                                              | 1/20 [00:01<00:32,  1.69s/it]\u001b[A\n",
      " 10%|████████▎                                                                          | 2/20 [00:03<00:30,  1.67s/it]\u001b[A\n",
      " 15%|████████████▍                                                                      | 3/20 [00:05<00:28,  1.69s/it]\u001b[A\n",
      " 20%|████████████████▌                                                                  | 4/20 [00:06<00:27,  1.71s/it]\u001b[A\n",
      " 25%|████████████████████▊                                                              | 5/20 [00:08<00:25,  1.71s/it]\u001b[A\n",
      " 30%|████████████████████████▉                                                          | 6/20 [00:10<00:24,  1.73s/it]\u001b[A\n",
      " 35%|█████████████████████████████                                                      | 7/20 [00:11<00:22,  1.70s/it]\u001b[A\n",
      " 40%|█████████████████████████████████▏                                                 | 8/20 [00:13<00:20,  1.71s/it]\u001b[A\n",
      " 45%|█████████████████████████████████████▎                                             | 9/20 [00:15<00:19,  1.73s/it]\u001b[A\n",
      " 50%|█████████████████████████████████████████                                         | 10/20 [00:17<00:17,  1.71s/it]\u001b[A\n",
      " 55%|█████████████████████████████████████████████                                     | 11/20 [00:18<00:15,  1.71s/it]\u001b[A\n",
      " 60%|█████████████████████████████████████████████████▏                                | 12/20 [00:20<00:13,  1.74s/it]\u001b[A\n",
      " 65%|█████████████████████████████████████████████████████▎                            | 13/20 [00:22<00:12,  1.74s/it]\u001b[A\n",
      " 70%|█████████████████████████████████████████████████████████▍                        | 14/20 [00:24<00:10,  1.73s/it]\u001b[A\n",
      " 75%|█████████████████████████████████████████████████████████████▌                    | 15/20 [00:25<00:08,  1.74s/it]\u001b[A\n",
      " 80%|█████████████████████████████████████████████████████████████████▌                | 16/20 [00:27<00:06,  1.74s/it]\u001b[A\n",
      " 85%|█████████████████████████████████████████████████████████████████████▋            | 17/20 [00:29<00:05,  1.72s/it]\u001b[A\n",
      " 90%|█████████████████████████████████████████████████████████████████████████▊        | 18/20 [00:30<00:03,  1.74s/it]\u001b[A\n",
      " 95%|█████████████████████████████████████████████████████████████████████████████▉    | 19/20 [00:32<00:01,  1.75s/it]\u001b[A\n",
      "100%|██████████████████████████████████████████████████████████████████████████████████| 20/20 [00:34<00:00,  1.72s/it]\u001b[A\n",
      " 43%|███████████████████████████████████▎                                              | 40/93 [28:46<30:52, 34.95s/it]\n",
      "  0%|                                                                                           | 0/20 [00:00<?, ?it/s]\u001b[A\n",
      "  5%|████▏                                                                              | 1/20 [00:01<00:34,  1.80s/it]\u001b[A\n",
      " 10%|████████▎                                                                          | 2/20 [00:03<00:31,  1.76s/it]\u001b[A\n",
      " 15%|████████████▍                                                                      | 3/20 [00:05<00:29,  1.75s/it]\u001b[A\n",
      " 20%|████████████████▌                                                                  | 4/20 [00:06<00:27,  1.72s/it]\u001b[A\n",
      " 25%|████████████████████▊                                                              | 5/20 [00:08<00:25,  1.70s/it]\u001b[A\n",
      " 30%|████████████████████████▉                                                          | 6/20 [00:10<00:24,  1.73s/it]\u001b[A\n",
      " 35%|█████████████████████████████                                                      | 7/20 [00:12<00:22,  1.74s/it]\u001b[A\n",
      " 40%|█████████████████████████████████▏                                                 | 8/20 [00:13<00:20,  1.72s/it]\u001b[A\n",
      " 45%|█████████████████████████████████████▎                                             | 9/20 [00:15<00:18,  1.71s/it]\u001b[A\n",
      " 50%|█████████████████████████████████████████                                         | 10/20 [00:17<00:17,  1.71s/it]\u001b[A\n",
      " 55%|█████████████████████████████████████████████                                     | 11/20 [00:18<00:15,  1.72s/it]\u001b[A\n",
      " 60%|█████████████████████████████████████████████████▏                                | 12/20 [00:20<00:13,  1.71s/it]\u001b[A\n",
      " 65%|█████████████████████████████████████████████████████▎                            | 13/20 [00:22<00:12,  1.72s/it]\u001b[A\n",
      " 70%|█████████████████████████████████████████████████████████▍                        | 14/20 [00:24<00:10,  1.71s/it]\u001b[A\n",
      " 75%|█████████████████████████████████████████████████████████████▌                    | 15/20 [00:25<00:08,  1.72s/it]\u001b[A\n",
      " 80%|█████████████████████████████████████████████████████████████████▌                | 16/20 [00:27<00:06,  1.70s/it]\u001b[A\n",
      " 85%|█████████████████████████████████████████████████████████████████████▋            | 17/20 [00:29<00:05,  1.72s/it]\u001b[A\n",
      " 90%|█████████████████████████████████████████████████████████████████████████▊        | 18/20 [00:31<00:03,  1.77s/it]\u001b[A\n",
      " 95%|█████████████████████████████████████████████████████████████████████████████▉    | 19/20 [00:32<00:01,  1.75s/it]\u001b[A\n",
      "100%|██████████████████████████████████████████████████████████████████████████████████| 20/20 [00:34<00:00,  1.73s/it]\u001b[A\n",
      " 44%|████████████████████████████████████▏                                             | 41/93 [29:21<30:12, 34.86s/it]\n",
      "  0%|                                                                                           | 0/20 [00:00<?, ?it/s]\u001b[A\n",
      "  5%|████▏                                                                              | 1/20 [00:01<00:33,  1.77s/it]\u001b[A\n",
      " 10%|████████▎                                                                          | 2/20 [00:03<00:31,  1.72s/it]\u001b[A\n",
      " 15%|████████████▍                                                                      | 3/20 [00:05<00:29,  1.72s/it]\u001b[A\n",
      " 20%|████████████████▌                                                                  | 4/20 [00:06<00:27,  1.72s/it]\u001b[A\n",
      " 25%|████████████████████▊                                                              | 5/20 [00:08<00:26,  1.75s/it]\u001b[A\n",
      " 30%|████████████████████████▉                                                          | 6/20 [00:10<00:24,  1.73s/it]\u001b[A\n",
      " 35%|█████████████████████████████                                                      | 7/20 [00:12<00:22,  1.74s/it]\u001b[A\n",
      " 40%|█████████████████████████████████▏                                                 | 8/20 [00:13<00:20,  1.73s/it]\u001b[A\n",
      " 45%|█████████████████████████████████████▎                                             | 9/20 [00:15<00:19,  1.74s/it]\u001b[A\n",
      " 50%|█████████████████████████████████████████                                         | 10/20 [00:17<00:17,  1.73s/it]\u001b[A\n",
      " 55%|█████████████████████████████████████████████                                     | 11/20 [00:19<00:15,  1.72s/it]\u001b[A\n",
      " 60%|█████████████████████████████████████████████████▏                                | 12/20 [00:20<00:13,  1.73s/it]\u001b[A\n",
      " 65%|█████████████████████████████████████████████████████▎                            | 13/20 [00:22<00:11,  1.70s/it]\u001b[A\n",
      " 70%|█████████████████████████████████████████████████████████▍                        | 14/20 [00:24<00:10,  1.71s/it]\u001b[A\n",
      " 75%|█████████████████████████████████████████████████████████████▌                    | 15/20 [00:25<00:08,  1.72s/it]\u001b[A\n",
      " 80%|█████████████████████████████████████████████████████████████████▌                | 16/20 [00:27<00:06,  1.74s/it]\u001b[A\n",
      " 85%|█████████████████████████████████████████████████████████████████████▋            | 17/20 [00:29<00:05,  1.75s/it]\u001b[A\n",
      " 90%|█████████████████████████████████████████████████████████████████████████▊        | 18/20 [00:31<00:03,  1.76s/it]\u001b[A\n",
      " 95%|█████████████████████████████████████████████████████████████████████████████▉    | 19/20 [00:32<00:01,  1.74s/it]\u001b[A\n",
      "100%|██████████████████████████████████████████████████████████████████████████████████| 20/20 [00:34<00:00,  1.73s/it]\u001b[A\n",
      " 45%|█████████████████████████████████████                                             | 42/93 [29:56<29:33, 34.78s/it]\n",
      "  0%|                                                                                           | 0/20 [00:00<?, ?it/s]\u001b[A\n",
      "  5%|████▏                                                                              | 1/20 [00:01<00:31,  1.68s/it]\u001b[A\n",
      " 10%|████████▎                                                                          | 2/20 [00:03<00:30,  1.69s/it]\u001b[A\n",
      " 15%|████████████▍                                                                      | 3/20 [00:05<00:29,  1.74s/it]\u001b[A\n",
      " 20%|████████████████▌                                                                  | 4/20 [00:06<00:27,  1.73s/it]\u001b[A\n",
      " 25%|████████████████████▊                                                              | 5/20 [00:08<00:26,  1.74s/it]\u001b[A\n",
      " 30%|████████████████████████▉                                                          | 6/20 [00:10<00:24,  1.72s/it]\u001b[A\n",
      " 35%|█████████████████████████████                                                      | 7/20 [00:12<00:22,  1.72s/it]\u001b[A\n",
      " 40%|█████████████████████████████████▏                                                 | 8/20 [00:13<00:20,  1.74s/it]\u001b[A\n",
      " 45%|█████████████████████████████████████▎                                             | 9/20 [00:15<00:19,  1.74s/it]\u001b[A\n",
      " 50%|█████████████████████████████████████████                                         | 10/20 [00:17<00:17,  1.75s/it]\u001b[A\n",
      " 55%|█████████████████████████████████████████████                                     | 11/20 [00:19<00:15,  1.73s/it]\u001b[A\n",
      " 60%|█████████████████████████████████████████████████▏                                | 12/20 [00:20<00:14,  1.75s/it]\u001b[A\n",
      " 65%|█████████████████████████████████████████████████████▎                            | 13/20 [00:22<00:12,  1.75s/it]\u001b[A\n",
      " 70%|█████████████████████████████████████████████████████████▍                        | 14/20 [00:24<00:10,  1.75s/it]\u001b[A\n",
      " 75%|█████████████████████████████████████████████████████████████▌                    | 15/20 [00:25<00:08,  1.73s/it]\u001b[A\n",
      " 80%|█████████████████████████████████████████████████████████████████▌                | 16/20 [00:27<00:06,  1.72s/it]\u001b[A\n",
      " 85%|█████████████████████████████████████████████████████████████████████▋            | 17/20 [00:29<00:05,  1.73s/it]\u001b[A\n",
      " 90%|█████████████████████████████████████████████████████████████████████████▊        | 18/20 [00:31<00:03,  1.73s/it]\u001b[A\n",
      " 95%|█████████████████████████████████████████████████████████████████████████████▉    | 19/20 [00:32<00:01,  1.71s/it]\u001b[A\n",
      "100%|██████████████████████████████████████████████████████████████████████████████████| 20/20 [00:34<00:00,  1.73s/it]\u001b[A\n",
      " 46%|█████████████████████████████████████▉                                            | 43/93 [30:30<28:57, 34.75s/it]\n",
      "  0%|                                                                                           | 0/20 [00:00<?, ?it/s]\u001b[A\n",
      "  5%|████▏                                                                              | 1/20 [00:01<00:32,  1.72s/it]\u001b[A\n",
      " 10%|████████▎                                                                          | 2/20 [00:03<00:30,  1.71s/it]\u001b[A\n",
      " 15%|████████████▍                                                                      | 3/20 [00:05<00:29,  1.74s/it]\u001b[A\n",
      " 20%|████████████████▌                                                                  | 4/20 [00:06<00:27,  1.74s/it]\u001b[A\n",
      " 25%|████████████████████▊                                                              | 5/20 [00:08<00:26,  1.74s/it]\u001b[A\n",
      " 30%|████████████████████████▉                                                          | 6/20 [00:10<00:24,  1.72s/it]\u001b[A\n",
      " 35%|█████████████████████████████                                                      | 7/20 [00:12<00:23,  1.82s/it]\u001b[A\n",
      " 40%|█████████████████████████████████▏                                                 | 8/20 [00:14<00:21,  1.83s/it]\u001b[A\n",
      " 45%|█████████████████████████████████████▎                                             | 9/20 [00:15<00:19,  1.80s/it]\u001b[A\n",
      " 50%|█████████████████████████████████████████                                         | 10/20 [00:17<00:17,  1.79s/it]\u001b[A\n",
      " 55%|█████████████████████████████████████████████                                     | 11/20 [00:19<00:15,  1.75s/it]\u001b[A\n",
      " 60%|█████████████████████████████████████████████████▏                                | 12/20 [00:21<00:14,  1.75s/it]\u001b[A\n",
      " 65%|█████████████████████████████████████████████████████▎                            | 13/20 [00:22<00:12,  1.73s/it]\u001b[A\n",
      " 70%|█████████████████████████████████████████████████████████▍                        | 14/20 [00:24<00:10,  1.73s/it]\u001b[A\n",
      " 75%|█████████████████████████████████████████████████████████████▌                    | 15/20 [00:26<00:08,  1.74s/it]\u001b[A\n",
      " 80%|█████████████████████████████████████████████████████████████████▌                | 16/20 [00:28<00:07,  1.75s/it]\u001b[A\n",
      " 85%|█████████████████████████████████████████████████████████████████████▋            | 17/20 [00:29<00:05,  1.74s/it]\u001b[A\n",
      " 90%|█████████████████████████████████████████████████████████████████████████▊        | 18/20 [00:31<00:03,  1.74s/it]\u001b[A\n",
      " 95%|█████████████████████████████████████████████████████████████████████████████▉    | 19/20 [00:33<00:01,  1.76s/it]\u001b[A\n",
      "100%|██████████████████████████████████████████████████████████████████████████████████| 20/20 [00:35<00:00,  1.76s/it]\u001b[A\n",
      " 47%|██████████████████████████████████████▊                                           | 44/93 [31:05<28:28, 34.86s/it]\n",
      "  0%|                                                                                           | 0/20 [00:00<?, ?it/s]\u001b[A\n",
      "  5%|████▏                                                                              | 1/20 [00:01<00:31,  1.67s/it]\u001b[A\n",
      " 10%|████████▎                                                                          | 2/20 [00:03<00:30,  1.71s/it]\u001b[A\n",
      " 15%|████████████▍                                                                      | 3/20 [00:05<00:29,  1.72s/it]\u001b[A\n",
      " 20%|████████████████▌                                                                  | 4/20 [00:06<00:27,  1.70s/it]\u001b[A\n",
      " 25%|████████████████████▊                                                              | 5/20 [00:08<00:26,  1.75s/it]\u001b[A\n",
      " 30%|████████████████████████▉                                                          | 6/20 [00:10<00:24,  1.75s/it]\u001b[A\n",
      " 35%|█████████████████████████████                                                      | 7/20 [00:12<00:22,  1.74s/it]\u001b[A\n",
      " 40%|█████████████████████████████████▏                                                 | 8/20 [00:13<00:20,  1.72s/it]\u001b[A\n",
      " 45%|█████████████████████████████████████▎                                             | 9/20 [00:15<00:19,  1.77s/it]\u001b[A\n",
      " 50%|█████████████████████████████████████████                                         | 10/20 [00:17<00:17,  1.75s/it]\u001b[A\n",
      " 55%|█████████████████████████████████████████████                                     | 11/20 [00:19<00:15,  1.75s/it]\u001b[A\n",
      " 60%|█████████████████████████████████████████████████▏                                | 12/20 [00:20<00:13,  1.73s/it]\u001b[A\n",
      " 65%|█████████████████████████████████████████████████████▎                            | 13/20 [00:22<00:12,  1.75s/it]\u001b[A\n",
      " 70%|█████████████████████████████████████████████████████████▍                        | 14/20 [00:24<00:10,  1.73s/it]\u001b[A\n",
      " 75%|█████████████████████████████████████████████████████████████▌                    | 15/20 [00:26<00:08,  1.74s/it]\u001b[A\n",
      " 80%|█████████████████████████████████████████████████████████████████▌                | 16/20 [00:27<00:07,  1.77s/it]\u001b[A\n",
      " 85%|█████████████████████████████████████████████████████████████████████▋            | 17/20 [00:29<00:05,  1.76s/it]\u001b[A\n",
      " 90%|█████████████████████████████████████████████████████████████████████████▊        | 18/20 [00:31<00:03,  1.73s/it]\u001b[A\n",
      " 95%|█████████████████████████████████████████████████████████████████████████████▉    | 19/20 [00:32<00:01,  1.71s/it]\u001b[A\n",
      "100%|██████████████████████████████████████████████████████████████████████████████████| 20/20 [00:34<00:00,  1.73s/it]\u001b[A\n",
      " 48%|███████████████████████████████████████▋                                          | 45/93 [31:40<27:50, 34.80s/it]\n",
      "  0%|                                                                                           | 0/20 [00:00<?, ?it/s]\u001b[A\n",
      "  5%|████▏                                                                              | 1/20 [00:01<00:35,  1.85s/it]\u001b[A\n",
      " 10%|████████▎                                                                          | 2/20 [00:03<00:32,  1.79s/it]\u001b[A\n",
      " 15%|████████████▍                                                                      | 3/20 [00:05<00:30,  1.77s/it]\u001b[A\n",
      " 20%|████████████████▌                                                                  | 4/20 [00:07<00:28,  1.80s/it]\u001b[A\n",
      " 25%|████████████████████▊                                                              | 5/20 [00:08<00:26,  1.77s/it]\u001b[A\n",
      " 30%|████████████████████████▉                                                          | 6/20 [00:10<00:24,  1.77s/it]\u001b[A\n",
      " 35%|█████████████████████████████                                                      | 7/20 [00:12<00:22,  1.74s/it]\u001b[A\n",
      " 40%|█████████████████████████████████▏                                                 | 8/20 [00:14<00:20,  1.73s/it]\u001b[A\n",
      " 45%|█████████████████████████████████████▎                                             | 9/20 [00:15<00:19,  1.73s/it]\u001b[A\n",
      " 50%|█████████████████████████████████████████                                         | 10/20 [00:17<00:17,  1.74s/it]\u001b[A\n",
      " 55%|█████████████████████████████████████████████                                     | 11/20 [00:19<00:15,  1.75s/it]\u001b[A\n",
      " 60%|█████████████████████████████████████████████████▏                                | 12/20 [00:21<00:13,  1.73s/it]\u001b[A\n",
      " 65%|█████████████████████████████████████████████████████▎                            | 13/20 [00:22<00:12,  1.74s/it]\u001b[A\n",
      " 70%|█████████████████████████████████████████████████████████▍                        | 14/20 [00:24<00:10,  1.73s/it]\u001b[A\n",
      " 75%|█████████████████████████████████████████████████████████████▌                    | 15/20 [00:26<00:08,  1.70s/it]\u001b[A\n",
      " 80%|█████████████████████████████████████████████████████████████████▌                | 16/20 [00:27<00:06,  1.70s/it]\u001b[A\n",
      " 85%|█████████████████████████████████████████████████████████████████████▋            | 17/20 [00:29<00:05,  1.71s/it]\u001b[A\n",
      " 90%|█████████████████████████████████████████████████████████████████████████▊        | 18/20 [00:31<00:03,  1.75s/it]\u001b[A\n",
      " 95%|█████████████████████████████████████████████████████████████████████████████▉    | 19/20 [00:33<00:01,  1.73s/it]\u001b[A\n",
      "100%|██████████████████████████████████████████████████████████████████████████████████| 20/20 [00:34<00:00,  1.74s/it]\u001b[A\n",
      " 49%|████████████████████████████████████████▌                                         | 46/93 [32:15<27:15, 34.80s/it]\n",
      "  0%|                                                                                           | 0/20 [00:00<?, ?it/s]\u001b[A\n",
      "  5%|████▏                                                                              | 1/20 [00:01<00:33,  1.75s/it]\u001b[A\n",
      " 10%|████████▎                                                                          | 2/20 [00:03<00:31,  1.73s/it]\u001b[A\n",
      " 15%|████████████▍                                                                      | 3/20 [00:05<00:29,  1.74s/it]\u001b[A\n",
      " 20%|████████████████▌                                                                  | 4/20 [00:07<00:28,  1.77s/it]\u001b[A\n",
      " 25%|████████████████████▊                                                              | 5/20 [00:08<00:26,  1.76s/it]\u001b[A\n",
      " 30%|████████████████████████▉                                                          | 6/20 [00:10<00:24,  1.73s/it]\u001b[A\n",
      " 35%|█████████████████████████████                                                      | 7/20 [00:12<00:22,  1.72s/it]\u001b[A\n",
      " 40%|█████████████████████████████████▏                                                 | 8/20 [00:14<00:21,  1.77s/it]\u001b[A\n",
      " 45%|█████████████████████████████████████▎                                             | 9/20 [00:15<00:19,  1.78s/it]\u001b[A\n",
      " 50%|█████████████████████████████████████████                                         | 10/20 [00:17<00:17,  1.78s/it]\u001b[A\n",
      " 55%|█████████████████████████████████████████████                                     | 11/20 [00:19<00:15,  1.75s/it]\u001b[A\n",
      " 60%|█████████████████████████████████████████████████▏                                | 12/20 [00:21<00:14,  1.85s/it]\u001b[A\n",
      " 65%|█████████████████████████████████████████████████████▎                            | 13/20 [00:23<00:12,  1.80s/it]\u001b[A\n",
      " 70%|█████████████████████████████████████████████████████████▍                        | 14/20 [00:24<00:10,  1.77s/it]\u001b[A\n",
      " 75%|█████████████████████████████████████████████████████████████▌                    | 15/20 [00:26<00:08,  1.75s/it]\u001b[A\n",
      " 80%|█████████████████████████████████████████████████████████████████▌                | 16/20 [00:28<00:06,  1.72s/it]\u001b[A\n",
      " 85%|█████████████████████████████████████████████████████████████████████▋            | 17/20 [00:29<00:05,  1.73s/it]\u001b[A\n",
      " 90%|█████████████████████████████████████████████████████████████████████████▊        | 18/20 [00:31<00:03,  1.73s/it]\u001b[A\n",
      " 95%|█████████████████████████████████████████████████████████████████████████████▉    | 19/20 [00:33<00:01,  1.74s/it]\u001b[A\n",
      "100%|██████████████████████████████████████████████████████████████████████████████████| 20/20 [00:35<00:00,  1.76s/it]\u001b[A\n",
      " 51%|█████████████████████████████████████████▍                                        | 47/93 [32:50<26:45, 34.91s/it]\n",
      "  0%|                                                                                           | 0/20 [00:00<?, ?it/s]\u001b[A\n",
      "  5%|████▏                                                                              | 1/20 [00:01<00:32,  1.72s/it]\u001b[A\n",
      " 10%|████████▎                                                                          | 2/20 [00:03<00:31,  1.73s/it]\u001b[A\n",
      " 15%|████████████▍                                                                      | 3/20 [00:05<00:29,  1.72s/it]\u001b[A\n",
      " 20%|████████████████▌                                                                  | 4/20 [00:06<00:27,  1.71s/it]\u001b[A\n",
      " 25%|████████████████████▊                                                              | 5/20 [00:08<00:25,  1.71s/it]\u001b[A\n",
      " 30%|████████████████████████▉                                                          | 6/20 [00:10<00:24,  1.73s/it]\u001b[A\n",
      " 35%|█████████████████████████████                                                      | 7/20 [00:12<00:22,  1.73s/it]\u001b[A\n",
      " 40%|█████████████████████████████████▏                                                 | 8/20 [00:13<00:20,  1.73s/it]\u001b[A\n",
      " 45%|█████████████████████████████████████▎                                             | 9/20 [00:15<00:18,  1.71s/it]\u001b[A\n",
      " 50%|█████████████████████████████████████████                                         | 10/20 [00:17<00:17,  1.71s/it]\u001b[A\n",
      " 55%|█████████████████████████████████████████████                                     | 11/20 [00:18<00:15,  1.71s/it]\u001b[A\n",
      " 60%|█████████████████████████████████████████████████▏                                | 12/20 [00:20<00:13,  1.71s/it]\u001b[A\n",
      " 65%|█████████████████████████████████████████████████████▎                            | 13/20 [00:22<00:12,  1.74s/it]\u001b[A\n",
      " 70%|█████████████████████████████████████████████████████████▍                        | 14/20 [00:24<00:10,  1.74s/it]\u001b[A\n",
      " 75%|█████████████████████████████████████████████████████████████▌                    | 15/20 [00:25<00:08,  1.72s/it]\u001b[A\n",
      " 80%|█████████████████████████████████████████████████████████████████▌                | 16/20 [00:27<00:06,  1.71s/it]\u001b[A\n",
      " 85%|█████████████████████████████████████████████████████████████████████▋            | 17/20 [00:29<00:05,  1.72s/it]\u001b[A\n",
      " 90%|█████████████████████████████████████████████████████████████████████████▊        | 18/20 [00:31<00:03,  1.73s/it]\u001b[A\n",
      " 95%|█████████████████████████████████████████████████████████████████████████████▉    | 19/20 [00:32<00:01,  1.71s/it]\u001b[A\n",
      "100%|██████████████████████████████████████████████████████████████████████████████████| 20/20 [00:34<00:00,  1.73s/it]\u001b[A\n",
      " 52%|██████████████████████████████████████████▎                                       | 48/93 [33:25<26:05, 34.80s/it]\n",
      "  0%|                                                                                           | 0/20 [00:00<?, ?it/s]\u001b[A\n",
      "  5%|████▏                                                                              | 1/20 [00:01<00:33,  1.75s/it]\u001b[A\n",
      " 10%|████████▎                                                                          | 2/20 [00:03<00:31,  1.76s/it]\u001b[A\n",
      " 15%|████████████▍                                                                      | 3/20 [00:05<00:29,  1.73s/it]\u001b[A\n",
      " 20%|████████████████▌                                                                  | 4/20 [00:07<00:28,  1.77s/it]\u001b[A\n",
      " 25%|████████████████████▊                                                              | 5/20 [00:08<00:26,  1.75s/it]\u001b[A\n",
      " 30%|████████████████████████▉                                                          | 6/20 [00:10<00:24,  1.76s/it]\u001b[A\n",
      " 35%|█████████████████████████████                                                      | 7/20 [00:12<00:22,  1.74s/it]\u001b[A\n",
      " 40%|█████████████████████████████████▏                                                 | 8/20 [00:13<00:20,  1.74s/it]\u001b[A\n",
      " 45%|█████████████████████████████████████▎                                             | 9/20 [00:15<00:19,  1.74s/it]\u001b[A\n",
      " 50%|█████████████████████████████████████████                                         | 10/20 [00:17<00:17,  1.73s/it]\u001b[A\n",
      " 55%|█████████████████████████████████████████████                                     | 11/20 [00:19<00:15,  1.73s/it]\u001b[A\n",
      " 60%|█████████████████████████████████████████████████▏                                | 12/20 [00:20<00:13,  1.72s/it]\u001b[A\n",
      " 65%|█████████████████████████████████████████████████████▎                            | 13/20 [00:22<00:11,  1.71s/it]\u001b[A\n",
      " 70%|█████████████████████████████████████████████████████████▍                        | 14/20 [00:24<00:10,  1.72s/it]\u001b[A\n",
      " 75%|█████████████████████████████████████████████████████████████▌                    | 15/20 [00:26<00:08,  1.74s/it]\u001b[A\n",
      " 80%|█████████████████████████████████████████████████████████████████▌                | 16/20 [00:27<00:06,  1.73s/it]\u001b[A\n",
      " 85%|█████████████████████████████████████████████████████████████████████▋            | 17/20 [00:29<00:05,  1.72s/it]\u001b[A\n",
      " 90%|█████████████████████████████████████████████████████████████████████████▊        | 18/20 [00:31<00:03,  1.76s/it]\u001b[A\n",
      " 95%|█████████████████████████████████████████████████████████████████████████████▉    | 19/20 [00:32<00:01,  1.73s/it]\u001b[A\n",
      "100%|██████████████████████████████████████████████████████████████████████████████████| 20/20 [00:34<00:00,  1.73s/it]\u001b[A\n",
      " 53%|███████████████████████████████████████████▏                                      | 49/93 [33:59<25:29, 34.77s/it]\n",
      "  0%|                                                                                           | 0/20 [00:00<?, ?it/s]\u001b[A\n",
      "  5%|████▏                                                                              | 1/20 [00:01<00:32,  1.71s/it]\u001b[A\n",
      " 10%|████████▎                                                                          | 2/20 [00:03<00:32,  1.80s/it]\u001b[A\n",
      " 15%|████████████▍                                                                      | 3/20 [00:05<00:29,  1.76s/it]\u001b[A\n",
      " 20%|████████████████▌                                                                  | 4/20 [00:06<00:27,  1.72s/it]\u001b[A\n",
      " 25%|████████████████████▊                                                              | 5/20 [00:08<00:25,  1.71s/it]\u001b[A\n",
      " 30%|████████████████████████▉                                                          | 6/20 [00:10<00:23,  1.71s/it]\u001b[A\n",
      " 35%|█████████████████████████████                                                      | 7/20 [00:12<00:22,  1.71s/it]\u001b[A\n",
      " 40%|█████████████████████████████████▏                                                 | 8/20 [00:13<00:20,  1.70s/it]\u001b[A\n",
      " 45%|█████████████████████████████████████▎                                             | 9/20 [00:15<00:18,  1.72s/it]\u001b[A\n",
      " 50%|█████████████████████████████████████████                                         | 10/20 [00:17<00:17,  1.72s/it]\u001b[A\n",
      " 55%|█████████████████████████████████████████████                                     | 11/20 [00:18<00:15,  1.72s/it]\u001b[A\n",
      " 60%|█████████████████████████████████████████████████▏                                | 12/20 [00:20<00:13,  1.72s/it]\u001b[A\n",
      " 65%|█████████████████████████████████████████████████████▎                            | 13/20 [00:22<00:12,  1.73s/it]\u001b[A\n",
      " 70%|█████████████████████████████████████████████████████████▍                        | 14/20 [00:24<00:10,  1.72s/it]\u001b[A\n",
      " 75%|█████████████████████████████████████████████████████████████▌                    | 15/20 [00:25<00:08,  1.72s/it]\u001b[A\n",
      " 80%|█████████████████████████████████████████████████████████████████▌                | 16/20 [00:27<00:07,  1.77s/it]\u001b[A\n",
      " 85%|█████████████████████████████████████████████████████████████████████▋            | 17/20 [00:29<00:05,  1.76s/it]\u001b[A\n",
      " 90%|█████████████████████████████████████████████████████████████████████████▊        | 18/20 [00:31<00:03,  1.74s/it]\u001b[A\n",
      " 95%|█████████████████████████████████████████████████████████████████████████████▉    | 19/20 [00:32<00:01,  1.73s/it]\u001b[A\n",
      "100%|██████████████████████████████████████████████████████████████████████████████████| 20/20 [00:34<00:00,  1.72s/it]\u001b[A\n",
      " 54%|████████████████████████████████████████████                                      | 50/93 [34:34<24:51, 34.69s/it]\n",
      "  0%|                                                                                           | 0/20 [00:00<?, ?it/s]\u001b[A\n",
      "  5%|████▏                                                                              | 1/20 [00:01<00:35,  1.88s/it]\u001b[A\n",
      " 10%|████████▎                                                                          | 2/20 [00:03<00:32,  1.81s/it]\u001b[A\n",
      " 15%|████████████▍                                                                      | 3/20 [00:05<00:29,  1.76s/it]\u001b[A\n",
      " 20%|████████████████▌                                                                  | 4/20 [00:07<00:28,  1.76s/it]\u001b[A\n",
      " 25%|████████████████████▊                                                              | 5/20 [00:08<00:26,  1.74s/it]\u001b[A\n",
      " 30%|████████████████████████▉                                                          | 6/20 [00:10<00:24,  1.76s/it]\u001b[A\n",
      " 35%|█████████████████████████████                                                      | 7/20 [00:12<00:22,  1.73s/it]\u001b[A\n",
      " 40%|█████████████████████████████████▏                                                 | 8/20 [00:14<00:21,  1.76s/it]\u001b[A\n",
      " 45%|█████████████████████████████████████▎                                             | 9/20 [00:15<00:19,  1.74s/it]\u001b[A\n",
      " 50%|█████████████████████████████████████████                                         | 10/20 [00:17<00:17,  1.75s/it]\u001b[A\n",
      " 55%|█████████████████████████████████████████████                                     | 11/20 [00:19<00:15,  1.73s/it]\u001b[A\n",
      " 60%|█████████████████████████████████████████████████▏                                | 12/20 [00:21<00:13,  1.74s/it]\u001b[A\n",
      " 65%|█████████████████████████████████████████████████████▎                            | 13/20 [00:22<00:12,  1.75s/it]\u001b[A\n",
      " 70%|█████████████████████████████████████████████████████████▍                        | 14/20 [00:24<00:10,  1.77s/it]\u001b[A\n",
      " 75%|█████████████████████████████████████████████████████████████▌                    | 15/20 [00:26<00:08,  1.78s/it]\u001b[A\n",
      " 80%|█████████████████████████████████████████████████████████████████▌                | 16/20 [00:28<00:06,  1.75s/it]\u001b[A\n",
      " 85%|█████████████████████████████████████████████████████████████████████▋            | 17/20 [00:29<00:05,  1.72s/it]\u001b[A\n",
      " 90%|█████████████████████████████████████████████████████████████████████████▊        | 18/20 [00:31<00:03,  1.72s/it]\u001b[A\n",
      " 95%|█████████████████████████████████████████████████████████████████████████████▉    | 19/20 [00:33<00:01,  1.71s/it]\u001b[A\n",
      "100%|██████████████████████████████████████████████████████████████████████████████████| 20/20 [00:34<00:00,  1.74s/it]\u001b[A\n",
      " 55%|████████████████████████████████████████████▉                                     | 51/93 [35:09<24:19, 34.75s/it]\n",
      "  0%|                                                                                           | 0/20 [00:00<?, ?it/s]\u001b[A\n",
      "  5%|████▏                                                                              | 1/20 [00:01<00:34,  1.84s/it]\u001b[A\n",
      " 10%|████████▎                                                                          | 2/20 [00:03<00:32,  1.78s/it]\u001b[A\n",
      " 15%|████████████▍                                                                      | 3/20 [00:05<00:30,  1.77s/it]\u001b[A\n",
      " 20%|████████████████▌                                                                  | 4/20 [00:07<00:27,  1.74s/it]\u001b[A\n",
      " 25%|████████████████████▊                                                              | 5/20 [00:08<00:25,  1.71s/it]\u001b[A\n",
      " 30%|████████████████████████▉                                                          | 6/20 [00:10<00:23,  1.70s/it]\u001b[A\n",
      " 35%|█████████████████████████████                                                      | 7/20 [00:12<00:22,  1.70s/it]\u001b[A\n",
      " 40%|█████████████████████████████████▏                                                 | 8/20 [00:13<00:20,  1.73s/it]\u001b[A\n",
      " 45%|█████████████████████████████████████▎                                             | 9/20 [00:15<00:19,  1.73s/it]\u001b[A\n",
      " 50%|█████████████████████████████████████████                                         | 10/20 [00:17<00:17,  1.72s/it]\u001b[A\n",
      " 55%|█████████████████████████████████████████████                                     | 11/20 [00:19<00:15,  1.73s/it]\u001b[A\n",
      " 60%|█████████████████████████████████████████████████▏                                | 12/20 [00:20<00:13,  1.73s/it]\u001b[A\n",
      " 65%|█████████████████████████████████████████████████████▎                            | 13/20 [00:22<00:12,  1.71s/it]\u001b[A\n",
      " 70%|█████████████████████████████████████████████████████████▍                        | 14/20 [00:24<00:10,  1.71s/it]\u001b[A\n",
      " 75%|█████████████████████████████████████████████████████████████▌                    | 15/20 [00:26<00:08,  1.75s/it]\u001b[A\n",
      " 80%|█████████████████████████████████████████████████████████████████▌                | 16/20 [00:27<00:06,  1.73s/it]\u001b[A\n",
      " 85%|█████████████████████████████████████████████████████████████████████▋            | 17/20 [00:29<00:05,  1.77s/it]\u001b[A\n",
      " 90%|█████████████████████████████████████████████████████████████████████████▊        | 18/20 [00:31<00:03,  1.76s/it]\u001b[A\n",
      " 95%|█████████████████████████████████████████████████████████████████████████████▉    | 19/20 [00:32<00:01,  1.73s/it]\u001b[A\n",
      "100%|██████████████████████████████████████████████████████████████████████████████████| 20/20 [00:34<00:00,  1.73s/it]\u001b[A\n",
      " 56%|█████████████████████████████████████████████▊                                    | 52/93 [35:43<23:43, 34.73s/it]\n",
      "  0%|                                                                                           | 0/20 [00:00<?, ?it/s]\u001b[A\n",
      "  5%|████▏                                                                              | 1/20 [00:01<00:35,  1.87s/it]\u001b[A\n",
      " 10%|████████▎                                                                          | 2/20 [00:03<00:32,  1.79s/it]\u001b[A\n",
      " 15%|████████████▍                                                                      | 3/20 [00:05<00:29,  1.73s/it]\u001b[A\n",
      " 20%|████████████████▌                                                                  | 4/20 [00:06<00:27,  1.71s/it]\u001b[A\n",
      " 25%|████████████████████▊                                                              | 5/20 [00:08<00:25,  1.71s/it]\u001b[A\n",
      " 30%|████████████████████████▉                                                          | 6/20 [00:10<00:24,  1.72s/it]\u001b[A\n",
      " 35%|█████████████████████████████                                                      | 7/20 [00:12<00:22,  1.75s/it]\u001b[A\n",
      " 40%|█████████████████████████████████▏                                                 | 8/20 [00:13<00:20,  1.73s/it]\u001b[A\n",
      " 45%|█████████████████████████████████████▎                                             | 9/20 [00:15<00:18,  1.72s/it]\u001b[A\n",
      " 50%|█████████████████████████████████████████                                         | 10/20 [00:17<00:17,  1.72s/it]\u001b[A\n",
      " 55%|█████████████████████████████████████████████                                     | 11/20 [00:19<00:15,  1.72s/it]\u001b[A\n",
      " 60%|█████████████████████████████████████████████████▏                                | 12/20 [00:20<00:13,  1.71s/it]\u001b[A\n",
      " 65%|█████████████████████████████████████████████████████▎                            | 13/20 [00:22<00:11,  1.71s/it]\u001b[A\n",
      " 70%|█████████████████████████████████████████████████████████▍                        | 14/20 [00:24<00:10,  1.74s/it]\u001b[A\n",
      " 75%|█████████████████████████████████████████████████████████████▌                    | 15/20 [00:25<00:08,  1.74s/it]\u001b[A\n",
      " 80%|█████████████████████████████████████████████████████████████████▌                | 16/20 [00:27<00:06,  1.72s/it]\u001b[A\n",
      " 85%|█████████████████████████████████████████████████████████████████████▋            | 17/20 [00:29<00:05,  1.73s/it]\u001b[A\n",
      " 90%|█████████████████████████████████████████████████████████████████████████▊        | 18/20 [00:31<00:03,  1.72s/it]\u001b[A\n",
      " 95%|█████████████████████████████████████████████████████████████████████████████▉    | 19/20 [00:32<00:01,  1.72s/it]\u001b[A\n",
      "100%|██████████████████████████████████████████████████████████████████████████████████| 20/20 [00:34<00:00,  1.72s/it]\u001b[A\n",
      " 57%|██████████████████████████████████████████████▋                                   | 53/93 [36:18<23:06, 34.66s/it]\n",
      "  0%|                                                                                           | 0/20 [00:00<?, ?it/s]\u001b[A\n",
      "  5%|████▏                                                                              | 1/20 [00:01<00:35,  1.88s/it]\u001b[A\n",
      " 10%|████████▎                                                                          | 2/20 [00:03<00:31,  1.77s/it]\u001b[A\n",
      " 15%|████████████▍                                                                      | 3/20 [00:05<00:29,  1.76s/it]\u001b[A\n",
      " 20%|████████████████▌                                                                  | 4/20 [00:07<00:27,  1.73s/it]\u001b[A\n",
      " 25%|████████████████████▊                                                              | 5/20 [00:08<00:25,  1.72s/it]\u001b[A\n",
      " 30%|████████████████████████▉                                                          | 6/20 [00:10<00:24,  1.74s/it]\u001b[A\n",
      " 35%|█████████████████████████████                                                      | 7/20 [00:12<00:22,  1.72s/it]\u001b[A\n",
      " 40%|█████████████████████████████████▏                                                 | 8/20 [00:13<00:20,  1.71s/it]\u001b[A\n",
      " 45%|█████████████████████████████████████▎                                             | 9/20 [00:15<00:18,  1.72s/it]\u001b[A\n",
      " 50%|█████████████████████████████████████████                                         | 10/20 [00:17<00:17,  1.73s/it]\u001b[A\n",
      " 55%|█████████████████████████████████████████████                                     | 11/20 [00:19<00:15,  1.71s/it]\u001b[A\n",
      " 60%|█████████████████████████████████████████████████▏                                | 12/20 [00:20<00:13,  1.73s/it]\u001b[A\n",
      " 65%|█████████████████████████████████████████████████████▎                            | 13/20 [00:22<00:12,  1.73s/it]\u001b[A\n",
      " 70%|█████████████████████████████████████████████████████████▍                        | 14/20 [00:24<00:10,  1.73s/it]\u001b[A\n",
      " 75%|█████████████████████████████████████████████████████████████▌                    | 15/20 [00:25<00:08,  1.71s/it]\u001b[A\n",
      " 80%|█████████████████████████████████████████████████████████████████▌                | 16/20 [00:27<00:06,  1.71s/it]\u001b[A\n",
      " 85%|█████████████████████████████████████████████████████████████████████▋            | 17/20 [00:29<00:05,  1.71s/it]\u001b[A\n",
      " 90%|█████████████████████████████████████████████████████████████████████████▊        | 18/20 [00:31<00:03,  1.72s/it]\u001b[A\n",
      " 95%|█████████████████████████████████████████████████████████████████████████████▉    | 19/20 [00:32<00:01,  1.72s/it]\u001b[A\n",
      "100%|██████████████████████████████████████████████████████████████████████████████████| 20/20 [00:34<00:00,  1.73s/it]\u001b[A\n",
      " 58%|███████████████████████████████████████████████▌                                  | 54/93 [36:52<22:30, 34.62s/it]\n",
      "  0%|                                                                                           | 0/20 [00:00<?, ?it/s]\u001b[A\n",
      "  5%|████▏                                                                              | 1/20 [00:01<00:34,  1.84s/it]\u001b[A\n",
      " 10%|████████▎                                                                          | 2/20 [00:03<00:31,  1.76s/it]\u001b[A\n",
      " 15%|████████████▍                                                                      | 3/20 [00:05<00:29,  1.75s/it]\u001b[A\n",
      " 20%|████████████████▌                                                                  | 4/20 [00:07<00:28,  1.78s/it]\u001b[A\n",
      " 25%|████████████████████▊                                                              | 5/20 [00:08<00:26,  1.76s/it]\u001b[A\n",
      " 30%|████████████████████████▉                                                          | 6/20 [00:10<00:24,  1.73s/it]\u001b[A\n",
      " 35%|█████████████████████████████                                                      | 7/20 [00:12<00:22,  1.75s/it]\u001b[A\n",
      " 40%|█████████████████████████████████▏                                                 | 8/20 [00:14<00:20,  1.74s/it]\u001b[A\n",
      " 45%|█████████████████████████████████████▎                                             | 9/20 [00:15<00:19,  1.74s/it]\u001b[A\n",
      " 50%|█████████████████████████████████████████                                         | 10/20 [00:17<00:17,  1.78s/it]\u001b[A\n",
      " 55%|█████████████████████████████████████████████                                     | 11/20 [00:19<00:15,  1.74s/it]\u001b[A\n",
      " 60%|█████████████████████████████████████████████████▏                                | 12/20 [00:20<00:13,  1.72s/it]\u001b[A\n",
      " 65%|█████████████████████████████████████████████████████▎                            | 13/20 [00:22<00:12,  1.72s/it]\u001b[A\n",
      " 70%|█████████████████████████████████████████████████████████▍                        | 14/20 [00:24<00:10,  1.70s/it]\u001b[A\n",
      " 75%|█████████████████████████████████████████████████████████████▌                    | 15/20 [00:26<00:08,  1.69s/it]\u001b[A\n",
      " 80%|█████████████████████████████████████████████████████████████████▌                | 16/20 [00:27<00:06,  1.70s/it]\u001b[A\n",
      " 85%|█████████████████████████████████████████████████████████████████████▋            | 17/20 [00:29<00:05,  1.74s/it]\u001b[A\n",
      " 90%|█████████████████████████████████████████████████████████████████████████▊        | 18/20 [00:31<00:03,  1.73s/it]\u001b[A\n",
      " 95%|█████████████████████████████████████████████████████████████████████████████▉    | 19/20 [00:32<00:01,  1.71s/it]\u001b[A\n",
      "100%|██████████████████████████████████████████████████████████████████████████████████| 20/20 [00:34<00:00,  1.73s/it]\u001b[A\n",
      " 59%|████████████████████████████████████████████████▍                                 | 55/93 [37:27<21:55, 34.61s/it]\n",
      "  0%|                                                                                           | 0/20 [00:00<?, ?it/s]\u001b[A\n",
      "  5%|████▏                                                                              | 1/20 [00:01<00:34,  1.84s/it]\u001b[A\n",
      " 10%|████████▎                                                                          | 2/20 [00:03<00:31,  1.76s/it]\u001b[A\n",
      " 15%|████████████▍                                                                      | 3/20 [00:05<00:29,  1.73s/it]\u001b[A\n",
      " 20%|████████████████▌                                                                  | 4/20 [00:06<00:27,  1.70s/it]\u001b[A\n",
      " 25%|████████████████████▊                                                              | 5/20 [00:08<00:25,  1.70s/it]\u001b[A\n",
      " 30%|████████████████████████▉                                                          | 6/20 [00:10<00:23,  1.70s/it]\u001b[A\n",
      " 35%|█████████████████████████████                                                      | 7/20 [00:12<00:22,  1.73s/it]\u001b[A\n",
      " 40%|█████████████████████████████████▏                                                 | 8/20 [00:13<00:20,  1.72s/it]\u001b[A\n",
      " 45%|█████████████████████████████████████▎                                             | 9/20 [00:15<00:18,  1.73s/it]\u001b[A\n",
      " 50%|█████████████████████████████████████████                                         | 10/20 [00:17<00:17,  1.73s/it]\u001b[A\n",
      " 55%|█████████████████████████████████████████████                                     | 11/20 [00:18<00:15,  1.73s/it]\u001b[A\n",
      " 60%|█████████████████████████████████████████████████▏                                | 12/20 [00:20<00:13,  1.72s/it]\u001b[A\n",
      " 65%|█████████████████████████████████████████████████████▎                            | 13/20 [00:22<00:12,  1.78s/it]\u001b[A\n",
      " 70%|█████████████████████████████████████████████████████████▍                        | 14/20 [00:24<00:10,  1.74s/it]\u001b[A\n",
      " 75%|█████████████████████████████████████████████████████████████▌                    | 15/20 [00:25<00:08,  1.73s/it]\u001b[A\n",
      " 80%|█████████████████████████████████████████████████████████████████▌                | 16/20 [00:27<00:06,  1.73s/it]\u001b[A\n",
      " 85%|█████████████████████████████████████████████████████████████████████▋            | 17/20 [00:29<00:05,  1.73s/it]\u001b[A\n",
      " 90%|█████████████████████████████████████████████████████████████████████████▊        | 18/20 [00:31<00:03,  1.72s/it]\u001b[A\n",
      " 95%|█████████████████████████████████████████████████████████████████████████████▉    | 19/20 [00:32<00:01,  1.73s/it]\u001b[A\n",
      "100%|██████████████████████████████████████████████████████████████████████████████████| 20/20 [00:34<00:00,  1.73s/it]\u001b[A\n",
      " 60%|█████████████████████████████████████████████████▍                                | 56/93 [38:02<21:20, 34.61s/it]\n",
      "  0%|                                                                                           | 0/20 [00:00<?, ?it/s]\u001b[A\n",
      "  5%|████▏                                                                              | 1/20 [00:01<00:34,  1.81s/it]\u001b[A\n",
      " 10%|████████▎                                                                          | 2/20 [00:03<00:31,  1.74s/it]\u001b[A\n",
      " 15%|████████████▍                                                                      | 3/20 [00:05<00:30,  1.78s/it]\u001b[A\n",
      " 20%|████████████████▌                                                                  | 4/20 [00:07<00:28,  1.76s/it]\u001b[A\n",
      " 25%|████████████████████▊                                                              | 5/20 [00:08<00:26,  1.75s/it]\u001b[A\n",
      " 30%|████████████████████████▉                                                          | 6/20 [00:10<00:24,  1.73s/it]\u001b[A\n",
      " 35%|█████████████████████████████                                                      | 7/20 [00:12<00:22,  1.71s/it]\u001b[A\n",
      " 40%|█████████████████████████████████▏                                                 | 8/20 [00:13<00:20,  1.69s/it]\u001b[A\n",
      " 45%|█████████████████████████████████████▎                                             | 9/20 [00:15<00:19,  1.75s/it]\u001b[A\n",
      " 50%|█████████████████████████████████████████                                         | 10/20 [00:17<00:17,  1.75s/it]\u001b[A\n",
      " 55%|█████████████████████████████████████████████                                     | 11/20 [00:19<00:15,  1.75s/it]\u001b[A\n",
      " 60%|█████████████████████████████████████████████████▏                                | 12/20 [00:20<00:14,  1.75s/it]\u001b[A\n",
      " 65%|█████████████████████████████████████████████████████▎                            | 13/20 [00:22<00:12,  1.76s/it]\u001b[A\n",
      " 70%|█████████████████████████████████████████████████████████▍                        | 14/20 [00:24<00:10,  1.75s/it]\u001b[A\n",
      " 75%|█████████████████████████████████████████████████████████████▌                    | 15/20 [00:26<00:08,  1.77s/it]\u001b[A\n",
      " 80%|█████████████████████████████████████████████████████████████████▌                | 16/20 [00:27<00:06,  1.75s/it]\u001b[A\n",
      " 85%|█████████████████████████████████████████████████████████████████████▋            | 17/20 [00:29<00:05,  1.74s/it]\u001b[A\n",
      " 90%|█████████████████████████████████████████████████████████████████████████▊        | 18/20 [00:31<00:03,  1.73s/it]\u001b[A\n",
      " 95%|█████████████████████████████████████████████████████████████████████████████▉    | 19/20 [00:33<00:01,  1.72s/it]\u001b[A\n",
      "100%|██████████████████████████████████████████████████████████████████████████████████| 20/20 [00:34<00:00,  1.74s/it]\u001b[A\n",
      " 61%|██████████████████████████████████████████████████▎                               | 57/93 [38:36<20:48, 34.67s/it]\n",
      "  0%|                                                                                           | 0/20 [00:00<?, ?it/s]\u001b[A\n",
      "  5%|████▏                                                                              | 1/20 [00:01<00:33,  1.78s/it]\u001b[A\n",
      " 10%|████████▎                                                                          | 2/20 [00:03<00:31,  1.75s/it]\u001b[A\n",
      " 15%|████████████▍                                                                      | 3/20 [00:05<00:29,  1.75s/it]\u001b[A\n",
      " 20%|████████████████▌                                                                  | 4/20 [00:06<00:27,  1.74s/it]\u001b[A\n",
      " 25%|████████████████████▊                                                              | 5/20 [00:08<00:25,  1.72s/it]\u001b[A\n",
      " 30%|████████████████████████▉                                                          | 6/20 [00:10<00:24,  1.72s/it]\u001b[A\n",
      " 35%|█████████████████████████████                                                      | 7/20 [00:12<00:22,  1.75s/it]\u001b[A\n",
      " 40%|█████████████████████████████████▏                                                 | 8/20 [00:13<00:20,  1.75s/it]\u001b[A\n",
      " 45%|█████████████████████████████████████▎                                             | 9/20 [00:15<00:19,  1.73s/it]\u001b[A\n",
      " 50%|█████████████████████████████████████████                                         | 10/20 [00:17<00:17,  1.73s/it]\u001b[A\n",
      " 55%|█████████████████████████████████████████████                                     | 11/20 [00:19<00:15,  1.73s/it]\u001b[A\n",
      " 60%|█████████████████████████████████████████████████▏                                | 12/20 [00:20<00:13,  1.72s/it]\u001b[A\n",
      " 65%|█████████████████████████████████████████████████████▎                            | 13/20 [00:22<00:12,  1.77s/it]\u001b[A\n",
      " 70%|█████████████████████████████████████████████████████████▍                        | 14/20 [00:24<00:10,  1.74s/it]\u001b[A\n",
      " 75%|█████████████████████████████████████████████████████████████▌                    | 15/20 [00:26<00:08,  1.72s/it]\u001b[A\n",
      " 80%|█████████████████████████████████████████████████████████████████▌                | 16/20 [00:27<00:06,  1.72s/it]\u001b[A\n",
      " 85%|█████████████████████████████████████████████████████████████████████▋            | 17/20 [00:29<00:05,  1.72s/it]\u001b[A\n",
      " 90%|█████████████████████████████████████████████████████████████████████████▊        | 18/20 [00:31<00:03,  1.72s/it]\u001b[A\n",
      " 95%|█████████████████████████████████████████████████████████████████████████████▉    | 19/20 [00:32<00:01,  1.72s/it]\u001b[A\n",
      "100%|██████████████████████████████████████████████████████████████████████████████████| 20/20 [00:34<00:00,  1.73s/it]\u001b[A\n",
      " 62%|███████████████████████████████████████████████████▏                              | 58/93 [39:11<20:13, 34.68s/it]\n",
      "  0%|                                                                                           | 0/20 [00:00<?, ?it/s]\u001b[A\n",
      "  5%|████▏                                                                              | 1/20 [00:01<00:34,  1.83s/it]\u001b[A\n",
      " 10%|████████▎                                                                          | 2/20 [00:03<00:32,  1.80s/it]\u001b[A\n",
      " 15%|████████████▍                                                                      | 3/20 [00:05<00:30,  1.78s/it]\u001b[A\n",
      " 20%|████████████████▌                                                                  | 4/20 [00:07<00:28,  1.78s/it]\u001b[A\n",
      " 25%|████████████████████▊                                                              | 5/20 [00:08<00:26,  1.74s/it]\u001b[A\n",
      " 30%|████████████████████████▉                                                          | 6/20 [00:10<00:24,  1.73s/it]\u001b[A\n",
      " 35%|█████████████████████████████                                                      | 7/20 [00:12<00:22,  1.72s/it]\u001b[A\n",
      " 40%|█████████████████████████████████▏                                                 | 8/20 [00:13<00:20,  1.70s/it]\u001b[A\n",
      " 45%|█████████████████████████████████████▎                                             | 9/20 [00:15<00:18,  1.70s/it]\u001b[A\n",
      " 50%|█████████████████████████████████████████                                         | 10/20 [00:17<00:17,  1.71s/it]\u001b[A\n",
      " 55%|█████████████████████████████████████████████                                     | 11/20 [00:19<00:15,  1.74s/it]\u001b[A\n",
      " 60%|█████████████████████████████████████████████████▏                                | 12/20 [00:20<00:13,  1.73s/it]\u001b[A\n",
      " 65%|█████████████████████████████████████████████████████▎                            | 13/20 [00:22<00:11,  1.71s/it]\u001b[A\n",
      " 70%|█████████████████████████████████████████████████████████▍                        | 14/20 [00:24<00:10,  1.71s/it]\u001b[A\n",
      " 75%|█████████████████████████████████████████████████████████████▌                    | 15/20 [00:25<00:08,  1.70s/it]\u001b[A\n",
      " 80%|█████████████████████████████████████████████████████████████████▌                | 16/20 [00:27<00:06,  1.71s/it]\u001b[A\n",
      " 85%|█████████████████████████████████████████████████████████████████████▋            | 17/20 [00:29<00:05,  1.70s/it]\u001b[A\n",
      " 90%|█████████████████████████████████████████████████████████████████████████▊        | 18/20 [00:31<00:03,  1.73s/it]\u001b[A\n",
      " 95%|█████████████████████████████████████████████████████████████████████████████▉    | 19/20 [00:32<00:01,  1.72s/it]\u001b[A\n",
      "100%|██████████████████████████████████████████████████████████████████████████████████| 20/20 [00:34<00:00,  1.73s/it]\u001b[A\n",
      " 63%|████████████████████████████████████████████████████                              | 59/93 [39:46<19:37, 34.64s/it]\n",
      "  0%|                                                                                           | 0/20 [00:00<?, ?it/s]\u001b[A\n",
      "  5%|████▏                                                                              | 1/20 [00:01<00:35,  1.85s/it]\u001b[A\n",
      " 10%|████████▎                                                                          | 2/20 [00:03<00:32,  1.80s/it]\u001b[A\n",
      " 15%|████████████▍                                                                      | 3/20 [00:05<00:30,  1.81s/it]\u001b[A\n",
      " 20%|████████████████▌                                                                  | 4/20 [00:07<00:28,  1.77s/it]\u001b[A\n",
      " 25%|████████████████████▊                                                              | 5/20 [00:09<00:27,  1.81s/it]\u001b[A\n",
      " 30%|████████████████████████▉                                                          | 6/20 [00:10<00:24,  1.76s/it]\u001b[A\n",
      " 35%|█████████████████████████████                                                      | 7/20 [00:12<00:22,  1.75s/it]\u001b[A\n",
      " 40%|█████████████████████████████████▏                                                 | 8/20 [00:14<00:20,  1.75s/it]\u001b[A\n",
      " 45%|█████████████████████████████████████▎                                             | 9/20 [00:16<00:19,  1.79s/it]\u001b[A\n",
      " 50%|█████████████████████████████████████████                                         | 10/20 [00:17<00:17,  1.78s/it]\u001b[A\n",
      " 55%|█████████████████████████████████████████████                                     | 11/20 [00:19<00:15,  1.77s/it]\u001b[A\n",
      " 60%|█████████████████████████████████████████████████▏                                | 12/20 [00:21<00:13,  1.75s/it]\u001b[A\n",
      " 65%|█████████████████████████████████████████████████████▎                            | 13/20 [00:22<00:12,  1.74s/it]\u001b[A\n",
      " 70%|█████████████████████████████████████████████████████████▍                        | 14/20 [00:24<00:10,  1.73s/it]\u001b[A\n",
      " 75%|█████████████████████████████████████████████████████████████▌                    | 15/20 [00:26<00:08,  1.71s/it]\u001b[A\n",
      " 80%|█████████████████████████████████████████████████████████████████▌                | 16/20 [00:28<00:06,  1.70s/it]\u001b[A\n",
      " 85%|█████████████████████████████████████████████████████████████████████▋            | 17/20 [00:29<00:05,  1.70s/it]\u001b[A\n",
      " 90%|█████████████████████████████████████████████████████████████████████████▊        | 18/20 [00:31<00:03,  1.76s/it]\u001b[A\n",
      " 95%|█████████████████████████████████████████████████████████████████████████████▉    | 19/20 [00:33<00:01,  1.74s/it]\u001b[A\n",
      "100%|██████████████████████████████████████████████████████████████████████████████████| 20/20 [00:34<00:00,  1.75s/it]\u001b[A\n",
      " 65%|████████████████████████████████████████████████████▉                             | 60/93 [40:21<19:06, 34.74s/it]\n",
      "  0%|                                                                                           | 0/20 [00:00<?, ?it/s]\u001b[A\n",
      "  5%|████▏                                                                              | 1/20 [00:01<00:36,  1.92s/it]\u001b[A\n",
      " 10%|████████▎                                                                          | 2/20 [00:03<00:32,  1.80s/it]\u001b[A\n",
      " 15%|████████████▍                                                                      | 3/20 [00:05<00:29,  1.75s/it]\u001b[A\n",
      " 20%|████████████████▌                                                                  | 4/20 [00:07<00:27,  1.74s/it]\u001b[A\n",
      " 25%|████████████████████▊                                                              | 5/20 [00:08<00:25,  1.72s/it]\u001b[A\n",
      " 30%|████████████████████████▉                                                          | 6/20 [00:10<00:24,  1.72s/it]\u001b[A\n",
      " 35%|█████████████████████████████                                                      | 7/20 [00:12<00:22,  1.71s/it]\u001b[A\n",
      " 40%|█████████████████████████████████▏                                                 | 8/20 [00:13<00:20,  1.75s/it]\u001b[A\n",
      " 45%|█████████████████████████████████████▎                                             | 9/20 [00:15<00:19,  1.74s/it]\u001b[A\n",
      " 50%|█████████████████████████████████████████                                         | 10/20 [00:17<00:17,  1.73s/it]\u001b[A\n",
      " 55%|█████████████████████████████████████████████                                     | 11/20 [00:19<00:15,  1.72s/it]\u001b[A\n",
      " 60%|█████████████████████████████████████████████████▏                                | 12/20 [00:20<00:13,  1.72s/it]\u001b[A\n",
      " 65%|█████████████████████████████████████████████████████▎                            | 13/20 [00:22<00:12,  1.75s/it]\u001b[A\n",
      " 70%|█████████████████████████████████████████████████████████▍                        | 14/20 [00:24<00:10,  1.75s/it]\u001b[A\n",
      " 75%|█████████████████████████████████████████████████████████████▌                    | 15/20 [00:26<00:08,  1.73s/it]\u001b[A\n",
      " 80%|█████████████████████████████████████████████████████████████████▌                | 16/20 [00:27<00:06,  1.72s/it]\u001b[A\n",
      " 85%|█████████████████████████████████████████████████████████████████████▋            | 17/20 [00:29<00:05,  1.73s/it]\u001b[A\n",
      " 90%|█████████████████████████████████████████████████████████████████████████▊        | 18/20 [00:31<00:03,  1.76s/it]\u001b[A\n",
      " 95%|█████████████████████████████████████████████████████████████████████████████▉    | 19/20 [00:33<00:01,  1.75s/it]\u001b[A\n",
      "100%|██████████████████████████████████████████████████████████████████████████████████| 20/20 [00:34<00:00,  1.74s/it]\u001b[A\n",
      " 66%|█████████████████████████████████████████████████████▊                            | 61/93 [40:55<18:32, 34.76s/it]\n",
      "  0%|                                                                                           | 0/20 [00:00<?, ?it/s]\u001b[A\n",
      "  5%|████▏                                                                              | 1/20 [00:01<00:31,  1.67s/it]\u001b[A\n",
      " 10%|████████▎                                                                          | 2/20 [00:03<00:31,  1.74s/it]\u001b[A\n",
      " 15%|████████████▍                                                                      | 3/20 [00:05<00:29,  1.75s/it]\u001b[A\n",
      " 20%|████████████████▌                                                                  | 4/20 [00:06<00:27,  1.73s/it]\u001b[A\n",
      " 25%|████████████████████▊                                                              | 5/20 [00:08<00:25,  1.72s/it]\u001b[A\n",
      " 30%|████████████████████████▉                                                          | 6/20 [00:10<00:24,  1.72s/it]\u001b[A\n",
      " 35%|█████████████████████████████                                                      | 7/20 [00:12<00:22,  1.74s/it]\u001b[A\n",
      " 40%|█████████████████████████████████▏                                                 | 8/20 [00:13<00:20,  1.72s/it]\u001b[A\n",
      " 45%|█████████████████████████████████████▎                                             | 9/20 [00:15<00:18,  1.72s/it]\u001b[A\n",
      " 50%|█████████████████████████████████████████                                         | 10/20 [00:17<00:17,  1.73s/it]\u001b[A\n",
      " 55%|█████████████████████████████████████████████                                     | 11/20 [00:18<00:15,  1.72s/it]\u001b[A\n",
      " 60%|█████████████████████████████████████████████████▏                                | 12/20 [00:20<00:13,  1.73s/it]\u001b[A\n",
      " 65%|█████████████████████████████████████████████████████▎                            | 13/20 [00:22<00:12,  1.73s/it]\u001b[A\n",
      " 70%|█████████████████████████████████████████████████████████▍                        | 14/20 [00:24<00:10,  1.73s/it]\u001b[A\n",
      " 75%|█████████████████████████████████████████████████████████████▌                    | 15/20 [00:25<00:08,  1.73s/it]\u001b[A\n",
      " 80%|█████████████████████████████████████████████████████████████████▌                | 16/20 [00:27<00:06,  1.74s/it]\u001b[A\n",
      " 85%|█████████████████████████████████████████████████████████████████████▋            | 17/20 [00:29<00:05,  1.73s/it]\u001b[A\n",
      " 90%|█████████████████████████████████████████████████████████████████████████▊        | 18/20 [00:31<00:03,  1.71s/it]\u001b[A\n",
      " 95%|█████████████████████████████████████████████████████████████████████████████▉    | 19/20 [00:32<00:01,  1.72s/it]\u001b[A\n",
      "100%|██████████████████████████████████████████████████████████████████████████████████| 20/20 [00:34<00:00,  1.73s/it]\u001b[A\n",
      " 67%|██████████████████████████████████████████████████████▋                           | 62/93 [41:30<17:55, 34.69s/it]\n",
      "  0%|                                                                                           | 0/20 [00:00<?, ?it/s]\u001b[A\n",
      "  5%|████▏                                                                              | 1/20 [00:01<00:34,  1.80s/it]\u001b[A\n",
      " 10%|████████▎                                                                          | 2/20 [00:03<00:31,  1.75s/it]\u001b[A\n",
      " 15%|████████████▍                                                                      | 3/20 [00:05<00:29,  1.74s/it]\u001b[A\n",
      " 20%|████████████████▌                                                                  | 4/20 [00:06<00:27,  1.73s/it]\u001b[A\n",
      " 25%|████████████████████▊                                                              | 5/20 [00:08<00:25,  1.72s/it]\u001b[A\n",
      " 30%|████████████████████████▉                                                          | 6/20 [00:10<00:24,  1.72s/it]\u001b[A\n",
      " 35%|█████████████████████████████                                                      | 7/20 [00:12<00:22,  1.71s/it]\u001b[A\n",
      " 40%|█████████████████████████████████▏                                                 | 8/20 [00:13<00:20,  1.74s/it]\u001b[A\n",
      " 45%|█████████████████████████████████████▎                                             | 9/20 [00:15<00:19,  1.75s/it]\u001b[A\n",
      " 50%|█████████████████████████████████████████                                         | 10/20 [00:17<00:17,  1.73s/it]\u001b[A\n",
      " 55%|█████████████████████████████████████████████                                     | 11/20 [00:18<00:15,  1.71s/it]\u001b[A\n",
      " 60%|█████████████████████████████████████████████████▏                                | 12/20 [00:20<00:13,  1.71s/it]\u001b[A\n",
      " 65%|█████████████████████████████████████████████████████▎                            | 13/20 [00:22<00:12,  1.74s/it]\u001b[A\n",
      " 70%|█████████████████████████████████████████████████████████▍                        | 14/20 [00:24<00:10,  1.74s/it]\u001b[A\n",
      " 75%|█████████████████████████████████████████████████████████████▌                    | 15/20 [00:25<00:08,  1.73s/it]\u001b[A\n",
      " 80%|█████████████████████████████████████████████████████████████████▌                | 16/20 [00:27<00:06,  1.75s/it]\u001b[A\n",
      " 85%|█████████████████████████████████████████████████████████████████████▋            | 17/20 [00:29<00:05,  1.78s/it]\u001b[A\n",
      " 90%|█████████████████████████████████████████████████████████████████████████▊        | 18/20 [00:31<00:03,  1.76s/it]\u001b[A\n",
      " 95%|█████████████████████████████████████████████████████████████████████████████▉    | 19/20 [00:32<00:01,  1.72s/it]\u001b[A\n",
      "100%|██████████████████████████████████████████████████████████████████████████████████| 20/20 [00:34<00:00,  1.73s/it]\u001b[A\n",
      " 68%|███████████████████████████████████████████████████████▌                          | 63/93 [42:05<17:20, 34.68s/it]\n",
      "  0%|                                                                                           | 0/20 [00:00<?, ?it/s]\u001b[A\n",
      "  5%|████▏                                                                              | 1/20 [00:01<00:36,  1.91s/it]\u001b[A\n",
      " 10%|████████▎                                                                          | 2/20 [00:03<00:33,  1.84s/it]\u001b[A\n",
      " 15%|████████████▍                                                                      | 3/20 [00:05<00:30,  1.78s/it]\u001b[A\n",
      " 20%|████████████████▌                                                                  | 4/20 [00:07<00:28,  1.76s/it]\u001b[A\n",
      " 25%|████████████████████▊                                                              | 5/20 [00:08<00:26,  1.75s/it]\u001b[A\n",
      " 30%|████████████████████████▉                                                          | 6/20 [00:10<00:24,  1.73s/it]\u001b[A\n",
      " 35%|█████████████████████████████                                                      | 7/20 [00:12<00:22,  1.77s/it]\u001b[A\n",
      " 40%|█████████████████████████████████▏                                                 | 8/20 [00:14<00:21,  1.75s/it]\u001b[A\n",
      " 45%|█████████████████████████████████████▎                                             | 9/20 [00:15<00:19,  1.73s/it]\u001b[A\n",
      " 50%|█████████████████████████████████████████                                         | 10/20 [00:17<00:17,  1.72s/it]\u001b[A\n",
      " 55%|█████████████████████████████████████████████                                     | 11/20 [00:19<00:15,  1.73s/it]\u001b[A\n",
      " 60%|█████████████████████████████████████████████████▏                                | 12/20 [00:21<00:13,  1.74s/it]\u001b[A\n",
      " 65%|█████████████████████████████████████████████████████▎                            | 13/20 [00:22<00:12,  1.73s/it]\u001b[A\n",
      " 70%|█████████████████████████████████████████████████████████▍                        | 14/20 [00:24<00:10,  1.72s/it]\u001b[A\n",
      " 75%|█████████████████████████████████████████████████████████████▌                    | 15/20 [00:26<00:08,  1.75s/it]\u001b[A\n",
      " 80%|█████████████████████████████████████████████████████████████████▌                | 16/20 [00:27<00:06,  1.74s/it]\u001b[A\n",
      " 85%|█████████████████████████████████████████████████████████████████████▋            | 17/20 [00:29<00:05,  1.70s/it]\u001b[A\n",
      " 90%|█████████████████████████████████████████████████████████████████████████▊        | 18/20 [00:31<00:03,  1.70s/it]\u001b[A\n",
      " 95%|█████████████████████████████████████████████████████████████████████████████▉    | 19/20 [00:33<00:01,  1.71s/it]\u001b[A\n",
      "100%|██████████████████████████████████████████████████████████████████████████████████| 20/20 [00:34<00:00,  1.73s/it]\u001b[A\n",
      " 69%|████████████████████████████████████████████████████████▍                         | 64/93 [42:39<16:45, 34.69s/it]\n",
      "  0%|                                                                                           | 0/20 [00:00<?, ?it/s]\u001b[A\n",
      "  5%|████▏                                                                              | 1/20 [00:01<00:35,  1.86s/it]\u001b[A\n",
      " 10%|████████▎                                                                          | 2/20 [00:03<00:31,  1.76s/it]\u001b[A\n",
      " 15%|████████████▍                                                                      | 3/20 [00:05<00:29,  1.73s/it]\u001b[A\n",
      " 20%|████████████████▌                                                                  | 4/20 [00:06<00:27,  1.69s/it]\u001b[A\n",
      " 25%|████████████████████▊                                                              | 5/20 [00:08<00:25,  1.72s/it]\u001b[A\n",
      " 30%|████████████████████████▉                                                          | 6/20 [00:10<00:23,  1.70s/it]\u001b[A\n",
      " 35%|█████████████████████████████                                                      | 7/20 [00:11<00:21,  1.69s/it]\u001b[A\n",
      " 40%|█████████████████████████████████▏                                                 | 8/20 [00:13<00:20,  1.68s/it]\u001b[A\n",
      " 45%|█████████████████████████████████████▎                                             | 9/20 [00:15<00:18,  1.70s/it]\u001b[A\n",
      " 50%|█████████████████████████████████████████                                         | 10/20 [00:17<00:17,  1.73s/it]\u001b[A\n",
      " 55%|█████████████████████████████████████████████                                     | 11/20 [00:18<00:15,  1.75s/it]\u001b[A\n",
      " 60%|█████████████████████████████████████████████████▏                                | 12/20 [00:20<00:14,  1.76s/it]\u001b[A\n",
      " 65%|█████████████████████████████████████████████████████▎                            | 13/20 [00:22<00:12,  1.75s/it]\u001b[A\n",
      " 70%|█████████████████████████████████████████████████████████▍                        | 14/20 [00:24<00:10,  1.73s/it]\u001b[A\n",
      " 75%|█████████████████████████████████████████████████████████████▌                    | 15/20 [00:26<00:08,  1.76s/it]\u001b[A\n",
      " 80%|█████████████████████████████████████████████████████████████████▌                | 16/20 [00:27<00:06,  1.74s/it]\u001b[A\n",
      " 85%|█████████████████████████████████████████████████████████████████████▋            | 17/20 [00:29<00:05,  1.73s/it]\u001b[A\n",
      " 90%|█████████████████████████████████████████████████████████████████████████▊        | 18/20 [00:31<00:03,  1.72s/it]\u001b[A\n",
      " 95%|█████████████████████████████████████████████████████████████████████████████▉    | 19/20 [00:32<00:01,  1.70s/it]\u001b[A\n",
      "100%|██████████████████████████████████████████████████████████████████████████████████| 20/20 [00:34<00:00,  1.73s/it]\u001b[A\n",
      " 70%|█████████████████████████████████████████████████████████▎                        | 65/93 [43:14<16:10, 34.68s/it]\n",
      "  0%|                                                                                           | 0/20 [00:00<?, ?it/s]\u001b[A\n",
      "  5%|████▏                                                                              | 1/20 [00:01<00:33,  1.77s/it]\u001b[A\n",
      " 10%|████████▎                                                                          | 2/20 [00:03<00:31,  1.75s/it]\u001b[A\n",
      " 15%|████████████▍                                                                      | 3/20 [00:05<00:30,  1.79s/it]\u001b[A\n",
      " 20%|████████████████▌                                                                  | 4/20 [00:07<00:28,  1.76s/it]\u001b[A\n",
      " 25%|████████████████████▊                                                              | 5/20 [00:08<00:26,  1.75s/it]\u001b[A\n",
      " 30%|████████████████████████▉                                                          | 6/20 [00:10<00:24,  1.75s/it]\u001b[A\n",
      " 35%|█████████████████████████████                                                      | 7/20 [00:12<00:22,  1.75s/it]\u001b[A\n",
      " 40%|█████████████████████████████████▏                                                 | 8/20 [00:14<00:21,  1.77s/it]\u001b[A\n",
      " 45%|█████████████████████████████████████▎                                             | 9/20 [00:15<00:19,  1.75s/it]\u001b[A\n",
      " 50%|█████████████████████████████████████████                                         | 10/20 [00:17<00:17,  1.74s/it]\u001b[A\n",
      " 55%|█████████████████████████████████████████████                                     | 11/20 [00:19<00:15,  1.72s/it]\u001b[A\n",
      " 60%|█████████████████████████████████████████████████▏                                | 12/20 [00:20<00:13,  1.73s/it]\u001b[A\n",
      " 65%|█████████████████████████████████████████████████████▎                            | 13/20 [00:22<00:12,  1.72s/it]\u001b[A\n",
      " 70%|█████████████████████████████████████████████████████████▍                        | 14/20 [00:24<00:10,  1.72s/it]\u001b[A\n",
      " 75%|█████████████████████████████████████████████████████████████▌                    | 15/20 [00:26<00:08,  1.72s/it]\u001b[A\n",
      " 80%|█████████████████████████████████████████████████████████████████▌                | 16/20 [00:27<00:06,  1.72s/it]\u001b[A\n",
      " 85%|█████████████████████████████████████████████████████████████████████▋            | 17/20 [00:29<00:05,  1.75s/it]\u001b[A\n",
      " 90%|█████████████████████████████████████████████████████████████████████████▊        | 18/20 [00:31<00:03,  1.76s/it]\u001b[A\n",
      " 95%|█████████████████████████████████████████████████████████████████████████████▉    | 19/20 [00:33<00:01,  1.74s/it]\u001b[A\n",
      "100%|██████████████████████████████████████████████████████████████████████████████████| 20/20 [00:34<00:00,  1.74s/it]\u001b[A\n",
      " 71%|██████████████████████████████████████████████████████████▏                       | 66/93 [43:49<15:37, 34.71s/it]\n",
      "  0%|                                                                                           | 0/20 [00:00<?, ?it/s]\u001b[A\n",
      "  5%|████▏                                                                              | 1/20 [00:01<00:35,  1.86s/it]\u001b[A\n",
      " 10%|████████▎                                                                          | 2/20 [00:03<00:31,  1.76s/it]\u001b[A\n",
      " 15%|████████████▍                                                                      | 3/20 [00:05<00:29,  1.76s/it]\u001b[A\n",
      " 20%|████████████████▌                                                                  | 4/20 [00:07<00:27,  1.74s/it]\u001b[A\n",
      " 25%|████████████████████▊                                                              | 5/20 [00:08<00:26,  1.80s/it]\u001b[A\n",
      " 30%|████████████████████████▉                                                          | 6/20 [00:10<00:24,  1.77s/it]\u001b[A\n",
      " 35%|█████████████████████████████                                                      | 7/20 [00:12<00:22,  1.75s/it]\u001b[A\n",
      " 40%|█████████████████████████████████▏                                                 | 8/20 [00:14<00:21,  1.76s/it]\u001b[A\n",
      " 45%|█████████████████████████████████████▎                                             | 9/20 [00:15<00:19,  1.74s/it]\u001b[A\n",
      " 50%|█████████████████████████████████████████                                         | 10/20 [00:17<00:17,  1.75s/it]\u001b[A\n",
      " 55%|█████████████████████████████████████████████                                     | 11/20 [00:19<00:15,  1.75s/it]\u001b[A\n",
      " 60%|█████████████████████████████████████████████████▏                                | 12/20 [00:21<00:13,  1.73s/it]\u001b[A\n",
      " 65%|█████████████████████████████████████████████████████▎                            | 13/20 [00:22<00:12,  1.80s/it]\u001b[A\n",
      " 70%|█████████████████████████████████████████████████████████▍                        | 14/20 [00:24<00:10,  1.76s/it]\u001b[A\n",
      " 75%|█████████████████████████████████████████████████████████████▌                    | 15/20 [00:26<00:08,  1.78s/it]\u001b[A\n",
      " 80%|█████████████████████████████████████████████████████████████████▌                | 16/20 [00:28<00:07,  1.78s/it]\u001b[A\n",
      " 85%|█████████████████████████████████████████████████████████████████████▋            | 17/20 [00:29<00:05,  1.76s/it]\u001b[A\n",
      " 90%|█████████████████████████████████████████████████████████████████████████▊        | 18/20 [00:31<00:03,  1.79s/it]\u001b[A\n",
      " 95%|█████████████████████████████████████████████████████████████████████████████▉    | 19/20 [00:33<00:01,  1.82s/it]\u001b[A\n",
      "100%|██████████████████████████████████████████████████████████████████████████████████| 20/20 [00:35<00:00,  1.77s/it]\u001b[A\n",
      " 72%|███████████████████████████████████████████████████████████                       | 67/93 [44:24<15:08, 34.94s/it]\n",
      "  0%|                                                                                           | 0/20 [00:00<?, ?it/s]\u001b[A\n",
      "  5%|████▏                                                                              | 1/20 [00:01<00:34,  1.81s/it]\u001b[A\n",
      " 10%|████████▎                                                                          | 2/20 [00:03<00:32,  1.79s/it]\u001b[A\n",
      " 15%|████████████▍                                                                      | 3/20 [00:05<00:30,  1.77s/it]\u001b[A\n",
      " 20%|████████████████▌                                                                  | 4/20 [00:06<00:27,  1.72s/it]\u001b[A\n",
      " 25%|████████████████████▊                                                              | 5/20 [00:08<00:26,  1.74s/it]\u001b[A\n",
      " 30%|████████████████████████▉                                                          | 6/20 [00:10<00:24,  1.72s/it]\u001b[A\n",
      " 35%|█████████████████████████████                                                      | 7/20 [00:12<00:22,  1.76s/it]\u001b[A\n",
      " 40%|█████████████████████████████████▏                                                 | 8/20 [00:14<00:21,  1.76s/it]\u001b[A\n",
      " 45%|█████████████████████████████████████▎                                             | 9/20 [00:15<00:19,  1.74s/it]\u001b[A\n",
      " 50%|█████████████████████████████████████████                                         | 10/20 [00:17<00:17,  1.73s/it]\u001b[A\n",
      " 55%|█████████████████████████████████████████████                                     | 11/20 [00:19<00:15,  1.72s/it]\u001b[A\n",
      " 60%|█████████████████████████████████████████████████▏                                | 12/20 [00:20<00:13,  1.74s/it]\u001b[A\n",
      " 65%|█████████████████████████████████████████████████████▎                            | 13/20 [00:22<00:12,  1.74s/it]\u001b[A\n",
      " 70%|█████████████████████████████████████████████████████████▍                        | 14/20 [00:24<00:10,  1.78s/it]\u001b[A\n",
      " 75%|█████████████████████████████████████████████████████████████▌                    | 15/20 [00:26<00:08,  1.77s/it]\u001b[A\n",
      " 80%|█████████████████████████████████████████████████████████████████▌                | 16/20 [00:27<00:07,  1.75s/it]\u001b[A\n",
      " 85%|█████████████████████████████████████████████████████████████████████▋            | 17/20 [00:29<00:05,  1.77s/it]\u001b[A\n",
      " 90%|█████████████████████████████████████████████████████████████████████████▊        | 18/20 [00:31<00:03,  1.76s/it]\u001b[A\n",
      " 95%|█████████████████████████████████████████████████████████████████████████████▉    | 19/20 [00:33<00:01,  1.74s/it]\u001b[A\n",
      "100%|██████████████████████████████████████████████████████████████████████████████████| 20/20 [00:34<00:00,  1.75s/it]\u001b[A\n",
      " 73%|███████████████████████████████████████████████████████████▉                      | 68/93 [44:59<14:33, 34.96s/it]\n",
      "  0%|                                                                                           | 0/20 [00:00<?, ?it/s]\u001b[A\n",
      "  5%|████▏                                                                              | 1/20 [00:01<00:35,  1.88s/it]\u001b[A\n",
      " 10%|████████▎                                                                          | 2/20 [00:03<00:32,  1.80s/it]\u001b[A\n",
      " 15%|████████████▍                                                                      | 3/20 [00:05<00:30,  1.79s/it]\u001b[A\n",
      " 20%|████████████████▌                                                                  | 4/20 [00:07<00:28,  1.78s/it]\u001b[A\n",
      " 25%|████████████████████▊                                                              | 5/20 [00:09<00:27,  1.80s/it]\u001b[A\n",
      " 30%|████████████████████████▉                                                          | 6/20 [00:10<00:24,  1.78s/it]\u001b[A\n",
      " 35%|█████████████████████████████                                                      | 7/20 [00:12<00:22,  1.75s/it]\u001b[A\n",
      " 40%|█████████████████████████████████▏                                                 | 8/20 [00:14<00:20,  1.73s/it]\u001b[A\n",
      " 45%|█████████████████████████████████████▎                                             | 9/20 [00:15<00:18,  1.72s/it]\u001b[A\n",
      " 50%|█████████████████████████████████████████                                         | 10/20 [00:17<00:17,  1.73s/it]\u001b[A\n",
      " 55%|█████████████████████████████████████████████                                     | 11/20 [00:19<00:15,  1.71s/it]\u001b[A\n",
      " 60%|█████████████████████████████████████████████████▏                                | 12/20 [00:20<00:13,  1.72s/it]\u001b[A\n",
      " 65%|█████████████████████████████████████████████████████▎                            | 13/20 [00:22<00:12,  1.73s/it]\u001b[A\n",
      " 70%|█████████████████████████████████████████████████████████▍                        | 14/20 [00:24<00:10,  1.70s/it]\u001b[A\n",
      " 75%|█████████████████████████████████████████████████████████████▌                    | 15/20 [00:26<00:08,  1.75s/it]\u001b[A\n",
      " 80%|█████████████████████████████████████████████████████████████████▌                | 16/20 [00:27<00:06,  1.74s/it]\u001b[A\n",
      " 85%|█████████████████████████████████████████████████████████████████████▋            | 17/20 [00:29<00:05,  1.74s/it]\u001b[A\n",
      " 90%|█████████████████████████████████████████████████████████████████████████▊        | 18/20 [00:31<00:03,  1.74s/it]\u001b[A\n",
      " 95%|█████████████████████████████████████████████████████████████████████████████▉    | 19/20 [00:33<00:01,  1.72s/it]\u001b[A\n",
      "100%|██████████████████████████████████████████████████████████████████████████████████| 20/20 [00:34<00:00,  1.74s/it]\u001b[A\n",
      " 74%|████████████████████████████████████████████████████████████▊                     | 69/93 [45:34<13:58, 34.94s/it]\n",
      "  0%|                                                                                           | 0/20 [00:00<?, ?it/s]\u001b[A\n",
      "  5%|████▏                                                                              | 1/20 [00:01<00:36,  1.91s/it]\u001b[A\n",
      " 10%|████████▎                                                                          | 2/20 [00:03<00:33,  1.84s/it]\u001b[A\n",
      " 15%|████████████▍                                                                      | 3/20 [00:05<00:30,  1.81s/it]\u001b[A\n",
      " 20%|████████████████▌                                                                  | 4/20 [00:07<00:28,  1.77s/it]\u001b[A\n",
      " 25%|████████████████████▊                                                              | 5/20 [00:08<00:26,  1.75s/it]\u001b[A\n",
      " 30%|████████████████████████▉                                                          | 6/20 [00:10<00:25,  1.79s/it]\u001b[A\n",
      " 35%|█████████████████████████████                                                      | 7/20 [00:12<00:24,  1.86s/it]\u001b[A\n",
      " 40%|█████████████████████████████████▏                                                 | 8/20 [00:14<00:21,  1.81s/it]\u001b[A\n",
      " 45%|█████████████████████████████████████▎                                             | 9/20 [00:16<00:19,  1.78s/it]\u001b[A\n",
      " 50%|█████████████████████████████████████████                                         | 10/20 [00:17<00:17,  1.77s/it]\u001b[A\n",
      " 55%|█████████████████████████████████████████████                                     | 11/20 [00:19<00:15,  1.76s/it]\u001b[A\n",
      " 60%|█████████████████████████████████████████████████▏                                | 12/20 [00:21<00:14,  1.79s/it]\u001b[A\n",
      " 65%|█████████████████████████████████████████████████████▎                            | 13/20 [00:23<00:12,  1.75s/it]\u001b[A\n",
      " 70%|█████████████████████████████████████████████████████████▍                        | 14/20 [00:24<00:10,  1.75s/it]\u001b[A\n",
      " 75%|█████████████████████████████████████████████████████████████▌                    | 15/20 [00:26<00:08,  1.73s/it]\u001b[A\n",
      " 80%|█████████████████████████████████████████████████████████████████▌                | 16/20 [00:28<00:06,  1.75s/it]\u001b[A\n",
      " 85%|█████████████████████████████████████████████████████████████████████▋            | 17/20 [00:30<00:05,  1.79s/it]\u001b[A\n",
      " 90%|█████████████████████████████████████████████████████████████████████████▊        | 18/20 [00:32<00:03,  1.78s/it]\u001b[A\n",
      " 95%|█████████████████████████████████████████████████████████████████████████████▉    | 19/20 [00:33<00:01,  1.75s/it]\u001b[A\n",
      "100%|██████████████████████████████████████████████████████████████████████████████████| 20/20 [00:35<00:00,  1.77s/it]\u001b[A\n",
      " 75%|█████████████████████████████████████████████████████████████▋                    | 70/93 [46:10<13:27, 35.10s/it]\n",
      "  0%|                                                                                           | 0/20 [00:00<?, ?it/s]\u001b[A\n",
      "  5%|████▏                                                                              | 1/20 [00:01<00:35,  1.84s/it]\u001b[A\n",
      " 10%|████████▎                                                                          | 2/20 [00:03<00:31,  1.74s/it]\u001b[A\n",
      " 15%|████████████▍                                                                      | 3/20 [00:05<00:28,  1.70s/it]\u001b[A\n",
      " 20%|████████████████▌                                                                  | 4/20 [00:06<00:26,  1.69s/it]\u001b[A\n",
      " 25%|████████████████████▊                                                              | 5/20 [00:08<00:26,  1.74s/it]\u001b[A\n",
      " 30%|████████████████████████▉                                                          | 6/20 [00:10<00:24,  1.72s/it]\u001b[A\n",
      " 35%|█████████████████████████████                                                      | 7/20 [00:12<00:22,  1.71s/it]\u001b[A\n",
      " 40%|█████████████████████████████████▏                                                 | 8/20 [00:13<00:20,  1.71s/it]\u001b[A\n",
      " 45%|█████████████████████████████████████▎                                             | 9/20 [00:15<00:19,  1.76s/it]\u001b[A\n",
      " 50%|█████████████████████████████████████████                                         | 10/20 [00:17<00:17,  1.74s/it]\u001b[A\n",
      " 55%|█████████████████████████████████████████████                                     | 11/20 [00:19<00:15,  1.75s/it]\u001b[A\n",
      " 60%|█████████████████████████████████████████████████▏                                | 12/20 [00:20<00:13,  1.72s/it]\u001b[A\n",
      " 65%|█████████████████████████████████████████████████████▎                            | 13/20 [00:22<00:12,  1.74s/it]\u001b[A\n",
      " 70%|█████████████████████████████████████████████████████████▍                        | 14/20 [00:24<00:10,  1.72s/it]\u001b[A\n",
      " 75%|█████████████████████████████████████████████████████████████▌                    | 15/20 [00:25<00:08,  1.71s/it]\u001b[A\n",
      " 80%|█████████████████████████████████████████████████████████████████▌                | 16/20 [00:27<00:06,  1.70s/it]\u001b[A\n",
      " 85%|█████████████████████████████████████████████████████████████████████▋            | 17/20 [00:29<00:05,  1.74s/it]\u001b[A\n",
      " 90%|█████████████████████████████████████████████████████████████████████████▊        | 18/20 [00:31<00:03,  1.77s/it]\u001b[A\n",
      " 95%|█████████████████████████████████████████████████████████████████████████████▉    | 19/20 [00:32<00:01,  1.77s/it]\u001b[A\n",
      "100%|██████████████████████████████████████████████████████████████████████████████████| 20/20 [00:34<00:00,  1.73s/it]\u001b[A\n",
      " 76%|██████████████████████████████████████████████████████████████▌                   | 71/93 [46:44<12:49, 34.98s/it]\n",
      "  0%|                                                                                           | 0/20 [00:00<?, ?it/s]\u001b[A\n",
      "  5%|████▏                                                                              | 1/20 [00:01<00:32,  1.72s/it]\u001b[A\n",
      " 10%|████████▎                                                                          | 2/20 [00:03<00:30,  1.70s/it]\u001b[A\n",
      " 15%|████████████▍                                                                      | 3/20 [00:05<00:28,  1.70s/it]\u001b[A\n",
      " 20%|████████████████▌                                                                  | 4/20 [00:06<00:27,  1.75s/it]\u001b[A\n",
      " 25%|████████████████████▊                                                              | 5/20 [00:08<00:25,  1.73s/it]\u001b[A\n",
      " 30%|████████████████████████▉                                                          | 6/20 [00:10<00:24,  1.75s/it]\u001b[A\n",
      " 35%|█████████████████████████████                                                      | 7/20 [00:12<00:22,  1.75s/it]\u001b[A\n",
      " 40%|█████████████████████████████████▏                                                 | 8/20 [00:14<00:21,  1.78s/it]\u001b[A\n",
      " 45%|█████████████████████████████████████▎                                             | 9/20 [00:15<00:19,  1.76s/it]\u001b[A\n",
      " 50%|█████████████████████████████████████████                                         | 10/20 [00:17<00:17,  1.73s/it]\u001b[A\n",
      " 55%|█████████████████████████████████████████████                                     | 11/20 [00:19<00:15,  1.71s/it]\u001b[A\n",
      " 60%|█████████████████████████████████████████████████▏                                | 12/20 [00:20<00:14,  1.76s/it]\u001b[A\n",
      " 65%|█████████████████████████████████████████████████████▎                            | 13/20 [00:22<00:12,  1.74s/it]\u001b[A\n",
      " 70%|█████████████████████████████████████████████████████████▍                        | 14/20 [00:24<00:10,  1.74s/it]\u001b[A\n",
      " 75%|█████████████████████████████████████████████████████████████▌                    | 15/20 [00:26<00:08,  1.73s/it]\u001b[A\n",
      " 80%|█████████████████████████████████████████████████████████████████▌                | 16/20 [00:27<00:07,  1.76s/it]\u001b[A\n",
      " 85%|█████████████████████████████████████████████████████████████████████▋            | 17/20 [00:29<00:05,  1.76s/it]\u001b[A\n",
      " 90%|█████████████████████████████████████████████████████████████████████████▊        | 18/20 [00:31<00:03,  1.73s/it]\u001b[A\n",
      " 95%|█████████████████████████████████████████████████████████████████████████████▉    | 19/20 [00:33<00:01,  1.74s/it]\u001b[A\n",
      "100%|██████████████████████████████████████████████████████████████████████████████████| 20/20 [00:34<00:00,  1.74s/it]\u001b[A\n",
      " 77%|███████████████████████████████████████████████████████████████▍                  | 72/93 [47:19<12:14, 34.96s/it]\n",
      "  0%|                                                                                           | 0/20 [00:00<?, ?it/s]\u001b[A\n",
      "  5%|████▏                                                                              | 1/20 [00:01<00:35,  1.85s/it]\u001b[A\n",
      " 10%|████████▎                                                                          | 2/20 [00:03<00:32,  1.80s/it]\u001b[A\n",
      " 15%|████████████▍                                                                      | 3/20 [00:05<00:30,  1.79s/it]\u001b[A\n",
      " 20%|████████████████▌                                                                  | 4/20 [00:07<00:28,  1.79s/it]\u001b[A\n",
      " 25%|████████████████████▊                                                              | 5/20 [00:08<00:26,  1.79s/it]\u001b[A\n",
      " 30%|████████████████████████▉                                                          | 6/20 [00:10<00:25,  1.85s/it]\u001b[A\n",
      " 35%|█████████████████████████████                                                      | 7/20 [00:12<00:23,  1.81s/it]\u001b[A\n",
      " 40%|█████████████████████████████████▏                                                 | 8/20 [00:14<00:21,  1.78s/it]\u001b[A\n",
      " 45%|█████████████████████████████████████▎                                             | 9/20 [00:16<00:19,  1.75s/it]\u001b[A\n",
      " 50%|█████████████████████████████████████████                                         | 10/20 [00:17<00:17,  1.78s/it]\u001b[A\n",
      " 55%|█████████████████████████████████████████████                                     | 11/20 [00:19<00:16,  1.79s/it]\u001b[A\n",
      " 60%|█████████████████████████████████████████████████▏                                | 12/20 [00:21<00:14,  1.76s/it]\u001b[A\n",
      " 65%|█████████████████████████████████████████████████████▎                            | 13/20 [00:23<00:12,  1.77s/it]\u001b[A\n",
      " 70%|█████████████████████████████████████████████████████████▍                        | 14/20 [00:24<00:10,  1.77s/it]\u001b[A\n",
      " 75%|█████████████████████████████████████████████████████████████▌                    | 15/20 [00:27<00:09,  1.85s/it]\u001b[A\n",
      " 80%|█████████████████████████████████████████████████████████████████▌                | 16/20 [00:28<00:07,  1.82s/it]\u001b[A\n",
      " 85%|█████████████████████████████████████████████████████████████████████▋            | 17/20 [00:30<00:05,  1.87s/it]\u001b[A\n",
      " 90%|█████████████████████████████████████████████████████████████████████████▊        | 18/20 [00:32<00:03,  1.96s/it]\u001b[A\n",
      " 95%|█████████████████████████████████████████████████████████████████████████████▉    | 19/20 [00:34<00:01,  1.96s/it]\u001b[A\n",
      "100%|██████████████████████████████████████████████████████████████████████████████████| 20/20 [00:36<00:00,  1.84s/it]\u001b[A\n",
      " 78%|████████████████████████████████████████████████████████████████▎                 | 73/93 [47:56<11:50, 35.54s/it]\n",
      "  0%|                                                                                           | 0/20 [00:00<?, ?it/s]\u001b[A\n",
      "  5%|████▏                                                                              | 1/20 [00:01<00:36,  1.93s/it]\u001b[A\n",
      " 10%|████████▎                                                                          | 2/20 [00:03<00:34,  1.90s/it]\u001b[A\n",
      " 15%|████████████▍                                                                      | 3/20 [00:05<00:32,  1.94s/it]\u001b[A\n",
      " 20%|████████████████▌                                                                  | 4/20 [00:07<00:31,  1.95s/it]\u001b[A\n",
      " 25%|████████████████████▊                                                              | 5/20 [00:09<00:28,  1.89s/it]\u001b[A\n",
      " 30%|████████████████████████▉                                                          | 6/20 [00:11<00:25,  1.84s/it]\u001b[A\n",
      " 35%|█████████████████████████████                                                      | 7/20 [00:13<00:23,  1.83s/it]\u001b[A\n",
      " 40%|█████████████████████████████████▏                                                 | 8/20 [00:14<00:21,  1.80s/it]\u001b[A\n",
      " 45%|█████████████████████████████████████▎                                             | 9/20 [00:16<00:19,  1.78s/it]\u001b[A\n",
      " 50%|█████████████████████████████████████████                                         | 10/20 [00:18<00:17,  1.77s/it]\u001b[A\n",
      " 55%|█████████████████████████████████████████████                                     | 11/20 [00:20<00:16,  1.80s/it]\u001b[A\n",
      " 60%|█████████████████████████████████████████████████▏                                | 12/20 [00:21<00:14,  1.79s/it]\u001b[A\n",
      " 65%|█████████████████████████████████████████████████████▎                            | 13/20 [00:23<00:12,  1.77s/it]\u001b[A\n",
      " 70%|█████████████████████████████████████████████████████████▍                        | 14/20 [00:25<00:10,  1.78s/it]\u001b[A\n",
      " 75%|█████████████████████████████████████████████████████████████▌                    | 15/20 [00:27<00:08,  1.79s/it]\u001b[A\n",
      " 80%|█████████████████████████████████████████████████████████████████▌                | 16/20 [00:29<00:07,  1.78s/it]\u001b[A\n",
      " 85%|█████████████████████████████████████████████████████████████████████▋            | 17/20 [00:30<00:05,  1.80s/it]\u001b[A\n",
      " 90%|█████████████████████████████████████████████████████████████████████████▊        | 18/20 [00:32<00:03,  1.85s/it]\u001b[A\n",
      " 95%|█████████████████████████████████████████████████████████████████████████████▉    | 19/20 [00:34<00:01,  1.83s/it]\u001b[A\n",
      "100%|██████████████████████████████████████████████████████████████████████████████████| 20/20 [00:36<00:00,  1.82s/it]\u001b[A\n",
      " 80%|█████████████████████████████████████████████████████████████████▏                | 74/93 [48:33<11:20, 35.80s/it]\n",
      "  0%|                                                                                           | 0/20 [00:00<?, ?it/s]\u001b[A\n",
      "  5%|████▏                                                                              | 1/20 [00:01<00:37,  1.97s/it]\u001b[A\n",
      " 10%|████████▎                                                                          | 2/20 [00:03<00:33,  1.84s/it]\u001b[A\n",
      " 15%|████████████▍                                                                      | 3/20 [00:05<00:31,  1.83s/it]\u001b[A\n",
      " 20%|████████████████▌                                                                  | 4/20 [00:07<00:29,  1.85s/it]\u001b[A\n",
      " 25%|████████████████████▊                                                              | 5/20 [00:09<00:27,  1.84s/it]\u001b[A\n",
      " 30%|████████████████████████▉                                                          | 6/20 [00:11<00:26,  1.89s/it]\u001b[A\n",
      " 35%|█████████████████████████████                                                      | 7/20 [00:13<00:24,  1.85s/it]\u001b[A\n",
      " 40%|█████████████████████████████████▏                                                 | 8/20 [00:14<00:21,  1.83s/it]\u001b[A\n",
      " 45%|█████████████████████████████████████▎                                             | 9/20 [00:16<00:20,  1.85s/it]\u001b[A\n",
      " 50%|█████████████████████████████████████████                                         | 10/20 [00:18<00:18,  1.89s/it]\u001b[A\n",
      " 55%|█████████████████████████████████████████████                                     | 11/20 [00:20<00:16,  1.88s/it]\u001b[A\n",
      " 60%|█████████████████████████████████████████████████▏                                | 12/20 [00:22<00:14,  1.87s/it]\u001b[A\n",
      " 65%|█████████████████████████████████████████████████████▎                            | 13/20 [00:24<00:13,  1.89s/it]\u001b[A\n",
      " 70%|█████████████████████████████████████████████████████████▍                        | 14/20 [00:26<00:11,  1.86s/it]\u001b[A\n",
      " 75%|█████████████████████████████████████████████████████████████▌                    | 15/20 [00:27<00:09,  1.83s/it]\u001b[A\n",
      " 80%|█████████████████████████████████████████████████████████████████▌                | 16/20 [00:29<00:07,  1.85s/it]\u001b[A\n",
      " 85%|█████████████████████████████████████████████████████████████████████▋            | 17/20 [00:31<00:05,  1.82s/it]\u001b[A\n",
      " 90%|█████████████████████████████████████████████████████████████████████████▊        | 18/20 [00:33<00:03,  1.82s/it]\u001b[A\n",
      " 95%|█████████████████████████████████████████████████████████████████████████████▉    | 19/20 [00:35<00:01,  1.99s/it]\u001b[A\n",
      "100%|██████████████████████████████████████████████████████████████████████████████████| 20/20 [00:38<00:00,  1.92s/it]\u001b[A\n",
      " 81%|██████████████████████████████████████████████████████████████████▏               | 75/93 [49:11<10:58, 36.59s/it]\n",
      "  0%|                                                                                           | 0/20 [00:00<?, ?it/s]\u001b[A\n",
      "  5%|████▏                                                                              | 1/20 [00:02<00:51,  2.73s/it]\u001b[A\n",
      " 10%|████████▎                                                                          | 2/20 [00:05<00:50,  2.82s/it]\u001b[A\n",
      " 15%|████████████▍                                                                      | 3/20 [00:08<00:45,  2.70s/it]\u001b[A\n",
      " 20%|████████████████▌                                                                  | 4/20 [00:10<00:41,  2.57s/it]\u001b[A\n",
      " 25%|████████████████████▊                                                              | 5/20 [00:12<00:36,  2.40s/it]\u001b[A\n",
      " 30%|████████████████████████▉                                                          | 6/20 [00:14<00:31,  2.23s/it]\u001b[A\n",
      " 35%|█████████████████████████████                                                      | 7/20 [00:16<00:28,  2.21s/it]\u001b[A\n",
      " 40%|█████████████████████████████████▏                                                 | 8/20 [00:19<00:28,  2.34s/it]\u001b[A\n",
      " 45%|█████████████████████████████████████▎                                             | 9/20 [00:21<00:24,  2.25s/it]\u001b[A\n",
      " 50%|█████████████████████████████████████████                                         | 10/20 [00:24<00:23,  2.38s/it]\u001b[A\n",
      " 55%|█████████████████████████████████████████████                                     | 11/20 [00:26<00:20,  2.27s/it]\u001b[A\n",
      " 60%|█████████████████████████████████████████████████▏                                | 12/20 [00:28<00:18,  2.31s/it]\u001b[A\n",
      " 65%|█████████████████████████████████████████████████████▎                            | 13/20 [00:31<00:16,  2.39s/it]\u001b[A\n",
      " 70%|█████████████████████████████████████████████████████████▍                        | 14/20 [00:33<00:13,  2.27s/it]\u001b[A\n",
      " 75%|█████████████████████████████████████████████████████████████▌                    | 15/20 [00:35<00:11,  2.33s/it]\u001b[A\n",
      " 80%|█████████████████████████████████████████████████████████████████▌                | 16/20 [00:37<00:09,  2.33s/it]\u001b[A\n",
      " 85%|█████████████████████████████████████████████████████████████████████▋            | 17/20 [00:40<00:06,  2.31s/it]\u001b[A\n",
      " 90%|█████████████████████████████████████████████████████████████████████████▊        | 18/20 [00:42<00:04,  2.19s/it]\u001b[A\n",
      " 95%|█████████████████████████████████████████████████████████████████████████████▉    | 19/20 [00:43<00:02,  2.05s/it]\u001b[A\n",
      "100%|██████████████████████████████████████████████████████████████████████████████████| 20/20 [00:45<00:00,  2.27s/it]\u001b[A\n",
      " 82%|███████████████████████████████████████████████████████████████████               | 76/93 [49:56<11:07, 39.26s/it]\n",
      "  0%|                                                                                           | 0/20 [00:00<?, ?it/s]\u001b[A\n",
      "  5%|████▏                                                                              | 1/20 [00:01<00:37,  1.96s/it]\u001b[A\n",
      " 10%|████████▎                                                                          | 2/20 [00:03<00:33,  1.84s/it]\u001b[A\n",
      " 15%|████████████▍                                                                      | 3/20 [00:05<00:31,  1.88s/it]\u001b[A\n",
      " 20%|████████████████▌                                                                  | 4/20 [00:07<00:29,  1.83s/it]\u001b[A\n",
      " 25%|████████████████████▊                                                              | 5/20 [00:09<00:26,  1.80s/it]\u001b[A\n",
      " 30%|████████████████████████▉                                                          | 6/20 [00:10<00:25,  1.80s/it]\u001b[A\n",
      " 35%|█████████████████████████████                                                      | 7/20 [00:12<00:23,  1.80s/it]\u001b[A\n",
      " 40%|█████████████████████████████████▏                                                 | 8/20 [00:14<00:21,  1.78s/it]\u001b[A\n",
      " 45%|█████████████████████████████████████▎                                             | 9/20 [00:16<00:19,  1.80s/it]\u001b[A\n",
      " 50%|█████████████████████████████████████████                                         | 10/20 [00:18<00:18,  1.82s/it]\u001b[A\n",
      " 55%|█████████████████████████████████████████████                                     | 11/20 [00:19<00:16,  1.79s/it]\u001b[A\n",
      " 60%|█████████████████████████████████████████████████▏                                | 12/20 [00:21<00:14,  1.77s/it]\u001b[A\n",
      " 65%|█████████████████████████████████████████████████████▎                            | 13/20 [00:23<00:12,  1.74s/it]\u001b[A\n",
      " 70%|█████████████████████████████████████████████████████████▍                        | 14/20 [00:25<00:10,  1.73s/it]\u001b[A\n",
      " 75%|█████████████████████████████████████████████████████████████▌                    | 15/20 [00:27<00:09,  1.82s/it]\u001b[A\n",
      " 80%|█████████████████████████████████████████████████████████████████▌                | 16/20 [00:29<00:08,  2.10s/it]\u001b[A\n",
      " 85%|█████████████████████████████████████████████████████████████████████▋            | 17/20 [00:31<00:06,  2.01s/it]\u001b[A\n",
      " 90%|█████████████████████████████████████████████████████████████████████████▊        | 18/20 [00:33<00:03,  1.95s/it]\u001b[A\n",
      " 95%|█████████████████████████████████████████████████████████████████████████████▉    | 19/20 [00:35<00:02,  2.12s/it]\u001b[A\n",
      "100%|██████████████████████████████████████████████████████████████████████████████████| 20/20 [00:38<00:00,  1.91s/it]\u001b[A\n",
      " 83%|███████████████████████████████████████████████████████████████████▉              | 77/93 [50:35<10:22, 38.93s/it]\n",
      "  0%|                                                                                           | 0/20 [00:00<?, ?it/s]\u001b[A\n",
      "  5%|████▏                                                                              | 1/20 [00:02<00:46,  2.45s/it]\u001b[A\n",
      " 10%|████████▎                                                                          | 2/20 [00:05<00:46,  2.59s/it]\u001b[A\n",
      " 15%|████████████▍                                                                      | 3/20 [00:07<00:40,  2.40s/it]\u001b[A\n",
      " 20%|████████████████▌                                                                  | 4/20 [00:10<00:41,  2.59s/it]\u001b[A\n",
      " 25%|████████████████████▊                                                              | 5/20 [00:12<00:37,  2.52s/it]\u001b[A\n",
      " 30%|████████████████████████▉                                                          | 6/20 [00:14<00:32,  2.33s/it]\u001b[A\n",
      " 35%|█████████████████████████████                                                      | 7/20 [00:16<00:28,  2.23s/it]\u001b[A\n",
      " 40%|█████████████████████████████████▏                                                 | 8/20 [00:18<00:26,  2.19s/it]\u001b[A\n",
      " 45%|█████████████████████████████████████▎                                             | 9/20 [00:20<00:22,  2.05s/it]\u001b[A\n",
      " 50%|█████████████████████████████████████████                                         | 10/20 [00:22<00:21,  2.11s/it]\u001b[A\n",
      " 55%|█████████████████████████████████████████████                                     | 11/20 [00:24<00:18,  2.04s/it]\u001b[A\n",
      " 60%|█████████████████████████████████████████████████▏                                | 12/20 [00:26<00:16,  2.12s/it]\u001b[A\n",
      " 65%|█████████████████████████████████████████████████████▎                            | 13/20 [00:28<00:14,  2.09s/it]\u001b[A\n",
      " 70%|█████████████████████████████████████████████████████████▍                        | 14/20 [00:30<00:12,  2.04s/it]\u001b[A\n",
      " 75%|█████████████████████████████████████████████████████████████▌                    | 15/20 [00:32<00:09,  1.97s/it]\u001b[A\n",
      " 80%|█████████████████████████████████████████████████████████████████▌                | 16/20 [00:34<00:07,  1.92s/it]\u001b[A\n",
      " 85%|█████████████████████████████████████████████████████████████████████▋            | 17/20 [00:36<00:05,  1.87s/it]\u001b[A\n",
      " 90%|█████████████████████████████████████████████████████████████████████████▊        | 18/20 [00:37<00:03,  1.84s/it]\u001b[A\n",
      " 95%|█████████████████████████████████████████████████████████████████████████████▉    | 19/20 [00:39<00:01,  1.81s/it]\u001b[A\n",
      "100%|██████████████████████████████████████████████████████████████████████████████████| 20/20 [00:41<00:00,  2.07s/it]\u001b[A\n",
      " 84%|████████████████████████████████████████████████████████████████████▊             | 78/93 [51:16<09:55, 39.69s/it]\n",
      "  0%|                                                                                           | 0/20 [00:00<?, ?it/s]\u001b[A\n",
      "  5%|████▏                                                                              | 1/20 [00:01<00:33,  1.75s/it]\u001b[A\n",
      " 10%|████████▎                                                                          | 2/20 [00:03<00:31,  1.74s/it]\u001b[A\n",
      " 15%|████████████▍                                                                      | 3/20 [00:06<00:38,  2.24s/it]\u001b[A\n",
      " 20%|████████████████▌                                                                  | 4/20 [00:09<00:39,  2.48s/it]\u001b[A\n",
      " 25%|████████████████████▊                                                              | 5/20 [00:11<00:38,  2.60s/it]\u001b[A\n",
      " 30%|████████████████████████▉                                                          | 6/20 [00:14<00:36,  2.64s/it]\u001b[A\n",
      " 35%|█████████████████████████████                                                      | 7/20 [00:17<00:35,  2.71s/it]\u001b[A\n",
      " 40%|█████████████████████████████████▏                                                 | 8/20 [00:19<00:28,  2.40s/it]\u001b[A\n",
      " 45%|█████████████████████████████████████▎                                             | 9/20 [00:22<00:27,  2.50s/it]\u001b[A\n",
      " 50%|█████████████████████████████████████████                                         | 10/20 [00:24<00:25,  2.51s/it]\u001b[A\n",
      " 55%|█████████████████████████████████████████████                                     | 11/20 [00:26<00:22,  2.45s/it]\u001b[A\n",
      " 60%|█████████████████████████████████████████████████▏                                | 12/20 [00:29<00:19,  2.39s/it]\u001b[A\n",
      " 65%|█████████████████████████████████████████████████████▎                            | 13/20 [00:31<00:16,  2.40s/it]\u001b[A\n",
      " 70%|█████████████████████████████████████████████████████████▍                        | 14/20 [00:33<00:13,  2.25s/it]\u001b[A\n",
      " 75%|█████████████████████████████████████████████████████████████▌                    | 15/20 [00:35<00:10,  2.19s/it]\u001b[A\n",
      " 80%|█████████████████████████████████████████████████████████████████▌                | 16/20 [00:38<00:09,  2.40s/it]\u001b[A\n",
      " 85%|█████████████████████████████████████████████████████████████████████▋            | 17/20 [00:41<00:07,  2.50s/it]\u001b[A\n",
      " 90%|█████████████████████████████████████████████████████████████████████████▊        | 18/20 [00:43<00:05,  2.50s/it]\u001b[A\n",
      " 95%|█████████████████████████████████████████████████████████████████████████████▉    | 19/20 [00:45<00:02,  2.44s/it]\u001b[A\n",
      "100%|██████████████████████████████████████████████████████████████████████████████████| 20/20 [00:47<00:00,  2.39s/it]\u001b[A\n",
      " 85%|█████████████████████████████████████████████████████████████████████▋            | 79/93 [52:04<09:49, 42.12s/it]\n",
      "  0%|                                                                                           | 0/20 [00:00<?, ?it/s]\u001b[A\n",
      "  5%|████▏                                                                              | 1/20 [00:01<00:33,  1.77s/it]\u001b[A\n",
      " 10%|████████▎                                                                          | 2/20 [00:03<00:30,  1.72s/it]\u001b[A\n",
      " 15%|████████████▍                                                                      | 3/20 [00:05<00:29,  1.74s/it]\u001b[A\n",
      " 20%|████████████████▌                                                                  | 4/20 [00:06<00:27,  1.72s/it]\u001b[A\n",
      " 25%|████████████████████▊                                                              | 5/20 [00:08<00:25,  1.73s/it]\u001b[A\n",
      " 30%|████████████████████████▉                                                          | 6/20 [00:10<00:24,  1.74s/it]\u001b[A\n",
      " 35%|█████████████████████████████                                                      | 7/20 [00:13<00:26,  2.07s/it]\u001b[A\n",
      " 40%|█████████████████████████████████▏                                                 | 8/20 [00:15<00:27,  2.29s/it]\u001b[A\n",
      " 45%|█████████████████████████████████████▎                                             | 9/20 [00:18<00:24,  2.27s/it]\u001b[A\n",
      " 50%|█████████████████████████████████████████                                         | 10/20 [00:20<00:22,  2.29s/it]\u001b[A\n",
      " 55%|█████████████████████████████████████████████                                     | 11/20 [00:23<00:21,  2.43s/it]\u001b[A\n",
      " 60%|█████████████████████████████████████████████████▏                                | 12/20 [00:25<00:18,  2.34s/it]\u001b[A\n",
      " 65%|█████████████████████████████████████████████████████▎                            | 13/20 [00:28<00:17,  2.48s/it]\u001b[A\n",
      " 70%|█████████████████████████████████████████████████████████▍                        | 14/20 [00:30<00:14,  2.46s/it]\u001b[A\n",
      " 75%|█████████████████████████████████████████████████████████████▌                    | 15/20 [00:32<00:11,  2.38s/it]\u001b[A\n",
      " 80%|█████████████████████████████████████████████████████████████████▌                | 16/20 [00:35<00:09,  2.41s/it]\u001b[A\n",
      " 85%|█████████████████████████████████████████████████████████████████████▋            | 17/20 [00:37<00:07,  2.45s/it]\u001b[A\n",
      " 90%|█████████████████████████████████████████████████████████████████████████▊        | 18/20 [00:40<00:04,  2.42s/it]\u001b[A\n",
      " 95%|█████████████████████████████████████████████████████████████████████████████▉    | 19/20 [00:42<00:02,  2.39s/it]\u001b[A\n",
      "100%|██████████████████████████████████████████████████████████████████████████████████| 20/20 [00:44<00:00,  2.23s/it]\u001b[A\n",
      " 86%|██████████████████████████████████████████████████████████████████████▌           | 80/93 [52:48<09:17, 42.85s/it]\n",
      "  0%|                                                                                           | 0/20 [00:00<?, ?it/s]\u001b[A\n",
      "  5%|████▏                                                                              | 1/20 [00:02<00:49,  2.61s/it]\u001b[A\n",
      " 10%|████████▎                                                                          | 2/20 [00:05<00:45,  2.51s/it]\u001b[A\n",
      " 15%|████████████▍                                                                      | 3/20 [00:07<00:38,  2.29s/it]\u001b[A\n",
      " 20%|████████████████▌                                                                  | 4/20 [00:08<00:33,  2.09s/it]\u001b[A\n",
      " 25%|████████████████████▊                                                              | 5/20 [00:10<00:29,  1.97s/it]\u001b[A\n",
      " 30%|████████████████████████▉                                                          | 6/20 [00:12<00:26,  1.91s/it]\u001b[A\n",
      " 35%|█████████████████████████████                                                      | 7/20 [00:14<00:24,  1.87s/it]\u001b[A\n",
      " 40%|█████████████████████████████████▏                                                 | 8/20 [00:15<00:22,  1.84s/it]\u001b[A\n",
      " 45%|█████████████████████████████████████▎                                             | 9/20 [00:17<00:19,  1.80s/it]\u001b[A\n",
      " 50%|█████████████████████████████████████████                                         | 10/20 [00:19<00:17,  1.78s/it]\u001b[A\n",
      " 55%|█████████████████████████████████████████████                                     | 11/20 [00:21<00:15,  1.75s/it]\u001b[A\n",
      " 60%|█████████████████████████████████████████████████▏                                | 12/20 [00:23<00:15,  1.92s/it]\u001b[A\n",
      " 65%|█████████████████████████████████████████████████████▎                            | 13/20 [00:25<00:14,  2.11s/it]\u001b[A\n",
      " 70%|█████████████████████████████████████████████████████████▍                        | 14/20 [00:28<00:13,  2.30s/it]\u001b[A\n",
      " 75%|█████████████████████████████████████████████████████████████▌                    | 15/20 [00:30<00:11,  2.22s/it]\u001b[A\n",
      " 80%|█████████████████████████████████████████████████████████████████▌                | 16/20 [00:33<00:09,  2.31s/it]\u001b[A\n",
      " 85%|█████████████████████████████████████████████████████████████████████▋            | 17/20 [00:35<00:07,  2.38s/it]\u001b[A\n",
      " 90%|█████████████████████████████████████████████████████████████████████████▊        | 18/20 [00:38<00:05,  2.52s/it]\u001b[A\n",
      " 95%|█████████████████████████████████████████████████████████████████████████████▉    | 19/20 [00:40<00:02,  2.46s/it]\u001b[A\n",
      "100%|██████████████████████████████████████████████████████████████████████████████████| 20/20 [00:43<00:00,  2.18s/it]\u001b[A\n",
      " 87%|███████████████████████████████████████████████████████████████████████▍          | 81/93 [53:32<08:36, 43.08s/it]\n",
      "  0%|                                                                                           | 0/20 [00:00<?, ?it/s]\u001b[A\n",
      "  5%|████▏                                                                              | 1/20 [00:02<00:52,  2.74s/it]\u001b[A\n",
      " 10%|████████▎                                                                          | 2/20 [00:04<00:39,  2.19s/it]\u001b[A\n",
      " 15%|████████████▍                                                                      | 3/20 [00:07<00:40,  2.37s/it]\u001b[A\n",
      " 20%|████████████████▌                                                                  | 4/20 [00:08<00:34,  2.16s/it]\u001b[A\n",
      " 25%|████████████████████▊                                                              | 5/20 [00:11<00:35,  2.36s/it]\u001b[A\n",
      " 30%|████████████████████████▉                                                          | 6/20 [00:14<00:34,  2.46s/it]\u001b[A\n",
      " 35%|█████████████████████████████                                                      | 7/20 [00:16<00:31,  2.44s/it]\u001b[A\n",
      " 40%|█████████████████████████████████▏                                                 | 8/20 [00:18<00:27,  2.25s/it]\u001b[A\n",
      " 45%|█████████████████████████████████████▎                                             | 9/20 [00:20<00:23,  2.15s/it]\u001b[A\n",
      " 50%|█████████████████████████████████████████                                         | 10/20 [00:22<00:20,  2.03s/it]\u001b[A\n",
      " 55%|█████████████████████████████████████████████                                     | 11/20 [00:24<00:17,  1.94s/it]\u001b[A\n",
      " 60%|█████████████████████████████████████████████████▏                                | 12/20 [00:25<00:15,  1.90s/it]\u001b[A\n",
      " 65%|█████████████████████████████████████████████████████▎                            | 13/20 [00:27<00:13,  1.87s/it]\u001b[A\n",
      " 70%|█████████████████████████████████████████████████████████▍                        | 14/20 [00:29<00:11,  1.85s/it]\u001b[A\n",
      " 75%|█████████████████████████████████████████████████████████████▌                    | 15/20 [00:31<00:09,  1.98s/it]\u001b[A\n",
      " 80%|█████████████████████████████████████████████████████████████████▌                | 16/20 [00:34<00:08,  2.14s/it]\u001b[A\n",
      " 85%|█████████████████████████████████████████████████████████████████████▋            | 17/20 [00:36<00:06,  2.21s/it]\u001b[A\n",
      " 90%|█████████████████████████████████████████████████████████████████████████▊        | 18/20 [00:38<00:04,  2.10s/it]\u001b[A\n",
      " 95%|█████████████████████████████████████████████████████████████████████████████▉    | 19/20 [00:40<00:02,  2.21s/it]\u001b[A\n",
      "100%|██████████████████████████████████████████████████████████████████████████████████| 20/20 [00:43<00:00,  2.18s/it]\u001b[A\n",
      " 88%|████████████████████████████████████████████████████████████████████████▎         | 82/93 [54:16<07:55, 43.22s/it]\n",
      "  0%|                                                                                           | 0/20 [00:00<?, ?it/s]\u001b[A\n",
      "  5%|████▏                                                                              | 1/20 [00:02<00:53,  2.79s/it]\u001b[A\n",
      " 10%|████████▎                                                                          | 2/20 [00:05<00:49,  2.72s/it]\u001b[A\n",
      " 15%|████████████▍                                                                      | 3/20 [00:07<00:42,  2.49s/it]\u001b[A\n",
      " 20%|████████████████▌                                                                  | 4/20 [00:10<00:38,  2.43s/it]\u001b[A\n",
      " 25%|████████████████████▊                                                              | 5/20 [00:12<00:38,  2.57s/it]\u001b[A\n",
      " 30%|████████████████████████▉                                                          | 6/20 [00:15<00:37,  2.66s/it]\u001b[A\n",
      " 35%|█████████████████████████████                                                      | 7/20 [00:18<00:34,  2.69s/it]\u001b[A\n",
      " 40%|█████████████████████████████████▏                                                 | 8/20 [00:20<00:30,  2.51s/it]\u001b[A\n",
      " 45%|█████████████████████████████████████▎                                             | 9/20 [00:22<00:26,  2.42s/it]\u001b[A\n",
      " 50%|█████████████████████████████████████████                                         | 10/20 [00:25<00:25,  2.51s/it]\u001b[A\n",
      " 55%|█████████████████████████████████████████████                                     | 11/20 [00:27<00:22,  2.50s/it]\u001b[A\n",
      " 60%|█████████████████████████████████████████████████▏                                | 12/20 [00:30<00:20,  2.54s/it]\u001b[A\n",
      " 65%|█████████████████████████████████████████████████████▎                            | 13/20 [00:32<00:17,  2.43s/it]\u001b[A\n",
      " 70%|█████████████████████████████████████████████████████████▍                        | 14/20 [00:34<00:13,  2.24s/it]\u001b[A\n",
      " 75%|█████████████████████████████████████████████████████████████▌                    | 15/20 [00:36<00:10,  2.09s/it]\u001b[A\n",
      " 80%|█████████████████████████████████████████████████████████████████▌                | 16/20 [00:38<00:07,  1.99s/it]\u001b[A\n",
      " 85%|█████████████████████████████████████████████████████████████████████▋            | 17/20 [00:39<00:05,  1.93s/it]\u001b[A\n",
      " 90%|█████████████████████████████████████████████████████████████████████████▊        | 18/20 [00:41<00:03,  1.90s/it]\u001b[A\n",
      " 95%|█████████████████████████████████████████████████████████████████████████████▉    | 19/20 [00:43<00:02,  2.00s/it]\u001b[A\n",
      "100%|██████████████████████████████████████████████████████████████████████████████████| 20/20 [00:45<00:00,  2.28s/it]\u001b[A\n",
      " 89%|█████████████████████████████████████████████████████████████████████████▏        | 83/93 [55:01<07:19, 43.94s/it]\n",
      "  0%|                                                                                           | 0/20 [00:00<?, ?it/s]\u001b[A\n",
      "  5%|████▏                                                                              | 1/20 [00:01<00:33,  1.74s/it]\u001b[A\n",
      " 10%|████████▎                                                                          | 2/20 [00:03<00:32,  1.81s/it]\u001b[A\n",
      " 15%|████████████▍                                                                      | 3/20 [00:05<00:31,  1.84s/it]\u001b[A\n",
      " 20%|████████████████▌                                                                  | 4/20 [00:07<00:30,  1.88s/it]\u001b[A\n",
      " 25%|████████████████████▊                                                              | 5/20 [00:09<00:27,  1.87s/it]\u001b[A\n",
      " 30%|████████████████████████▉                                                          | 6/20 [00:11<00:26,  1.88s/it]\u001b[A\n",
      " 35%|█████████████████████████████                                                      | 7/20 [00:13<00:24,  1.91s/it]\u001b[A\n",
      " 40%|█████████████████████████████████▏                                                 | 8/20 [00:14<00:22,  1.90s/it]\u001b[A\n",
      " 45%|█████████████████████████████████████▎                                             | 9/20 [00:16<00:20,  1.89s/it]\u001b[A\n",
      " 50%|█████████████████████████████████████████                                         | 10/20 [00:18<00:18,  1.87s/it]\u001b[A\n",
      " 55%|█████████████████████████████████████████████                                     | 11/20 [00:20<00:16,  1.84s/it]\u001b[A\n",
      " 60%|█████████████████████████████████████████████████▏                                | 12/20 [00:22<00:14,  1.82s/it]\u001b[A\n",
      " 65%|█████████████████████████████████████████████████████▎                            | 13/20 [00:23<00:12,  1.79s/it]\u001b[A\n",
      " 70%|█████████████████████████████████████████████████████████▍                        | 14/20 [00:25<00:10,  1.80s/it]\u001b[A\n",
      " 75%|█████████████████████████████████████████████████████████████▌                    | 15/20 [00:27<00:08,  1.80s/it]\u001b[A\n",
      " 80%|█████████████████████████████████████████████████████████████████▌                | 16/20 [00:29<00:07,  1.78s/it]\u001b[A\n",
      " 85%|█████████████████████████████████████████████████████████████████████▋            | 17/20 [00:31<00:05,  1.80s/it]\u001b[A\n",
      " 90%|█████████████████████████████████████████████████████████████████████████▊        | 18/20 [00:32<00:03,  1.78s/it]\u001b[A\n",
      " 95%|█████████████████████████████████████████████████████████████████████████████▉    | 19/20 [00:34<00:01,  1.77s/it]\u001b[A\n",
      "100%|██████████████████████████████████████████████████████████████████████████████████| 20/20 [00:36<00:00,  1.82s/it]\u001b[A\n",
      " 90%|██████████████████████████████████████████████████████████████████████████        | 84/93 [55:38<06:15, 41.71s/it]\n",
      "  0%|                                                                                           | 0/20 [00:00<?, ?it/s]\u001b[A\n",
      "  5%|████▏                                                                              | 1/20 [00:01<00:36,  1.94s/it]\u001b[A\n",
      " 10%|████████▎                                                                          | 2/20 [00:03<00:34,  1.92s/it]\u001b[A\n",
      " 15%|████████████▍                                                                      | 3/20 [00:05<00:31,  1.86s/it]\u001b[A\n",
      " 20%|████████████████▌                                                                  | 4/20 [00:07<00:29,  1.84s/it]\u001b[A\n",
      " 25%|████████████████████▊                                                              | 5/20 [00:09<00:27,  1.85s/it]\u001b[A\n",
      " 30%|████████████████████████▉                                                          | 6/20 [00:11<00:25,  1.82s/it]\u001b[A\n",
      " 35%|█████████████████████████████                                                      | 7/20 [00:12<00:23,  1.78s/it]\u001b[A\n",
      " 40%|█████████████████████████████████▏                                                 | 8/20 [00:14<00:21,  1.82s/it]\u001b[A\n",
      " 45%|█████████████████████████████████████▎                                             | 9/20 [00:16<00:19,  1.81s/it]\u001b[A\n",
      " 50%|█████████████████████████████████████████                                         | 10/20 [00:18<00:17,  1.78s/it]\u001b[A\n",
      " 55%|█████████████████████████████████████████████                                     | 11/20 [00:19<00:16,  1.79s/it]\u001b[A\n",
      " 60%|█████████████████████████████████████████████████▏                                | 12/20 [00:21<00:14,  1.80s/it]\u001b[A\n",
      " 65%|█████████████████████████████████████████████████████▎                            | 13/20 [00:23<00:12,  1.81s/it]\u001b[A\n",
      " 70%|█████████████████████████████████████████████████████████▍                        | 14/20 [00:25<00:10,  1.82s/it]\u001b[A\n",
      " 75%|█████████████████████████████████████████████████████████████▌                    | 15/20 [00:27<00:09,  1.83s/it]\u001b[A\n",
      " 80%|█████████████████████████████████████████████████████████████████▌                | 16/20 [00:29<00:07,  1.81s/it]\u001b[A\n",
      " 85%|█████████████████████████████████████████████████████████████████████▋            | 17/20 [00:30<00:05,  1.81s/it]\u001b[A\n",
      " 90%|█████████████████████████████████████████████████████████████████████████▊        | 18/20 [00:32<00:03,  1.82s/it]\u001b[A\n",
      " 95%|█████████████████████████████████████████████████████████████████████████████▉    | 19/20 [00:34<00:01,  1.82s/it]\u001b[A\n",
      "100%|██████████████████████████████████████████████████████████████████████████████████| 20/20 [00:36<00:00,  1.82s/it]\u001b[A\n",
      " 91%|██████████████████████████████████████████████████████████████████████████▉       | 85/93 [56:14<05:20, 40.10s/it]\n",
      "  0%|                                                                                           | 0/20 [00:00<?, ?it/s]\u001b[A\n",
      "  5%|████▏                                                                              | 1/20 [00:01<00:35,  1.89s/it]\u001b[A\n",
      " 10%|████████▎                                                                          | 2/20 [00:03<00:34,  1.91s/it]\u001b[A\n",
      " 15%|████████████▍                                                                      | 3/20 [00:05<00:31,  1.84s/it]\u001b[A\n",
      " 20%|████████████████▌                                                                  | 4/20 [00:07<00:30,  1.89s/it]\u001b[A\n",
      " 25%|████████████████████▊                                                              | 5/20 [00:09<00:27,  1.85s/it]\u001b[A\n",
      " 30%|████████████████████████▉                                                          | 6/20 [00:11<00:25,  1.82s/it]\u001b[A\n",
      " 35%|█████████████████████████████                                                      | 7/20 [00:12<00:23,  1.80s/it]\u001b[A\n",
      " 40%|█████████████████████████████████▏                                                 | 8/20 [00:14<00:21,  1.78s/it]\u001b[A\n",
      " 45%|█████████████████████████████████████▎                                             | 9/20 [00:16<00:19,  1.77s/it]\u001b[A\n",
      " 50%|█████████████████████████████████████████                                         | 10/20 [00:18<00:17,  1.80s/it]\u001b[A\n",
      " 55%|█████████████████████████████████████████████                                     | 11/20 [00:19<00:16,  1.78s/it]\u001b[A\n",
      " 60%|█████████████████████████████████████████████████▏                                | 12/20 [00:21<00:14,  1.77s/it]\u001b[A\n",
      " 65%|█████████████████████████████████████████████████████▎                            | 13/20 [00:23<00:12,  1.79s/it]\u001b[A\n",
      " 70%|█████████████████████████████████████████████████████████▍                        | 14/20 [00:25<00:10,  1.82s/it]\u001b[A\n",
      " 75%|█████████████████████████████████████████████████████████████▌                    | 15/20 [00:27<00:08,  1.80s/it]\u001b[A\n",
      " 80%|█████████████████████████████████████████████████████████████████▌                | 16/20 [00:29<00:07,  1.82s/it]\u001b[A\n",
      " 85%|█████████████████████████████████████████████████████████████████████▋            | 17/20 [00:30<00:05,  1.80s/it]\u001b[A\n",
      " 90%|█████████████████████████████████████████████████████████████████████████▊        | 18/20 [00:32<00:03,  1.79s/it]\u001b[A\n",
      " 95%|█████████████████████████████████████████████████████████████████████████████▉    | 19/20 [00:34<00:01,  1.80s/it]\u001b[A\n",
      "100%|██████████████████████████████████████████████████████████████████████████████████| 20/20 [00:36<00:00,  1.81s/it]\u001b[A\n",
      " 92%|███████████████████████████████████████████████████████████████████████████▊      | 86/93 [56:50<04:32, 38.92s/it]\n",
      "  0%|                                                                                           | 0/20 [00:00<?, ?it/s]\u001b[A\n",
      "  5%|████▏                                                                              | 1/20 [00:02<00:39,  2.06s/it]\u001b[A\n",
      " 10%|████████▎                                                                          | 2/20 [00:03<00:34,  1.89s/it]\u001b[A\n",
      " 15%|████████████▍                                                                      | 3/20 [00:05<00:30,  1.81s/it]\u001b[A\n",
      " 20%|████████████████▌                                                                  | 4/20 [00:07<00:28,  1.79s/it]\u001b[A\n",
      " 25%|████████████████████▊                                                              | 5/20 [00:09<00:27,  1.82s/it]\u001b[A\n",
      " 30%|████████████████████████▉                                                          | 6/20 [00:10<00:25,  1.79s/it]\u001b[A\n",
      " 35%|█████████████████████████████                                                      | 7/20 [00:12<00:23,  1.78s/it]\u001b[A\n",
      " 40%|█████████████████████████████████▏                                                 | 8/20 [00:14<00:21,  1.76s/it]\u001b[A\n",
      " 45%|█████████████████████████████████████▎                                             | 9/20 [00:16<00:19,  1.79s/it]\u001b[A\n",
      " 50%|█████████████████████████████████████████                                         | 10/20 [00:18<00:17,  1.79s/it]\u001b[A\n",
      " 55%|█████████████████████████████████████████████                                     | 11/20 [00:19<00:16,  1.78s/it]\u001b[A\n",
      " 60%|█████████████████████████████████████████████████▏                                | 12/20 [00:21<00:14,  1.79s/it]\u001b[A\n",
      " 65%|█████████████████████████████████████████████████████▎                            | 13/20 [00:23<00:12,  1.78s/it]\u001b[A\n",
      " 70%|█████████████████████████████████████████████████████████▍                        | 14/20 [00:25<00:10,  1.81s/it]\u001b[A\n",
      " 75%|█████████████████████████████████████████████████████████████▌                    | 15/20 [00:27<00:08,  1.79s/it]\u001b[A\n",
      " 80%|█████████████████████████████████████████████████████████████████▌                | 16/20 [00:28<00:07,  1.79s/it]\u001b[A\n",
      " 85%|█████████████████████████████████████████████████████████████████████▋            | 17/20 [00:30<00:05,  1.81s/it]\u001b[A\n",
      " 90%|█████████████████████████████████████████████████████████████████████████▊        | 18/20 [00:32<00:03,  1.80s/it]\u001b[A\n",
      " 95%|█████████████████████████████████████████████████████████████████████████████▉    | 19/20 [00:34<00:01,  1.79s/it]\u001b[A\n",
      "100%|██████████████████████████████████████████████████████████████████████████████████| 20/20 [00:36<00:00,  1.80s/it]\u001b[A\n",
      " 94%|████████████████████████████████████████████████████████████████████████████▋     | 87/93 [57:26<03:48, 38.08s/it]\n",
      "  0%|                                                                                           | 0/20 [00:00<?, ?it/s]\u001b[A\n",
      "  5%|████▏                                                                              | 1/20 [00:02<00:40,  2.14s/it]\u001b[A\n",
      " 10%|████████▎                                                                          | 2/20 [00:04<00:35,  1.98s/it]\u001b[A\n",
      " 15%|████████████▍                                                                      | 3/20 [00:05<00:31,  1.84s/it]\u001b[A\n",
      " 20%|████████████████▌                                                                  | 4/20 [00:07<00:29,  1.82s/it]\u001b[A\n",
      " 25%|████████████████████▊                                                              | 5/20 [00:09<00:27,  1.83s/it]\u001b[A\n",
      " 30%|████████████████████████▉                                                          | 6/20 [00:11<00:25,  1.84s/it]\u001b[A\n",
      " 35%|█████████████████████████████                                                      | 7/20 [00:12<00:23,  1.83s/it]\u001b[A\n",
      " 40%|█████████████████████████████████▏                                                 | 8/20 [00:14<00:21,  1.79s/it]\u001b[A\n",
      " 45%|█████████████████████████████████████▎                                             | 9/20 [00:16<00:19,  1.81s/it]\u001b[A\n",
      " 50%|█████████████████████████████████████████                                         | 10/20 [00:18<00:18,  1.82s/it]\u001b[A\n",
      " 55%|█████████████████████████████████████████████                                     | 11/20 [00:20<00:16,  1.81s/it]\u001b[A\n",
      " 60%|█████████████████████████████████████████████████▏                                | 12/20 [00:22<00:14,  1.83s/it]\u001b[A\n",
      " 65%|█████████████████████████████████████████████████████▎                            | 13/20 [00:23<00:12,  1.81s/it]\u001b[A\n",
      " 70%|█████████████████████████████████████████████████████████▍                        | 14/20 [00:25<00:10,  1.82s/it]\u001b[A\n",
      " 75%|█████████████████████████████████████████████████████████████▌                    | 15/20 [00:27<00:09,  1.85s/it]\u001b[A\n",
      " 80%|█████████████████████████████████████████████████████████████████▌                | 16/20 [00:29<00:07,  1.85s/it]\u001b[A\n",
      " 85%|█████████████████████████████████████████████████████████████████████▋            | 17/20 [00:31<00:05,  1.85s/it]\u001b[A\n",
      " 90%|█████████████████████████████████████████████████████████████████████████▊        | 18/20 [00:33<00:03,  1.85s/it]\u001b[A\n",
      " 95%|█████████████████████████████████████████████████████████████████████████████▉    | 19/20 [00:34<00:01,  1.82s/it]\u001b[A\n",
      "100%|██████████████████████████████████████████████████████████████████████████████████| 20/20 [00:36<00:00,  1.83s/it]\u001b[A\n",
      " 95%|█████████████████████████████████████████████████████████████████████████████▌    | 88/93 [58:03<03:08, 37.64s/it]\n",
      "  0%|                                                                                           | 0/20 [00:00<?, ?it/s]\u001b[A\n",
      "  5%|████▏                                                                              | 1/20 [00:01<00:37,  1.98s/it]\u001b[A\n",
      " 10%|████████▎                                                                          | 2/20 [00:03<00:33,  1.85s/it]\u001b[A\n",
      " 15%|████████████▍                                                                      | 3/20 [00:05<00:30,  1.82s/it]\u001b[A\n",
      " 20%|████████████████▌                                                                  | 4/20 [00:07<00:29,  1.83s/it]\u001b[A\n",
      " 25%|████████████████████▊                                                              | 5/20 [00:09<00:27,  1.83s/it]\u001b[A\n",
      " 30%|████████████████████████▉                                                          | 6/20 [00:11<00:25,  1.84s/it]\u001b[A\n",
      " 35%|█████████████████████████████                                                      | 7/20 [00:12<00:23,  1.82s/it]\u001b[A\n",
      " 40%|█████████████████████████████████▏                                                 | 8/20 [00:14<00:21,  1.81s/it]\u001b[A\n",
      " 45%|█████████████████████████████████████▎                                             | 9/20 [00:16<00:19,  1.81s/it]\u001b[A\n",
      " 50%|█████████████████████████████████████████                                         | 10/20 [00:18<00:17,  1.79s/it]\u001b[A\n",
      " 55%|█████████████████████████████████████████████                                     | 11/20 [00:19<00:16,  1.79s/it]\u001b[A\n",
      " 60%|█████████████████████████████████████████████████▏                                | 12/20 [00:21<00:14,  1.81s/it]\u001b[A\n",
      " 65%|█████████████████████████████████████████████████████▎                            | 13/20 [00:23<00:12,  1.80s/it]\u001b[A\n",
      " 70%|█████████████████████████████████████████████████████████▍                        | 14/20 [00:25<00:10,  1.79s/it]\u001b[A\n",
      " 75%|█████████████████████████████████████████████████████████████▌                    | 15/20 [00:27<00:08,  1.80s/it]\u001b[A\n",
      " 80%|█████████████████████████████████████████████████████████████████▌                | 16/20 [00:29<00:07,  1.83s/it]\u001b[A\n",
      " 85%|█████████████████████████████████████████████████████████████████████▋            | 17/20 [00:31<00:05,  1.86s/it]\u001b[A\n",
      " 90%|█████████████████████████████████████████████████████████████████████████▊        | 18/20 [00:32<00:03,  1.88s/it]\u001b[A\n",
      " 95%|█████████████████████████████████████████████████████████████████████████████▉    | 19/20 [00:34<00:01,  1.85s/it]\u001b[A\n",
      "100%|██████████████████████████████████████████████████████████████████████████████████| 20/20 [00:36<00:00,  1.83s/it]\u001b[A\n",
      " 96%|██████████████████████████████████████████████████████████████████████████████▍   | 89/93 [58:40<02:29, 37.32s/it]\n",
      "  0%|                                                                                           | 0/20 [00:00<?, ?it/s]\u001b[A\n",
      "  5%|████▏                                                                              | 1/20 [00:01<00:36,  1.90s/it]\u001b[A\n",
      " 10%|████████▎                                                                          | 2/20 [00:03<00:34,  1.89s/it]\u001b[A\n",
      " 15%|████████████▍                                                                      | 3/20 [00:05<00:32,  1.88s/it]\u001b[A\n",
      " 20%|████████████████▌                                                                  | 4/20 [00:07<00:29,  1.84s/it]\u001b[A\n",
      " 25%|████████████████████▊                                                              | 5/20 [00:09<00:27,  1.86s/it]\u001b[A\n",
      " 30%|████████████████████████▉                                                          | 6/20 [00:11<00:26,  1.89s/it]\u001b[A\n",
      " 35%|█████████████████████████████                                                      | 7/20 [00:13<00:24,  1.86s/it]\u001b[A\n",
      " 40%|█████████████████████████████████▏                                                 | 8/20 [00:14<00:21,  1.82s/it]\u001b[A\n",
      " 45%|█████████████████████████████████████▎                                             | 9/20 [00:16<00:20,  1.84s/it]\u001b[A\n",
      " 50%|█████████████████████████████████████████                                         | 10/20 [00:18<00:18,  1.82s/it]\u001b[A\n",
      " 55%|█████████████████████████████████████████████                                     | 11/20 [00:20<00:16,  1.79s/it]\u001b[A\n",
      " 60%|█████████████████████████████████████████████████▏                                | 12/20 [00:21<00:14,  1.78s/it]\u001b[A\n",
      " 65%|█████████████████████████████████████████████████████▎                            | 13/20 [00:23<00:12,  1.81s/it]\u001b[A\n",
      " 70%|█████████████████████████████████████████████████████████▍                        | 14/20 [00:25<00:10,  1.77s/it]\u001b[A\n",
      " 75%|█████████████████████████████████████████████████████████████▌                    | 15/20 [00:27<00:08,  1.78s/it]\u001b[A\n",
      " 80%|█████████████████████████████████████████████████████████████████▌                | 16/20 [00:29<00:07,  1.77s/it]\u001b[A\n",
      " 85%|█████████████████████████████████████████████████████████████████████▋            | 17/20 [00:30<00:05,  1.75s/it]\u001b[A\n",
      " 90%|█████████████████████████████████████████████████████████████████████████▊        | 18/20 [00:32<00:03,  1.77s/it]\u001b[A\n",
      " 95%|█████████████████████████████████████████████████████████████████████████████▉    | 19/20 [00:34<00:01,  1.76s/it]\u001b[A\n",
      "100%|██████████████████████████████████████████████████████████████████████████████████| 20/20 [00:36<00:00,  1.80s/it]\u001b[A\n",
      " 97%|███████████████████████████████████████████████████████████████████████████████▎  | 90/93 [59:16<01:50, 36.94s/it]\n",
      "  0%|                                                                                           | 0/20 [00:00<?, ?it/s]\u001b[A\n",
      "  5%|████▏                                                                              | 1/20 [00:01<00:37,  1.97s/it]\u001b[A\n",
      " 10%|████████▎                                                                          | 2/20 [00:03<00:34,  1.94s/it]\u001b[A\n",
      " 15%|████████████▍                                                                      | 3/20 [00:05<00:31,  1.85s/it]\u001b[A\n",
      " 20%|████████████████▌                                                                  | 4/20 [00:07<00:28,  1.81s/it]\u001b[A\n",
      " 25%|████████████████████▊                                                              | 5/20 [00:09<00:27,  1.83s/it]\u001b[A\n",
      " 30%|████████████████████████▉                                                          | 6/20 [00:11<00:25,  1.83s/it]\u001b[A\n",
      " 35%|█████████████████████████████                                                      | 7/20 [00:12<00:23,  1.84s/it]\u001b[A\n",
      " 40%|█████████████████████████████████▏                                                 | 8/20 [00:14<00:21,  1.83s/it]\u001b[A\n",
      " 45%|█████████████████████████████████████▎                                             | 9/20 [00:16<00:20,  1.85s/it]\u001b[A\n",
      " 50%|█████████████████████████████████████████                                         | 10/20 [00:18<00:18,  1.83s/it]\u001b[A\n",
      " 55%|█████████████████████████████████████████████                                     | 11/20 [00:20<00:16,  1.80s/it]\u001b[A\n",
      " 60%|█████████████████████████████████████████████████▏                                | 12/20 [00:21<00:14,  1.81s/it]\u001b[A\n",
      " 65%|█████████████████████████████████████████████████████▎                            | 13/20 [00:23<00:13,  1.87s/it]\u001b[A\n",
      " 70%|█████████████████████████████████████████████████████████▍                        | 14/20 [00:25<00:11,  1.84s/it]\u001b[A\n",
      " 75%|█████████████████████████████████████████████████████████████▌                    | 15/20 [00:27<00:09,  1.82s/it]\u001b[A\n",
      " 80%|█████████████████████████████████████████████████████████████████▌                | 16/20 [00:29<00:07,  1.87s/it]\u001b[A\n",
      " 85%|█████████████████████████████████████████████████████████████████████▋            | 17/20 [00:31<00:05,  1.84s/it]\u001b[A\n",
      " 90%|█████████████████████████████████████████████████████████████████████████▊        | 18/20 [00:33<00:03,  1.83s/it]\u001b[A\n",
      " 95%|█████████████████████████████████████████████████████████████████████████████▉    | 19/20 [00:34<00:01,  1.83s/it]\u001b[A\n",
      "100%|██████████████████████████████████████████████████████████████████████████████████| 20/20 [00:36<00:00,  1.84s/it]\u001b[A\n",
      " 98%|████████████████████████████████████████████████████████████████████████████████▏ | 91/93 [59:52<01:13, 36.92s/it]\n",
      "  0%|                                                                                           | 0/20 [00:00<?, ?it/s]\u001b[A\n",
      "  5%|████▏                                                                              | 1/20 [00:01<00:36,  1.92s/it]\u001b[A\n",
      " 10%|████████▎                                                                          | 2/20 [00:03<00:32,  1.82s/it]\u001b[A\n",
      " 15%|████████████▍                                                                      | 3/20 [00:05<00:31,  1.84s/it]\u001b[A\n",
      " 20%|████████████████▌                                                                  | 4/20 [00:07<00:29,  1.84s/it]\u001b[A\n",
      " 25%|████████████████████▊                                                              | 5/20 [00:09<00:27,  1.83s/it]\u001b[A\n",
      " 30%|████████████████████████▉                                                          | 6/20 [00:10<00:25,  1.79s/it]\u001b[A\n",
      " 35%|█████████████████████████████                                                      | 7/20 [00:12<00:23,  1.80s/it]\u001b[A\n",
      " 40%|█████████████████████████████████▏                                                 | 8/20 [00:14<00:21,  1.79s/it]\u001b[A\n",
      " 45%|█████████████████████████████████████▎                                             | 9/20 [00:16<00:19,  1.80s/it]\u001b[A\n",
      " 50%|█████████████████████████████████████████                                         | 10/20 [00:18<00:17,  1.77s/it]\u001b[A\n",
      " 55%|█████████████████████████████████████████████                                     | 11/20 [00:19<00:15,  1.77s/it]\u001b[A\n",
      " 60%|█████████████████████████████████████████████████▏                                | 12/20 [00:21<00:14,  1.76s/it]\u001b[A\n",
      " 65%|█████████████████████████████████████████████████████▎                            | 13/20 [00:23<00:12,  1.77s/it]\u001b[A\n",
      " 70%|█████████████████████████████████████████████████████████▍                        | 14/20 [00:25<00:10,  1.81s/it]\u001b[A\n",
      " 75%|█████████████████████████████████████████████████████████████▌                    | 15/20 [00:26<00:09,  1.80s/it]\u001b[A\n",
      " 80%|█████████████████████████████████████████████████████████████████▌                | 16/20 [00:28<00:07,  1.82s/it]\u001b[A\n",
      " 85%|█████████████████████████████████████████████████████████████████████▋            | 17/20 [00:30<00:05,  1.81s/it]\u001b[A\n",
      " 90%|█████████████████████████████████████████████████████████████████████████▊        | 18/20 [00:32<00:03,  1.80s/it]\u001b[A\n",
      " 95%|█████████████████████████████████████████████████████████████████████████████▉    | 19/20 [00:34<00:01,  1.81s/it]\u001b[A\n",
      "100%|██████████████████████████████████████████████████████████████████████████████████| 20/20 [00:36<00:00,  1.80s/it]\u001b[A\n",
      " 99%|███████████████████████████████████████████████████████████████████████████████▏| 92/93 [1:00:29<00:36, 36.66s/it]\n",
      "  0%|                                                                                           | 0/20 [00:00<?, ?it/s]\u001b[A\n",
      "  5%|████▏                                                                              | 1/20 [00:00<00:08,  2.21it/s]\u001b[A\n",
      " 10%|████████▎                                                                          | 2/20 [00:00<00:07,  2.27it/s]\u001b[A\n",
      " 15%|████████████▍                                                                      | 3/20 [00:01<00:06,  2.56it/s]\u001b[A\n",
      " 20%|████████████████▌                                                                  | 4/20 [00:01<00:06,  2.37it/s]\u001b[A\n",
      " 25%|████████████████████▊                                                              | 5/20 [00:02<00:05,  2.51it/s]\u001b[A\n",
      " 30%|████████████████████████▉                                                          | 6/20 [00:02<00:05,  2.56it/s]\u001b[A\n",
      " 35%|█████████████████████████████                                                      | 7/20 [00:02<00:05,  2.57it/s]\u001b[A\n",
      " 40%|█████████████████████████████████▏                                                 | 8/20 [00:03<00:04,  2.73it/s]\u001b[A\n",
      " 45%|█████████████████████████████████████▎                                             | 9/20 [00:03<00:04,  2.56it/s]\u001b[A\n",
      " 50%|█████████████████████████████████████████                                         | 10/20 [00:03<00:03,  2.65it/s]\u001b[A\n",
      " 55%|█████████████████████████████████████████████                                     | 11/20 [00:04<00:03,  2.58it/s]\u001b[A\n",
      " 60%|█████████████████████████████████████████████████▏                                | 12/20 [00:04<00:02,  2.70it/s]\u001b[A\n",
      " 65%|█████████████████████████████████████████████████████▎                            | 13/20 [00:05<00:02,  2.55it/s]\u001b[A\n",
      " 70%|█████████████████████████████████████████████████████████▍                        | 14/20 [00:05<00:02,  2.71it/s]\u001b[A\n",
      " 75%|█████████████████████████████████████████████████████████████▌                    | 15/20 [00:05<00:01,  2.69it/s]\u001b[A\n",
      " 80%|█████████████████████████████████████████████████████████████████▌                | 16/20 [00:06<00:01,  2.66it/s]\u001b[A\n",
      " 85%|█████████████████████████████████████████████████████████████████████▋            | 17/20 [00:06<00:01,  2.70it/s]\u001b[A\n",
      " 90%|█████████████████████████████████████████████████████████████████████████▊        | 18/20 [00:06<00:00,  2.78it/s]\u001b[A\n",
      " 95%|█████████████████████████████████████████████████████████████████████████████▉    | 19/20 [00:07<00:00,  2.87it/s]\u001b[A\n",
      "100%|██████████████████████████████████████████████████████████████████████████████████| 20/20 [00:07<00:00,  2.65it/s]\u001b[A\n",
      "100%|████████████████████████████████████████████████████████████████████████████████| 93/93 [1:00:36<00:00, 39.10s/it]\n"
     ]
    }
   ],
   "source": [
    "\n",
    "def sample_plant_position(plant,df,index):\n",
    " \n",
    "    if type(plant) == str:\n",
    "        return dat[dat['Vitenskapelig navn'] == plant].sample(1)\n",
    "    elif type(plant) == int:\n",
    "        return dat[dat['Vitenskapelig navn'] == index_mapping[index][plant]].sample(1)\n",
    "\n",
    "\n",
    "\n",
    "random.seed(10)\n",
    "names_mapping = []\n",
    "index_mapping = []\n",
    "for i in range(20):\n",
    "    random.shuffle(indexes)\n",
    "    names_mapping.append({science_name : index for (science_name,index) in zip(science_names,indexes)})\n",
    "    index_mapping.append({index : science_name for (science_name,index) in zip(science_names,indexes)})\n",
    "\n",
    "    \n",
    "@long_running\n",
    "def create_samples_and_points_around(start_batch):\n",
    "    for e in range(1):#max_e+1):\n",
    "        for b in tqdm(range(max_b+1)):\n",
    "            output = torch.load(f'saved_output/{model_name}_validating_output/output_e{e}_b{b}')\n",
    "            target = torch.load(f'saved_output/{model_name}_validating_output/target_b{b}')\n",
    "            sample_pos_list=[]\n",
    "            weight_tensors = [] \n",
    "            if b >=start_batch:\n",
    "                for i in tqdm(range(20)):\n",
    "\n",
    "                    for meter in [2000]:#500,600,700,800,900,1000,1100,1200,1300,1400,1500]:\n",
    "                        random.seed(11)\n",
    "                        weight_tensor = np.ones((output.size(0),185))*0.1\n",
    "                        sample_pos_list = []\n",
    "                        for j in range(output.size(0)):\n",
    "\n",
    "                            sample_pos = sample_plant_position(int(target[j]),dat,i)\n",
    "\n",
    "                            sample_pos_list.append(sample_pos)\n",
    "\n",
    "\n",
    "                        for sample_pos in sample_pos_list:\n",
    "                            points_in_area_list = get_points_within(sample_pos,meter)\n",
    "                            points_in_area = dat[dat['Id'].isin(points_in_area_list)]\n",
    "\n",
    "                            indexes_in_area = [ names_mapping[i][ii] for ii in list(points_in_area['Vitenskapelig navn'].unique())]\n",
    "\n",
    "                            for k in indexes_in_area:\n",
    "                                weight_tensor[j][k]=1\n",
    "\n",
    "                        \n",
    "                        weight_tensor = torch.from_numpy(weight_tensor)\n",
    "\n",
    "                        torch.save(weight_tensor,f'saved_output/{model_name}_validating_output/sampled_{meter}m_batch{b}_cofiguration{i}')\n",
    "\n",
    "                            # print(weight_tensors)\n",
    "        # kde_augmentet_output()\n",
    "        \n",
    "create_samples_and_points_around(0)"
   ]
  },
  {
   "cell_type": "code",
   "execution_count": 16,
   "id": "933e52c3-0211-4809-adb3-2d5dc4aa6b54",
   "metadata": {
    "scrolled": true,
    "tags": []
   },
   "outputs": [],
   "source": [
    "#\n",
    "#\n",
    "#\n",
    "#\n",
    "#\n",
    "\n",
    "def get_points_within_square(point, dat,side_length = 3000):\n",
    "    return_dat = dat[dat['Østkoordinat']>point['Østkoordinat'].iloc[0]-side_length]\n",
    "    return_dat = return_dat[return_dat['Østkoordinat']<point['Østkoordinat'].iloc[0]+ side_length]\n",
    "    return_dat = return_dat[return_dat['Nordkoordinat']>point['Nordkoordinat'].iloc[0]- side_length]\n",
    "    return_dat = return_dat[return_dat['Nordkoordinat']<point['Nordkoordinat'].iloc[0]+ side_length]\n",
    "    return return_dat\n",
    "\n",
    "random.seed(10)\n",
    "names_mapping = []\n",
    "index_mapping = []\n",
    "for i in range(3):\n",
    "    random.shuffle(indexes)\n",
    "    names_mapping.append({science_name : index for (science_name,index) in zip(science_names,indexes)})\n",
    "    index_mapping.append({index : science_name for (science_name,index) in zip(science_names,indexes)})\n",
    "    \n",
    "@long_running\n",
    "def kde_samples_output(batch,configuration):\n",
    "    for e in range(1):#max_e+1):\n",
    "        for b in tqdm(range(max_b+1)):\n",
    "            output = torch.load(f'saved_output/{model_name}_validating_output/output_e{e}_b{b}')\n",
    "            target = torch.load(f'saved_output/{model_name}_validating_output/target_b{b}')\n",
    "            sample_pos_list=[]\n",
    "            weight_tensors = [] \n",
    "\n",
    "            for i in tqdm(range(3)):\n",
    "                random.seed(11)\n",
    "                sample_pos_list = []\n",
    "                if b>=batch :\n",
    "                    for j in range(output.size(0)):\n",
    "                        sample_pos = sample_plant_position(int(target[j]),dat,i)\n",
    "\n",
    "                        sample_pos_list.append(sample_pos)\n",
    "                    for side_len in [1000,2000,3000,4000]:\n",
    "                        within_square =get_points_within_square(sample_pos,dat,side_length = side_len)\n",
    "                        within_square = within_square[within_square.Id != sample_pos['Id'].iloc[0]]\n",
    "                        \n",
    "                        for bandwidth in [3000,4000]:\n",
    "                            \n",
    "                            weight_tensor_kde = np.zeros((output.size(0),185))\n",
    "                            for j, sample_pos in enumerate(sample_pos_list):\n",
    "\n",
    "                                for plant_name in within_square.value_counts('Vitenskapelig navn').index:\n",
    "\n",
    "                                    within_square_ = within_square[within_square['Vitenskapelig navn']==plant_name]\n",
    "\n",
    "                                    pj = names_mapping[i][plant_name]\n",
    "                                    pj_value = kernel_density_estimate_value(sample_pos,within_square_,bandwidth = bandwidth)\n",
    "                                    weight_tensor_kde[j][pj] = pj_value\n",
    "\n",
    "                            weight_tensor_kde = torch.from_numpy(weight_tensor_kde)\n",
    "                            print(f'{model_name}_validating_output/kde_side_len{side_len}m_bandwitdth{bandwidth}_batch{b}_cofiguration{i}')\n",
    "                            torch.save(weight_tensor_kde,f'saved_output/{model_name}_validating_output/kde_side_len{side_len}m_bandwitdth{bandwidth}_batch{b}_cofiguration{i}')\n",
    "                            \n",
    "# kde_samples_output(0,0)"
   ]
  },
  {
   "cell_type": "code",
   "execution_count": 17,
   "id": "64c2f049-23e5-4e91-a3b3-54570c0c3d68",
   "metadata": {
    "tags": []
   },
   "outputs": [],
   "source": [
    "def get_knn_classifier(samples_pos_list,dat,n=1000):\n",
    "    sample_pos_indexes = [sp.index[0] for sp in samples_pos_list if sp.index[0] in list(dat.index)]\n",
    "    \n",
    "    dat_removed_samples = dat.drop(index=sample_pos_indexes)\n",
    "    category = []\n",
    "    for k in dat_removed_samples['Vitenskapelig navn']:\n",
    "        category.append(names_mapping[k])\n",
    "        \n",
    "    category = np.array(category)\n",
    "    points_np= np.array(list(dat_removed_samples['points']))\n",
    "    oversample = imblearn.over_sampling.KMeansSMOTE()\n",
    "    warnings.filterwarnings(\"ignore\")\n",
    "    X, y = oversample.fit_resample(points_np, category) \n",
    "    warnings.filterwarnings(\"default\")\n",
    "    \n",
    "    neigh = KNeighborsClassifier(n_neighbors=n)\n",
    "    neigh.fit(X, y)\n",
    "    return neigh\n",
    "\n",
    "def get_knn_classifier_smote(samples_pos_list,dat,n_list,configuration):\n",
    "    i = configuration\n",
    "    sample_pos_indexes = [sp.index[0] for sp in samples_pos_list if sp.index[0] in list(dat.index)]\n",
    "    \n",
    "    dat_removed_samples = dat.drop(index=sample_pos_indexes)\n",
    "    category = []\n",
    "    for k in dat_removed_samples['Vitenskapelig navn']:\n",
    "        category.append(names_mapping[i][k])\n",
    "        \n",
    "    category = np.array(category)\n",
    "    points_np= np.array(list(dat_removed_samples['points']))\n",
    "    oversample = imblearn.over_sampling.KMeansSMOTE()\n",
    "    warnings.filterwarnings(\"ignore\")\n",
    "    X, y = oversample.fit_resample(points_np, category) \n",
    "    warnings.filterwarnings(\"default\")\n",
    "    neigh=[]\n",
    "    for n in n_list:\n",
    "        neigh.append(KNeighborsClassifier(n_neighbors=n))\n",
    "    for knn in neigh:\n",
    "        knn.fit(X, y)\n",
    "    return neigh"
   ]
  },
  {
   "cell_type": "code",
   "execution_count": 101,
   "id": "a0212e79-605f-4748-ad4b-496ad18ac671",
   "metadata": {
    "tags": []
   },
   "outputs": [],
   "source": [
    "get_knn_classifier"
   ]
  },
  {
   "cell_type": "code",
   "execution_count": 10,
   "id": "b3429319-6ce1-49f2-af71-9eda42e62015",
   "metadata": {
    "tags": []
   },
   "outputs": [],
   "source": [
    "sample_pos = sample_plant_position(0,dat,0)"
   ]
  },
  {
   "cell_type": "code",
   "execution_count": 20,
   "id": "b07a5030-87d9-46ea-b9d9-88c2beea501d",
   "metadata": {
    "scrolled": true,
    "tags": []
   },
   "outputs": [
    {
     "name": "stderr",
     "output_type": "stream",
     "text": [
      "  0%|                                                                                           | 0/93 [00:00<?, ?it/s]\n",
      "  0%|                                                                                            | 0/3 [00:00<?, ?it/s]\u001b[A\n",
      " 33%|███████████████████████████▋                                                       | 1/3 [03:27<06:55, 207.80s/it]\u001b[A"
     ]
    },
    {
     "name": "stdout",
     "output_type": "stream",
     "text": [
      "saved_output/vgg19_pretrained_validating_output/knn_smote_n_10_batch14_cofiguration0\n",
      "saved_output/vgg19_pretrained_validating_output/knn_smote_n_15_batch14_cofiguration0\n",
      "saved_output/vgg19_pretrained_validating_output/knn_smote_n_20_batch14_cofiguration0\n"
     ]
    },
    {
     "name": "stderr",
     "output_type": "stream",
     "text": [
      "\n",
      " 67%|███████████████████████████████████████████████████████▎                           | 2/3 [06:44<03:21, 201.52s/it]\u001b[A"
     ]
    },
    {
     "name": "stdout",
     "output_type": "stream",
     "text": [
      "saved_output/vgg19_pretrained_validating_output/knn_smote_n_10_batch14_cofiguration1\n",
      "saved_output/vgg19_pretrained_validating_output/knn_smote_n_15_batch14_cofiguration1\n",
      "saved_output/vgg19_pretrained_validating_output/knn_smote_n_20_batch14_cofiguration1\n"
     ]
    },
    {
     "name": "stderr",
     "output_type": "stream",
     "text": [
      "\n",
      "100%|███████████████████████████████████████████████████████████████████████████████████| 3/3 [10:01<00:00, 200.34s/it]\u001b[A\n",
      " 16%|█████████████▏                                                                    | 15/93 [10:01<52:05, 40.07s/it]"
     ]
    },
    {
     "name": "stdout",
     "output_type": "stream",
     "text": [
      "saved_output/vgg19_pretrained_validating_output/knn_smote_n_10_batch14_cofiguration2\n",
      "saved_output/vgg19_pretrained_validating_output/knn_smote_n_15_batch14_cofiguration2\n",
      "saved_output/vgg19_pretrained_validating_output/knn_smote_n_20_batch14_cofiguration2\n"
     ]
    },
    {
     "name": "stderr",
     "output_type": "stream",
     "text": [
      "\n",
      "  0%|                                                                                            | 0/3 [00:00<?, ?it/s]\u001b[A\n",
      " 33%|███████████████████████████▋                                                       | 1/3 [03:22<06:45, 202.64s/it]\u001b[A"
     ]
    },
    {
     "name": "stdout",
     "output_type": "stream",
     "text": [
      "saved_output/vgg19_pretrained_validating_output/knn_smote_n_10_batch15_cofiguration0\n",
      "saved_output/vgg19_pretrained_validating_output/knn_smote_n_15_batch15_cofiguration0\n",
      "saved_output/vgg19_pretrained_validating_output/knn_smote_n_20_batch15_cofiguration0\n"
     ]
    },
    {
     "name": "stderr",
     "output_type": "stream",
     "text": [
      "\n",
      " 67%|███████████████████████████████████████████████████████▎                           | 2/3 [06:40<03:19, 199.97s/it]\u001b[A"
     ]
    },
    {
     "name": "stdout",
     "output_type": "stream",
     "text": [
      "saved_output/vgg19_pretrained_validating_output/knn_smote_n_10_batch15_cofiguration1\n",
      "saved_output/vgg19_pretrained_validating_output/knn_smote_n_15_batch15_cofiguration1\n",
      "saved_output/vgg19_pretrained_validating_output/knn_smote_n_20_batch15_cofiguration1\n"
     ]
    },
    {
     "name": "stderr",
     "output_type": "stream",
     "text": [
      "\n",
      "100%|███████████████████████████████████████████████████████████████████████████████████| 3/3 [09:56<00:00, 198.92s/it]\u001b[A\n",
      " 17%|█████████████▊                                                                  | 16/93 [19:57<1:53:32, 88.48s/it]"
     ]
    },
    {
     "name": "stdout",
     "output_type": "stream",
     "text": [
      "saved_output/vgg19_pretrained_validating_output/knn_smote_n_10_batch15_cofiguration2\n",
      "saved_output/vgg19_pretrained_validating_output/knn_smote_n_15_batch15_cofiguration2\n",
      "saved_output/vgg19_pretrained_validating_output/knn_smote_n_20_batch15_cofiguration2\n"
     ]
    },
    {
     "name": "stderr",
     "output_type": "stream",
     "text": [
      "\n",
      "  0%|                                                                                            | 0/3 [00:00<?, ?it/s]\u001b[A\n",
      " 33%|███████████████████████████▋                                                       | 1/3 [03:25<06:51, 205.95s/it]\u001b[A"
     ]
    },
    {
     "name": "stdout",
     "output_type": "stream",
     "text": [
      "saved_output/vgg19_pretrained_validating_output/knn_smote_n_10_batch16_cofiguration0\n",
      "saved_output/vgg19_pretrained_validating_output/knn_smote_n_15_batch16_cofiguration0\n",
      "saved_output/vgg19_pretrained_validating_output/knn_smote_n_20_batch16_cofiguration0\n"
     ]
    },
    {
     "name": "stderr",
     "output_type": "stream",
     "text": [
      "\n",
      " 67%|███████████████████████████████████████████████████████▎                           | 2/3 [06:43<03:20, 200.79s/it]\u001b[A"
     ]
    },
    {
     "name": "stdout",
     "output_type": "stream",
     "text": [
      "saved_output/vgg19_pretrained_validating_output/knn_smote_n_10_batch16_cofiguration1\n",
      "saved_output/vgg19_pretrained_validating_output/knn_smote_n_15_batch16_cofiguration1\n",
      "saved_output/vgg19_pretrained_validating_output/knn_smote_n_20_batch16_cofiguration1\n"
     ]
    },
    {
     "name": "stderr",
     "output_type": "stream",
     "text": [
      "\n",
      "100%|███████████████████████████████████████████████████████████████████████████████████| 3/3 [09:48<00:00, 196.27s/it]\u001b[A\n",
      " 18%|██████████████▍                                                                | 17/93 [29:47<3:02:09, 143.81s/it]"
     ]
    },
    {
     "name": "stdout",
     "output_type": "stream",
     "text": [
      "saved_output/vgg19_pretrained_validating_output/knn_smote_n_10_batch16_cofiguration2\n",
      "saved_output/vgg19_pretrained_validating_output/knn_smote_n_15_batch16_cofiguration2\n",
      "saved_output/vgg19_pretrained_validating_output/knn_smote_n_20_batch16_cofiguration2\n"
     ]
    },
    {
     "name": "stderr",
     "output_type": "stream",
     "text": [
      "\n",
      "  0%|                                                                                            | 0/3 [00:00<?, ?it/s]\u001b[A\n",
      " 33%|███████████████████████████▋                                                       | 1/3 [03:37<07:15, 217.92s/it]\u001b[A"
     ]
    },
    {
     "name": "stdout",
     "output_type": "stream",
     "text": [
      "saved_output/vgg19_pretrained_validating_output/knn_smote_n_10_batch17_cofiguration0\n",
      "saved_output/vgg19_pretrained_validating_output/knn_smote_n_15_batch17_cofiguration0\n",
      "saved_output/vgg19_pretrained_validating_output/knn_smote_n_20_batch17_cofiguration0\n"
     ]
    },
    {
     "name": "stderr",
     "output_type": "stream",
     "text": [
      "\n",
      " 67%|███████████████████████████████████████████████████████▎                           | 2/3 [06:57<03:27, 207.28s/it]\u001b[A"
     ]
    },
    {
     "name": "stdout",
     "output_type": "stream",
     "text": [
      "saved_output/vgg19_pretrained_validating_output/knn_smote_n_10_batch17_cofiguration1\n",
      "saved_output/vgg19_pretrained_validating_output/knn_smote_n_15_batch17_cofiguration1\n",
      "saved_output/vgg19_pretrained_validating_output/knn_smote_n_20_batch17_cofiguration1\n"
     ]
    },
    {
     "name": "stderr",
     "output_type": "stream",
     "text": [
      "\n",
      "100%|███████████████████████████████████████████████████████████████████████████████████| 3/3 [10:02<00:00, 200.98s/it]\u001b[A\n",
      " 19%|███████████████▎                                                               | 18/93 [39:49<4:18:00, 206.40s/it]"
     ]
    },
    {
     "name": "stdout",
     "output_type": "stream",
     "text": [
      "saved_output/vgg19_pretrained_validating_output/knn_smote_n_10_batch17_cofiguration2\n",
      "saved_output/vgg19_pretrained_validating_output/knn_smote_n_15_batch17_cofiguration2\n",
      "saved_output/vgg19_pretrained_validating_output/knn_smote_n_20_batch17_cofiguration2\n"
     ]
    },
    {
     "name": "stderr",
     "output_type": "stream",
     "text": [
      "\n",
      "  0%|                                                                                            | 0/3 [00:00<?, ?it/s]\u001b[A\n",
      " 33%|███████████████████████████▋                                                       | 1/3 [03:06<06:13, 186.67s/it]\u001b[A"
     ]
    },
    {
     "name": "stdout",
     "output_type": "stream",
     "text": [
      "saved_output/vgg19_pretrained_validating_output/knn_smote_n_10_batch18_cofiguration0\n",
      "saved_output/vgg19_pretrained_validating_output/knn_smote_n_15_batch18_cofiguration0\n",
      "saved_output/vgg19_pretrained_validating_output/knn_smote_n_20_batch18_cofiguration0\n"
     ]
    },
    {
     "name": "stderr",
     "output_type": "stream",
     "text": [
      "\n",
      " 67%|███████████████████████████████████████████████████████▎                           | 2/3 [06:33<03:18, 198.63s/it]\u001b[A"
     ]
    },
    {
     "name": "stdout",
     "output_type": "stream",
     "text": [
      "saved_output/vgg19_pretrained_validating_output/knn_smote_n_10_batch18_cofiguration1\n",
      "saved_output/vgg19_pretrained_validating_output/knn_smote_n_15_batch18_cofiguration1\n",
      "saved_output/vgg19_pretrained_validating_output/knn_smote_n_20_batch18_cofiguration1\n"
     ]
    },
    {
     "name": "stderr",
     "output_type": "stream",
     "text": [
      "\n",
      "100%|███████████████████████████████████████████████████████████████████████████████████| 3/3 [10:00<00:00, 200.21s/it]\u001b[A\n",
      " 20%|████████████████▏                                                              | 19/93 [49:50<5:33:49, 270.67s/it]"
     ]
    },
    {
     "name": "stdout",
     "output_type": "stream",
     "text": [
      "saved_output/vgg19_pretrained_validating_output/knn_smote_n_10_batch18_cofiguration2\n",
      "saved_output/vgg19_pretrained_validating_output/knn_smote_n_15_batch18_cofiguration2\n",
      "saved_output/vgg19_pretrained_validating_output/knn_smote_n_20_batch18_cofiguration2\n"
     ]
    },
    {
     "name": "stderr",
     "output_type": "stream",
     "text": [
      "\n",
      "  0%|                                                                                            | 0/3 [00:00<?, ?it/s]\u001b[A\n",
      " 33%|███████████████████████████▋                                                       | 1/3 [03:26<06:52, 206.43s/it]\u001b[A"
     ]
    },
    {
     "name": "stdout",
     "output_type": "stream",
     "text": [
      "saved_output/vgg19_pretrained_validating_output/knn_smote_n_10_batch19_cofiguration0\n",
      "saved_output/vgg19_pretrained_validating_output/knn_smote_n_15_batch19_cofiguration0\n",
      "saved_output/vgg19_pretrained_validating_output/knn_smote_n_20_batch19_cofiguration0\n"
     ]
    },
    {
     "name": "stderr",
     "output_type": "stream",
     "text": [
      "\n",
      " 67%|███████████████████████████████████████████████████████▎                           | 2/3 [06:48<03:24, 204.12s/it]\u001b[A"
     ]
    },
    {
     "name": "stdout",
     "output_type": "stream",
     "text": [
      "saved_output/vgg19_pretrained_validating_output/knn_smote_n_10_batch19_cofiguration1\n",
      "saved_output/vgg19_pretrained_validating_output/knn_smote_n_15_batch19_cofiguration1\n",
      "saved_output/vgg19_pretrained_validating_output/knn_smote_n_20_batch19_cofiguration1\n"
     ]
    },
    {
     "name": "stderr",
     "output_type": "stream",
     "text": [
      "\n",
      "100%|███████████████████████████████████████████████████████████████████████████████████| 3/3 [10:20<00:00, 206.93s/it]\u001b[A\n",
      " 22%|████████████████▌                                                            | 20/93 [1:00:11<6:49:52, 336.88s/it]"
     ]
    },
    {
     "name": "stdout",
     "output_type": "stream",
     "text": [
      "saved_output/vgg19_pretrained_validating_output/knn_smote_n_10_batch19_cofiguration2\n",
      "saved_output/vgg19_pretrained_validating_output/knn_smote_n_15_batch19_cofiguration2\n",
      "saved_output/vgg19_pretrained_validating_output/knn_smote_n_20_batch19_cofiguration2\n"
     ]
    },
    {
     "name": "stderr",
     "output_type": "stream",
     "text": [
      "\n",
      "  0%|                                                                                            | 0/3 [00:00<?, ?it/s]\u001b[A\n",
      " 33%|███████████████████████████▋                                                       | 1/3 [03:15<06:31, 195.99s/it]\u001b[A"
     ]
    },
    {
     "name": "stdout",
     "output_type": "stream",
     "text": [
      "saved_output/vgg19_pretrained_validating_output/knn_smote_n_10_batch20_cofiguration0\n",
      "saved_output/vgg19_pretrained_validating_output/knn_smote_n_15_batch20_cofiguration0\n",
      "saved_output/vgg19_pretrained_validating_output/knn_smote_n_20_batch20_cofiguration0\n"
     ]
    },
    {
     "name": "stderr",
     "output_type": "stream",
     "text": [
      "\n",
      " 67%|███████████████████████████████████████████████████████▎                           | 2/3 [06:52<03:27, 207.99s/it]\u001b[A"
     ]
    },
    {
     "name": "stdout",
     "output_type": "stream",
     "text": [
      "saved_output/vgg19_pretrained_validating_output/knn_smote_n_10_batch20_cofiguration1\n",
      "saved_output/vgg19_pretrained_validating_output/knn_smote_n_15_batch20_cofiguration1\n",
      "saved_output/vgg19_pretrained_validating_output/knn_smote_n_20_batch20_cofiguration1\n"
     ]
    },
    {
     "name": "stderr",
     "output_type": "stream",
     "text": [
      "\n",
      "100%|███████████████████████████████████████████████████████████████████████████████████| 3/3 [10:03<00:00, 201.32s/it]\u001b[A\n",
      " 23%|█████████████████▍                                                           | 21/93 [1:10:15<7:52:21, 393.64s/it]"
     ]
    },
    {
     "name": "stdout",
     "output_type": "stream",
     "text": [
      "saved_output/vgg19_pretrained_validating_output/knn_smote_n_10_batch20_cofiguration2\n",
      "saved_output/vgg19_pretrained_validating_output/knn_smote_n_15_batch20_cofiguration2\n",
      "saved_output/vgg19_pretrained_validating_output/knn_smote_n_20_batch20_cofiguration2\n"
     ]
    },
    {
     "name": "stderr",
     "output_type": "stream",
     "text": [
      "\n",
      "  0%|                                                                                            | 0/3 [00:00<?, ?it/s]\u001b[A\n",
      " 33%|███████████████████████████▋                                                       | 1/3 [03:18<06:37, 198.82s/it]\u001b[A"
     ]
    },
    {
     "name": "stdout",
     "output_type": "stream",
     "text": [
      "saved_output/vgg19_pretrained_validating_output/knn_smote_n_10_batch21_cofiguration0\n",
      "saved_output/vgg19_pretrained_validating_output/knn_smote_n_15_batch21_cofiguration0\n",
      "saved_output/vgg19_pretrained_validating_output/knn_smote_n_20_batch21_cofiguration0\n"
     ]
    },
    {
     "name": "stderr",
     "output_type": "stream",
     "text": [
      "\n",
      " 67%|███████████████████████████████████████████████████████▎                           | 2/3 [06:56<03:30, 210.15s/it]\u001b[A"
     ]
    },
    {
     "name": "stdout",
     "output_type": "stream",
     "text": [
      "saved_output/vgg19_pretrained_validating_output/knn_smote_n_10_batch21_cofiguration1\n",
      "saved_output/vgg19_pretrained_validating_output/knn_smote_n_15_batch21_cofiguration1\n",
      "saved_output/vgg19_pretrained_validating_output/knn_smote_n_20_batch21_cofiguration1\n"
     ]
    },
    {
     "name": "stderr",
     "output_type": "stream",
     "text": [
      "\n",
      "100%|███████████████████████████████████████████████████████████████████████████████████| 3/3 [10:04<00:00, 201.35s/it]\u001b[A\n",
      " 24%|██████████████████▏                                                          | 22/93 [1:20:19<8:43:47, 442.64s/it]"
     ]
    },
    {
     "name": "stdout",
     "output_type": "stream",
     "text": [
      "saved_output/vgg19_pretrained_validating_output/knn_smote_n_10_batch21_cofiguration2\n",
      "saved_output/vgg19_pretrained_validating_output/knn_smote_n_15_batch21_cofiguration2\n",
      "saved_output/vgg19_pretrained_validating_output/knn_smote_n_20_batch21_cofiguration2\n"
     ]
    },
    {
     "name": "stderr",
     "output_type": "stream",
     "text": [
      "\n",
      "  0%|                                                                                            | 0/3 [00:00<?, ?it/s]\u001b[A\n",
      " 33%|███████████████████████████▋                                                       | 1/3 [03:28<06:56, 208.49s/it]\u001b[A"
     ]
    },
    {
     "name": "stdout",
     "output_type": "stream",
     "text": [
      "saved_output/vgg19_pretrained_validating_output/knn_smote_n_10_batch22_cofiguration0\n",
      "saved_output/vgg19_pretrained_validating_output/knn_smote_n_15_batch22_cofiguration0\n",
      "saved_output/vgg19_pretrained_validating_output/knn_smote_n_20_batch22_cofiguration0\n"
     ]
    },
    {
     "name": "stderr",
     "output_type": "stream",
     "text": [
      "\n",
      " 67%|███████████████████████████████████████████████████████▎                           | 2/3 [06:52<03:26, 206.08s/it]\u001b[A"
     ]
    },
    {
     "name": "stdout",
     "output_type": "stream",
     "text": [
      "saved_output/vgg19_pretrained_validating_output/knn_smote_n_10_batch22_cofiguration1\n",
      "saved_output/vgg19_pretrained_validating_output/knn_smote_n_15_batch22_cofiguration1\n",
      "saved_output/vgg19_pretrained_validating_output/knn_smote_n_20_batch22_cofiguration1\n"
     ]
    },
    {
     "name": "stderr",
     "output_type": "stream",
     "text": [
      "\n",
      "100%|███████████████████████████████████████████████████████████████████████████████████| 3/3 [10:13<00:00, 204.36s/it]\u001b[A\n",
      " 25%|███████████████████                                                          | 23/93 [1:30:32<9:26:02, 485.18s/it]"
     ]
    },
    {
     "name": "stdout",
     "output_type": "stream",
     "text": [
      "saved_output/vgg19_pretrained_validating_output/knn_smote_n_10_batch22_cofiguration2\n",
      "saved_output/vgg19_pretrained_validating_output/knn_smote_n_15_batch22_cofiguration2\n",
      "saved_output/vgg19_pretrained_validating_output/knn_smote_n_20_batch22_cofiguration2\n"
     ]
    },
    {
     "name": "stderr",
     "output_type": "stream",
     "text": [
      "\n",
      "  0%|                                                                                            | 0/3 [00:00<?, ?it/s]\u001b[A\n",
      " 33%|███████████████████████████▋                                                       | 1/3 [03:09<06:19, 189.71s/it]\u001b[A"
     ]
    },
    {
     "name": "stdout",
     "output_type": "stream",
     "text": [
      "saved_output/vgg19_pretrained_validating_output/knn_smote_n_10_batch23_cofiguration0\n",
      "saved_output/vgg19_pretrained_validating_output/knn_smote_n_15_batch23_cofiguration0\n",
      "saved_output/vgg19_pretrained_validating_output/knn_smote_n_20_batch23_cofiguration0\n"
     ]
    },
    {
     "name": "stderr",
     "output_type": "stream",
     "text": [
      "\n",
      " 67%|███████████████████████████████████████████████████████▎                           | 2/3 [06:41<03:22, 202.70s/it]\u001b[A"
     ]
    },
    {
     "name": "stdout",
     "output_type": "stream",
     "text": [
      "saved_output/vgg19_pretrained_validating_output/knn_smote_n_10_batch23_cofiguration1\n",
      "saved_output/vgg19_pretrained_validating_output/knn_smote_n_15_batch23_cofiguration1\n",
      "saved_output/vgg19_pretrained_validating_output/knn_smote_n_20_batch23_cofiguration1\n"
     ]
    },
    {
     "name": "stderr",
     "output_type": "stream",
     "text": [
      "\n",
      "100%|███████████████████████████████████████████████████████████████████████████████████| 3/3 [10:06<00:00, 202.02s/it]\u001b[A\n",
      " 26%|███████████████████▊                                                         | 24/93 [1:40:38<9:54:30, 516.96s/it]"
     ]
    },
    {
     "name": "stdout",
     "output_type": "stream",
     "text": [
      "saved_output/vgg19_pretrained_validating_output/knn_smote_n_10_batch23_cofiguration2\n",
      "saved_output/vgg19_pretrained_validating_output/knn_smote_n_15_batch23_cofiguration2\n",
      "saved_output/vgg19_pretrained_validating_output/knn_smote_n_20_batch23_cofiguration2\n"
     ]
    },
    {
     "name": "stderr",
     "output_type": "stream",
     "text": [
      "\n",
      "  0%|                                                                                            | 0/3 [00:00<?, ?it/s]\u001b[A\n",
      " 33%|███████████████████████████▋                                                       | 1/3 [03:23<06:47, 203.85s/it]\u001b[A"
     ]
    },
    {
     "name": "stdout",
     "output_type": "stream",
     "text": [
      "saved_output/vgg19_pretrained_validating_output/knn_smote_n_10_batch24_cofiguration0\n",
      "saved_output/vgg19_pretrained_validating_output/knn_smote_n_15_batch24_cofiguration0\n",
      "saved_output/vgg19_pretrained_validating_output/knn_smote_n_20_batch24_cofiguration0\n"
     ]
    },
    {
     "name": "stderr",
     "output_type": "stream",
     "text": [
      "\n",
      " 67%|███████████████████████████████████████████████████████▎                           | 2/3 [06:54<03:27, 208.00s/it]\u001b[A"
     ]
    },
    {
     "name": "stdout",
     "output_type": "stream",
     "text": [
      "saved_output/vgg19_pretrained_validating_output/knn_smote_n_10_batch24_cofiguration1\n",
      "saved_output/vgg19_pretrained_validating_output/knn_smote_n_15_batch24_cofiguration1\n",
      "saved_output/vgg19_pretrained_validating_output/knn_smote_n_20_batch24_cofiguration1\n"
     ]
    },
    {
     "name": "stderr",
     "output_type": "stream",
     "text": [
      "\n",
      "100%|███████████████████████████████████████████████████████████████████████████████████| 3/3 [10:13<00:00, 204.47s/it]\u001b[A\n",
      " 27%|████████████████████▍                                                       | 25/93 [1:50:52<10:15:44, 543.30s/it]"
     ]
    },
    {
     "name": "stdout",
     "output_type": "stream",
     "text": [
      "saved_output/vgg19_pretrained_validating_output/knn_smote_n_10_batch24_cofiguration2\n",
      "saved_output/vgg19_pretrained_validating_output/knn_smote_n_15_batch24_cofiguration2\n",
      "saved_output/vgg19_pretrained_validating_output/knn_smote_n_20_batch24_cofiguration2\n"
     ]
    },
    {
     "name": "stderr",
     "output_type": "stream",
     "text": [
      "\n",
      "  0%|                                                                                            | 0/3 [00:00<?, ?it/s]\u001b[A\n",
      " 33%|███████████████████████████▋                                                       | 1/3 [03:23<06:46, 203.43s/it]\u001b[A"
     ]
    },
    {
     "name": "stdout",
     "output_type": "stream",
     "text": [
      "saved_output/vgg19_pretrained_validating_output/knn_smote_n_10_batch25_cofiguration0\n",
      "saved_output/vgg19_pretrained_validating_output/knn_smote_n_15_batch25_cofiguration0\n",
      "saved_output/vgg19_pretrained_validating_output/knn_smote_n_20_batch25_cofiguration0\n"
     ]
    },
    {
     "name": "stderr",
     "output_type": "stream",
     "text": [
      "\n",
      " 67%|███████████████████████████████████████████████████████▎                           | 2/3 [06:55<03:28, 208.36s/it]\u001b[A"
     ]
    },
    {
     "name": "stdout",
     "output_type": "stream",
     "text": [
      "saved_output/vgg19_pretrained_validating_output/knn_smote_n_10_batch25_cofiguration1\n",
      "saved_output/vgg19_pretrained_validating_output/knn_smote_n_15_batch25_cofiguration1\n",
      "saved_output/vgg19_pretrained_validating_output/knn_smote_n_20_batch25_cofiguration1\n"
     ]
    },
    {
     "name": "stderr",
     "output_type": "stream",
     "text": [
      "\n",
      "100%|███████████████████████████████████████████████████████████████████████████████████| 3/3 [10:32<00:00, 210.75s/it]\u001b[A\n",
      " 28%|█████████████████████▏                                                      | 26/93 [2:01:24<10:34:32, 568.25s/it]"
     ]
    },
    {
     "name": "stdout",
     "output_type": "stream",
     "text": [
      "saved_output/vgg19_pretrained_validating_output/knn_smote_n_10_batch25_cofiguration2\n",
      "saved_output/vgg19_pretrained_validating_output/knn_smote_n_15_batch25_cofiguration2\n",
      "saved_output/vgg19_pretrained_validating_output/knn_smote_n_20_batch25_cofiguration2\n"
     ]
    },
    {
     "name": "stderr",
     "output_type": "stream",
     "text": [
      "\n",
      "  0%|                                                                                            | 0/3 [00:00<?, ?it/s]\u001b[A\n",
      " 33%|███████████████████████████▋                                                       | 1/3 [03:16<06:33, 196.56s/it]\u001b[A"
     ]
    },
    {
     "name": "stdout",
     "output_type": "stream",
     "text": [
      "saved_output/vgg19_pretrained_validating_output/knn_smote_n_10_batch26_cofiguration0\n",
      "saved_output/vgg19_pretrained_validating_output/knn_smote_n_15_batch26_cofiguration0\n",
      "saved_output/vgg19_pretrained_validating_output/knn_smote_n_20_batch26_cofiguration0\n"
     ]
    },
    {
     "name": "stderr",
     "output_type": "stream",
     "text": [
      "\n",
      " 67%|███████████████████████████████████████████████████████▎                           | 2/3 [06:51<03:27, 207.25s/it]\u001b[A"
     ]
    },
    {
     "name": "stdout",
     "output_type": "stream",
     "text": [
      "saved_output/vgg19_pretrained_validating_output/knn_smote_n_10_batch26_cofiguration1\n",
      "saved_output/vgg19_pretrained_validating_output/knn_smote_n_15_batch26_cofiguration1\n",
      "saved_output/vgg19_pretrained_validating_output/knn_smote_n_20_batch26_cofiguration1\n"
     ]
    },
    {
     "name": "stderr",
     "output_type": "stream",
     "text": [
      "\n",
      "100%|███████████████████████████████████████████████████████████████████████████████████| 3/3 [10:24<00:00, 208.03s/it]\u001b[A\n",
      " 29%|██████████████████████                                                      | 27/93 [2:11:48<10:42:39, 584.23s/it]"
     ]
    },
    {
     "name": "stdout",
     "output_type": "stream",
     "text": [
      "saved_output/vgg19_pretrained_validating_output/knn_smote_n_10_batch26_cofiguration2\n",
      "saved_output/vgg19_pretrained_validating_output/knn_smote_n_15_batch26_cofiguration2\n",
      "saved_output/vgg19_pretrained_validating_output/knn_smote_n_20_batch26_cofiguration2\n"
     ]
    },
    {
     "name": "stderr",
     "output_type": "stream",
     "text": [
      "\n",
      "  0%|                                                                                            | 0/3 [00:00<?, ?it/s]\u001b[A\n",
      " 33%|███████████████████████████▋                                                       | 1/3 [03:18<06:36, 198.13s/it]\u001b[A"
     ]
    },
    {
     "name": "stdout",
     "output_type": "stream",
     "text": [
      "saved_output/vgg19_pretrained_validating_output/knn_smote_n_10_batch27_cofiguration0\n",
      "saved_output/vgg19_pretrained_validating_output/knn_smote_n_15_batch27_cofiguration0\n",
      "saved_output/vgg19_pretrained_validating_output/knn_smote_n_20_batch27_cofiguration0\n"
     ]
    },
    {
     "name": "stderr",
     "output_type": "stream",
     "text": [
      "\n",
      " 67%|███████████████████████████████████████████████████████▎                           | 2/3 [06:58<03:31, 211.29s/it]\u001b[A"
     ]
    },
    {
     "name": "stdout",
     "output_type": "stream",
     "text": [
      "saved_output/vgg19_pretrained_validating_output/knn_smote_n_10_batch27_cofiguration1\n",
      "saved_output/vgg19_pretrained_validating_output/knn_smote_n_15_batch27_cofiguration1\n",
      "saved_output/vgg19_pretrained_validating_output/knn_smote_n_20_batch27_cofiguration1\n"
     ]
    },
    {
     "name": "stderr",
     "output_type": "stream",
     "text": [
      "\n",
      "100%|███████████████████████████████████████████████████████████████████████████████████| 3/3 [10:25<00:00, 208.45s/it]\u001b[A\n",
      " 30%|██████████████████████▉                                                     | 28/93 [2:22:14<10:45:50, 596.16s/it]"
     ]
    },
    {
     "name": "stdout",
     "output_type": "stream",
     "text": [
      "saved_output/vgg19_pretrained_validating_output/knn_smote_n_10_batch27_cofiguration2\n",
      "saved_output/vgg19_pretrained_validating_output/knn_smote_n_15_batch27_cofiguration2\n",
      "saved_output/vgg19_pretrained_validating_output/knn_smote_n_20_batch27_cofiguration2\n"
     ]
    },
    {
     "name": "stderr",
     "output_type": "stream",
     "text": [
      "\n",
      "  0%|                                                                                            | 0/3 [00:00<?, ?it/s]\u001b[A\n",
      " 33%|███████████████████████████▋                                                       | 1/3 [03:36<07:13, 216.69s/it]\u001b[A"
     ]
    },
    {
     "name": "stdout",
     "output_type": "stream",
     "text": [
      "saved_output/vgg19_pretrained_validating_output/knn_smote_n_10_batch28_cofiguration0\n",
      "saved_output/vgg19_pretrained_validating_output/knn_smote_n_15_batch28_cofiguration0\n",
      "saved_output/vgg19_pretrained_validating_output/knn_smote_n_20_batch28_cofiguration0\n"
     ]
    },
    {
     "name": "stderr",
     "output_type": "stream",
     "text": [
      "\n",
      " 67%|███████████████████████████████████████████████████████▎                           | 2/3 [06:48<03:21, 201.76s/it]\u001b[A"
     ]
    },
    {
     "name": "stdout",
     "output_type": "stream",
     "text": [
      "saved_output/vgg19_pretrained_validating_output/knn_smote_n_10_batch28_cofiguration1\n",
      "saved_output/vgg19_pretrained_validating_output/knn_smote_n_15_batch28_cofiguration1\n",
      "saved_output/vgg19_pretrained_validating_output/knn_smote_n_20_batch28_cofiguration1\n"
     ]
    },
    {
     "name": "stderr",
     "output_type": "stream",
     "text": [
      "\n",
      "100%|███████████████████████████████████████████████████████████████████████████████████| 3/3 [10:13<00:00, 204.37s/it]\u001b[A\n",
      " 31%|███████████████████████▋                                                    | 29/93 [2:32:27<10:41:12, 601.13s/it]"
     ]
    },
    {
     "name": "stdout",
     "output_type": "stream",
     "text": [
      "saved_output/vgg19_pretrained_validating_output/knn_smote_n_10_batch28_cofiguration2\n",
      "saved_output/vgg19_pretrained_validating_output/knn_smote_n_15_batch28_cofiguration2\n",
      "saved_output/vgg19_pretrained_validating_output/knn_smote_n_20_batch28_cofiguration2\n"
     ]
    },
    {
     "name": "stderr",
     "output_type": "stream",
     "text": [
      "\n",
      "  0%|                                                                                            | 0/3 [00:00<?, ?it/s]\u001b[A\n",
      " 33%|███████████████████████████▋                                                       | 1/3 [03:39<07:19, 219.61s/it]\u001b[A"
     ]
    },
    {
     "name": "stdout",
     "output_type": "stream",
     "text": [
      "saved_output/vgg19_pretrained_validating_output/knn_smote_n_10_batch29_cofiguration0\n",
      "saved_output/vgg19_pretrained_validating_output/knn_smote_n_15_batch29_cofiguration0\n",
      "saved_output/vgg19_pretrained_validating_output/knn_smote_n_20_batch29_cofiguration0\n"
     ]
    },
    {
     "name": "stderr",
     "output_type": "stream",
     "text": [
      "\n",
      " 67%|███████████████████████████████████████████████████████▎                           | 2/3 [07:00<03:28, 208.81s/it]\u001b[A"
     ]
    },
    {
     "name": "stdout",
     "output_type": "stream",
     "text": [
      "saved_output/vgg19_pretrained_validating_output/knn_smote_n_10_batch29_cofiguration1\n",
      "saved_output/vgg19_pretrained_validating_output/knn_smote_n_15_batch29_cofiguration1\n",
      "saved_output/vgg19_pretrained_validating_output/knn_smote_n_20_batch29_cofiguration1\n"
     ]
    },
    {
     "name": "stderr",
     "output_type": "stream",
     "text": [
      "\n",
      "100%|███████████████████████████████████████████████████████████████████████████████████| 3/3 [10:19<00:00, 206.49s/it]\u001b[A\n",
      " 32%|████████████████████████▌                                                   | 30/93 [2:42:46<10:36:52, 606.54s/it]"
     ]
    },
    {
     "name": "stdout",
     "output_type": "stream",
     "text": [
      "saved_output/vgg19_pretrained_validating_output/knn_smote_n_10_batch29_cofiguration2\n",
      "saved_output/vgg19_pretrained_validating_output/knn_smote_n_15_batch29_cofiguration2\n",
      "saved_output/vgg19_pretrained_validating_output/knn_smote_n_20_batch29_cofiguration2\n"
     ]
    },
    {
     "name": "stderr",
     "output_type": "stream",
     "text": [
      "\n",
      "  0%|                                                                                            | 0/3 [00:00<?, ?it/s]\u001b[A\n",
      " 33%|███████████████████████████▋                                                       | 1/3 [03:15<06:31, 195.84s/it]\u001b[A"
     ]
    },
    {
     "name": "stdout",
     "output_type": "stream",
     "text": [
      "saved_output/vgg19_pretrained_validating_output/knn_smote_n_10_batch30_cofiguration0\n",
      "saved_output/vgg19_pretrained_validating_output/knn_smote_n_15_batch30_cofiguration0\n",
      "saved_output/vgg19_pretrained_validating_output/knn_smote_n_20_batch30_cofiguration0\n"
     ]
    },
    {
     "name": "stderr",
     "output_type": "stream",
     "text": [
      "\n",
      " 67%|███████████████████████████████████████████████████████▎                           | 2/3 [06:29<03:14, 194.34s/it]\u001b[A"
     ]
    },
    {
     "name": "stdout",
     "output_type": "stream",
     "text": [
      "saved_output/vgg19_pretrained_validating_output/knn_smote_n_10_batch30_cofiguration1\n",
      "saved_output/vgg19_pretrained_validating_output/knn_smote_n_15_batch30_cofiguration1\n",
      "saved_output/vgg19_pretrained_validating_output/knn_smote_n_20_batch30_cofiguration1\n"
     ]
    },
    {
     "name": "stderr",
     "output_type": "stream",
     "text": [
      "\n",
      "100%|███████████████████████████████████████████████████████████████████████████████████| 3/3 [09:53<00:00, 197.82s/it]\u001b[A\n",
      " 33%|█████████████████████████▎                                                  | 31/93 [2:52:40<10:22:45, 602.67s/it]"
     ]
    },
    {
     "name": "stdout",
     "output_type": "stream",
     "text": [
      "saved_output/vgg19_pretrained_validating_output/knn_smote_n_10_batch30_cofiguration2\n",
      "saved_output/vgg19_pretrained_validating_output/knn_smote_n_15_batch30_cofiguration2\n",
      "saved_output/vgg19_pretrained_validating_output/knn_smote_n_20_batch30_cofiguration2\n"
     ]
    },
    {
     "name": "stderr",
     "output_type": "stream",
     "text": [
      "\n",
      "  0%|                                                                                            | 0/3 [00:00<?, ?it/s]\u001b[A\n",
      " 33%|███████████████████████████▋                                                       | 1/3 [03:25<06:50, 205.13s/it]\u001b[A"
     ]
    },
    {
     "name": "stdout",
     "output_type": "stream",
     "text": [
      "saved_output/vgg19_pretrained_validating_output/knn_smote_n_10_batch31_cofiguration0\n",
      "saved_output/vgg19_pretrained_validating_output/knn_smote_n_15_batch31_cofiguration0\n",
      "saved_output/vgg19_pretrained_validating_output/knn_smote_n_20_batch31_cofiguration0\n"
     ]
    },
    {
     "name": "stderr",
     "output_type": "stream",
     "text": [
      "\n",
      " 67%|███████████████████████████████████████████████████████▎                           | 2/3 [06:47<03:23, 203.48s/it]\u001b[A"
     ]
    },
    {
     "name": "stdout",
     "output_type": "stream",
     "text": [
      "saved_output/vgg19_pretrained_validating_output/knn_smote_n_10_batch31_cofiguration1\n",
      "saved_output/vgg19_pretrained_validating_output/knn_smote_n_15_batch31_cofiguration1\n",
      "saved_output/vgg19_pretrained_validating_output/knn_smote_n_20_batch31_cofiguration1\n"
     ]
    },
    {
     "name": "stderr",
     "output_type": "stream",
     "text": [
      "\n",
      "100%|███████████████████████████████████████████████████████████████████████████████████| 3/3 [10:25<00:00, 208.39s/it]\u001b[A\n",
      " 34%|██████████████████████████▏                                                 | 32/93 [3:03:05<10:19:31, 609.36s/it]"
     ]
    },
    {
     "name": "stdout",
     "output_type": "stream",
     "text": [
      "saved_output/vgg19_pretrained_validating_output/knn_smote_n_10_batch31_cofiguration2\n",
      "saved_output/vgg19_pretrained_validating_output/knn_smote_n_15_batch31_cofiguration2\n",
      "saved_output/vgg19_pretrained_validating_output/knn_smote_n_20_batch31_cofiguration2\n"
     ]
    },
    {
     "name": "stderr",
     "output_type": "stream",
     "text": [
      "\n",
      "  0%|                                                                                            | 0/3 [00:00<?, ?it/s]\u001b[A\n",
      " 33%|███████████████████████████▋                                                       | 1/3 [03:02<06:04, 182.49s/it]\u001b[A"
     ]
    },
    {
     "name": "stdout",
     "output_type": "stream",
     "text": [
      "saved_output/vgg19_pretrained_validating_output/knn_smote_n_10_batch32_cofiguration0\n",
      "saved_output/vgg19_pretrained_validating_output/knn_smote_n_15_batch32_cofiguration0\n",
      "saved_output/vgg19_pretrained_validating_output/knn_smote_n_20_batch32_cofiguration0\n"
     ]
    },
    {
     "name": "stderr",
     "output_type": "stream",
     "text": [
      "\n",
      " 67%|███████████████████████████████████████████████████████▎                           | 2/3 [06:24<03:14, 194.21s/it]\u001b[A"
     ]
    },
    {
     "name": "stdout",
     "output_type": "stream",
     "text": [
      "saved_output/vgg19_pretrained_validating_output/knn_smote_n_10_batch32_cofiguration1\n",
      "saved_output/vgg19_pretrained_validating_output/knn_smote_n_15_batch32_cofiguration1\n",
      "saved_output/vgg19_pretrained_validating_output/knn_smote_n_20_batch32_cofiguration1\n"
     ]
    },
    {
     "name": "stderr",
     "output_type": "stream",
     "text": [
      "\n",
      "100%|███████████████████████████████████████████████████████████████████████████████████| 3/3 [09:45<00:00, 195.22s/it]\u001b[A\n",
      " 35%|██████████████████████████▉                                                 | 33/93 [3:12:50<10:02:17, 602.29s/it]"
     ]
    },
    {
     "name": "stdout",
     "output_type": "stream",
     "text": [
      "saved_output/vgg19_pretrained_validating_output/knn_smote_n_10_batch32_cofiguration2\n",
      "saved_output/vgg19_pretrained_validating_output/knn_smote_n_15_batch32_cofiguration2\n",
      "saved_output/vgg19_pretrained_validating_output/knn_smote_n_20_batch32_cofiguration2\n"
     ]
    },
    {
     "name": "stderr",
     "output_type": "stream",
     "text": [
      "\n",
      "  0%|                                                                                            | 0/3 [00:00<?, ?it/s]\u001b[A\n",
      " 33%|███████████████████████████▋                                                       | 1/3 [03:21<06:42, 201.24s/it]\u001b[A"
     ]
    },
    {
     "name": "stdout",
     "output_type": "stream",
     "text": [
      "saved_output/vgg19_pretrained_validating_output/knn_smote_n_10_batch33_cofiguration0\n",
      "saved_output/vgg19_pretrained_validating_output/knn_smote_n_15_batch33_cofiguration0\n",
      "saved_output/vgg19_pretrained_validating_output/knn_smote_n_20_batch33_cofiguration0\n"
     ]
    },
    {
     "name": "stderr",
     "output_type": "stream",
     "text": [
      "\n",
      " 67%|███████████████████████████████████████████████████████▎                           | 2/3 [06:52<03:27, 207.05s/it]\u001b[A"
     ]
    },
    {
     "name": "stdout",
     "output_type": "stream",
     "text": [
      "saved_output/vgg19_pretrained_validating_output/knn_smote_n_10_batch33_cofiguration1\n",
      "saved_output/vgg19_pretrained_validating_output/knn_smote_n_15_batch33_cofiguration1\n",
      "saved_output/vgg19_pretrained_validating_output/knn_smote_n_20_batch33_cofiguration1\n"
     ]
    },
    {
     "name": "stderr",
     "output_type": "stream",
     "text": [
      "\n",
      "100%|███████████████████████████████████████████████████████████████████████████████████| 3/3 [10:25<00:00, 208.54s/it]\u001b[A\n",
      " 37%|████████████████████████████▏                                                | 34/93 [3:23:17<9:59:14, 609.40s/it]"
     ]
    },
    {
     "name": "stdout",
     "output_type": "stream",
     "text": [
      "saved_output/vgg19_pretrained_validating_output/knn_smote_n_10_batch33_cofiguration2\n",
      "saved_output/vgg19_pretrained_validating_output/knn_smote_n_15_batch33_cofiguration2\n",
      "saved_output/vgg19_pretrained_validating_output/knn_smote_n_20_batch33_cofiguration2\n"
     ]
    },
    {
     "name": "stderr",
     "output_type": "stream",
     "text": [
      "\n",
      "  0%|                                                                                            | 0/3 [00:00<?, ?it/s]\u001b[A\n",
      " 33%|███████████████████████████▋                                                       | 1/3 [03:29<06:59, 209.78s/it]\u001b[A"
     ]
    },
    {
     "name": "stdout",
     "output_type": "stream",
     "text": [
      "saved_output/vgg19_pretrained_validating_output/knn_smote_n_10_batch34_cofiguration0\n",
      "saved_output/vgg19_pretrained_validating_output/knn_smote_n_15_batch34_cofiguration0\n",
      "saved_output/vgg19_pretrained_validating_output/knn_smote_n_20_batch34_cofiguration0\n"
     ]
    },
    {
     "name": "stderr",
     "output_type": "stream",
     "text": [
      "\n",
      " 67%|███████████████████████████████████████████████████████▎                           | 2/3 [06:32<03:13, 193.85s/it]\u001b[A"
     ]
    },
    {
     "name": "stdout",
     "output_type": "stream",
     "text": [
      "saved_output/vgg19_pretrained_validating_output/knn_smote_n_10_batch34_cofiguration1\n",
      "saved_output/vgg19_pretrained_validating_output/knn_smote_n_15_batch34_cofiguration1\n",
      "saved_output/vgg19_pretrained_validating_output/knn_smote_n_20_batch34_cofiguration1\n"
     ]
    },
    {
     "name": "stderr",
     "output_type": "stream",
     "text": [
      "\n",
      "100%|███████████████████████████████████████████████████████████████████████████████████| 3/3 [09:51<00:00, 197.23s/it]\u001b[A\n",
      " 38%|████████████████████████████▉                                                | 35/93 [3:33:09<9:44:02, 604.18s/it]"
     ]
    },
    {
     "name": "stdout",
     "output_type": "stream",
     "text": [
      "saved_output/vgg19_pretrained_validating_output/knn_smote_n_10_batch34_cofiguration2\n",
      "saved_output/vgg19_pretrained_validating_output/knn_smote_n_15_batch34_cofiguration2\n",
      "saved_output/vgg19_pretrained_validating_output/knn_smote_n_20_batch34_cofiguration2\n"
     ]
    },
    {
     "name": "stderr",
     "output_type": "stream",
     "text": [
      "\n",
      "  0%|                                                                                            | 0/3 [00:00<?, ?it/s]\u001b[A\n",
      " 33%|███████████████████████████▋                                                       | 1/3 [03:29<06:58, 209.41s/it]\u001b[A"
     ]
    },
    {
     "name": "stdout",
     "output_type": "stream",
     "text": [
      "saved_output/vgg19_pretrained_validating_output/knn_smote_n_10_batch35_cofiguration0\n",
      "saved_output/vgg19_pretrained_validating_output/knn_smote_n_15_batch35_cofiguration0\n",
      "saved_output/vgg19_pretrained_validating_output/knn_smote_n_20_batch35_cofiguration0\n"
     ]
    },
    {
     "name": "stderr",
     "output_type": "stream",
     "text": [
      "\n",
      " 67%|███████████████████████████████████████████████████████▎                           | 2/3 [06:49<03:24, 204.13s/it]\u001b[A"
     ]
    },
    {
     "name": "stdout",
     "output_type": "stream",
     "text": [
      "saved_output/vgg19_pretrained_validating_output/knn_smote_n_10_batch35_cofiguration1\n",
      "saved_output/vgg19_pretrained_validating_output/knn_smote_n_15_batch35_cofiguration1\n",
      "saved_output/vgg19_pretrained_validating_output/knn_smote_n_20_batch35_cofiguration1\n"
     ]
    },
    {
     "name": "stderr",
     "output_type": "stream",
     "text": [
      "\n",
      "100%|███████████████████████████████████████████████████████████████████████████████████| 3/3 [10:07<00:00, 202.44s/it]\u001b[A\n",
      " 39%|█████████████████████████████▊                                               | 36/93 [3:43:16<9:34:58, 605.24s/it]"
     ]
    },
    {
     "name": "stdout",
     "output_type": "stream",
     "text": [
      "saved_output/vgg19_pretrained_validating_output/knn_smote_n_10_batch35_cofiguration2\n",
      "saved_output/vgg19_pretrained_validating_output/knn_smote_n_15_batch35_cofiguration2\n",
      "saved_output/vgg19_pretrained_validating_output/knn_smote_n_20_batch35_cofiguration2\n"
     ]
    },
    {
     "name": "stderr",
     "output_type": "stream",
     "text": [
      "\n",
      "  0%|                                                                                            | 0/3 [00:00<?, ?it/s]\u001b[A\n",
      " 33%|███████████████████████████▋                                                       | 1/3 [03:04<06:08, 184.20s/it]\u001b[A"
     ]
    },
    {
     "name": "stdout",
     "output_type": "stream",
     "text": [
      "saved_output/vgg19_pretrained_validating_output/knn_smote_n_10_batch36_cofiguration0\n",
      "saved_output/vgg19_pretrained_validating_output/knn_smote_n_15_batch36_cofiguration0\n",
      "saved_output/vgg19_pretrained_validating_output/knn_smote_n_20_batch36_cofiguration0\n"
     ]
    },
    {
     "name": "stderr",
     "output_type": "stream",
     "text": [
      "\n",
      " 67%|███████████████████████████████████████████████████████▎                           | 2/3 [06:29<03:16, 196.52s/it]\u001b[A"
     ]
    },
    {
     "name": "stdout",
     "output_type": "stream",
     "text": [
      "saved_output/vgg19_pretrained_validating_output/knn_smote_n_10_batch36_cofiguration1\n",
      "saved_output/vgg19_pretrained_validating_output/knn_smote_n_15_batch36_cofiguration1\n",
      "saved_output/vgg19_pretrained_validating_output/knn_smote_n_20_batch36_cofiguration1\n"
     ]
    },
    {
     "name": "stderr",
     "output_type": "stream",
     "text": [
      "\n",
      "100%|███████████████████████████████████████████████████████████████████████████████████| 3/3 [09:56<00:00, 198.88s/it]\u001b[A\n",
      " 40%|██████████████████████████████▋                                              | 37/93 [3:53:13<9:22:36, 602.80s/it]"
     ]
    },
    {
     "name": "stdout",
     "output_type": "stream",
     "text": [
      "saved_output/vgg19_pretrained_validating_output/knn_smote_n_10_batch36_cofiguration2\n",
      "saved_output/vgg19_pretrained_validating_output/knn_smote_n_15_batch36_cofiguration2\n",
      "saved_output/vgg19_pretrained_validating_output/knn_smote_n_20_batch36_cofiguration2\n"
     ]
    },
    {
     "name": "stderr",
     "output_type": "stream",
     "text": [
      "\n",
      "  0%|                                                                                            | 0/3 [00:00<?, ?it/s]\u001b[A\n",
      " 33%|███████████████████████████▋                                                       | 1/3 [03:38<07:16, 218.33s/it]\u001b[A"
     ]
    },
    {
     "name": "stdout",
     "output_type": "stream",
     "text": [
      "saved_output/vgg19_pretrained_validating_output/knn_smote_n_10_batch37_cofiguration0\n",
      "saved_output/vgg19_pretrained_validating_output/knn_smote_n_15_batch37_cofiguration0\n",
      "saved_output/vgg19_pretrained_validating_output/knn_smote_n_20_batch37_cofiguration0\n"
     ]
    },
    {
     "name": "stderr",
     "output_type": "stream",
     "text": [
      "\n",
      " 67%|███████████████████████████████████████████████████████▎                           | 2/3 [07:07<03:32, 212.66s/it]\u001b[A"
     ]
    },
    {
     "name": "stdout",
     "output_type": "stream",
     "text": [
      "saved_output/vgg19_pretrained_validating_output/knn_smote_n_10_batch37_cofiguration1\n",
      "saved_output/vgg19_pretrained_validating_output/knn_smote_n_15_batch37_cofiguration1\n",
      "saved_output/vgg19_pretrained_validating_output/knn_smote_n_20_batch37_cofiguration1\n"
     ]
    },
    {
     "name": "stderr",
     "output_type": "stream",
     "text": [
      "\n",
      "100%|███████████████████████████████████████████████████████████████████████████████████| 3/3 [10:22<00:00, 207.60s/it]\u001b[A\n",
      " 41%|███████████████████████████████▍                                             | 38/93 [4:03:36<9:18:03, 608.80s/it]"
     ]
    },
    {
     "name": "stdout",
     "output_type": "stream",
     "text": [
      "saved_output/vgg19_pretrained_validating_output/knn_smote_n_10_batch37_cofiguration2\n",
      "saved_output/vgg19_pretrained_validating_output/knn_smote_n_15_batch37_cofiguration2\n",
      "saved_output/vgg19_pretrained_validating_output/knn_smote_n_20_batch37_cofiguration2\n"
     ]
    },
    {
     "name": "stderr",
     "output_type": "stream",
     "text": [
      "\n",
      "  0%|                                                                                            | 0/3 [00:00<?, ?it/s]\u001b[A\n",
      " 33%|███████████████████████████▋                                                       | 1/3 [03:43<07:27, 223.99s/it]\u001b[A"
     ]
    },
    {
     "name": "stdout",
     "output_type": "stream",
     "text": [
      "saved_output/vgg19_pretrained_validating_output/knn_smote_n_10_batch38_cofiguration0\n",
      "saved_output/vgg19_pretrained_validating_output/knn_smote_n_15_batch38_cofiguration0\n",
      "saved_output/vgg19_pretrained_validating_output/knn_smote_n_20_batch38_cofiguration0\n"
     ]
    },
    {
     "name": "stderr",
     "output_type": "stream",
     "text": [
      "\n",
      " 67%|███████████████████████████████████████████████████████▎                           | 2/3 [07:01<03:28, 208.66s/it]\u001b[A"
     ]
    },
    {
     "name": "stdout",
     "output_type": "stream",
     "text": [
      "saved_output/vgg19_pretrained_validating_output/knn_smote_n_10_batch38_cofiguration1\n",
      "saved_output/vgg19_pretrained_validating_output/knn_smote_n_15_batch38_cofiguration1\n",
      "saved_output/vgg19_pretrained_validating_output/knn_smote_n_20_batch38_cofiguration1\n"
     ]
    },
    {
     "name": "stderr",
     "output_type": "stream",
     "text": [
      "\n",
      "100%|███████████████████████████████████████████████████████████████████████████████████| 3/3 [10:11<00:00, 203.92s/it]\u001b[A\n",
      " 42%|████████████████████████████████▎                                            | 39/93 [4:13:48<9:08:43, 609.69s/it]"
     ]
    },
    {
     "name": "stdout",
     "output_type": "stream",
     "text": [
      "saved_output/vgg19_pretrained_validating_output/knn_smote_n_10_batch38_cofiguration2\n",
      "saved_output/vgg19_pretrained_validating_output/knn_smote_n_15_batch38_cofiguration2\n",
      "saved_output/vgg19_pretrained_validating_output/knn_smote_n_20_batch38_cofiguration2\n"
     ]
    },
    {
     "name": "stderr",
     "output_type": "stream",
     "text": [
      "\n",
      "  0%|                                                                                            | 0/3 [00:00<?, ?it/s]\u001b[A\n",
      " 33%|███████████████████████████▋                                                       | 1/3 [03:19<06:38, 199.44s/it]\u001b[A"
     ]
    },
    {
     "name": "stdout",
     "output_type": "stream",
     "text": [
      "saved_output/vgg19_pretrained_validating_output/knn_smote_n_10_batch39_cofiguration0\n",
      "saved_output/vgg19_pretrained_validating_output/knn_smote_n_15_batch39_cofiguration0\n",
      "saved_output/vgg19_pretrained_validating_output/knn_smote_n_20_batch39_cofiguration0\n"
     ]
    },
    {
     "name": "stderr",
     "output_type": "stream",
     "text": [
      "\n",
      " 67%|███████████████████████████████████████████████████████▎                           | 2/3 [06:48<03:25, 205.14s/it]\u001b[A"
     ]
    },
    {
     "name": "stdout",
     "output_type": "stream",
     "text": [
      "saved_output/vgg19_pretrained_validating_output/knn_smote_n_10_batch39_cofiguration1\n",
      "saved_output/vgg19_pretrained_validating_output/knn_smote_n_15_batch39_cofiguration1\n",
      "saved_output/vgg19_pretrained_validating_output/knn_smote_n_20_batch39_cofiguration1\n"
     ]
    },
    {
     "name": "stderr",
     "output_type": "stream",
     "text": [
      "\n",
      "100%|███████████████████████████████████████████████████████████████████████████████████| 3/3 [10:13<00:00, 204.52s/it]\u001b[A\n",
      " 43%|█████████████████████████████████                                            | 40/93 [4:24:01<8:59:35, 610.86s/it]"
     ]
    },
    {
     "name": "stdout",
     "output_type": "stream",
     "text": [
      "saved_output/vgg19_pretrained_validating_output/knn_smote_n_10_batch39_cofiguration2\n",
      "saved_output/vgg19_pretrained_validating_output/knn_smote_n_15_batch39_cofiguration2\n",
      "saved_output/vgg19_pretrained_validating_output/knn_smote_n_20_batch39_cofiguration2\n"
     ]
    },
    {
     "name": "stderr",
     "output_type": "stream",
     "text": [
      "\n",
      "  0%|                                                                                            | 0/3 [00:00<?, ?it/s]\u001b[A\n",
      " 33%|███████████████████████████▋                                                       | 1/3 [03:34<07:08, 214.27s/it]\u001b[A"
     ]
    },
    {
     "name": "stdout",
     "output_type": "stream",
     "text": [
      "saved_output/vgg19_pretrained_validating_output/knn_smote_n_10_batch40_cofiguration0\n",
      "saved_output/vgg19_pretrained_validating_output/knn_smote_n_15_batch40_cofiguration0\n",
      "saved_output/vgg19_pretrained_validating_output/knn_smote_n_20_batch40_cofiguration0\n"
     ]
    },
    {
     "name": "stderr",
     "output_type": "stream",
     "text": [
      "\n",
      " 67%|███████████████████████████████████████████████████████▎                           | 2/3 [07:03<03:31, 211.12s/it]\u001b[A"
     ]
    },
    {
     "name": "stdout",
     "output_type": "stream",
     "text": [
      "saved_output/vgg19_pretrained_validating_output/knn_smote_n_10_batch40_cofiguration1\n",
      "saved_output/vgg19_pretrained_validating_output/knn_smote_n_15_batch40_cofiguration1\n",
      "saved_output/vgg19_pretrained_validating_output/knn_smote_n_20_batch40_cofiguration1\n"
     ]
    },
    {
     "name": "stderr",
     "output_type": "stream",
     "text": [
      "\n",
      "100%|███████████████████████████████████████████████████████████████████████████████████| 3/3 [10:18<00:00, 206.02s/it]\u001b[A\n",
      " 44%|█████████████████████████████████▉                                           | 41/93 [4:34:20<8:51:24, 613.15s/it]"
     ]
    },
    {
     "name": "stdout",
     "output_type": "stream",
     "text": [
      "saved_output/vgg19_pretrained_validating_output/knn_smote_n_10_batch40_cofiguration2\n",
      "saved_output/vgg19_pretrained_validating_output/knn_smote_n_15_batch40_cofiguration2\n",
      "saved_output/vgg19_pretrained_validating_output/knn_smote_n_20_batch40_cofiguration2\n"
     ]
    },
    {
     "name": "stderr",
     "output_type": "stream",
     "text": [
      "\n",
      "  0%|                                                                                            | 0/3 [00:00<?, ?it/s]\u001b[A\n",
      " 33%|███████████████████████████▋                                                       | 1/3 [03:21<06:42, 201.44s/it]\u001b[A"
     ]
    },
    {
     "name": "stdout",
     "output_type": "stream",
     "text": [
      "saved_output/vgg19_pretrained_validating_output/knn_smote_n_10_batch41_cofiguration0\n",
      "saved_output/vgg19_pretrained_validating_output/knn_smote_n_15_batch41_cofiguration0\n",
      "saved_output/vgg19_pretrained_validating_output/knn_smote_n_20_batch41_cofiguration0\n"
     ]
    },
    {
     "name": "stderr",
     "output_type": "stream",
     "text": [
      "\n",
      " 67%|███████████████████████████████████████████████████████▎                           | 2/3 [06:30<03:14, 194.09s/it]\u001b[A"
     ]
    },
    {
     "name": "stdout",
     "output_type": "stream",
     "text": [
      "saved_output/vgg19_pretrained_validating_output/knn_smote_n_10_batch41_cofiguration1\n",
      "saved_output/vgg19_pretrained_validating_output/knn_smote_n_15_batch41_cofiguration1\n",
      "saved_output/vgg19_pretrained_validating_output/knn_smote_n_20_batch41_cofiguration1\n"
     ]
    },
    {
     "name": "stderr",
     "output_type": "stream",
     "text": [
      "\n",
      "100%|███████████████████████████████████████████████████████████████████████████████████| 3/3 [10:01<00:00, 200.35s/it]\u001b[A\n",
      " 45%|██████████████████████████████████▊                                          | 42/93 [4:44:21<8:38:06, 609.53s/it]"
     ]
    },
    {
     "name": "stdout",
     "output_type": "stream",
     "text": [
      "saved_output/vgg19_pretrained_validating_output/knn_smote_n_10_batch41_cofiguration2\n",
      "saved_output/vgg19_pretrained_validating_output/knn_smote_n_15_batch41_cofiguration2\n",
      "saved_output/vgg19_pretrained_validating_output/knn_smote_n_20_batch41_cofiguration2\n"
     ]
    },
    {
     "name": "stderr",
     "output_type": "stream",
     "text": [
      "\n",
      "  0%|                                                                                            | 0/3 [00:00<?, ?it/s]\u001b[A\n",
      " 33%|███████████████████████████▋                                                       | 1/3 [03:42<07:24, 222.20s/it]\u001b[A"
     ]
    },
    {
     "name": "stdout",
     "output_type": "stream",
     "text": [
      "saved_output/vgg19_pretrained_validating_output/knn_smote_n_10_batch42_cofiguration0\n",
      "saved_output/vgg19_pretrained_validating_output/knn_smote_n_15_batch42_cofiguration0\n",
      "saved_output/vgg19_pretrained_validating_output/knn_smote_n_20_batch42_cofiguration0\n"
     ]
    },
    {
     "name": "stderr",
     "output_type": "stream",
     "text": [
      "\n",
      " 67%|███████████████████████████████████████████████████████▎                           | 2/3 [07:09<03:33, 213.40s/it]\u001b[A"
     ]
    },
    {
     "name": "stdout",
     "output_type": "stream",
     "text": [
      "saved_output/vgg19_pretrained_validating_output/knn_smote_n_10_batch42_cofiguration1\n",
      "saved_output/vgg19_pretrained_validating_output/knn_smote_n_15_batch42_cofiguration1\n",
      "saved_output/vgg19_pretrained_validating_output/knn_smote_n_20_batch42_cofiguration1\n"
     ]
    },
    {
     "name": "stderr",
     "output_type": "stream",
     "text": [
      "\n",
      "100%|███████████████████████████████████████████████████████████████████████████████████| 3/3 [10:48<00:00, 216.07s/it]\u001b[A\n",
      " 46%|███████████████████████████████████▌                                         | 43/93 [4:55:09<8:37:36, 621.13s/it]"
     ]
    },
    {
     "name": "stdout",
     "output_type": "stream",
     "text": [
      "saved_output/vgg19_pretrained_validating_output/knn_smote_n_10_batch42_cofiguration2\n",
      "saved_output/vgg19_pretrained_validating_output/knn_smote_n_15_batch42_cofiguration2\n",
      "saved_output/vgg19_pretrained_validating_output/knn_smote_n_20_batch42_cofiguration2\n"
     ]
    },
    {
     "name": "stderr",
     "output_type": "stream",
     "text": [
      "\n",
      "  0%|                                                                                            | 0/3 [00:00<?, ?it/s]\u001b[A\n",
      " 33%|███████████████████████████▋                                                       | 1/3 [03:34<07:09, 214.65s/it]\u001b[A"
     ]
    },
    {
     "name": "stdout",
     "output_type": "stream",
     "text": [
      "saved_output/vgg19_pretrained_validating_output/knn_smote_n_10_batch43_cofiguration0\n",
      "saved_output/vgg19_pretrained_validating_output/knn_smote_n_15_batch43_cofiguration0\n",
      "saved_output/vgg19_pretrained_validating_output/knn_smote_n_20_batch43_cofiguration0\n"
     ]
    },
    {
     "name": "stderr",
     "output_type": "stream",
     "text": [
      "\n",
      " 67%|███████████████████████████████████████████████████████▎                           | 2/3 [07:11<03:35, 215.76s/it]\u001b[A"
     ]
    },
    {
     "name": "stdout",
     "output_type": "stream",
     "text": [
      "saved_output/vgg19_pretrained_validating_output/knn_smote_n_10_batch43_cofiguration1\n",
      "saved_output/vgg19_pretrained_validating_output/knn_smote_n_15_batch43_cofiguration1\n",
      "saved_output/vgg19_pretrained_validating_output/knn_smote_n_20_batch43_cofiguration1\n"
     ]
    },
    {
     "name": "stderr",
     "output_type": "stream",
     "text": [
      "\n",
      "100%|███████████████████████████████████████████████████████████████████████████████████| 3/3 [10:35<00:00, 211.69s/it]\u001b[A\n",
      " 47%|████████████████████████████████████▍                                        | 44/93 [5:05:44<8:30:40, 625.32s/it]"
     ]
    },
    {
     "name": "stdout",
     "output_type": "stream",
     "text": [
      "saved_output/vgg19_pretrained_validating_output/knn_smote_n_10_batch43_cofiguration2\n",
      "saved_output/vgg19_pretrained_validating_output/knn_smote_n_15_batch43_cofiguration2\n",
      "saved_output/vgg19_pretrained_validating_output/knn_smote_n_20_batch43_cofiguration2\n"
     ]
    },
    {
     "name": "stderr",
     "output_type": "stream",
     "text": [
      "\n",
      "  0%|                                                                                            | 0/3 [00:00<?, ?it/s]\u001b[A\n",
      " 33%|███████████████████████████▋                                                       | 1/3 [03:11<06:23, 191.68s/it]\u001b[A"
     ]
    },
    {
     "name": "stdout",
     "output_type": "stream",
     "text": [
      "saved_output/vgg19_pretrained_validating_output/knn_smote_n_10_batch44_cofiguration0\n",
      "saved_output/vgg19_pretrained_validating_output/knn_smote_n_15_batch44_cofiguration0\n",
      "saved_output/vgg19_pretrained_validating_output/knn_smote_n_20_batch44_cofiguration0\n"
     ]
    },
    {
     "name": "stderr",
     "output_type": "stream",
     "text": [
      "\n",
      " 67%|███████████████████████████████████████████████████████▎                           | 2/3 [06:31<03:16, 196.63s/it]\u001b[A"
     ]
    },
    {
     "name": "stdout",
     "output_type": "stream",
     "text": [
      "saved_output/vgg19_pretrained_validating_output/knn_smote_n_10_batch44_cofiguration1\n",
      "saved_output/vgg19_pretrained_validating_output/knn_smote_n_15_batch44_cofiguration1\n",
      "saved_output/vgg19_pretrained_validating_output/knn_smote_n_20_batch44_cofiguration1\n"
     ]
    },
    {
     "name": "stderr",
     "output_type": "stream",
     "text": [
      "\n",
      "100%|███████████████████████████████████████████████████████████████████████████████████| 3/3 [09:40<00:00, 193.38s/it]\u001b[A\n",
      " 48%|█████████████████████████████████████▎                                       | 45/93 [5:15:25<8:09:25, 611.77s/it]"
     ]
    },
    {
     "name": "stdout",
     "output_type": "stream",
     "text": [
      "saved_output/vgg19_pretrained_validating_output/knn_smote_n_10_batch44_cofiguration2\n",
      "saved_output/vgg19_pretrained_validating_output/knn_smote_n_15_batch44_cofiguration2\n",
      "saved_output/vgg19_pretrained_validating_output/knn_smote_n_20_batch44_cofiguration2\n"
     ]
    },
    {
     "name": "stderr",
     "output_type": "stream",
     "text": [
      "\n",
      "  0%|                                                                                            | 0/3 [00:00<?, ?it/s]\u001b[A\n",
      " 33%|███████████████████████████▋                                                       | 1/3 [03:26<06:52, 206.37s/it]\u001b[A"
     ]
    },
    {
     "name": "stdout",
     "output_type": "stream",
     "text": [
      "saved_output/vgg19_pretrained_validating_output/knn_smote_n_10_batch45_cofiguration0\n",
      "saved_output/vgg19_pretrained_validating_output/knn_smote_n_15_batch45_cofiguration0\n",
      "saved_output/vgg19_pretrained_validating_output/knn_smote_n_20_batch45_cofiguration0\n"
     ]
    },
    {
     "name": "stderr",
     "output_type": "stream",
     "text": [
      "\n",
      " 67%|███████████████████████████████████████████████████████▎                           | 2/3 [06:55<03:28, 208.10s/it]\u001b[A"
     ]
    },
    {
     "name": "stdout",
     "output_type": "stream",
     "text": [
      "saved_output/vgg19_pretrained_validating_output/knn_smote_n_10_batch45_cofiguration1\n",
      "saved_output/vgg19_pretrained_validating_output/knn_smote_n_15_batch45_cofiguration1\n",
      "saved_output/vgg19_pretrained_validating_output/knn_smote_n_20_batch45_cofiguration1\n"
     ]
    },
    {
     "name": "stderr",
     "output_type": "stream",
     "text": [
      "\n",
      "100%|███████████████████████████████████████████████████████████████████████████████████| 3/3 [09:53<00:00, 197.73s/it]\u001b[A\n",
      " 49%|██████████████████████████████████████                                       | 46/93 [5:25:18<7:54:51, 606.20s/it]"
     ]
    },
    {
     "name": "stdout",
     "output_type": "stream",
     "text": [
      "saved_output/vgg19_pretrained_validating_output/knn_smote_n_10_batch45_cofiguration2\n",
      "saved_output/vgg19_pretrained_validating_output/knn_smote_n_15_batch45_cofiguration2\n",
      "saved_output/vgg19_pretrained_validating_output/knn_smote_n_20_batch45_cofiguration2\n"
     ]
    },
    {
     "name": "stderr",
     "output_type": "stream",
     "text": [
      "\n",
      "  0%|                                                                                            | 0/3 [00:00<?, ?it/s]\u001b[A\n",
      " 33%|███████████████████████████▋                                                       | 1/3 [03:10<06:21, 190.72s/it]\u001b[A"
     ]
    },
    {
     "name": "stdout",
     "output_type": "stream",
     "text": [
      "saved_output/vgg19_pretrained_validating_output/knn_smote_n_10_batch46_cofiguration0\n",
      "saved_output/vgg19_pretrained_validating_output/knn_smote_n_15_batch46_cofiguration0\n",
      "saved_output/vgg19_pretrained_validating_output/knn_smote_n_20_batch46_cofiguration0\n"
     ]
    },
    {
     "name": "stderr",
     "output_type": "stream",
     "text": [
      "\n",
      " 67%|███████████████████████████████████████████████████████▎                           | 2/3 [06:32<03:17, 197.21s/it]\u001b[A"
     ]
    },
    {
     "name": "stdout",
     "output_type": "stream",
     "text": [
      "saved_output/vgg19_pretrained_validating_output/knn_smote_n_10_batch46_cofiguration1\n",
      "saved_output/vgg19_pretrained_validating_output/knn_smote_n_15_batch46_cofiguration1\n",
      "saved_output/vgg19_pretrained_validating_output/knn_smote_n_20_batch46_cofiguration1\n"
     ]
    },
    {
     "name": "stderr",
     "output_type": "stream",
     "text": [
      "\n",
      "100%|███████████████████████████████████████████████████████████████████████████████████| 3/3 [09:54<00:00, 198.23s/it]\u001b[A\n",
      " 51%|██████████████████████████████████████▉                                      | 47/93 [5:35:12<7:42:06, 602.75s/it]"
     ]
    },
    {
     "name": "stdout",
     "output_type": "stream",
     "text": [
      "saved_output/vgg19_pretrained_validating_output/knn_smote_n_10_batch46_cofiguration2\n",
      "saved_output/vgg19_pretrained_validating_output/knn_smote_n_15_batch46_cofiguration2\n",
      "saved_output/vgg19_pretrained_validating_output/knn_smote_n_20_batch46_cofiguration2\n"
     ]
    },
    {
     "name": "stderr",
     "output_type": "stream",
     "text": [
      "\n",
      "  0%|                                                                                            | 0/3 [00:00<?, ?it/s]\u001b[A\n",
      " 33%|███████████████████████████▋                                                       | 1/3 [03:27<06:55, 207.55s/it]\u001b[A"
     ]
    },
    {
     "name": "stdout",
     "output_type": "stream",
     "text": [
      "saved_output/vgg19_pretrained_validating_output/knn_smote_n_10_batch47_cofiguration0\n",
      "saved_output/vgg19_pretrained_validating_output/knn_smote_n_15_batch47_cofiguration0\n",
      "saved_output/vgg19_pretrained_validating_output/knn_smote_n_20_batch47_cofiguration0\n"
     ]
    },
    {
     "name": "stderr",
     "output_type": "stream",
     "text": [
      "\n",
      " 67%|███████████████████████████████████████████████████████▎                           | 2/3 [06:52<03:25, 205.74s/it]\u001b[A"
     ]
    },
    {
     "name": "stdout",
     "output_type": "stream",
     "text": [
      "saved_output/vgg19_pretrained_validating_output/knn_smote_n_10_batch47_cofiguration1\n",
      "saved_output/vgg19_pretrained_validating_output/knn_smote_n_15_batch47_cofiguration1\n",
      "saved_output/vgg19_pretrained_validating_output/knn_smote_n_20_batch47_cofiguration1\n"
     ]
    },
    {
     "name": "stderr",
     "output_type": "stream",
     "text": [
      "\n",
      "100%|███████████████████████████████████████████████████████████████████████████████████| 3/3 [10:12<00:00, 204.02s/it]\u001b[A\n",
      " 52%|███████████████████████████████████████▋                                     | 48/93 [5:45:25<7:34:09, 605.55s/it]"
     ]
    },
    {
     "name": "stdout",
     "output_type": "stream",
     "text": [
      "saved_output/vgg19_pretrained_validating_output/knn_smote_n_10_batch47_cofiguration2\n",
      "saved_output/vgg19_pretrained_validating_output/knn_smote_n_15_batch47_cofiguration2\n",
      "saved_output/vgg19_pretrained_validating_output/knn_smote_n_20_batch47_cofiguration2\n"
     ]
    },
    {
     "name": "stderr",
     "output_type": "stream",
     "text": [
      "\n",
      "  0%|                                                                                            | 0/3 [00:00<?, ?it/s]\u001b[A\n",
      " 33%|███████████████████████████▋                                                       | 1/3 [03:13<06:26, 193.34s/it]\u001b[A"
     ]
    },
    {
     "name": "stdout",
     "output_type": "stream",
     "text": [
      "saved_output/vgg19_pretrained_validating_output/knn_smote_n_10_batch48_cofiguration0\n",
      "saved_output/vgg19_pretrained_validating_output/knn_smote_n_15_batch48_cofiguration0\n",
      "saved_output/vgg19_pretrained_validating_output/knn_smote_n_20_batch48_cofiguration0\n"
     ]
    },
    {
     "name": "stderr",
     "output_type": "stream",
     "text": [
      "\n",
      " 67%|███████████████████████████████████████████████████████▎                           | 2/3 [06:43<03:23, 203.24s/it]\u001b[A"
     ]
    },
    {
     "name": "stdout",
     "output_type": "stream",
     "text": [
      "saved_output/vgg19_pretrained_validating_output/knn_smote_n_10_batch48_cofiguration1\n",
      "saved_output/vgg19_pretrained_validating_output/knn_smote_n_15_batch48_cofiguration1\n",
      "saved_output/vgg19_pretrained_validating_output/knn_smote_n_20_batch48_cofiguration1\n"
     ]
    },
    {
     "name": "stderr",
     "output_type": "stream",
     "text": [
      "\n",
      "100%|███████████████████████████████████████████████████████████████████████████████████| 3/3 [10:08<00:00, 202.77s/it]\u001b[A\n",
      " 53%|████████████████████████████████████████▌                                    | 49/93 [5:55:33<7:24:40, 606.37s/it]"
     ]
    },
    {
     "name": "stdout",
     "output_type": "stream",
     "text": [
      "saved_output/vgg19_pretrained_validating_output/knn_smote_n_10_batch48_cofiguration2\n",
      "saved_output/vgg19_pretrained_validating_output/knn_smote_n_15_batch48_cofiguration2\n",
      "saved_output/vgg19_pretrained_validating_output/knn_smote_n_20_batch48_cofiguration2\n"
     ]
    },
    {
     "name": "stderr",
     "output_type": "stream",
     "text": [
      "\n",
      "  0%|                                                                                            | 0/3 [00:00<?, ?it/s]\u001b[A\n",
      " 33%|███████████████████████████▋                                                       | 1/3 [03:31<07:02, 211.39s/it]\u001b[A"
     ]
    },
    {
     "name": "stdout",
     "output_type": "stream",
     "text": [
      "saved_output/vgg19_pretrained_validating_output/knn_smote_n_10_batch49_cofiguration0\n",
      "saved_output/vgg19_pretrained_validating_output/knn_smote_n_15_batch49_cofiguration0\n",
      "saved_output/vgg19_pretrained_validating_output/knn_smote_n_20_batch49_cofiguration0\n"
     ]
    },
    {
     "name": "stderr",
     "output_type": "stream",
     "text": [
      "\n",
      " 67%|███████████████████████████████████████████████████████▎                           | 2/3 [07:03<03:31, 211.65s/it]\u001b[A"
     ]
    },
    {
     "name": "stdout",
     "output_type": "stream",
     "text": [
      "saved_output/vgg19_pretrained_validating_output/knn_smote_n_10_batch49_cofiguration1\n",
      "saved_output/vgg19_pretrained_validating_output/knn_smote_n_15_batch49_cofiguration1\n",
      "saved_output/vgg19_pretrained_validating_output/knn_smote_n_20_batch49_cofiguration1\n"
     ]
    },
    {
     "name": "stderr",
     "output_type": "stream",
     "text": [
      "\n",
      "100%|███████████████████████████████████████████████████████████████████████████████████| 3/3 [10:39<00:00, 213.26s/it]\u001b[A\n",
      " 54%|█████████████████████████████████████████▍                                   | 50/93 [6:06:13<7:21:45, 616.40s/it]"
     ]
    },
    {
     "name": "stdout",
     "output_type": "stream",
     "text": [
      "saved_output/vgg19_pretrained_validating_output/knn_smote_n_10_batch49_cofiguration2\n",
      "saved_output/vgg19_pretrained_validating_output/knn_smote_n_15_batch49_cofiguration2\n",
      "saved_output/vgg19_pretrained_validating_output/knn_smote_n_20_batch49_cofiguration2\n"
     ]
    },
    {
     "name": "stderr",
     "output_type": "stream",
     "text": [
      "\n",
      "  0%|                                                                                            | 0/3 [00:00<?, ?it/s]\u001b[A\n",
      " 33%|███████████████████████████▋                                                       | 1/3 [03:25<06:51, 205.59s/it]\u001b[A"
     ]
    },
    {
     "name": "stdout",
     "output_type": "stream",
     "text": [
      "saved_output/vgg19_pretrained_validating_output/knn_smote_n_10_batch50_cofiguration0\n",
      "saved_output/vgg19_pretrained_validating_output/knn_smote_n_15_batch50_cofiguration0\n",
      "saved_output/vgg19_pretrained_validating_output/knn_smote_n_20_batch50_cofiguration0\n"
     ]
    },
    {
     "name": "stderr",
     "output_type": "stream",
     "text": [
      "\n",
      " 67%|███████████████████████████████████████████████████████▎                           | 2/3 [07:05<03:33, 213.88s/it]\u001b[A"
     ]
    },
    {
     "name": "stdout",
     "output_type": "stream",
     "text": [
      "saved_output/vgg19_pretrained_validating_output/knn_smote_n_10_batch50_cofiguration1\n",
      "saved_output/vgg19_pretrained_validating_output/knn_smote_n_15_batch50_cofiguration1\n",
      "saved_output/vgg19_pretrained_validating_output/knn_smote_n_20_batch50_cofiguration1\n"
     ]
    },
    {
     "name": "stderr",
     "output_type": "stream",
     "text": [
      "\n",
      "100%|███████████████████████████████████████████████████████████████████████████████████| 3/3 [10:30<00:00, 210.14s/it]\u001b[A\n",
      " 55%|██████████████████████████████████████████▏                                  | 51/93 [6:16:43<7:14:25, 620.61s/it]"
     ]
    },
    {
     "name": "stdout",
     "output_type": "stream",
     "text": [
      "saved_output/vgg19_pretrained_validating_output/knn_smote_n_10_batch50_cofiguration2\n",
      "saved_output/vgg19_pretrained_validating_output/knn_smote_n_15_batch50_cofiguration2\n",
      "saved_output/vgg19_pretrained_validating_output/knn_smote_n_20_batch50_cofiguration2\n"
     ]
    },
    {
     "name": "stderr",
     "output_type": "stream",
     "text": [
      "\n",
      "  0%|                                                                                            | 0/3 [00:00<?, ?it/s]\u001b[A\n",
      " 33%|███████████████████████████▋                                                       | 1/3 [03:28<06:57, 208.79s/it]\u001b[A"
     ]
    },
    {
     "name": "stdout",
     "output_type": "stream",
     "text": [
      "saved_output/vgg19_pretrained_validating_output/knn_smote_n_10_batch51_cofiguration0\n",
      "saved_output/vgg19_pretrained_validating_output/knn_smote_n_15_batch51_cofiguration0\n",
      "saved_output/vgg19_pretrained_validating_output/knn_smote_n_20_batch51_cofiguration0\n"
     ]
    },
    {
     "name": "stderr",
     "output_type": "stream",
     "text": [
      "\n",
      " 67%|███████████████████████████████████████████████████████▎                           | 2/3 [07:18<03:40, 220.94s/it]\u001b[A"
     ]
    },
    {
     "name": "stdout",
     "output_type": "stream",
     "text": [
      "saved_output/vgg19_pretrained_validating_output/knn_smote_n_10_batch51_cofiguration1\n",
      "saved_output/vgg19_pretrained_validating_output/knn_smote_n_15_batch51_cofiguration1\n",
      "saved_output/vgg19_pretrained_validating_output/knn_smote_n_20_batch51_cofiguration1\n"
     ]
    },
    {
     "name": "stderr",
     "output_type": "stream",
     "text": [
      "\n",
      "100%|███████████████████████████████████████████████████████████████████████████████████| 3/3 [10:36<00:00, 212.22s/it]\u001b[A\n",
      " 56%|███████████████████████████████████████████                                  | 52/93 [6:27:20<7:07:22, 625.43s/it]"
     ]
    },
    {
     "name": "stdout",
     "output_type": "stream",
     "text": [
      "saved_output/vgg19_pretrained_validating_output/knn_smote_n_10_batch51_cofiguration2\n",
      "saved_output/vgg19_pretrained_validating_output/knn_smote_n_15_batch51_cofiguration2\n",
      "saved_output/vgg19_pretrained_validating_output/knn_smote_n_20_batch51_cofiguration2\n"
     ]
    },
    {
     "name": "stderr",
     "output_type": "stream",
     "text": [
      "\n",
      "  0%|                                                                                            | 0/3 [00:00<?, ?it/s]\u001b[A\n",
      " 33%|███████████████████████████▋                                                       | 1/3 [03:27<06:54, 207.07s/it]\u001b[A"
     ]
    },
    {
     "name": "stdout",
     "output_type": "stream",
     "text": [
      "saved_output/vgg19_pretrained_validating_output/knn_smote_n_10_batch52_cofiguration0\n",
      "saved_output/vgg19_pretrained_validating_output/knn_smote_n_15_batch52_cofiguration0\n",
      "saved_output/vgg19_pretrained_validating_output/knn_smote_n_20_batch52_cofiguration0\n"
     ]
    },
    {
     "name": "stderr",
     "output_type": "stream",
     "text": [
      "\n",
      " 67%|███████████████████████████████████████████████████████▎                           | 2/3 [06:46<03:22, 202.82s/it]\u001b[A"
     ]
    },
    {
     "name": "stdout",
     "output_type": "stream",
     "text": [
      "saved_output/vgg19_pretrained_validating_output/knn_smote_n_10_batch52_cofiguration1\n",
      "saved_output/vgg19_pretrained_validating_output/knn_smote_n_15_batch52_cofiguration1\n",
      "saved_output/vgg19_pretrained_validating_output/knn_smote_n_20_batch52_cofiguration1\n"
     ]
    },
    {
     "name": "stderr",
     "output_type": "stream",
     "text": [
      "\n",
      "100%|███████████████████████████████████████████████████████████████████████████████████| 3/3 [10:00<00:00, 200.28s/it]\u001b[A\n",
      " 57%|███████████████████████████████████████████▉                                 | 53/93 [6:37:21<6:52:02, 618.05s/it]"
     ]
    },
    {
     "name": "stdout",
     "output_type": "stream",
     "text": [
      "saved_output/vgg19_pretrained_validating_output/knn_smote_n_10_batch52_cofiguration2\n",
      "saved_output/vgg19_pretrained_validating_output/knn_smote_n_15_batch52_cofiguration2\n",
      "saved_output/vgg19_pretrained_validating_output/knn_smote_n_20_batch52_cofiguration2\n"
     ]
    },
    {
     "name": "stderr",
     "output_type": "stream",
     "text": [
      "\n",
      "  0%|                                                                                            | 0/3 [00:00<?, ?it/s]\u001b[A\n",
      " 33%|███████████████████████████▋                                                       | 1/3 [03:16<06:33, 196.64s/it]\u001b[A"
     ]
    },
    {
     "name": "stdout",
     "output_type": "stream",
     "text": [
      "saved_output/vgg19_pretrained_validating_output/knn_smote_n_10_batch53_cofiguration0\n",
      "saved_output/vgg19_pretrained_validating_output/knn_smote_n_15_batch53_cofiguration0\n",
      "saved_output/vgg19_pretrained_validating_output/knn_smote_n_20_batch53_cofiguration0\n"
     ]
    },
    {
     "name": "stderr",
     "output_type": "stream",
     "text": [
      "\n",
      " 67%|███████████████████████████████████████████████████████▎                           | 2/3 [06:44<03:23, 203.28s/it]\u001b[A"
     ]
    },
    {
     "name": "stdout",
     "output_type": "stream",
     "text": [
      "saved_output/vgg19_pretrained_validating_output/knn_smote_n_10_batch53_cofiguration1\n",
      "saved_output/vgg19_pretrained_validating_output/knn_smote_n_15_batch53_cofiguration1\n",
      "saved_output/vgg19_pretrained_validating_output/knn_smote_n_20_batch53_cofiguration1\n"
     ]
    },
    {
     "name": "stderr",
     "output_type": "stream",
     "text": [
      "\n",
      "100%|███████████████████████████████████████████████████████████████████████████████████| 3/3 [10:03<00:00, 201.30s/it]\u001b[A\n",
      " 58%|████████████████████████████████████████████▋                                | 54/93 [6:47:24<6:38:58, 613.81s/it]"
     ]
    },
    {
     "name": "stdout",
     "output_type": "stream",
     "text": [
      "saved_output/vgg19_pretrained_validating_output/knn_smote_n_10_batch53_cofiguration2\n",
      "saved_output/vgg19_pretrained_validating_output/knn_smote_n_15_batch53_cofiguration2\n",
      "saved_output/vgg19_pretrained_validating_output/knn_smote_n_20_batch53_cofiguration2\n"
     ]
    },
    {
     "name": "stderr",
     "output_type": "stream",
     "text": [
      "\n",
      "  0%|                                                                                            | 0/3 [00:00<?, ?it/s]\u001b[A\n",
      " 33%|███████████████████████████▋                                                       | 1/3 [03:42<07:25, 222.54s/it]\u001b[A"
     ]
    },
    {
     "name": "stdout",
     "output_type": "stream",
     "text": [
      "saved_output/vgg19_pretrained_validating_output/knn_smote_n_10_batch54_cofiguration0\n",
      "saved_output/vgg19_pretrained_validating_output/knn_smote_n_15_batch54_cofiguration0\n",
      "saved_output/vgg19_pretrained_validating_output/knn_smote_n_20_batch54_cofiguration0\n"
     ]
    },
    {
     "name": "stderr",
     "output_type": "stream",
     "text": [
      "\n",
      " 67%|███████████████████████████████████████████████████████▎                           | 2/3 [06:56<03:25, 205.76s/it]\u001b[A"
     ]
    },
    {
     "name": "stdout",
     "output_type": "stream",
     "text": [
      "saved_output/vgg19_pretrained_validating_output/knn_smote_n_10_batch54_cofiguration1\n",
      "saved_output/vgg19_pretrained_validating_output/knn_smote_n_15_batch54_cofiguration1\n",
      "saved_output/vgg19_pretrained_validating_output/knn_smote_n_20_batch54_cofiguration1\n"
     ]
    },
    {
     "name": "stderr",
     "output_type": "stream",
     "text": [
      "\n",
      "100%|███████████████████████████████████████████████████████████████████████████████████| 3/3 [10:15<00:00, 205.05s/it]\u001b[A\n",
      " 59%|█████████████████████████████████████████████▌                               | 55/93 [6:57:40<6:29:00, 614.22s/it]"
     ]
    },
    {
     "name": "stdout",
     "output_type": "stream",
     "text": [
      "saved_output/vgg19_pretrained_validating_output/knn_smote_n_10_batch54_cofiguration2\n",
      "saved_output/vgg19_pretrained_validating_output/knn_smote_n_15_batch54_cofiguration2\n",
      "saved_output/vgg19_pretrained_validating_output/knn_smote_n_20_batch54_cofiguration2\n"
     ]
    },
    {
     "name": "stderr",
     "output_type": "stream",
     "text": [
      "\n",
      "  0%|                                                                                            | 0/3 [00:00<?, ?it/s]\u001b[A\n",
      " 33%|███████████████████████████▋                                                       | 1/3 [03:15<06:31, 195.59s/it]\u001b[A"
     ]
    },
    {
     "name": "stdout",
     "output_type": "stream",
     "text": [
      "saved_output/vgg19_pretrained_validating_output/knn_smote_n_10_batch55_cofiguration0\n",
      "saved_output/vgg19_pretrained_validating_output/knn_smote_n_15_batch55_cofiguration0\n",
      "saved_output/vgg19_pretrained_validating_output/knn_smote_n_20_batch55_cofiguration0\n"
     ]
    },
    {
     "name": "stderr",
     "output_type": "stream",
     "text": [
      "\n",
      " 67%|███████████████████████████████████████████████████████▎                           | 2/3 [06:25<03:12, 192.52s/it]\u001b[A"
     ]
    },
    {
     "name": "stdout",
     "output_type": "stream",
     "text": [
      "saved_output/vgg19_pretrained_validating_output/knn_smote_n_10_batch55_cofiguration1\n",
      "saved_output/vgg19_pretrained_validating_output/knn_smote_n_15_batch55_cofiguration1\n",
      "saved_output/vgg19_pretrained_validating_output/knn_smote_n_20_batch55_cofiguration1\n"
     ]
    },
    {
     "name": "stderr",
     "output_type": "stream",
     "text": [
      "\n",
      "100%|███████████████████████████████████████████████████████████████████████████████████| 3/3 [09:42<00:00, 194.13s/it]\u001b[A\n",
      " 60%|██████████████████████████████████████████████▎                              | 56/93 [7:07:22<6:12:52, 604.67s/it]"
     ]
    },
    {
     "name": "stdout",
     "output_type": "stream",
     "text": [
      "saved_output/vgg19_pretrained_validating_output/knn_smote_n_10_batch55_cofiguration2\n",
      "saved_output/vgg19_pretrained_validating_output/knn_smote_n_15_batch55_cofiguration2\n",
      "saved_output/vgg19_pretrained_validating_output/knn_smote_n_20_batch55_cofiguration2\n"
     ]
    },
    {
     "name": "stderr",
     "output_type": "stream",
     "text": [
      "\n",
      "  0%|                                                                                            | 0/3 [00:00<?, ?it/s]\u001b[A\n",
      " 33%|███████████████████████████▋                                                       | 1/3 [03:33<07:06, 213.40s/it]\u001b[A"
     ]
    },
    {
     "name": "stdout",
     "output_type": "stream",
     "text": [
      "saved_output/vgg19_pretrained_validating_output/knn_smote_n_10_batch56_cofiguration0\n",
      "saved_output/vgg19_pretrained_validating_output/knn_smote_n_15_batch56_cofiguration0\n",
      "saved_output/vgg19_pretrained_validating_output/knn_smote_n_20_batch56_cofiguration0\n"
     ]
    },
    {
     "name": "stderr",
     "output_type": "stream",
     "text": [
      "\n",
      " 67%|███████████████████████████████████████████████████████▎                           | 2/3 [06:51<03:24, 204.27s/it]\u001b[A"
     ]
    },
    {
     "name": "stdout",
     "output_type": "stream",
     "text": [
      "saved_output/vgg19_pretrained_validating_output/knn_smote_n_10_batch56_cofiguration1\n",
      "saved_output/vgg19_pretrained_validating_output/knn_smote_n_15_batch56_cofiguration1\n",
      "saved_output/vgg19_pretrained_validating_output/knn_smote_n_20_batch56_cofiguration1\n"
     ]
    },
    {
     "name": "stderr",
     "output_type": "stream",
     "text": [
      "\n",
      "100%|███████████████████████████████████████████████████████████████████████████████████| 3/3 [10:04<00:00, 201.47s/it]\u001b[A\n",
      " 61%|███████████████████████████████████████████████▏                             | 57/93 [7:17:26<6:02:45, 604.60s/it]"
     ]
    },
    {
     "name": "stdout",
     "output_type": "stream",
     "text": [
      "saved_output/vgg19_pretrained_validating_output/knn_smote_n_10_batch56_cofiguration2\n",
      "saved_output/vgg19_pretrained_validating_output/knn_smote_n_15_batch56_cofiguration2\n",
      "saved_output/vgg19_pretrained_validating_output/knn_smote_n_20_batch56_cofiguration2\n"
     ]
    },
    {
     "name": "stderr",
     "output_type": "stream",
     "text": [
      "\n",
      "  0%|                                                                                            | 0/3 [00:00<?, ?it/s]\u001b[A\n",
      " 33%|███████████████████████████▋                                                       | 1/3 [03:34<07:09, 214.52s/it]\u001b[A"
     ]
    },
    {
     "name": "stdout",
     "output_type": "stream",
     "text": [
      "saved_output/vgg19_pretrained_validating_output/knn_smote_n_10_batch57_cofiguration0\n",
      "saved_output/vgg19_pretrained_validating_output/knn_smote_n_15_batch57_cofiguration0\n",
      "saved_output/vgg19_pretrained_validating_output/knn_smote_n_20_batch57_cofiguration0\n"
     ]
    },
    {
     "name": "stderr",
     "output_type": "stream",
     "text": [
      "\n",
      " 67%|███████████████████████████████████████████████████████▎                           | 2/3 [06:47<03:21, 201.83s/it]\u001b[A"
     ]
    },
    {
     "name": "stdout",
     "output_type": "stream",
     "text": [
      "saved_output/vgg19_pretrained_validating_output/knn_smote_n_10_batch57_cofiguration1\n",
      "saved_output/vgg19_pretrained_validating_output/knn_smote_n_15_batch57_cofiguration1\n",
      "saved_output/vgg19_pretrained_validating_output/knn_smote_n_20_batch57_cofiguration1\n"
     ]
    },
    {
     "name": "stderr",
     "output_type": "stream",
     "text": [
      "\n",
      "100%|███████████████████████████████████████████████████████████████████████████████████| 3/3 [10:06<00:00, 202.20s/it]\u001b[A\n",
      " 62%|████████████████████████████████████████████████                             | 58/93 [7:27:34<5:53:06, 605.34s/it]"
     ]
    },
    {
     "name": "stdout",
     "output_type": "stream",
     "text": [
      "saved_output/vgg19_pretrained_validating_output/knn_smote_n_10_batch57_cofiguration2\n",
      "saved_output/vgg19_pretrained_validating_output/knn_smote_n_15_batch57_cofiguration2\n",
      "saved_output/vgg19_pretrained_validating_output/knn_smote_n_20_batch57_cofiguration2\n"
     ]
    },
    {
     "name": "stderr",
     "output_type": "stream",
     "text": [
      "\n",
      "  0%|                                                                                            | 0/3 [00:00<?, ?it/s]\u001b[A\n",
      " 33%|███████████████████████████▋                                                       | 1/3 [03:25<06:50, 205.28s/it]\u001b[A"
     ]
    },
    {
     "name": "stdout",
     "output_type": "stream",
     "text": [
      "saved_output/vgg19_pretrained_validating_output/knn_smote_n_10_batch58_cofiguration0\n",
      "saved_output/vgg19_pretrained_validating_output/knn_smote_n_15_batch58_cofiguration0\n",
      "saved_output/vgg19_pretrained_validating_output/knn_smote_n_20_batch58_cofiguration0\n"
     ]
    },
    {
     "name": "stderr",
     "output_type": "stream",
     "text": [
      "\n",
      " 67%|███████████████████████████████████████████████████████▎                           | 2/3 [07:00<03:31, 211.02s/it]\u001b[A"
     ]
    },
    {
     "name": "stdout",
     "output_type": "stream",
     "text": [
      "saved_output/vgg19_pretrained_validating_output/knn_smote_n_10_batch58_cofiguration1\n",
      "saved_output/vgg19_pretrained_validating_output/knn_smote_n_15_batch58_cofiguration1\n",
      "saved_output/vgg19_pretrained_validating_output/knn_smote_n_20_batch58_cofiguration1\n"
     ]
    },
    {
     "name": "stderr",
     "output_type": "stream",
     "text": [
      "\n",
      "100%|███████████████████████████████████████████████████████████████████████████████████| 3/3 [10:29<00:00, 209.74s/it]\u001b[A\n",
      " 63%|████████████████████████████████████████████████▊                            | 59/93 [7:38:03<5:47:09, 612.64s/it]"
     ]
    },
    {
     "name": "stdout",
     "output_type": "stream",
     "text": [
      "saved_output/vgg19_pretrained_validating_output/knn_smote_n_10_batch58_cofiguration2\n",
      "saved_output/vgg19_pretrained_validating_output/knn_smote_n_15_batch58_cofiguration2\n",
      "saved_output/vgg19_pretrained_validating_output/knn_smote_n_20_batch58_cofiguration2\n"
     ]
    },
    {
     "name": "stderr",
     "output_type": "stream",
     "text": [
      "\n",
      "  0%|                                                                                            | 0/3 [00:00<?, ?it/s]\u001b[A\n",
      " 33%|███████████████████████████▋                                                       | 1/3 [03:03<06:06, 183.31s/it]\u001b[A"
     ]
    },
    {
     "name": "stdout",
     "output_type": "stream",
     "text": [
      "saved_output/vgg19_pretrained_validating_output/knn_smote_n_10_batch59_cofiguration0\n",
      "saved_output/vgg19_pretrained_validating_output/knn_smote_n_15_batch59_cofiguration0\n",
      "saved_output/vgg19_pretrained_validating_output/knn_smote_n_20_batch59_cofiguration0\n"
     ]
    },
    {
     "name": "stderr",
     "output_type": "stream",
     "text": [
      "\n",
      " 67%|███████████████████████████████████████████████████████▎                           | 2/3 [06:02<03:00, 180.89s/it]\u001b[A"
     ]
    },
    {
     "name": "stdout",
     "output_type": "stream",
     "text": [
      "saved_output/vgg19_pretrained_validating_output/knn_smote_n_10_batch59_cofiguration1\n",
      "saved_output/vgg19_pretrained_validating_output/knn_smote_n_15_batch59_cofiguration1\n",
      "saved_output/vgg19_pretrained_validating_output/knn_smote_n_20_batch59_cofiguration1\n"
     ]
    },
    {
     "name": "stderr",
     "output_type": "stream",
     "text": [
      "\n",
      "100%|███████████████████████████████████████████████████████████████████████████████████| 3/3 [09:07<00:00, 182.50s/it]\u001b[A\n",
      " 65%|█████████████████████████████████████████████████▋                           | 60/93 [7:47:11<5:26:12, 593.10s/it]"
     ]
    },
    {
     "name": "stdout",
     "output_type": "stream",
     "text": [
      "saved_output/vgg19_pretrained_validating_output/knn_smote_n_10_batch59_cofiguration2\n",
      "saved_output/vgg19_pretrained_validating_output/knn_smote_n_15_batch59_cofiguration2\n",
      "saved_output/vgg19_pretrained_validating_output/knn_smote_n_20_batch59_cofiguration2\n"
     ]
    },
    {
     "name": "stderr",
     "output_type": "stream",
     "text": [
      "\n",
      "  0%|                                                                                            | 0/3 [00:00<?, ?it/s]\u001b[A\n",
      " 33%|███████████████████████████▋                                                       | 1/3 [03:16<06:33, 196.51s/it]\u001b[A"
     ]
    },
    {
     "name": "stdout",
     "output_type": "stream",
     "text": [
      "saved_output/vgg19_pretrained_validating_output/knn_smote_n_10_batch60_cofiguration0\n",
      "saved_output/vgg19_pretrained_validating_output/knn_smote_n_15_batch60_cofiguration0\n",
      "saved_output/vgg19_pretrained_validating_output/knn_smote_n_20_batch60_cofiguration0\n"
     ]
    },
    {
     "name": "stderr",
     "output_type": "stream",
     "text": [
      "\n",
      " 67%|███████████████████████████████████████████████████████▎                           | 2/3 [06:39<03:20, 200.33s/it]\u001b[A"
     ]
    },
    {
     "name": "stdout",
     "output_type": "stream",
     "text": [
      "saved_output/vgg19_pretrained_validating_output/knn_smote_n_10_batch60_cofiguration1\n",
      "saved_output/vgg19_pretrained_validating_output/knn_smote_n_15_batch60_cofiguration1\n",
      "saved_output/vgg19_pretrained_validating_output/knn_smote_n_20_batch60_cofiguration1\n"
     ]
    },
    {
     "name": "stderr",
     "output_type": "stream",
     "text": [
      "\n",
      "100%|███████████████████████████████████████████████████████████████████████████████████| 3/3 [10:20<00:00, 206.84s/it]\u001b[A\n",
      " 66%|██████████████████████████████████████████████████▌                          | 61/93 [7:57:31<5:20:42, 601.33s/it]"
     ]
    },
    {
     "name": "stdout",
     "output_type": "stream",
     "text": [
      "saved_output/vgg19_pretrained_validating_output/knn_smote_n_10_batch60_cofiguration2\n",
      "saved_output/vgg19_pretrained_validating_output/knn_smote_n_15_batch60_cofiguration2\n",
      "saved_output/vgg19_pretrained_validating_output/knn_smote_n_20_batch60_cofiguration2\n"
     ]
    },
    {
     "name": "stderr",
     "output_type": "stream",
     "text": [
      "\n",
      "  0%|                                                                                            | 0/3 [00:00<?, ?it/s]\u001b[A\n",
      " 33%|███████████████████████████▋                                                       | 1/3 [03:38<07:16, 218.30s/it]\u001b[A"
     ]
    },
    {
     "name": "stdout",
     "output_type": "stream",
     "text": [
      "saved_output/vgg19_pretrained_validating_output/knn_smote_n_10_batch61_cofiguration0\n",
      "saved_output/vgg19_pretrained_validating_output/knn_smote_n_15_batch61_cofiguration0\n",
      "saved_output/vgg19_pretrained_validating_output/knn_smote_n_20_batch61_cofiguration0\n"
     ]
    },
    {
     "name": "stderr",
     "output_type": "stream",
     "text": [
      "\n",
      " 67%|███████████████████████████████████████████████████████▎                           | 2/3 [07:05<03:31, 211.90s/it]\u001b[A"
     ]
    },
    {
     "name": "stdout",
     "output_type": "stream",
     "text": [
      "saved_output/vgg19_pretrained_validating_output/knn_smote_n_10_batch61_cofiguration1\n",
      "saved_output/vgg19_pretrained_validating_output/knn_smote_n_15_batch61_cofiguration1\n",
      "saved_output/vgg19_pretrained_validating_output/knn_smote_n_20_batch61_cofiguration1\n"
     ]
    },
    {
     "name": "stderr",
     "output_type": "stream",
     "text": [
      "\n",
      "100%|███████████████████████████████████████████████████████████████████████████████████| 3/3 [10:30<00:00, 210.13s/it]\u001b[A\n",
      " 67%|███████████████████████████████████████████████████▎                         | 62/93 [8:08:02<5:15:11, 610.05s/it]"
     ]
    },
    {
     "name": "stdout",
     "output_type": "stream",
     "text": [
      "saved_output/vgg19_pretrained_validating_output/knn_smote_n_10_batch61_cofiguration2\n",
      "saved_output/vgg19_pretrained_validating_output/knn_smote_n_15_batch61_cofiguration2\n",
      "saved_output/vgg19_pretrained_validating_output/knn_smote_n_20_batch61_cofiguration2\n"
     ]
    },
    {
     "name": "stderr",
     "output_type": "stream",
     "text": [
      "\n",
      "  0%|                                                                                            | 0/3 [00:00<?, ?it/s]\u001b[A\n",
      " 33%|███████████████████████████▋                                                       | 1/3 [03:20<06:40, 200.32s/it]\u001b[A"
     ]
    },
    {
     "name": "stdout",
     "output_type": "stream",
     "text": [
      "saved_output/vgg19_pretrained_validating_output/knn_smote_n_10_batch62_cofiguration0\n",
      "saved_output/vgg19_pretrained_validating_output/knn_smote_n_15_batch62_cofiguration0\n",
      "saved_output/vgg19_pretrained_validating_output/knn_smote_n_20_batch62_cofiguration0\n"
     ]
    },
    {
     "name": "stderr",
     "output_type": "stream",
     "text": [
      "\n",
      " 67%|███████████████████████████████████████████████████████▎                           | 2/3 [06:50<03:25, 205.83s/it]\u001b[A"
     ]
    },
    {
     "name": "stdout",
     "output_type": "stream",
     "text": [
      "saved_output/vgg19_pretrained_validating_output/knn_smote_n_10_batch62_cofiguration1\n",
      "saved_output/vgg19_pretrained_validating_output/knn_smote_n_15_batch62_cofiguration1\n",
      "saved_output/vgg19_pretrained_validating_output/knn_smote_n_20_batch62_cofiguration1\n"
     ]
    },
    {
     "name": "stderr",
     "output_type": "stream",
     "text": [
      "\n",
      "100%|███████████████████████████████████████████████████████████████████████████████████| 3/3 [10:09<00:00, 203.22s/it]\u001b[A\n",
      " 68%|████████████████████████████████████████████████████▏                        | 63/93 [8:18:11<5:04:58, 609.94s/it]"
     ]
    },
    {
     "name": "stdout",
     "output_type": "stream",
     "text": [
      "saved_output/vgg19_pretrained_validating_output/knn_smote_n_10_batch62_cofiguration2\n",
      "saved_output/vgg19_pretrained_validating_output/knn_smote_n_15_batch62_cofiguration2\n",
      "saved_output/vgg19_pretrained_validating_output/knn_smote_n_20_batch62_cofiguration2\n"
     ]
    },
    {
     "name": "stderr",
     "output_type": "stream",
     "text": [
      "\n",
      "  0%|                                                                                            | 0/3 [00:00<?, ?it/s]\u001b[A\n",
      " 33%|███████████████████████████▋                                                       | 1/3 [03:11<06:22, 191.03s/it]\u001b[A"
     ]
    },
    {
     "name": "stdout",
     "output_type": "stream",
     "text": [
      "saved_output/vgg19_pretrained_validating_output/knn_smote_n_10_batch63_cofiguration0\n",
      "saved_output/vgg19_pretrained_validating_output/knn_smote_n_15_batch63_cofiguration0\n",
      "saved_output/vgg19_pretrained_validating_output/knn_smote_n_20_batch63_cofiguration0\n"
     ]
    },
    {
     "name": "stderr",
     "output_type": "stream",
     "text": [
      "\n",
      " 67%|███████████████████████████████████████████████████████▎                           | 2/3 [06:49<03:27, 207.26s/it]\u001b[A"
     ]
    },
    {
     "name": "stdout",
     "output_type": "stream",
     "text": [
      "saved_output/vgg19_pretrained_validating_output/knn_smote_n_10_batch63_cofiguration1\n",
      "saved_output/vgg19_pretrained_validating_output/knn_smote_n_15_batch63_cofiguration1\n",
      "saved_output/vgg19_pretrained_validating_output/knn_smote_n_20_batch63_cofiguration1\n"
     ]
    },
    {
     "name": "stderr",
     "output_type": "stream",
     "text": [
      "\n",
      "100%|███████████████████████████████████████████████████████████████████████████████████| 3/3 [10:08<00:00, 202.85s/it]\u001b[A\n",
      " 69%|████████████████████████████████████████████████████▉                        | 64/93 [8:28:20<4:54:36, 609.52s/it]"
     ]
    },
    {
     "name": "stdout",
     "output_type": "stream",
     "text": [
      "saved_output/vgg19_pretrained_validating_output/knn_smote_n_10_batch63_cofiguration2\n",
      "saved_output/vgg19_pretrained_validating_output/knn_smote_n_15_batch63_cofiguration2\n",
      "saved_output/vgg19_pretrained_validating_output/knn_smote_n_20_batch63_cofiguration2\n"
     ]
    },
    {
     "name": "stderr",
     "output_type": "stream",
     "text": [
      "\n",
      "  0%|                                                                                            | 0/3 [00:00<?, ?it/s]\u001b[A\n",
      " 33%|███████████████████████████▋                                                       | 1/3 [03:18<06:36, 198.41s/it]\u001b[A"
     ]
    },
    {
     "name": "stdout",
     "output_type": "stream",
     "text": [
      "saved_output/vgg19_pretrained_validating_output/knn_smote_n_10_batch64_cofiguration0\n",
      "saved_output/vgg19_pretrained_validating_output/knn_smote_n_15_batch64_cofiguration0\n",
      "saved_output/vgg19_pretrained_validating_output/knn_smote_n_20_batch64_cofiguration0\n"
     ]
    },
    {
     "name": "stderr",
     "output_type": "stream",
     "text": [
      "\n",
      " 67%|███████████████████████████████████████████████████████▎                           | 2/3 [06:32<03:15, 195.78s/it]\u001b[A"
     ]
    },
    {
     "name": "stdout",
     "output_type": "stream",
     "text": [
      "saved_output/vgg19_pretrained_validating_output/knn_smote_n_10_batch64_cofiguration1\n",
      "saved_output/vgg19_pretrained_validating_output/knn_smote_n_15_batch64_cofiguration1\n",
      "saved_output/vgg19_pretrained_validating_output/knn_smote_n_20_batch64_cofiguration1\n"
     ]
    },
    {
     "name": "stderr",
     "output_type": "stream",
     "text": [
      "\n",
      "100%|███████████████████████████████████████████████████████████████████████████████████| 3/3 [10:02<00:00, 200.96s/it]\u001b[A\n",
      " 70%|█████████████████████████████████████████████████████▊                       | 65/93 [8:38:23<4:43:30, 607.53s/it]"
     ]
    },
    {
     "name": "stdout",
     "output_type": "stream",
     "text": [
      "saved_output/vgg19_pretrained_validating_output/knn_smote_n_10_batch64_cofiguration2\n",
      "saved_output/vgg19_pretrained_validating_output/knn_smote_n_15_batch64_cofiguration2\n",
      "saved_output/vgg19_pretrained_validating_output/knn_smote_n_20_batch64_cofiguration2\n"
     ]
    },
    {
     "name": "stderr",
     "output_type": "stream",
     "text": [
      "\n",
      "  0%|                                                                                            | 0/3 [00:00<?, ?it/s]\u001b[A\n",
      " 33%|███████████████████████████▋                                                       | 1/3 [03:30<07:01, 211.00s/it]\u001b[A"
     ]
    },
    {
     "name": "stdout",
     "output_type": "stream",
     "text": [
      "saved_output/vgg19_pretrained_validating_output/knn_smote_n_10_batch65_cofiguration0\n",
      "saved_output/vgg19_pretrained_validating_output/knn_smote_n_15_batch65_cofiguration0\n",
      "saved_output/vgg19_pretrained_validating_output/knn_smote_n_20_batch65_cofiguration0\n"
     ]
    },
    {
     "name": "stderr",
     "output_type": "stream",
     "text": [
      "\n",
      " 67%|███████████████████████████████████████████████████████▎                           | 2/3 [06:56<03:27, 207.65s/it]\u001b[A"
     ]
    },
    {
     "name": "stdout",
     "output_type": "stream",
     "text": [
      "saved_output/vgg19_pretrained_validating_output/knn_smote_n_10_batch65_cofiguration1\n",
      "saved_output/vgg19_pretrained_validating_output/knn_smote_n_15_batch65_cofiguration1\n",
      "saved_output/vgg19_pretrained_validating_output/knn_smote_n_20_batch65_cofiguration1\n"
     ]
    },
    {
     "name": "stderr",
     "output_type": "stream",
     "text": [
      "\n",
      "100%|███████████████████████████████████████████████████████████████████████████████████| 3/3 [10:11<00:00, 203.88s/it]\u001b[A\n",
      " 71%|██████████████████████████████████████████████████████▋                      | 66/93 [8:48:34<4:33:56, 608.77s/it]"
     ]
    },
    {
     "name": "stdout",
     "output_type": "stream",
     "text": [
      "saved_output/vgg19_pretrained_validating_output/knn_smote_n_10_batch65_cofiguration2\n",
      "saved_output/vgg19_pretrained_validating_output/knn_smote_n_15_batch65_cofiguration2\n",
      "saved_output/vgg19_pretrained_validating_output/knn_smote_n_20_batch65_cofiguration2\n"
     ]
    },
    {
     "name": "stderr",
     "output_type": "stream",
     "text": [
      "\n",
      "  0%|                                                                                            | 0/3 [00:00<?, ?it/s]\u001b[A\n",
      " 33%|███████████████████████████▋                                                       | 1/3 [03:29<06:58, 209.18s/it]\u001b[A"
     ]
    },
    {
     "name": "stdout",
     "output_type": "stream",
     "text": [
      "saved_output/vgg19_pretrained_validating_output/knn_smote_n_10_batch66_cofiguration0\n",
      "saved_output/vgg19_pretrained_validating_output/knn_smote_n_15_batch66_cofiguration0\n",
      "saved_output/vgg19_pretrained_validating_output/knn_smote_n_20_batch66_cofiguration0\n"
     ]
    },
    {
     "name": "stderr",
     "output_type": "stream",
     "text": [
      "\n",
      " 67%|███████████████████████████████████████████████████████▎                           | 2/3 [06:40<03:18, 198.43s/it]\u001b[A"
     ]
    },
    {
     "name": "stdout",
     "output_type": "stream",
     "text": [
      "saved_output/vgg19_pretrained_validating_output/knn_smote_n_10_batch66_cofiguration1\n",
      "saved_output/vgg19_pretrained_validating_output/knn_smote_n_15_batch66_cofiguration1\n",
      "saved_output/vgg19_pretrained_validating_output/knn_smote_n_20_batch66_cofiguration1\n"
     ]
    },
    {
     "name": "stderr",
     "output_type": "stream",
     "text": [
      "\n",
      "100%|███████████████████████████████████████████████████████████████████████████████████| 3/3 [10:06<00:00, 202.28s/it]\u001b[A\n",
      " 72%|███████████████████████████████████████████████████████▍                     | 67/93 [8:58:41<4:23:32, 608.19s/it]"
     ]
    },
    {
     "name": "stdout",
     "output_type": "stream",
     "text": [
      "saved_output/vgg19_pretrained_validating_output/knn_smote_n_10_batch66_cofiguration2\n",
      "saved_output/vgg19_pretrained_validating_output/knn_smote_n_15_batch66_cofiguration2\n",
      "saved_output/vgg19_pretrained_validating_output/knn_smote_n_20_batch66_cofiguration2\n"
     ]
    },
    {
     "name": "stderr",
     "output_type": "stream",
     "text": [
      "\n",
      "  0%|                                                                                            | 0/3 [00:00<?, ?it/s]\u001b[A\n",
      " 33%|███████████████████████████▋                                                       | 1/3 [03:44<07:28, 224.41s/it]\u001b[A"
     ]
    },
    {
     "name": "stdout",
     "output_type": "stream",
     "text": [
      "saved_output/vgg19_pretrained_validating_output/knn_smote_n_10_batch67_cofiguration0\n",
      "saved_output/vgg19_pretrained_validating_output/knn_smote_n_15_batch67_cofiguration0\n",
      "saved_output/vgg19_pretrained_validating_output/knn_smote_n_20_batch67_cofiguration0\n"
     ]
    },
    {
     "name": "stderr",
     "output_type": "stream",
     "text": [
      "\n",
      " 67%|███████████████████████████████████████████████████████▎                           | 2/3 [07:05<03:30, 210.70s/it]\u001b[A"
     ]
    },
    {
     "name": "stdout",
     "output_type": "stream",
     "text": [
      "saved_output/vgg19_pretrained_validating_output/knn_smote_n_10_batch67_cofiguration1\n",
      "saved_output/vgg19_pretrained_validating_output/knn_smote_n_15_batch67_cofiguration1\n",
      "saved_output/vgg19_pretrained_validating_output/knn_smote_n_20_batch67_cofiguration1\n"
     ]
    },
    {
     "name": "stderr",
     "output_type": "stream",
     "text": [
      "\n",
      "100%|███████████████████████████████████████████████████████████████████████████████████| 3/3 [10:29<00:00, 209.84s/it]\u001b[A\n",
      " 73%|████████████████████████████████████████████████████████▎                    | 68/93 [9:09:11<4:16:04, 614.59s/it]"
     ]
    },
    {
     "name": "stdout",
     "output_type": "stream",
     "text": [
      "saved_output/vgg19_pretrained_validating_output/knn_smote_n_10_batch67_cofiguration2\n",
      "saved_output/vgg19_pretrained_validating_output/knn_smote_n_15_batch67_cofiguration2\n",
      "saved_output/vgg19_pretrained_validating_output/knn_smote_n_20_batch67_cofiguration2\n"
     ]
    },
    {
     "name": "stderr",
     "output_type": "stream",
     "text": [
      "\n",
      "  0%|                                                                                            | 0/3 [00:00<?, ?it/s]\u001b[A\n",
      " 33%|███████████████████████████▋                                                       | 1/3 [03:28<06:57, 208.85s/it]\u001b[A"
     ]
    },
    {
     "name": "stdout",
     "output_type": "stream",
     "text": [
      "saved_output/vgg19_pretrained_validating_output/knn_smote_n_10_batch68_cofiguration0\n",
      "saved_output/vgg19_pretrained_validating_output/knn_smote_n_15_batch68_cofiguration0\n",
      "saved_output/vgg19_pretrained_validating_output/knn_smote_n_20_batch68_cofiguration0\n"
     ]
    },
    {
     "name": "stderr",
     "output_type": "stream",
     "text": [
      "\n",
      " 67%|███████████████████████████████████████████████████████▎                           | 2/3 [06:47<03:22, 202.70s/it]\u001b[A"
     ]
    },
    {
     "name": "stdout",
     "output_type": "stream",
     "text": [
      "saved_output/vgg19_pretrained_validating_output/knn_smote_n_10_batch68_cofiguration1\n",
      "saved_output/vgg19_pretrained_validating_output/knn_smote_n_15_batch68_cofiguration1\n",
      "saved_output/vgg19_pretrained_validating_output/knn_smote_n_20_batch68_cofiguration1\n"
     ]
    },
    {
     "name": "stderr",
     "output_type": "stream",
     "text": [
      "\n",
      "100%|███████████████████████████████████████████████████████████████████████████████████| 3/3 [10:18<00:00, 206.22s/it]\u001b[A\n",
      " 74%|█████████████████████████████████████████████████████████▏                   | 69/93 [9:19:30<4:06:22, 615.95s/it]"
     ]
    },
    {
     "name": "stdout",
     "output_type": "stream",
     "text": [
      "saved_output/vgg19_pretrained_validating_output/knn_smote_n_10_batch68_cofiguration2\n",
      "saved_output/vgg19_pretrained_validating_output/knn_smote_n_15_batch68_cofiguration2\n",
      "saved_output/vgg19_pretrained_validating_output/knn_smote_n_20_batch68_cofiguration2\n"
     ]
    },
    {
     "name": "stderr",
     "output_type": "stream",
     "text": [
      "\n",
      "  0%|                                                                                            | 0/3 [00:00<?, ?it/s]\u001b[A\n",
      " 33%|███████████████████████████▋                                                       | 1/3 [03:19<06:38, 199.36s/it]\u001b[A"
     ]
    },
    {
     "name": "stdout",
     "output_type": "stream",
     "text": [
      "saved_output/vgg19_pretrained_validating_output/knn_smote_n_10_batch69_cofiguration0\n",
      "saved_output/vgg19_pretrained_validating_output/knn_smote_n_15_batch69_cofiguration0\n",
      "saved_output/vgg19_pretrained_validating_output/knn_smote_n_20_batch69_cofiguration0\n"
     ]
    },
    {
     "name": "stderr",
     "output_type": "stream",
     "text": [
      "\n",
      " 67%|███████████████████████████████████████████████████████▎                           | 2/3 [06:54<03:28, 208.81s/it]\u001b[A"
     ]
    },
    {
     "name": "stdout",
     "output_type": "stream",
     "text": [
      "saved_output/vgg19_pretrained_validating_output/knn_smote_n_10_batch69_cofiguration1\n",
      "saved_output/vgg19_pretrained_validating_output/knn_smote_n_15_batch69_cofiguration1\n",
      "saved_output/vgg19_pretrained_validating_output/knn_smote_n_20_batch69_cofiguration1\n"
     ]
    },
    {
     "name": "stderr",
     "output_type": "stream",
     "text": [
      "\n",
      "100%|███████████████████████████████████████████████████████████████████████████████████| 3/3 [10:22<00:00, 207.64s/it]\u001b[A\n",
      " 75%|█████████████████████████████████████████████████████████▉                   | 70/93 [9:29:53<3:56:54, 618.04s/it]"
     ]
    },
    {
     "name": "stdout",
     "output_type": "stream",
     "text": [
      "saved_output/vgg19_pretrained_validating_output/knn_smote_n_10_batch69_cofiguration2\n",
      "saved_output/vgg19_pretrained_validating_output/knn_smote_n_15_batch69_cofiguration2\n",
      "saved_output/vgg19_pretrained_validating_output/knn_smote_n_20_batch69_cofiguration2\n"
     ]
    },
    {
     "name": "stderr",
     "output_type": "stream",
     "text": [
      "\n",
      "  0%|                                                                                            | 0/3 [00:00<?, ?it/s]\u001b[A\n",
      " 33%|███████████████████████████▋                                                       | 1/3 [03:29<06:58, 209.02s/it]\u001b[A"
     ]
    },
    {
     "name": "stdout",
     "output_type": "stream",
     "text": [
      "saved_output/vgg19_pretrained_validating_output/knn_smote_n_10_batch70_cofiguration0\n",
      "saved_output/vgg19_pretrained_validating_output/knn_smote_n_15_batch70_cofiguration0\n",
      "saved_output/vgg19_pretrained_validating_output/knn_smote_n_20_batch70_cofiguration0\n"
     ]
    },
    {
     "name": "stderr",
     "output_type": "stream",
     "text": [
      "\n",
      " 67%|███████████████████████████████████████████████████████▎                           | 2/3 [06:52<03:25, 205.59s/it]\u001b[A"
     ]
    },
    {
     "name": "stdout",
     "output_type": "stream",
     "text": [
      "saved_output/vgg19_pretrained_validating_output/knn_smote_n_10_batch70_cofiguration1\n",
      "saved_output/vgg19_pretrained_validating_output/knn_smote_n_15_batch70_cofiguration1\n",
      "saved_output/vgg19_pretrained_validating_output/knn_smote_n_20_batch70_cofiguration1\n"
     ]
    },
    {
     "name": "stderr",
     "output_type": "stream",
     "text": [
      "\n",
      "100%|███████████████████████████████████████████████████████████████████████████████████| 3/3 [10:13<00:00, 204.64s/it]\u001b[A\n",
      " 76%|██████████████████████████████████████████████████████████▊                  | 71/93 [9:40:07<3:46:09, 616.80s/it]"
     ]
    },
    {
     "name": "stdout",
     "output_type": "stream",
     "text": [
      "saved_output/vgg19_pretrained_validating_output/knn_smote_n_10_batch70_cofiguration2\n",
      "saved_output/vgg19_pretrained_validating_output/knn_smote_n_15_batch70_cofiguration2\n",
      "saved_output/vgg19_pretrained_validating_output/knn_smote_n_20_batch70_cofiguration2\n"
     ]
    },
    {
     "name": "stderr",
     "output_type": "stream",
     "text": [
      "\n",
      "  0%|                                                                                            | 0/3 [00:00<?, ?it/s]\u001b[A\n",
      " 33%|███████████████████████████▋                                                       | 1/3 [03:24<06:49, 204.61s/it]\u001b[A"
     ]
    },
    {
     "name": "stdout",
     "output_type": "stream",
     "text": [
      "saved_output/vgg19_pretrained_validating_output/knn_smote_n_10_batch71_cofiguration0\n",
      "saved_output/vgg19_pretrained_validating_output/knn_smote_n_15_batch71_cofiguration0\n",
      "saved_output/vgg19_pretrained_validating_output/knn_smote_n_20_batch71_cofiguration0\n"
     ]
    },
    {
     "name": "stderr",
     "output_type": "stream",
     "text": [
      "\n",
      " 67%|███████████████████████████████████████████████████████▎                           | 2/3 [06:45<03:22, 202.72s/it]\u001b[A"
     ]
    },
    {
     "name": "stdout",
     "output_type": "stream",
     "text": [
      "saved_output/vgg19_pretrained_validating_output/knn_smote_n_10_batch71_cofiguration1\n",
      "saved_output/vgg19_pretrained_validating_output/knn_smote_n_15_batch71_cofiguration1\n",
      "saved_output/vgg19_pretrained_validating_output/knn_smote_n_20_batch71_cofiguration1\n"
     ]
    },
    {
     "name": "stderr",
     "output_type": "stream",
     "text": [
      "\n",
      "100%|███████████████████████████████████████████████████████████████████████████████████| 3/3 [09:55<00:00, 198.44s/it]\u001b[A\n",
      " 77%|███████████████████████████████████████████████████████████▌                 | 72/93 [9:50:03<3:33:40, 610.51s/it]"
     ]
    },
    {
     "name": "stdout",
     "output_type": "stream",
     "text": [
      "saved_output/vgg19_pretrained_validating_output/knn_smote_n_10_batch71_cofiguration2\n",
      "saved_output/vgg19_pretrained_validating_output/knn_smote_n_15_batch71_cofiguration2\n",
      "saved_output/vgg19_pretrained_validating_output/knn_smote_n_20_batch71_cofiguration2\n"
     ]
    },
    {
     "name": "stderr",
     "output_type": "stream",
     "text": [
      "\n",
      "  0%|                                                                                            | 0/3 [00:00<?, ?it/s]\u001b[A\n",
      " 33%|███████████████████████████▋                                                       | 1/3 [03:18<06:36, 198.28s/it]\u001b[A"
     ]
    },
    {
     "name": "stdout",
     "output_type": "stream",
     "text": [
      "saved_output/vgg19_pretrained_validating_output/knn_smote_n_10_batch72_cofiguration0\n",
      "saved_output/vgg19_pretrained_validating_output/knn_smote_n_15_batch72_cofiguration0\n",
      "saved_output/vgg19_pretrained_validating_output/knn_smote_n_20_batch72_cofiguration0\n"
     ]
    },
    {
     "name": "stderr",
     "output_type": "stream",
     "text": [
      "\n",
      " 67%|███████████████████████████████████████████████████████▎                           | 2/3 [06:47<03:24, 204.97s/it]\u001b[A"
     ]
    },
    {
     "name": "stdout",
     "output_type": "stream",
     "text": [
      "saved_output/vgg19_pretrained_validating_output/knn_smote_n_10_batch72_cofiguration1\n",
      "saved_output/vgg19_pretrained_validating_output/knn_smote_n_15_batch72_cofiguration1\n",
      "saved_output/vgg19_pretrained_validating_output/knn_smote_n_20_batch72_cofiguration1\n"
     ]
    },
    {
     "name": "stderr",
     "output_type": "stream",
     "text": [
      "\n",
      "100%|███████████████████████████████████████████████████████████████████████████████████| 3/3 [10:06<00:00, 202.21s/it]\u001b[A\n",
      " 78%|███████████████████████████████████████████████████████████▋                | 73/93 [10:00:10<3:23:09, 609.48s/it]"
     ]
    },
    {
     "name": "stdout",
     "output_type": "stream",
     "text": [
      "saved_output/vgg19_pretrained_validating_output/knn_smote_n_10_batch72_cofiguration2\n",
      "saved_output/vgg19_pretrained_validating_output/knn_smote_n_15_batch72_cofiguration2\n",
      "saved_output/vgg19_pretrained_validating_output/knn_smote_n_20_batch72_cofiguration2\n"
     ]
    },
    {
     "name": "stderr",
     "output_type": "stream",
     "text": [
      "\n",
      "  0%|                                                                                            | 0/3 [00:00<?, ?it/s]\u001b[A\n",
      " 33%|███████████████████████████▋                                                       | 1/3 [03:15<06:31, 195.76s/it]\u001b[A"
     ]
    },
    {
     "name": "stdout",
     "output_type": "stream",
     "text": [
      "saved_output/vgg19_pretrained_validating_output/knn_smote_n_10_batch73_cofiguration0\n",
      "saved_output/vgg19_pretrained_validating_output/knn_smote_n_15_batch73_cofiguration0\n",
      "saved_output/vgg19_pretrained_validating_output/knn_smote_n_20_batch73_cofiguration0\n"
     ]
    },
    {
     "name": "stderr",
     "output_type": "stream",
     "text": [
      "\n",
      " 67%|███████████████████████████████████████████████████████▎                           | 2/3 [06:54<03:29, 209.56s/it]\u001b[A"
     ]
    },
    {
     "name": "stdout",
     "output_type": "stream",
     "text": [
      "saved_output/vgg19_pretrained_validating_output/knn_smote_n_10_batch73_cofiguration1\n",
      "saved_output/vgg19_pretrained_validating_output/knn_smote_n_15_batch73_cofiguration1\n",
      "saved_output/vgg19_pretrained_validating_output/knn_smote_n_20_batch73_cofiguration1\n"
     ]
    },
    {
     "name": "stderr",
     "output_type": "stream",
     "text": [
      "\n",
      "100%|███████████████████████████████████████████████████████████████████████████████████| 3/3 [10:15<00:00, 205.12s/it]\u001b[A\n",
      " 80%|████████████████████████████████████████████████████████████▍               | 74/93 [10:10:25<3:13:36, 611.38s/it]"
     ]
    },
    {
     "name": "stdout",
     "output_type": "stream",
     "text": [
      "saved_output/vgg19_pretrained_validating_output/knn_smote_n_10_batch73_cofiguration2\n",
      "saved_output/vgg19_pretrained_validating_output/knn_smote_n_15_batch73_cofiguration2\n",
      "saved_output/vgg19_pretrained_validating_output/knn_smote_n_20_batch73_cofiguration2\n"
     ]
    },
    {
     "name": "stderr",
     "output_type": "stream",
     "text": [
      "\n",
      "  0%|                                                                                            | 0/3 [00:00<?, ?it/s]\u001b[A\n",
      " 33%|███████████████████████████▋                                                       | 1/3 [03:31<07:02, 211.27s/it]\u001b[A"
     ]
    },
    {
     "name": "stdout",
     "output_type": "stream",
     "text": [
      "saved_output/vgg19_pretrained_validating_output/knn_smote_n_10_batch74_cofiguration0\n",
      "saved_output/vgg19_pretrained_validating_output/knn_smote_n_15_batch74_cofiguration0\n",
      "saved_output/vgg19_pretrained_validating_output/knn_smote_n_20_batch74_cofiguration0\n"
     ]
    },
    {
     "name": "stderr",
     "output_type": "stream",
     "text": [
      "\n",
      " 67%|███████████████████████████████████████████████████████▎                           | 2/3 [06:50<03:24, 204.47s/it]\u001b[A"
     ]
    },
    {
     "name": "stdout",
     "output_type": "stream",
     "text": [
      "saved_output/vgg19_pretrained_validating_output/knn_smote_n_10_batch74_cofiguration1\n",
      "saved_output/vgg19_pretrained_validating_output/knn_smote_n_15_batch74_cofiguration1\n",
      "saved_output/vgg19_pretrained_validating_output/knn_smote_n_20_batch74_cofiguration1\n"
     ]
    },
    {
     "name": "stderr",
     "output_type": "stream",
     "text": [
      "\n",
      "100%|███████████████████████████████████████████████████████████████████████████████████| 3/3 [10:06<00:00, 202.33s/it]\u001b[A\n",
      " 81%|█████████████████████████████████████████████████████████████▎              | 75/93 [10:20:32<3:03:01, 610.06s/it]"
     ]
    },
    {
     "name": "stdout",
     "output_type": "stream",
     "text": [
      "saved_output/vgg19_pretrained_validating_output/knn_smote_n_10_batch74_cofiguration2\n",
      "saved_output/vgg19_pretrained_validating_output/knn_smote_n_15_batch74_cofiguration2\n",
      "saved_output/vgg19_pretrained_validating_output/knn_smote_n_20_batch74_cofiguration2\n"
     ]
    },
    {
     "name": "stderr",
     "output_type": "stream",
     "text": [
      "\n",
      "  0%|                                                                                            | 0/3 [00:00<?, ?it/s]\u001b[A\n",
      " 33%|███████████████████████████▋                                                       | 1/3 [03:19<06:39, 199.68s/it]\u001b[A"
     ]
    },
    {
     "name": "stdout",
     "output_type": "stream",
     "text": [
      "saved_output/vgg19_pretrained_validating_output/knn_smote_n_10_batch75_cofiguration0\n",
      "saved_output/vgg19_pretrained_validating_output/knn_smote_n_15_batch75_cofiguration0\n",
      "saved_output/vgg19_pretrained_validating_output/knn_smote_n_20_batch75_cofiguration0\n"
     ]
    },
    {
     "name": "stderr",
     "output_type": "stream",
     "text": [
      "\n",
      " 67%|███████████████████████████████████████████████████████▎                           | 2/3 [06:59<03:31, 211.47s/it]\u001b[A"
     ]
    },
    {
     "name": "stdout",
     "output_type": "stream",
     "text": [
      "saved_output/vgg19_pretrained_validating_output/knn_smote_n_10_batch75_cofiguration1\n",
      "saved_output/vgg19_pretrained_validating_output/knn_smote_n_15_batch75_cofiguration1\n",
      "saved_output/vgg19_pretrained_validating_output/knn_smote_n_20_batch75_cofiguration1\n"
     ]
    },
    {
     "name": "stderr",
     "output_type": "stream",
     "text": [
      "\n",
      "100%|███████████████████████████████████████████████████████████████████████████████████| 3/3 [10:23<00:00, 207.85s/it]\u001b[A\n",
      " 82%|██████████████████████████████████████████████████████████████              | 76/93 [10:30:56<2:53:59, 614.11s/it]"
     ]
    },
    {
     "name": "stdout",
     "output_type": "stream",
     "text": [
      "saved_output/vgg19_pretrained_validating_output/knn_smote_n_10_batch75_cofiguration2\n",
      "saved_output/vgg19_pretrained_validating_output/knn_smote_n_15_batch75_cofiguration2\n",
      "saved_output/vgg19_pretrained_validating_output/knn_smote_n_20_batch75_cofiguration2\n"
     ]
    },
    {
     "name": "stderr",
     "output_type": "stream",
     "text": [
      "\n",
      "  0%|                                                                                            | 0/3 [00:00<?, ?it/s]\u001b[A\n",
      " 33%|███████████████████████████▋                                                       | 1/3 [03:27<06:54, 207.03s/it]\u001b[A"
     ]
    },
    {
     "name": "stdout",
     "output_type": "stream",
     "text": [
      "saved_output/vgg19_pretrained_validating_output/knn_smote_n_10_batch76_cofiguration0\n",
      "saved_output/vgg19_pretrained_validating_output/knn_smote_n_15_batch76_cofiguration0\n",
      "saved_output/vgg19_pretrained_validating_output/knn_smote_n_20_batch76_cofiguration0\n"
     ]
    },
    {
     "name": "stderr",
     "output_type": "stream",
     "text": [
      "\n",
      " 67%|███████████████████████████████████████████████████████▎                           | 2/3 [06:39<03:18, 198.75s/it]\u001b[A"
     ]
    },
    {
     "name": "stdout",
     "output_type": "stream",
     "text": [
      "saved_output/vgg19_pretrained_validating_output/knn_smote_n_10_batch76_cofiguration1\n",
      "saved_output/vgg19_pretrained_validating_output/knn_smote_n_15_batch76_cofiguration1\n",
      "saved_output/vgg19_pretrained_validating_output/knn_smote_n_20_batch76_cofiguration1\n"
     ]
    },
    {
     "name": "stderr",
     "output_type": "stream",
     "text": [
      "\n",
      "100%|███████████████████████████████████████████████████████████████████████████████████| 3/3 [10:04<00:00, 201.50s/it]\u001b[A\n",
      " 83%|██████████████████████████████████████████████████████████████▉             | 77/93 [10:41:00<2:42:59, 611.23s/it]"
     ]
    },
    {
     "name": "stdout",
     "output_type": "stream",
     "text": [
      "saved_output/vgg19_pretrained_validating_output/knn_smote_n_10_batch76_cofiguration2\n",
      "saved_output/vgg19_pretrained_validating_output/knn_smote_n_15_batch76_cofiguration2\n",
      "saved_output/vgg19_pretrained_validating_output/knn_smote_n_20_batch76_cofiguration2\n"
     ]
    },
    {
     "name": "stderr",
     "output_type": "stream",
     "text": [
      "\n",
      "  0%|                                                                                            | 0/3 [00:00<?, ?it/s]\u001b[A\n",
      " 33%|███████████████████████████▋                                                       | 1/3 [03:35<07:11, 215.63s/it]\u001b[A"
     ]
    },
    {
     "name": "stdout",
     "output_type": "stream",
     "text": [
      "saved_output/vgg19_pretrained_validating_output/knn_smote_n_10_batch77_cofiguration0\n",
      "saved_output/vgg19_pretrained_validating_output/knn_smote_n_15_batch77_cofiguration0\n",
      "saved_output/vgg19_pretrained_validating_output/knn_smote_n_20_batch77_cofiguration0\n"
     ]
    },
    {
     "name": "stderr",
     "output_type": "stream",
     "text": [
      "\n",
      " 67%|███████████████████████████████████████████████████████▎                           | 2/3 [07:08<03:33, 213.82s/it]\u001b[A"
     ]
    },
    {
     "name": "stdout",
     "output_type": "stream",
     "text": [
      "saved_output/vgg19_pretrained_validating_output/knn_smote_n_10_batch77_cofiguration1\n",
      "saved_output/vgg19_pretrained_validating_output/knn_smote_n_15_batch77_cofiguration1\n",
      "saved_output/vgg19_pretrained_validating_output/knn_smote_n_20_batch77_cofiguration1\n"
     ]
    },
    {
     "name": "stderr",
     "output_type": "stream",
     "text": [
      "\n",
      "100%|███████████████████████████████████████████████████████████████████████████████████| 3/3 [10:30<00:00, 210.08s/it]\u001b[A\n",
      " 84%|███████████████████████████████████████████████████████████████▋            | 78/93 [10:51:31<2:34:16, 617.07s/it]"
     ]
    },
    {
     "name": "stdout",
     "output_type": "stream",
     "text": [
      "saved_output/vgg19_pretrained_validating_output/knn_smote_n_10_batch77_cofiguration2\n",
      "saved_output/vgg19_pretrained_validating_output/knn_smote_n_15_batch77_cofiguration2\n",
      "saved_output/vgg19_pretrained_validating_output/knn_smote_n_20_batch77_cofiguration2\n"
     ]
    },
    {
     "name": "stderr",
     "output_type": "stream",
     "text": [
      "\n",
      "  0%|                                                                                            | 0/3 [00:00<?, ?it/s]\u001b[A\n",
      " 33%|███████████████████████████▋                                                       | 1/3 [03:21<06:42, 201.02s/it]\u001b[A"
     ]
    },
    {
     "name": "stdout",
     "output_type": "stream",
     "text": [
      "saved_output/vgg19_pretrained_validating_output/knn_smote_n_10_batch78_cofiguration0\n",
      "saved_output/vgg19_pretrained_validating_output/knn_smote_n_15_batch78_cofiguration0\n",
      "saved_output/vgg19_pretrained_validating_output/knn_smote_n_20_batch78_cofiguration0\n"
     ]
    },
    {
     "name": "stderr",
     "output_type": "stream",
     "text": [
      "\n",
      " 67%|███████████████████████████████████████████████████████▎                           | 2/3 [06:42<03:21, 201.34s/it]\u001b[A"
     ]
    },
    {
     "name": "stdout",
     "output_type": "stream",
     "text": [
      "saved_output/vgg19_pretrained_validating_output/knn_smote_n_10_batch78_cofiguration1\n",
      "saved_output/vgg19_pretrained_validating_output/knn_smote_n_15_batch78_cofiguration1\n",
      "saved_output/vgg19_pretrained_validating_output/knn_smote_n_20_batch78_cofiguration1\n"
     ]
    },
    {
     "name": "stderr",
     "output_type": "stream",
     "text": [
      "\n",
      "100%|███████████████████████████████████████████████████████████████████████████████████| 3/3 [10:13<00:00, 204.52s/it]\u001b[A\n",
      " 85%|████████████████████████████████████████████████████████████████▌           | 79/93 [11:01:45<2:23:44, 616.02s/it]"
     ]
    },
    {
     "name": "stdout",
     "output_type": "stream",
     "text": [
      "saved_output/vgg19_pretrained_validating_output/knn_smote_n_10_batch78_cofiguration2\n",
      "saved_output/vgg19_pretrained_validating_output/knn_smote_n_15_batch78_cofiguration2\n",
      "saved_output/vgg19_pretrained_validating_output/knn_smote_n_20_batch78_cofiguration2\n"
     ]
    },
    {
     "name": "stderr",
     "output_type": "stream",
     "text": [
      "\n",
      "  0%|                                                                                            | 0/3 [00:00<?, ?it/s]\u001b[A\n",
      " 33%|███████████████████████████▋                                                       | 1/3 [03:03<06:07, 183.85s/it]\u001b[A"
     ]
    },
    {
     "name": "stdout",
     "output_type": "stream",
     "text": [
      "saved_output/vgg19_pretrained_validating_output/knn_smote_n_10_batch79_cofiguration0\n",
      "saved_output/vgg19_pretrained_validating_output/knn_smote_n_15_batch79_cofiguration0\n",
      "saved_output/vgg19_pretrained_validating_output/knn_smote_n_20_batch79_cofiguration0\n"
     ]
    },
    {
     "name": "stderr",
     "output_type": "stream",
     "text": [
      "\n",
      " 67%|███████████████████████████████████████████████████████▎                           | 2/3 [06:16<03:08, 188.74s/it]\u001b[A"
     ]
    },
    {
     "name": "stdout",
     "output_type": "stream",
     "text": [
      "saved_output/vgg19_pretrained_validating_output/knn_smote_n_10_batch79_cofiguration1\n",
      "saved_output/vgg19_pretrained_validating_output/knn_smote_n_15_batch79_cofiguration1\n",
      "saved_output/vgg19_pretrained_validating_output/knn_smote_n_20_batch79_cofiguration1\n"
     ]
    },
    {
     "name": "stderr",
     "output_type": "stream",
     "text": [
      "\n",
      "100%|███████████████████████████████████████████████████████████████████████████████████| 3/3 [09:43<00:00, 194.34s/it]\u001b[A\n",
      " 86%|█████████████████████████████████████████████████████████████████▍          | 80/93 [11:11:28<2:11:21, 606.26s/it]"
     ]
    },
    {
     "name": "stdout",
     "output_type": "stream",
     "text": [
      "saved_output/vgg19_pretrained_validating_output/knn_smote_n_10_batch79_cofiguration2\n",
      "saved_output/vgg19_pretrained_validating_output/knn_smote_n_15_batch79_cofiguration2\n",
      "saved_output/vgg19_pretrained_validating_output/knn_smote_n_20_batch79_cofiguration2\n"
     ]
    },
    {
     "name": "stderr",
     "output_type": "stream",
     "text": [
      "\n",
      "  0%|                                                                                            | 0/3 [00:00<?, ?it/s]\u001b[A\n",
      " 33%|███████████████████████████▋                                                       | 1/3 [03:19<06:39, 199.61s/it]\u001b[A"
     ]
    },
    {
     "name": "stdout",
     "output_type": "stream",
     "text": [
      "saved_output/vgg19_pretrained_validating_output/knn_smote_n_10_batch80_cofiguration0\n",
      "saved_output/vgg19_pretrained_validating_output/knn_smote_n_15_batch80_cofiguration0\n",
      "saved_output/vgg19_pretrained_validating_output/knn_smote_n_20_batch80_cofiguration0\n"
     ]
    },
    {
     "name": "stderr",
     "output_type": "stream",
     "text": [
      "\n",
      " 67%|███████████████████████████████████████████████████████▎                           | 2/3 [06:42<03:21, 201.37s/it]\u001b[A"
     ]
    },
    {
     "name": "stdout",
     "output_type": "stream",
     "text": [
      "saved_output/vgg19_pretrained_validating_output/knn_smote_n_10_batch80_cofiguration1\n",
      "saved_output/vgg19_pretrained_validating_output/knn_smote_n_15_batch80_cofiguration1\n",
      "saved_output/vgg19_pretrained_validating_output/knn_smote_n_20_batch80_cofiguration1\n"
     ]
    },
    {
     "name": "stderr",
     "output_type": "stream",
     "text": [
      "\n",
      "100%|███████████████████████████████████████████████████████████████████████████████████| 3/3 [10:03<00:00, 201.29s/it]\u001b[A\n",
      " 87%|██████████████████████████████████████████████████████████████████▏         | 81/93 [11:21:32<2:01:06, 605.54s/it]"
     ]
    },
    {
     "name": "stdout",
     "output_type": "stream",
     "text": [
      "saved_output/vgg19_pretrained_validating_output/knn_smote_n_10_batch80_cofiguration2\n",
      "saved_output/vgg19_pretrained_validating_output/knn_smote_n_15_batch80_cofiguration2\n",
      "saved_output/vgg19_pretrained_validating_output/knn_smote_n_20_batch80_cofiguration2\n"
     ]
    },
    {
     "name": "stderr",
     "output_type": "stream",
     "text": [
      "\n",
      "  0%|                                                                                            | 0/3 [00:00<?, ?it/s]\u001b[A\n",
      " 33%|███████████████████████████▋                                                       | 1/3 [03:33<07:07, 213.90s/it]\u001b[A"
     ]
    },
    {
     "name": "stdout",
     "output_type": "stream",
     "text": [
      "saved_output/vgg19_pretrained_validating_output/knn_smote_n_10_batch81_cofiguration0\n",
      "saved_output/vgg19_pretrained_validating_output/knn_smote_n_15_batch81_cofiguration0\n",
      "saved_output/vgg19_pretrained_validating_output/knn_smote_n_20_batch81_cofiguration0\n"
     ]
    },
    {
     "name": "stderr",
     "output_type": "stream",
     "text": [
      "\n",
      " 67%|███████████████████████████████████████████████████████▎                           | 2/3 [06:54<03:26, 206.24s/it]\u001b[A"
     ]
    },
    {
     "name": "stdout",
     "output_type": "stream",
     "text": [
      "saved_output/vgg19_pretrained_validating_output/knn_smote_n_10_batch81_cofiguration1\n",
      "saved_output/vgg19_pretrained_validating_output/knn_smote_n_15_batch81_cofiguration1\n",
      "saved_output/vgg19_pretrained_validating_output/knn_smote_n_20_batch81_cofiguration1\n"
     ]
    },
    {
     "name": "stderr",
     "output_type": "stream",
     "text": [
      "\n",
      "100%|███████████████████████████████████████████████████████████████████████████████████| 3/3 [10:21<00:00, 207.23s/it]\u001b[A\n",
      " 88%|███████████████████████████████████████████████████████████████████         | 82/93 [11:31:54<1:51:55, 610.53s/it]"
     ]
    },
    {
     "name": "stdout",
     "output_type": "stream",
     "text": [
      "saved_output/vgg19_pretrained_validating_output/knn_smote_n_10_batch81_cofiguration2\n",
      "saved_output/vgg19_pretrained_validating_output/knn_smote_n_15_batch81_cofiguration2\n",
      "saved_output/vgg19_pretrained_validating_output/knn_smote_n_20_batch81_cofiguration2\n"
     ]
    },
    {
     "name": "stderr",
     "output_type": "stream",
     "text": [
      "\n",
      "  0%|                                                                                            | 0/3 [00:00<?, ?it/s]\u001b[A\n",
      " 33%|███████████████████████████▋                                                       | 1/3 [03:07<06:14, 187.44s/it]\u001b[A"
     ]
    },
    {
     "name": "stdout",
     "output_type": "stream",
     "text": [
      "saved_output/vgg19_pretrained_validating_output/knn_smote_n_10_batch82_cofiguration0\n",
      "saved_output/vgg19_pretrained_validating_output/knn_smote_n_15_batch82_cofiguration0\n",
      "saved_output/vgg19_pretrained_validating_output/knn_smote_n_20_batch82_cofiguration0\n"
     ]
    },
    {
     "name": "stderr",
     "output_type": "stream",
     "text": [
      "\n",
      " 67%|███████████████████████████████████████████████████████▎                           | 2/3 [06:26<03:14, 194.54s/it]\u001b[A"
     ]
    },
    {
     "name": "stdout",
     "output_type": "stream",
     "text": [
      "saved_output/vgg19_pretrained_validating_output/knn_smote_n_10_batch82_cofiguration1\n",
      "saved_output/vgg19_pretrained_validating_output/knn_smote_n_15_batch82_cofiguration1\n",
      "saved_output/vgg19_pretrained_validating_output/knn_smote_n_20_batch82_cofiguration1\n"
     ]
    },
    {
     "name": "stderr",
     "output_type": "stream",
     "text": [
      "\n",
      "100%|███████████████████████████████████████████████████████████████████████████████████| 3/3 [09:54<00:00, 198.00s/it]\u001b[A\n",
      " 89%|███████████████████████████████████████████████████████████████████▊        | 83/93 [11:41:49<1:40:57, 605.70s/it]"
     ]
    },
    {
     "name": "stdout",
     "output_type": "stream",
     "text": [
      "saved_output/vgg19_pretrained_validating_output/knn_smote_n_10_batch82_cofiguration2\n",
      "saved_output/vgg19_pretrained_validating_output/knn_smote_n_15_batch82_cofiguration2\n",
      "saved_output/vgg19_pretrained_validating_output/knn_smote_n_20_batch82_cofiguration2\n"
     ]
    },
    {
     "name": "stderr",
     "output_type": "stream",
     "text": [
      "\n",
      "  0%|                                                                                            | 0/3 [00:00<?, ?it/s]\u001b[A\n",
      " 33%|███████████████████████████▋                                                       | 1/3 [03:20<06:40, 200.42s/it]\u001b[A"
     ]
    },
    {
     "name": "stdout",
     "output_type": "stream",
     "text": [
      "saved_output/vgg19_pretrained_validating_output/knn_smote_n_10_batch83_cofiguration0\n",
      "saved_output/vgg19_pretrained_validating_output/knn_smote_n_15_batch83_cofiguration0\n",
      "saved_output/vgg19_pretrained_validating_output/knn_smote_n_20_batch83_cofiguration0\n"
     ]
    },
    {
     "name": "stderr",
     "output_type": "stream",
     "text": [
      "\n",
      " 67%|███████████████████████████████████████████████████████▎                           | 2/3 [06:41<03:20, 200.67s/it]\u001b[A"
     ]
    },
    {
     "name": "stdout",
     "output_type": "stream",
     "text": [
      "saved_output/vgg19_pretrained_validating_output/knn_smote_n_10_batch83_cofiguration1\n",
      "saved_output/vgg19_pretrained_validating_output/knn_smote_n_15_batch83_cofiguration1\n",
      "saved_output/vgg19_pretrained_validating_output/knn_smote_n_20_batch83_cofiguration1\n"
     ]
    },
    {
     "name": "stderr",
     "output_type": "stream",
     "text": [
      "\n",
      "100%|███████████████████████████████████████████████████████████████████████████████████| 3/3 [10:31<00:00, 210.63s/it]\u001b[A\n",
      " 90%|████████████████████████████████████████████████████████████████████▋       | 84/93 [11:52:21<1:32:03, 613.69s/it]"
     ]
    },
    {
     "name": "stdout",
     "output_type": "stream",
     "text": [
      "saved_output/vgg19_pretrained_validating_output/knn_smote_n_10_batch83_cofiguration2\n",
      "saved_output/vgg19_pretrained_validating_output/knn_smote_n_15_batch83_cofiguration2\n",
      "saved_output/vgg19_pretrained_validating_output/knn_smote_n_20_batch83_cofiguration2\n"
     ]
    },
    {
     "name": "stderr",
     "output_type": "stream",
     "text": [
      "\n",
      "  0%|                                                                                            | 0/3 [00:00<?, ?it/s]\u001b[A\n",
      " 33%|███████████████████████████▋                                                       | 1/3 [03:14<06:28, 194.14s/it]\u001b[A"
     ]
    },
    {
     "name": "stdout",
     "output_type": "stream",
     "text": [
      "saved_output/vgg19_pretrained_validating_output/knn_smote_n_10_batch84_cofiguration0\n",
      "saved_output/vgg19_pretrained_validating_output/knn_smote_n_15_batch84_cofiguration0\n",
      "saved_output/vgg19_pretrained_validating_output/knn_smote_n_20_batch84_cofiguration0\n"
     ]
    },
    {
     "name": "stderr",
     "output_type": "stream",
     "text": [
      "\n",
      " 67%|███████████████████████████████████████████████████████▎                           | 2/3 [06:34<03:17, 197.92s/it]\u001b[A"
     ]
    },
    {
     "name": "stdout",
     "output_type": "stream",
     "text": [
      "saved_output/vgg19_pretrained_validating_output/knn_smote_n_10_batch84_cofiguration1\n",
      "saved_output/vgg19_pretrained_validating_output/knn_smote_n_15_batch84_cofiguration1\n",
      "saved_output/vgg19_pretrained_validating_output/knn_smote_n_20_batch84_cofiguration1\n"
     ]
    },
    {
     "name": "stderr",
     "output_type": "stream",
     "text": [
      "\n",
      "100%|███████████████████████████████████████████████████████████████████████████████████| 3/3 [10:03<00:00, 201.30s/it]\u001b[A\n",
      " 91%|█████████████████████████████████████████████████████████████████████▍      | 85/93 [12:02:25<1:21:25, 610.75s/it]"
     ]
    },
    {
     "name": "stdout",
     "output_type": "stream",
     "text": [
      "saved_output/vgg19_pretrained_validating_output/knn_smote_n_10_batch84_cofiguration2\n",
      "saved_output/vgg19_pretrained_validating_output/knn_smote_n_15_batch84_cofiguration2\n",
      "saved_output/vgg19_pretrained_validating_output/knn_smote_n_20_batch84_cofiguration2\n"
     ]
    },
    {
     "name": "stderr",
     "output_type": "stream",
     "text": [
      "\n",
      "  0%|                                                                                            | 0/3 [00:00<?, ?it/s]\u001b[A\n",
      " 33%|███████████████████████████▋                                                       | 1/3 [03:19<06:38, 199.20s/it]\u001b[A"
     ]
    },
    {
     "name": "stdout",
     "output_type": "stream",
     "text": [
      "saved_output/vgg19_pretrained_validating_output/knn_smote_n_10_batch85_cofiguration0\n",
      "saved_output/vgg19_pretrained_validating_output/knn_smote_n_15_batch85_cofiguration0\n",
      "saved_output/vgg19_pretrained_validating_output/knn_smote_n_20_batch85_cofiguration0\n"
     ]
    },
    {
     "name": "stderr",
     "output_type": "stream",
     "text": [
      "\n",
      " 67%|███████████████████████████████████████████████████████▎                           | 2/3 [06:55<03:29, 209.22s/it]\u001b[A"
     ]
    },
    {
     "name": "stdout",
     "output_type": "stream",
     "text": [
      "saved_output/vgg19_pretrained_validating_output/knn_smote_n_10_batch85_cofiguration1\n",
      "saved_output/vgg19_pretrained_validating_output/knn_smote_n_15_batch85_cofiguration1\n",
      "saved_output/vgg19_pretrained_validating_output/knn_smote_n_20_batch85_cofiguration1\n"
     ]
    },
    {
     "name": "stderr",
     "output_type": "stream",
     "text": [
      "\n",
      "100%|███████████████████████████████████████████████████████████████████████████████████| 3/3 [10:11<00:00, 203.79s/it]\u001b[A\n",
      " 92%|██████████████████████████████████████████████████████████████████████▎     | 86/93 [12:12:36<1:11:16, 610.94s/it]"
     ]
    },
    {
     "name": "stdout",
     "output_type": "stream",
     "text": [
      "saved_output/vgg19_pretrained_validating_output/knn_smote_n_10_batch85_cofiguration2\n",
      "saved_output/vgg19_pretrained_validating_output/knn_smote_n_15_batch85_cofiguration2\n",
      "saved_output/vgg19_pretrained_validating_output/knn_smote_n_20_batch85_cofiguration2\n"
     ]
    },
    {
     "name": "stderr",
     "output_type": "stream",
     "text": [
      "\n",
      "  0%|                                                                                            | 0/3 [00:00<?, ?it/s]\u001b[A\n",
      " 33%|███████████████████████████▋                                                       | 1/3 [03:21<06:43, 201.56s/it]\u001b[A"
     ]
    },
    {
     "name": "stdout",
     "output_type": "stream",
     "text": [
      "saved_output/vgg19_pretrained_validating_output/knn_smote_n_10_batch86_cofiguration0\n",
      "saved_output/vgg19_pretrained_validating_output/knn_smote_n_15_batch86_cofiguration0\n",
      "saved_output/vgg19_pretrained_validating_output/knn_smote_n_20_batch86_cofiguration0\n"
     ]
    },
    {
     "name": "stderr",
     "output_type": "stream",
     "text": [
      "\n",
      " 67%|███████████████████████████████████████████████████████▎                           | 2/3 [06:57<03:30, 210.17s/it]\u001b[A"
     ]
    },
    {
     "name": "stdout",
     "output_type": "stream",
     "text": [
      "saved_output/vgg19_pretrained_validating_output/knn_smote_n_10_batch86_cofiguration1\n",
      "saved_output/vgg19_pretrained_validating_output/knn_smote_n_15_batch86_cofiguration1\n",
      "saved_output/vgg19_pretrained_validating_output/knn_smote_n_20_batch86_cofiguration1\n"
     ]
    },
    {
     "name": "stderr",
     "output_type": "stream",
     "text": [
      "\n",
      "100%|███████████████████████████████████████████████████████████████████████████████████| 3/3 [10:19<00:00, 206.61s/it]\u001b[A\n",
      " 94%|███████████████████████████████████████████████████████████████████████     | 87/93 [12:22:56<1:01:21, 613.60s/it]"
     ]
    },
    {
     "name": "stdout",
     "output_type": "stream",
     "text": [
      "saved_output/vgg19_pretrained_validating_output/knn_smote_n_10_batch86_cofiguration2\n",
      "saved_output/vgg19_pretrained_validating_output/knn_smote_n_15_batch86_cofiguration2\n",
      "saved_output/vgg19_pretrained_validating_output/knn_smote_n_20_batch86_cofiguration2\n"
     ]
    },
    {
     "name": "stderr",
     "output_type": "stream",
     "text": [
      "\n",
      "  0%|                                                                                            | 0/3 [00:00<?, ?it/s]\u001b[A\n",
      " 33%|███████████████████████████▋                                                       | 1/3 [03:25<06:50, 205.46s/it]\u001b[A"
     ]
    },
    {
     "name": "stdout",
     "output_type": "stream",
     "text": [
      "saved_output/vgg19_pretrained_validating_output/knn_smote_n_10_batch87_cofiguration0\n",
      "saved_output/vgg19_pretrained_validating_output/knn_smote_n_15_batch87_cofiguration0\n",
      "saved_output/vgg19_pretrained_validating_output/knn_smote_n_20_batch87_cofiguration0\n"
     ]
    },
    {
     "name": "stderr",
     "output_type": "stream",
     "text": [
      "\n",
      " 67%|███████████████████████████████████████████████████████▎                           | 2/3 [06:50<03:25, 205.28s/it]\u001b[A"
     ]
    },
    {
     "name": "stdout",
     "output_type": "stream",
     "text": [
      "saved_output/vgg19_pretrained_validating_output/knn_smote_n_10_batch87_cofiguration1\n",
      "saved_output/vgg19_pretrained_validating_output/knn_smote_n_15_batch87_cofiguration1\n",
      "saved_output/vgg19_pretrained_validating_output/knn_smote_n_20_batch87_cofiguration1\n"
     ]
    },
    {
     "name": "stderr",
     "output_type": "stream",
     "text": [
      "\n",
      "100%|███████████████████████████████████████████████████████████████████████████████████| 3/3 [10:14<00:00, 204.73s/it]\u001b[A\n",
      " 95%|█████████████████████████████████████████████████████████████████████████▊    | 88/93 [12:33:10<51:08, 613.78s/it]"
     ]
    },
    {
     "name": "stdout",
     "output_type": "stream",
     "text": [
      "saved_output/vgg19_pretrained_validating_output/knn_smote_n_10_batch87_cofiguration2\n",
      "saved_output/vgg19_pretrained_validating_output/knn_smote_n_15_batch87_cofiguration2\n",
      "saved_output/vgg19_pretrained_validating_output/knn_smote_n_20_batch87_cofiguration2\n"
     ]
    },
    {
     "name": "stderr",
     "output_type": "stream",
     "text": [
      "\n",
      "  0%|                                                                                            | 0/3 [00:00<?, ?it/s]\u001b[A\n",
      " 33%|███████████████████████████▋                                                       | 1/3 [03:21<06:43, 201.93s/it]\u001b[A"
     ]
    },
    {
     "name": "stdout",
     "output_type": "stream",
     "text": [
      "saved_output/vgg19_pretrained_validating_output/knn_smote_n_10_batch88_cofiguration0\n",
      "saved_output/vgg19_pretrained_validating_output/knn_smote_n_15_batch88_cofiguration0\n",
      "saved_output/vgg19_pretrained_validating_output/knn_smote_n_20_batch88_cofiguration0\n"
     ]
    },
    {
     "name": "stderr",
     "output_type": "stream",
     "text": [
      "\n",
      " 67%|███████████████████████████████████████████████████████▎                           | 2/3 [06:23<03:09, 189.97s/it]\u001b[A"
     ]
    },
    {
     "name": "stdout",
     "output_type": "stream",
     "text": [
      "saved_output/vgg19_pretrained_validating_output/knn_smote_n_10_batch88_cofiguration1\n",
      "saved_output/vgg19_pretrained_validating_output/knn_smote_n_15_batch88_cofiguration1\n",
      "saved_output/vgg19_pretrained_validating_output/knn_smote_n_20_batch88_cofiguration1\n"
     ]
    },
    {
     "name": "stderr",
     "output_type": "stream",
     "text": [
      "\n",
      "100%|███████████████████████████████████████████████████████████████████████████████████| 3/3 [09:32<00:00, 190.71s/it]\u001b[A\n",
      " 96%|██████████████████████████████████████████████████████████████████████████▋   | 89/93 [12:42:42<40:05, 601.29s/it]"
     ]
    },
    {
     "name": "stdout",
     "output_type": "stream",
     "text": [
      "saved_output/vgg19_pretrained_validating_output/knn_smote_n_10_batch88_cofiguration2\n",
      "saved_output/vgg19_pretrained_validating_output/knn_smote_n_15_batch88_cofiguration2\n",
      "saved_output/vgg19_pretrained_validating_output/knn_smote_n_20_batch88_cofiguration2\n"
     ]
    },
    {
     "name": "stderr",
     "output_type": "stream",
     "text": [
      "\n",
      "  0%|                                                                                            | 0/3 [00:00<?, ?it/s]\u001b[A\n",
      " 33%|███████████████████████████▋                                                       | 1/3 [03:41<07:22, 221.19s/it]\u001b[A"
     ]
    },
    {
     "name": "stdout",
     "output_type": "stream",
     "text": [
      "saved_output/vgg19_pretrained_validating_output/knn_smote_n_10_batch89_cofiguration0\n",
      "saved_output/vgg19_pretrained_validating_output/knn_smote_n_15_batch89_cofiguration0\n",
      "saved_output/vgg19_pretrained_validating_output/knn_smote_n_20_batch89_cofiguration0\n"
     ]
    },
    {
     "name": "stderr",
     "output_type": "stream",
     "text": [
      "\n",
      " 67%|███████████████████████████████████████████████████████▎                           | 2/3 [06:59<03:27, 207.79s/it]\u001b[A"
     ]
    },
    {
     "name": "stdout",
     "output_type": "stream",
     "text": [
      "saved_output/vgg19_pretrained_validating_output/knn_smote_n_10_batch89_cofiguration1\n",
      "saved_output/vgg19_pretrained_validating_output/knn_smote_n_15_batch89_cofiguration1\n",
      "saved_output/vgg19_pretrained_validating_output/knn_smote_n_20_batch89_cofiguration1\n"
     ]
    },
    {
     "name": "stderr",
     "output_type": "stream",
     "text": [
      "\n",
      "100%|███████████████████████████████████████████████████████████████████████████████████| 3/3 [10:32<00:00, 210.81s/it]\u001b[A\n",
      " 97%|███████████████████████████████████████████████████████████████████████████▍  | 90/93 [12:53:15<30:31, 610.63s/it]"
     ]
    },
    {
     "name": "stdout",
     "output_type": "stream",
     "text": [
      "saved_output/vgg19_pretrained_validating_output/knn_smote_n_10_batch89_cofiguration2\n",
      "saved_output/vgg19_pretrained_validating_output/knn_smote_n_15_batch89_cofiguration2\n",
      "saved_output/vgg19_pretrained_validating_output/knn_smote_n_20_batch89_cofiguration2\n"
     ]
    },
    {
     "name": "stderr",
     "output_type": "stream",
     "text": [
      "\n",
      "  0%|                                                                                            | 0/3 [00:00<?, ?it/s]\u001b[A\n",
      " 33%|███████████████████████████▋                                                       | 1/3 [03:20<06:40, 200.31s/it]\u001b[A"
     ]
    },
    {
     "name": "stdout",
     "output_type": "stream",
     "text": [
      "saved_output/vgg19_pretrained_validating_output/knn_smote_n_10_batch90_cofiguration0\n",
      "saved_output/vgg19_pretrained_validating_output/knn_smote_n_15_batch90_cofiguration0\n",
      "saved_output/vgg19_pretrained_validating_output/knn_smote_n_20_batch90_cofiguration0\n"
     ]
    },
    {
     "name": "stderr",
     "output_type": "stream",
     "text": [
      "\n",
      " 67%|███████████████████████████████████████████████████████▎                           | 2/3 [06:56<03:29, 209.55s/it]\u001b[A"
     ]
    },
    {
     "name": "stdout",
     "output_type": "stream",
     "text": [
      "saved_output/vgg19_pretrained_validating_output/knn_smote_n_10_batch90_cofiguration1\n",
      "saved_output/vgg19_pretrained_validating_output/knn_smote_n_15_batch90_cofiguration1\n",
      "saved_output/vgg19_pretrained_validating_output/knn_smote_n_20_batch90_cofiguration1\n"
     ]
    },
    {
     "name": "stderr",
     "output_type": "stream",
     "text": [
      "\n",
      "100%|███████████████████████████████████████████████████████████████████████████████████| 3/3 [10:29<00:00, 209.99s/it]\u001b[A\n",
      " 98%|████████████████████████████████████████████████████████████████████████████▎ | 91/93 [13:03:45<20:33, 616.57s/it]"
     ]
    },
    {
     "name": "stdout",
     "output_type": "stream",
     "text": [
      "saved_output/vgg19_pretrained_validating_output/knn_smote_n_10_batch90_cofiguration2\n",
      "saved_output/vgg19_pretrained_validating_output/knn_smote_n_15_batch90_cofiguration2\n",
      "saved_output/vgg19_pretrained_validating_output/knn_smote_n_20_batch90_cofiguration2\n"
     ]
    },
    {
     "name": "stderr",
     "output_type": "stream",
     "text": [
      "\n",
      "  0%|                                                                                            | 0/3 [00:00<?, ?it/s]\u001b[A\n",
      " 33%|███████████████████████████▋                                                       | 1/3 [03:22<06:45, 202.99s/it]\u001b[A"
     ]
    },
    {
     "name": "stdout",
     "output_type": "stream",
     "text": [
      "saved_output/vgg19_pretrained_validating_output/knn_smote_n_10_batch91_cofiguration0\n",
      "saved_output/vgg19_pretrained_validating_output/knn_smote_n_15_batch91_cofiguration0\n",
      "saved_output/vgg19_pretrained_validating_output/knn_smote_n_20_batch91_cofiguration0\n"
     ]
    },
    {
     "name": "stderr",
     "output_type": "stream",
     "text": [
      "\n",
      " 67%|███████████████████████████████████████████████████████▎                           | 2/3 [06:45<03:22, 202.46s/it]\u001b[A"
     ]
    },
    {
     "name": "stdout",
     "output_type": "stream",
     "text": [
      "saved_output/vgg19_pretrained_validating_output/knn_smote_n_10_batch91_cofiguration1\n",
      "saved_output/vgg19_pretrained_validating_output/knn_smote_n_15_batch91_cofiguration1\n",
      "saved_output/vgg19_pretrained_validating_output/knn_smote_n_20_batch91_cofiguration1\n"
     ]
    },
    {
     "name": "stderr",
     "output_type": "stream",
     "text": [
      "\n",
      "100%|███████████████████████████████████████████████████████████████████████████████████| 3/3 [10:26<00:00, 208.98s/it]\u001b[A\n",
      " 99%|█████████████████████████████████████████████████████████████████████████████▏| 92/93 [13:14:12<10:19, 619.68s/it]"
     ]
    },
    {
     "name": "stdout",
     "output_type": "stream",
     "text": [
      "saved_output/vgg19_pretrained_validating_output/knn_smote_n_10_batch91_cofiguration2\n",
      "saved_output/vgg19_pretrained_validating_output/knn_smote_n_15_batch91_cofiguration2\n",
      "saved_output/vgg19_pretrained_validating_output/knn_smote_n_20_batch91_cofiguration2\n"
     ]
    },
    {
     "name": "stderr",
     "output_type": "stream",
     "text": [
      "\n",
      "  0%|                                                                                            | 0/3 [00:00<?, ?it/s]\u001b[A\n",
      " 33%|███████████████████████████▋                                                       | 1/3 [03:16<06:33, 196.89s/it]\u001b[A"
     ]
    },
    {
     "name": "stdout",
     "output_type": "stream",
     "text": [
      "saved_output/vgg19_pretrained_validating_output/knn_smote_n_10_batch92_cofiguration0\n",
      "saved_output/vgg19_pretrained_validating_output/knn_smote_n_15_batch92_cofiguration0\n",
      "saved_output/vgg19_pretrained_validating_output/knn_smote_n_20_batch92_cofiguration0\n"
     ]
    },
    {
     "name": "stderr",
     "output_type": "stream",
     "text": [
      "\n",
      " 67%|███████████████████████████████████████████████████████▎                           | 2/3 [06:20<03:08, 188.92s/it]\u001b[A"
     ]
    },
    {
     "name": "stdout",
     "output_type": "stream",
     "text": [
      "saved_output/vgg19_pretrained_validating_output/knn_smote_n_10_batch92_cofiguration1\n",
      "saved_output/vgg19_pretrained_validating_output/knn_smote_n_15_batch92_cofiguration1\n",
      "saved_output/vgg19_pretrained_validating_output/knn_smote_n_20_batch92_cofiguration1\n"
     ]
    },
    {
     "name": "stderr",
     "output_type": "stream",
     "text": [
      "\n",
      "100%|███████████████████████████████████████████████████████████████████████████████████| 3/3 [10:02<00:00, 200.97s/it]\u001b[A\n",
      "100%|██████████████████████████████████████████████████████████████████████████████| 93/93 [13:24:15<00:00, 518.88s/it]"
     ]
    },
    {
     "name": "stdout",
     "output_type": "stream",
     "text": [
      "saved_output/vgg19_pretrained_validating_output/knn_smote_n_10_batch92_cofiguration2\n",
      "saved_output/vgg19_pretrained_validating_output/knn_smote_n_15_batch92_cofiguration2\n",
      "saved_output/vgg19_pretrained_validating_output/knn_smote_n_20_batch92_cofiguration2\n"
     ]
    },
    {
     "name": "stderr",
     "output_type": "stream",
     "text": [
      "\n"
     ]
    }
   ],
   "source": [
    "n_list = [10,15,20]#25,50,75]#[100,200,500,1000,1500,2000,2500,3000]\n",
    "\n",
    "# n_list = [1000\n",
    "\n",
    "random.seed(10)\n",
    "names_mapping = []\n",
    "index_mapping = []\n",
    "for i in range(3):\n",
    "    random.shuffle(indexes)\n",
    "    names_mapping.append({science_name : index for (science_name,index) in zip(science_names,indexes)})\n",
    "    index_mapping.append({index : science_name for (science_name,index) in zip(science_names,indexes)})\n",
    "    \n",
    "@long_running\n",
    "def knn_smote_samples_output(batch,n_list):\n",
    "    for e in range(1):#max_e+1):\n",
    "        for b in tqdm(range(max_b+1)):\n",
    "            output = torch.load(f'saved_output/{model_name}_validating_output/output_e{e}_b{b}')\n",
    "            target = torch.load(f'saved_output/{model_name}_validating_output/target_b{b}')\n",
    "            sample_pos_list=[]\n",
    "            weight_tensors = [] \n",
    "            if b >= batch: \n",
    "                for i in tqdm(range(3)):\n",
    "                    random.seed(11)\n",
    "                    sample_pos_list = []\n",
    "                    # if b>=batch and i !=configuration:\n",
    "\n",
    "                    for j in range(output.size(0)):\n",
    "                        sample_pos = sample_plant_position(int(target[j]),dat,i)\n",
    "\n",
    "                        sample_pos_list.append(sample_pos)\n",
    "\n",
    "                    knns = get_knn_classifier_smote(sample_pos_list,dat,n_list,i)\n",
    "                    weight_tensor_knn = np.zeros((output.size(0),185))\n",
    "\n",
    "                    for n in range(len(n_list)):\n",
    "                        weight_tensor_knn = np.zeros((output.size(0),185))\n",
    "                        for j, sample_pos in enumerate(sample_pos_list):\n",
    "                            weight_tensor_knn[j]=knns[0].predict_proba(list(sample_pos['points']))\n",
    "\n",
    "                        weight_tensor_knn = torch.from_numpy(weight_tensor_knn)\n",
    "                        print(f'saved_output/{model_name}_validating_output/knn_smote_n_{n_list[n]}_batch{b}_cofiguration{i}')\n",
    "                        torch.save(weight_tensor_knn,f'saved_output/{model_name}_validating_output/knn_smote_n_{n_list[n]}_batch{b}_cofiguration{i}')\n",
    "\n",
    "knn_smote_samples_output(14,n_list)"
   ]
  },
  {
   "cell_type": "code",
   "execution_count": 51,
   "id": "711f0d16-e233-451a-b31e-bc885eae4a99",
   "metadata": {
    "tags": []
   },
   "outputs": [],
   "source": [
    "a = list(sample_pos_list[-3]['points'])\n",
    "a\n",
    "b=list(sample_pos_list[-1]['points'])"
   ]
  },
  {
   "cell_type": "code",
   "execution_count": 49,
   "id": "6589f17c-5eb0-4128-b37b-431769f70f9d",
   "metadata": {
    "tags": []
   },
   "outputs": [
    {
     "data": {
      "text/html": [
       "<div>\n",
       "<style scoped>\n",
       "    .dataframe tbody tr th:only-of-type {\n",
       "        vertical-align: middle;\n",
       "    }\n",
       "\n",
       "    .dataframe tbody tr th {\n",
       "        vertical-align: top;\n",
       "    }\n",
       "\n",
       "    .dataframe thead th {\n",
       "        text-align: right;\n",
       "    }\n",
       "</style>\n",
       "<table border=\"1\" class=\"dataframe\">\n",
       "  <thead>\n",
       "    <tr style=\"text-align: right;\">\n",
       "      <th></th>\n",
       "      <th>Id</th>\n",
       "      <th>Østkoordinat</th>\n",
       "      <th>Nordkoordinat</th>\n",
       "      <th>Vitenskapelig navn</th>\n",
       "      <th>points</th>\n",
       "      <th>lat</th>\n",
       "      <th>long</th>\n",
       "    </tr>\n",
       "  </thead>\n",
       "  <tbody>\n",
       "    <tr>\n",
       "      <th>106958</th>\n",
       "      <td>32438217</td>\n",
       "      <td>275978</td>\n",
       "      <td>6651170</td>\n",
       "      <td>Equisetum sylvaticum</td>\n",
       "      <td>[275978, 6651170]</td>\n",
       "      <td>59.936869</td>\n",
       "      <td>10.989666</td>\n",
       "    </tr>\n",
       "  </tbody>\n",
       "</table>\n",
       "</div>"
      ],
      "text/plain": [
       "              Id  Østkoordinat  Nordkoordinat    Vitenskapelig navn  \\\n",
       "106958  32438217        275978        6651170  Equisetum sylvaticum   \n",
       "\n",
       "                   points        lat       long  \n",
       "106958  [275978, 6651170]  59.936869  10.989666  "
      ]
     },
     "execution_count": 49,
     "metadata": {},
     "output_type": "execute_result"
    }
   ],
   "source": [
    "sample_pos_list[-3]['Vitenskapelig navn']"
   ]
  },
  {
   "cell_type": "code",
   "execution_count": 64,
   "id": "de103a0e-b912-4be6-8ed4-1a573f8fde73",
   "metadata": {
    "tags": []
   },
   "outputs": [],
   "source": [
    "k =(knns[0].predict_proba(a)[0])\n",
    "# print(knns[1].predict_proba(a))    "
   ]
  },
  {
   "cell_type": "code",
   "execution_count": 55,
   "id": "0bb5f197-0d46-43af-9b83-fb32ce1677f6",
   "metadata": {
    "tags": []
   },
   "outputs": [],
   "source": [
    "output = torch.load(f'saved_output/{model_name}_validating_output/output_e{0}_b{0}')"
   ]
  },
  {
   "cell_type": "code",
   "execution_count": 56,
   "id": "b88fe205-f611-4d45-9297-52361c77ae66",
   "metadata": {
    "tags": []
   },
   "outputs": [
    {
     "data": {
      "text/plain": [
       "tensor([[ 9.4819,  8.7390, -2.7239,  ..., -1.2930, -0.7846, -0.3524],\n",
       "        [ 8.1502,  5.6220, -2.6260,  ..., -1.5725, -0.6446, -0.0766],\n",
       "        [ 2.0814,  0.9064, -1.1842,  ..., -1.6727, -1.5001, -0.4037],\n",
       "        ...,\n",
       "        [ 1.0490,  0.8899,  0.7450,  ..., -2.4688, -1.4725, -1.8440],\n",
       "        [ 1.6809,  0.9037,  0.3388,  ..., -2.7669, -1.7697, -2.4880],\n",
       "        [-0.2335, -0.0484,  0.5637,  ..., -1.7370, -0.7726, -0.9979]],\n",
       "       device='cuda:0', requires_grad=True)"
      ]
     },
     "execution_count": 56,
     "metadata": {},
     "output_type": "execute_result"
    }
   ],
   "source": [
    "output"
   ]
  },
  {
   "cell_type": "code",
   "execution_count": 61,
   "id": "79c048d0-7d34-4d3c-9f2b-8040835cf54a",
   "metadata": {
    "tags": []
   },
   "outputs": [],
   "source": [
    "out =output.cpu().detach().numpy()"
   ]
  },
  {
   "cell_type": "code",
   "execution_count": 62,
   "id": "b396f824-cb09-4b16-ae07-6813be4571b2",
   "metadata": {
    "tags": []
   },
   "outputs": [
    {
     "data": {
      "text/plain": [
       "(64, 185)"
      ]
     },
     "execution_count": 62,
     "metadata": {},
     "output_type": "execute_result"
    }
   ],
   "source": [
    "out.shape"
   ]
  },
  {
   "cell_type": "code",
   "execution_count": 63,
   "id": "fdfe4589-9edd-48db-b336-9c661831a574",
   "metadata": {
    "tags": []
   },
   "outputs": [
    {
     "data": {
      "text/plain": [
       "array([[0., 0., 0., ..., 0., 0., 0.],\n",
       "       [0., 0., 0., ..., 0., 0., 0.],\n",
       "       [0., 0., 0., ..., 0., 0., 0.],\n",
       "       ...,\n",
       "       [0., 0., 0., ..., 0., 0., 0.],\n",
       "       [0., 0., 0., ..., 0., 0., 0.],\n",
       "       [0., 0., 0., ..., 0., 0., 0.]])"
      ]
     },
     "execution_count": 63,
     "metadata": {},
     "output_type": "execute_result"
    }
   ],
   "source": [
    "np.zeros((output.size(0),185))"
   ]
  },
  {
   "cell_type": "code",
   "execution_count": 65,
   "id": "2a1d0d66-b25d-4b22-84da-6d78b2271069",
   "metadata": {
    "tags": []
   },
   "outputs": [
    {
     "data": {
      "text/plain": [
       "(1, 185)"
      ]
     },
     "execution_count": 65,
     "metadata": {},
     "output_type": "execute_result"
    }
   ],
   "source": [
    "k.shape"
   ]
  },
  {
   "cell_type": "code",
   "execution_count": 66,
   "id": "f41d5388-0121-4ff7-8fef-881f8356b09d",
   "metadata": {
    "tags": []
   },
   "outputs": [
    {
     "data": {
      "text/plain": [
       "64"
      ]
     },
     "execution_count": 66,
     "metadata": {},
     "output_type": "execute_result"
    }
   ],
   "source": [
    "len(sample_pos_list)"
   ]
  },
  {
   "cell_type": "code",
   "execution_count": 2,
   "id": "d7453700-bbb5-4844-abf2-b4ae74b6348b",
   "metadata": {},
   "outputs": [],
   "source": [
    "import torch\n",
    "load_tensor =torch.load( f'saved_output/vgg19_pretrained_validating_output/knn_smote_n_3000_batch2_cofiguration1')\n"
   ]
  },
  {
   "cell_type": "code",
   "execution_count": 5,
   "id": "87077b5e-5307-4de0-b68b-22a3abbaf2b1",
   "metadata": {
    "tags": []
   },
   "outputs": [
    {
     "data": {
      "text/plain": [
       "tensor([0.0100, 0.0000, 0.0000, 0.0000, 0.0000, 0.0000, 0.0100, 0.0000, 0.0000,\n",
       "        0.0000, 0.0100, 0.0000, 0.0000, 0.0000, 0.0000, 0.0000, 0.0000, 0.0100,\n",
       "        0.0000, 0.0000, 0.0000, 0.0000, 0.0000, 0.0000, 0.0000, 0.1100, 0.0000,\n",
       "        0.0000, 0.0200, 0.0100, 0.0000, 0.0000, 0.0000, 0.0000, 0.0000, 0.0000,\n",
       "        0.0000, 0.0000, 0.0000, 0.0000, 0.0000, 0.0000, 0.0000, 0.0000, 0.0000,\n",
       "        0.0000, 0.0000, 0.0000, 0.0000, 0.0000, 0.0100, 0.0000, 0.0000, 0.0000,\n",
       "        0.0000, 0.0000, 0.0100, 0.0000, 0.0000, 0.0000, 0.0000, 0.0000, 0.0000,\n",
       "        0.0000, 0.0100, 0.0100, 0.0000, 0.0000, 0.0000, 0.0000, 0.0100, 0.0000,\n",
       "        0.0100, 0.0100, 0.0100, 0.0000, 0.0000, 0.0100, 0.0000, 0.0000, 0.0000,\n",
       "        0.3500, 0.0000, 0.0000, 0.0000, 0.0300, 0.0100, 0.0000, 0.0000, 0.0100,\n",
       "        0.0000, 0.0000, 0.0200, 0.0000, 0.0000, 0.0000, 0.0100, 0.0100, 0.0000,\n",
       "        0.0000, 0.0100, 0.0000, 0.0000, 0.0000, 0.0000, 0.0100, 0.0000, 0.0000,\n",
       "        0.0000, 0.0000, 0.0100, 0.0000, 0.0000, 0.0000, 0.0000, 0.0000, 0.0000,\n",
       "        0.0000, 0.0000, 0.0000, 0.0000, 0.0000, 0.0000, 0.0000, 0.0000, 0.0000,\n",
       "        0.0000, 0.0000, 0.0000, 0.0100, 0.0000, 0.0000, 0.0000, 0.0000, 0.0000,\n",
       "        0.0000, 0.0000, 0.0000, 0.0000, 0.0000, 0.0100, 0.0000, 0.0000, 0.0000,\n",
       "        0.0000, 0.0100, 0.0000, 0.0000, 0.1500, 0.0000, 0.0200, 0.0000, 0.0000,\n",
       "        0.0000, 0.0000, 0.0100, 0.0000, 0.0000, 0.0100, 0.0000, 0.0000, 0.0000,\n",
       "        0.0100, 0.0000, 0.0000, 0.0100, 0.0000, 0.0100, 0.0000, 0.0000, 0.0000,\n",
       "        0.0000, 0.0000, 0.0000, 0.0000, 0.0000, 0.0100, 0.0000, 0.0000, 0.0000,\n",
       "        0.0000, 0.0000, 0.0000, 0.0000, 0.0000], dtype=torch.float64)"
      ]
     },
     "execution_count": 5,
     "metadata": {},
     "output_type": "execute_result"
    }
   ],
   "source": [
    "load_tensor[-1]"
   ]
  },
  {
   "cell_type": "code",
   "execution_count": null,
   "id": "4a830039-3a16-4b15-b2a1-67852d1d5d9e",
   "metadata": {},
   "outputs": [],
   "source": []
  }
 ],
 "metadata": {
  "kernelspec": {
   "display_name": "Python 3 (ipykernel)",
   "language": "python",
   "name": "python3"
  },
  "language_info": {
   "codemirror_mode": {
    "name": "ipython",
    "version": 3
   },
   "file_extension": ".py",
   "mimetype": "text/x-python",
   "name": "python",
   "nbconvert_exporter": "python",
   "pygments_lexer": "ipython3",
   "version": "3.11.5"
  }
 },
 "nbformat": 4,
 "nbformat_minor": 5
}
